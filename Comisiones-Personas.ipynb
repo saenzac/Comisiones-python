{
 "cells": [
  {
   "cell_type": "code",
   "execution_count": 1,
   "metadata": {},
   "outputs": [],
   "source": [
    "import logging\n",
    "\n",
    "from Loader import fileloader as fl\n",
    "from Loader import datahandledatabase as dhdb\n",
    "from Loader import datacompute as dc\n",
    "from Loader import datapreparation as dp\n",
    "import pandas as pd\n",
    "import numpy as np\n",
    "import posixpath\n",
    "from datetime import datetime\n",
    "import time\n",
    "\n",
    "logger = logging.getLogger(\"\")\n",
    "logger.setLevel(logging.INFO)\n"
   ]
  },
  {
   "cell_type": "code",
   "execution_count": 2,
   "metadata": {},
   "outputs": [
    {
     "name": "stderr",
     "output_type": "stream",
     "text": [
      "INFO:    Values loaded from globals.ini:\n",
      "INFO:     * mainpath C:/Users/Johnny/OneDrive - Entel Peru S.A/MercadoEmpresas\n",
      "INFO:     * scriptspath C:/Users/Johnny/Documents/Comisiones/Comisiones-python\n",
      "INFO:     * databasepath C:/Users/Johnny/Documents/Comisiones/SQLiteDBME\n",
      "INFO:    datapath value is C:/Users/Johnny/OneDrive - Entel Peru S.A/MercadoEmpresas/Data Fuente Comisiones/xlsx\n",
      "INFO:    testpath value is C:/Users/Johnny/OneDrive - Entel Peru S.A/MercadoEmpresas/Data Fuente Comisiones/test\n"
     ]
    }
   ],
   "source": [
    "month = '201901'#para cargar unitarios, disminuir 1 mes\n",
    "month_unitario = 201901#poner un mes mas que el de arriba.\n",
    "\n",
    "inifile = fl.ReadIniFile()\n",
    "defaultpath = inifile.getDataPath()\n",
    "testpath = inifile.getTestPath()"
   ]
  },
  {
   "cell_type": "code",
   "execution_count": 3,
   "metadata": {
    "scrolled": true
   },
   "outputs": [
    {
     "name": "stdout",
     "output_type": "stream",
     "text": [
      "Archivo: C:/Users/Johnny/OneDrive - Entel Peru S.A/MercadoEmpresas/Data Fuente Comisiones/xlsx\\201901_Planeamiento Inar Personas.xlsx\n",
      "Hoja Importada: BASE\n",
      "El tamaño de InarPersonas es 12599 registros\n"
     ]
    }
   ],
   "source": [
    "# Configurando los archivos de configuración para importar archivos tipo : xlsx, txt, ini\n",
    "parser = inifile.getIniFileParser()\n",
    "\n",
    "loader = fl.LoadFileProcess(month)\n",
    "loader.setParser(parser)\n",
    "loader.setDefaultPath(defaultpath)\n",
    "\n",
    "# Carga de Archivos\n",
    "#*******************\n",
    "# Asegurate que el directorio donde está el archivo este correcto\n",
    "# Asegurate que no haya pestañas ocultas en Bases GCP ni Plataformas. \n",
    "# En GCP_Base comisiones Partir en dos periodos\n",
    "\n",
    "# Preparación : Ninguna\n",
    "# File :  _RRHH Ingresos\n",
    "inar_personas = loader.loadFile('InarPersonas')\n",
    "\n"
   ]
  },
  {
   "cell_type": "code",
   "execution_count": 4,
   "metadata": {
    "scrolled": true
   },
   "outputs": [
    {
     "data": {
      "text/plain": [
       "FECHAPROCESO            datetime64[ns]\n",
       "FECHAACTIVACION         datetime64[ns]\n",
       "RAZONSOCIAL                     object\n",
       "C_CONTRATO                       int64\n",
       "TELEFONO                         int64\n",
       "MODELOEQUIPO                    object\n",
       "C_PLAN                           int64\n",
       "N_PLAN                          object\n",
       "ESTADOINAR                      object\n",
       "GROSS                            int64\n",
       "VENDEDOR                        object\n",
       "TIPODOCUMENTO                   object\n",
       "DOCUMENTO                       object\n",
       "NRO_ORDEN                      float64\n",
       "RENTABASICA                    float64\n",
       "RENTAIGV                       float64\n",
       "SEGMENTO                        object\n",
       "MODOPAGO                        object\n",
       "TECNOLOGIA                      object\n",
       "VENDEDOR_PACKSIM                object\n",
       "CARGOFIJO                      float64\n",
       "TIPOVENTA                       object\n",
       "COMBO_CANAL                     object\n",
       "DWH_CODIGOORDEN                float64\n",
       "DWH_ORDENCREADOPOR              object\n",
       "PORTA_MODOPAGOORIGEN            object\n",
       "JER_PDV                         object\n",
       "JER_GERENCIACANAL               object\n",
       "JER_CANALVENTA                  object\n",
       "JER_KAM                         object\n",
       "JER_TERRITORIO                  object\n",
       "JER_DIVTERRITORIO               object\n",
       "JER_CADENADEALER                object\n",
       "JER_SOCIODENEGOCIO              object\n",
       "JER_TIPOTIENDA                  object\n",
       "JER_DEPARTAMENTO                object\n",
       "JER_PROVINCIA                   object\n",
       "JER_CIUDAD                     float64\n",
       "JER_DISTRITO                    object\n",
       "JER_JEFENEGOCIO                 object\n",
       "TERMINAL_TIPOEQUIPO             object\n",
       "TIPOCONTRIBUYENTE               object\n",
       "TOTAL_MES_ANT                    int64\n",
       "TOTAL_MES_ACT                    int64\n",
       "SISTEMAFUENTE                   object\n",
       "BONO                            object\n",
       "TREINTAMM                       object\n",
       "GROSS_COMISIONABLE               int64\n",
       "dtype: object"
      ]
     },
     "execution_count": 4,
     "metadata": {},
     "output_type": "execute_result"
    }
   ],
   "source": [
    "# Testing Dataframes\n",
    "\n",
    "#jerarquia.dtypes\n",
    "\n",
    "#inar.dtypes\n",
    "#deacs.dtypes \n",
    "\n",
    "#ventas_ssaa.dtypes\n",
    "#deacs_ssaa.dtypes\n",
    "#paquetes.dtypes\n",
    "#bolsas.dtypes\n",
    "\n",
    "#basesgcp.dtypes\n",
    "#basesgcp.describe()\n",
    "#basesgcp.describe(include = ['O'])\n",
    "#basesgce.dtypes\n",
    "#actividad.dtypes\n",
    "#basesgcpquincenal.dtypes\n",
    "#jerarquia\n",
    "\n",
    "#unitarios.dtypes\n",
    "\n",
    "# Looking the df\n",
    "#unitarios\n",
    "#unitarios[unitarios['PERIODO_ACTIVACION']==201901]\n",
    "#basesgcp[basesgcp['SEGMENTO_ACCESS'].notnull()].head()\n",
    "#paquetes.head()\n",
    "#ceses.head()\n",
    "#basesgce\n",
    "inar_personas.dtypes\n"
   ]
  },
  {
   "cell_type": "code",
   "execution_count": 5,
   "metadata": {
    "scrolled": false
   },
   "outputs": [
    {
     "name": "stderr",
     "output_type": "stream",
     "text": [
      "INFO:    Setting database path to C:/Users/Johnny/Documents/Comisiones/SQLiteDBME/mercado_personas_db.sqlite\n"
     ]
    },
    {
     "name": "stdout",
     "output_type": "stream",
     "text": [
      "Los registros de la tabla tblVentasPersonas es 12599 registros insertados \n",
      "--- 0.7909989356994629 seconds ---\n"
     ]
    }
   ],
   "source": [
    "# Configurando los archivos de configuración para administrar la base de datos\n",
    "dbparser = inifile.getDbIniFileParser()\n",
    "\n",
    "dbmanager = dhdb.DbDataProcess(month,mercado=\"personas\")\n",
    "dbmanager.setParser(dbparser)\n",
    "\n",
    "#1. Carga de Data en Base de Datos\n",
    "start_time = time.time()\n",
    "dbmanager.dbOperation('insert','tblVentasPersonas',inar_personas)\n",
    "\n",
    "\n",
    "#dbmanager.dbOperation('update','Gross_Comision') #ok1\n",
    "\n",
    "\n",
    "time_consuming = (time.time() - start_time) # In minutes\n",
    "print(\"--- %s seconds ---\" % time_consuming)\n"
   ]
  },
  {
   "cell_type": "code",
   "execution_count": null,
   "metadata": {},
   "outputs": [],
   "source": []
  }
 ],
 "metadata": {
  "kernelspec": {
   "display_name": "Python 3",
   "language": "python",
   "name": "python3"
  },
  "language_info": {
   "codemirror_mode": {
    "name": "ipython",
    "version": 3
   },
   "file_extension": ".py",
   "mimetype": "text/x-python",
   "name": "python",
   "nbconvert_exporter": "python",
   "pygments_lexer": "ipython3",
   "version": "3.7.1"
  }
 },
 "nbformat": 4,
 "nbformat_minor": 1
}
