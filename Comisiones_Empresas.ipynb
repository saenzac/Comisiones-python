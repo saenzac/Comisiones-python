{
 "cells": [
  {
   "cell_type": "code",
   "execution_count": 6,
   "metadata": {},
   "outputs": [],
   "source": [
    "import logging\n",
    "\n",
    "from Loader import fileloader as fl\n",
    "from Loader import datahandledatabase as dhdb\n",
    "from Loader import datacompute as dc\n",
    "from Loader import datapreparation as dp\n",
    "import pandas as pd\n",
    "import numpy as np\n",
    "import posixpath\n",
    "from datetime import datetime\n",
    "import time\n",
    "\n",
    "logger = logging.getLogger(\"\")\n",
    "logger.setLevel(logging.INFO)"
   ]
  },
  {
   "cell_type": "code",
   "execution_count": 7,
   "metadata": {},
   "outputs": [
    {
     "name": "stderr",
     "output_type": "stream",
     "text": [
      "INFO:    Values loaded from globals.ini:\n",
      "INFO:     * mainpath D:/Datos de Usuario/jsaenza/Documents/OneDrive - Entel Peru S.A\n",
      "INFO:     * scriptspath D:/Datos de Usuario/jsaenza/Documents/Comisiones/Comisiones-python\n",
      "INFO:     * databasepath D:/Datos de Usuario/jsaenza/Documents/Comisiones/SQLiteDB\n",
      "INFO:    datapath value is D:/Datos de Usuario/jsaenza/Documents/OneDrive - Entel Peru S.A/MercadoEmpresas/Data Fuente Comisiones/xlsx\n",
      "INFO:    testpath value is D:/Datos de Usuario/jsaenza/Documents/OneDrive - Entel Peru S.A/MercadoEmpresas/Data Fuente Comisiones/test\n"
     ]
    }
   ],
   "source": [
    "month = '201903'#para cargar unitarios, disminuir 1 mes\n",
    "month_unitario = 201902#poner un mes mas que el de arriba.\n",
    "\n",
    "inifile = fl.ReadIniFile(mercado=\"empresas\")\n",
    "defaultpath = inifile.getDataPath()\n",
    "testpath = inifile.getTestPath()"
   ]
  },
  {
   "cell_type": "code",
   "execution_count": 22,
   "metadata": {
    "scrolled": true
   },
   "outputs": [
    {
     "name": "stderr",
     "output_type": "stream",
     "text": [
      "INFO:    Values loaded from globals.ini:\n"
     ]
    },
    {
     "name": "stdout",
     "output_type": "stream",
     "text": [
      "El tamaño de Bases_GCP es 3035 registros\n"
     ]
    }
   ],
   "source": [
    "# Configurando los archivos de configuración para importar archivos tipo : xlsx, txt, ini\n",
    "parser = inifile.getIniFileParser()\n",
    "\n",
    "loader = fl.LoadFileProcess(month)\n",
    "loader.setParser(parser)\n",
    "loader.setDefaultPath(defaultpath)\n",
    "\n",
    "# Carga de Archivos\n",
    "#*******************\n",
    "# Asegurate que el directorio donde está el archivo este correcto\n",
    "# Asegurate que no haya pestañas ocultas en Bases GCP ni Plataformas. \n",
    "# En GCP_Base comisiones Partir en dos periodos\n",
    "\n",
    "# Preparación : Ninguna\n",
    "# File :  _RRHH Ingresos\n",
    "# ingresos = loader.loadFile('Ingresos')\n",
    "\n",
    "# Preparación : Ninguna\n",
    "# File :  _RRHH Ceses\n",
    "# ceses = loader.loadFile('Ceses')\n",
    "\n",
    "# Preparación : Importar en periodo Mensual y quincenal\n",
    "# Advertencia : Verificar que no se duplique\n",
    "# File :  _Soporte Estructura Canales Venta Mercado Empresa\n",
    "#jerarquia = loader.loadFile('Jerarquia')  okk\n",
    "\n",
    "# Preparación : Agregar la columna de Seguro si Gestión de Información no lo proporciona\n",
    "# File :  _Planeamiento Inar Empresas\n",
    "#inar = loader.loadFile('Inar')\n",
    "\n",
    "# Preparación :Completar dos columnas adicionales ver archivo anterior. Mensual y Quincenal\n",
    "# File : _Planeamiento Deacs Empresas\n",
    "#deacs = loader.loadFile('Deacs')\n",
    "\n",
    "# Preparación : Completar dos columnas y Verificar Fecha. Periodo Mensual y Quincenal. Completar  vendedor_cross_selling \n",
    "# de _GCP BASE COMISIONES (BASE SVA / VENDEDOR PYME). Partir el GCE RAS en Ventas_SSAA y Deacs_SSAA\n",
    "# File : _GCE Ventas SSAA\n",
    "#ventas_ssaa = loader.loadFile('Ventas_SSAA')  # listo para subir\n",
    "\n",
    "#ventas_ssaa = loader.loadFile('Ventas_SSAA_new')  # listo para subir\n",
    "\n",
    "# Preparación : Completar dos columnas.Verificar Fechas. Periodo Mensual y Quincenal.\n",
    "# File : _GCE Deacs SSAA\n",
    "#deacs_ssaa = loader.loadFile('Deacs_SSAA') #listo para subir\n",
    "\n",
    "# Preparación : Ingresar en Periodo Mensual y Quincenal. Verificar Fechas\n",
    "# File : _GCE Paquetes\n",
    "#paquetes = loader.loadFile('Paquetes_new') #listo para subir\n",
    "\n",
    "# Advertencia : la lectura del unitario es en el tiempo Mes de Comisiones -1. \n",
    "# File :  _Comisiones Pymes\n",
    "#unitarios = loader.loadFile('Unitarios') \n",
    "#unitarios = unitarios[unitarios['COMISION_UNITARIA']>0]\n",
    "#unitarios.reset_index(drop = True, inplace = True)\n",
    "#soluciones de negocio en COMISION_UNITARIA, VENDEDOR, FECHA_PROCESO\n",
    "\n",
    "# Preparación : Completar columnas numericas Cero\n",
    "# File : _Experiencia Bolsa 3G\n",
    "#bolsas = loader.loadFile('Bolsas') #listo para subir\n",
    "\n",
    "# Preparación : Ninguna\n",
    "# File : _Riesgos Actividad Lima, _Riesgos Actividad Regiones\n",
    "#actividad = loader.loadFile('Actividad') \n",
    "\n",
    "# Preparación : Update despues de Ingresar el INAR mensual. Llenar carterización y dealer regiones\n",
    "# File _ : _GCP Base Comisiones\n",
    "basesgcp = loader.loadFile('Bases_GCP') \n",
    "\n",
    "# Advertencia : Separar en dos Periodos debido a Equipos de Captura Quincenal, tomar sólo el quincenal del periodo anterior\n",
    "# File : _GCP Base Quincenal Comisiones\n",
    "#basesgcpquincenal = loader.loadFile('Bases_GCP_Quincenal') #no se esta usando\n",
    "\n",
    "# Preparación : Ver Errores. Cargar a conveniencia\n",
    "# Advertencia : Importar en caso no lo incluya Gestión de Información\n",
    "# File : _GCE Base Comisiones\n",
    "#basesgce = loader.loadFile('Bases_GCE') #no se esta usando"
   ]
  },
  {
   "cell_type": "code",
   "execution_count": 25,
   "metadata": {
    "scrolled": true
   },
   "outputs": [
    {
     "data": {
      "text/plain": [
       "GERENCIA2                     object\n",
       "CONTRATO                       int64\n",
       "ESTADO                        object\n",
       "FECHA_PROCESO         datetime64[ns]\n",
       "TIPO_DOC                      object\n",
       "FACTOR_FACTURACIÓN           float64\n",
       "CARTERIZACION                 object\n",
       "DEALERS_REGIONES             float64\n",
       "SEGMENTO_ACCESS               object\n",
       "dtype: object"
      ]
     },
     "execution_count": 25,
     "metadata": {},
     "output_type": "execute_result"
    }
   ],
   "source": [
    "# Testing Dataframes\n",
    "\n",
    "#jerarquia.dtypes\n",
    "\n",
    "#inar.dtypes\n",
    "#deacs.dtypes \n",
    "\n",
    "#ventas_ssaa.dtypes\n",
    "#ventas_ssaa_new.dtypes\n",
    "#deacs_ssaa.dtypes\n",
    "#paquetes.dtypes\n",
    "#bolsas.dtypes\n",
    "\n",
    "basesgcp.dtypes\n",
    "#basesgcp.describe()\n",
    "#basesgcp.describe(include = ['O'])\n",
    "#basesgce.dtypes\n",
    "#actividad.dtypes\n",
    "#basesgcpquincenal.dtypes\n",
    "#jerarquia.dtypes\n",
    "\n",
    "#unitarios.dtypes\n",
    "\n",
    "# Looking the df\n",
    "#unitarios\n",
    "#unitarios[unitarios['PERIODO_ACTIVACION']==201901]\n",
    "#basesgcp[basesgcp['SEGMENTO_ACCESS'].notnull()].head()\n",
    "#paquetes.head()\n",
    "#ceses.head()\n",
    "#basesgce\n"
   ]
  },
  {
   "cell_type": "code",
   "execution_count": 24,
   "metadata": {
    "scrolled": false
   },
   "outputs": [
    {
     "name": "stderr",
     "output_type": "stream",
     "text": [
      "INFO:    Setting database path to D:/Datos de Usuario/jsaenza/Documents/Comisiones/SQLiteDB/mercado_empresas_db.sqlite\n"
     ]
    },
    {
     "name": "stdout",
     "output_type": "stream",
     "text": [
      "Los registros de la tabla tblGrossRules es 15 registros  \n",
      "Los registros de la tabla Gross_Comision es 42280 registros  \n",
      "Los registros de la tabla Gross_Comision es 0 registros actualizados \n",
      "--- 4.14300012588501 seconds ---\n"
     ]
    }
   ],
   "source": [
    "# Configurando los archivos de configuración para administrar la base de datos\n",
    "dbparser = inifile.getDbIniFileParser()\n",
    "\n",
    "dbmanager = dhdb.DbDataProcess(month)\n",
    "dbmanager.setParser(dbparser)\n",
    "\n",
    "#1. Carga de Data en Base de Datos\n",
    "\n",
    "#dbmanager.dbOperation('insert','tblEmpleados',ingresos) #ok\n",
    "#dbmanager.dbOperation('insert','tblJerarquia',jerarquia) #ok\n",
    "#dbmanager.dbOperation('insert','tblVentas',inar)#ok\n",
    "#dbmanager.dbOperation('insert','tblDeacs',deacs) #ok\n",
    "\n",
    "#dbmanager.dbOperation('insert','tblVentaSSAA',ventas_ssaa) ya no se usa\n",
    "#dbmanager.dbOperation('insert','tblVentaSSAANew',ventas_ssaa) #ok\n",
    "#dbmanager.dbOperation('insert','tblDeacSSAA',deacs_ssaa) FALTA, investigar\n",
    "#dbmanager.dbOperation('insert','tblPaquetes',paquetes) #ok\n",
    "\n",
    "#********************************************\n",
    "#2.  Update de tablas de Ventas y Deacs (deben estar en memoria)\n",
    "\n",
    "#dbmanager.dbOperation('update','Ceses', ceses)  #ok\n",
    "\n",
    "#dbmanager.dbOperation('update','Bolsas',bolsas) #no hubo\n",
    "#dbmanager.dbOperation('update','SumVentaSSAA',ventas_ssaa) #ok\n",
    "#dbmanager.dbOperation('update','Paquetes') #ok\n",
    "#dbmanager.dbOperation('update','Unitarios', unitarios) #ok, se debe meter en los contratos de las ventas del mes pasado\n",
    "\n",
    "#dbmanager.dbOperation('update','Actividad', actividad)\n",
    "#dbmanager.dbOperation('update','Bases_GCP', basesgcp)\n",
    "\n",
    "#3. Calculando el Gross Comisión y las Reversiones (Obligatorio al final de la carga)\n",
    "#*************************************************\n",
    "start_time = time.time()\n",
    "\n",
    "#dbmanager.dbOperation('update','Gross_Comision') # ok\n",
    "#dbmanager.dbOperation('update','Reversiones') # ok\n",
    "\n",
    "time_consuming = (time.time() - start_time) # In minutes\n",
    "print(\"--- %s seconds ---\" % time_consuming)\n",
    "\n",
    "# DEPRECATED:\n",
    "#dbmanager.dbOperation('update','Bases_GCP_Quincenal',basesgcpquincenal) # actualizar con data quincenal,\n",
    "#dbmanager.dbOperation('update','Bases_GCE',basesgce) # Usar a conveniencia,"
   ]
  },
  {
   "cell_type": "code",
   "execution_count": null,
   "metadata": {},
   "outputs": [],
   "source": []
  }
 ],
 "metadata": {
  "kernelspec": {
   "display_name": "Python 3",
   "language": "python",
   "name": "python3"
  },
  "language_info": {
   "codemirror_mode": {
    "name": "ipython",
    "version": 3
   },
   "file_extension": ".py",
   "mimetype": "text/x-python",
   "name": "python",
   "nbconvert_exporter": "python",
   "pygments_lexer": "ipython3",
   "version": "3.7.1"
  }
 },
 "nbformat": 4,
 "nbformat_minor": 1
}
