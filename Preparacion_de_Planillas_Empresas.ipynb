{
 "cells": [
  {
   "cell_type": "code",
   "execution_count": 1,
   "metadata": {},
   "outputs": [],
   "source": [
    "from Loader import fileloader_proto as fl\n",
    "import pandas as pd\n",
    "import posixpath"
   ]
  },
  {
   "cell_type": "code",
   "execution_count": 4,
   "metadata": {},
   "outputs": [],
   "source": [
    "month='201907'\n",
    "\n",
    "inifile = fl.ReadIniFile(mercado=\"empresas\")\n",
    "section = fl.SectionObj(inifile,\"Planillas\",month)\n",
    "empresas_mainpath = section.getParameter('mainpath_mercado') + '/Planillas'\n",
    "loader = fl.LoadFileProcess(section)\n"
   ]
  },
  {
   "cell_type": "code",
<<<<<<< HEAD
   "execution_count": 3,
=======
   "execution_count": 5,
>>>>>>> 5e0e20e78e03f86eb81ead362d58f311d1878405
   "metadata": {},
   "outputs": [
    {
     "name": "stdout",
     "output_type": "stream",
     "text": [
<<<<<<< HEAD
      "El tamaño de Planillas es 534 registros\n"
=======
      "El tamaño de Planillas es 495 registros\n"
>>>>>>> 5e0e20e78e03f86eb81ead362d58f311d1878405
     ]
    }
   ],
   "source": [
    "planillas = loader.loadFile()\n",
    "planillas = planillas[planillas[\"POSICIÓN\"] != \"SPARE POSITION\"]"
   ]
  },
  {
   "cell_type": "code",
<<<<<<< HEAD
   "execution_count": 4,
   "metadata": {},
   "outputs": [],
   "source": [
    "writer = pd.ExcelWriter(posixpath.join(empresas_mainpath,month + \"_Consolidado_Planillas1.xlsx\"), engine='xlsxwriter')\n",
=======
   "execution_count": 8,
   "metadata": {},
   "outputs": [],
   "source": [
    "writer = pd.ExcelWriter(posixpath.join(empresas_mainpath,month + \"_Consolidado_Planillas_201903_tested.xlsx\"), engine='xlsxwriter')\n",
>>>>>>> 5e0e20e78e03f86eb81ead362d58f311d1878405
    "planillas.to_excel(writer, sheet_name='Sheet1')\n",
    "writer.save()"
   ]
  },
  {
   "cell_type": "code",
   "execution_count": null,
   "metadata": {},
   "outputs": [],
   "source": []
  }
 ],
 "metadata": {
  "kernelspec": {
   "display_name": "Python 3",
   "language": "python",
   "name": "python3"
  },
  "language_info": {
   "codemirror_mode": {
    "name": "ipython",
    "version": 3
   },
   "file_extension": ".py",
   "mimetype": "text/x-python",
   "name": "python",
   "nbconvert_exporter": "python",
   "pygments_lexer": "ipython3",
   "version": "3.6.5"
  }
 },
 "nbformat": 4,
 "nbformat_minor": 1
}
