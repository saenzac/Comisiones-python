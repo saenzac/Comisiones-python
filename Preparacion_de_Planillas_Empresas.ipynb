{
 "cells": [
  {
   "cell_type": "code",
   "execution_count": 1,
   "metadata": {},
   "outputs": [],
   "source": [
    "from Loader import fileloader_proto as fl\n",
    "import pandas as pd\n",
    "import posixpath"
   ]
  },
  {
   "cell_type": "code",
   "execution_count": 2,
   "metadata": {},
   "outputs": [],
   "source": [
    "month='201906'\n",
    "\n",
    "\n",
    "inifile = fl.ReadIniFile(mercado=\"empresas\")\n",
    "section = fl.SectionObj(inifile,\"Planillas\",month)\n",
    "empresas_mainpath = section.getParameter('mainpath_mercado') + '/Planillas'\n",
    "loader = fl.LoadFileProcess(section)\n"
   ]
  },
  {
   "cell_type": "code",
   "execution_count": 3,
   "metadata": {},
   "outputs": [
    {
     "name": "stdout",
     "output_type": "stream",
     "text": [
      "El tamaño de Planillas es 535 registros\n"
     ]
    }
   ],
   "source": [
    "planillas = loader.loadFile()"
   ]
  },
  {
   "cell_type": "code",
   "execution_count": 4,
   "metadata": {},
   "outputs": [],
   "source": [
    "writer = pd.ExcelWriter(posixpath.join(empresas_mainpath,month + \"_Consolidado_Planillas_201906_primerenvio.xlsx\"), engine='xlsxwriter')\n",
    "planillas.to_excel(writer, sheet_name='Sheet1')\n",
    "writer.save()"
   ]
  },
  {
   "cell_type": "code",
   "execution_count": null,
   "metadata": {},
   "outputs": [],
   "source": []
  }
 ],
 "metadata": {
  "kernelspec": {
   "display_name": "Python 3",
   "language": "python",
   "name": "python3"
  },
  "language_info": {
   "codemirror_mode": {
    "name": "ipython",
    "version": 3
   },
   "file_extension": ".py",
   "mimetype": "text/x-python",
   "name": "python",
   "nbconvert_exporter": "python",
   "pygments_lexer": "ipython3",
   "version": "3.6.5"
  }
 },
 "nbformat": 4,
 "nbformat_minor": 1
}
