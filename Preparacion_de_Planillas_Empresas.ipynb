{
 "cells": [
  {
   "cell_type": "code",
   "execution_count": 12,
   "metadata": {},
   "outputs": [],
   "source": [
    "from Loader import fileloader_proto as fl\n",
    "import pandas as pd\n",
    "import posixpath"
   ]
  },
  {
   "cell_type": "code",
   "execution_count": 13,
   "metadata": {},
   "outputs": [],
   "source": [
    "month='201904'\n",
    "#dataoutdir = 'C:/Users/Johnny/OneDrive - Entel Peru S.A/MercadoEmpresas/Planillas'\n",
    "dataoutdir = 'C:/Users/Johnny/OneDrive - Entel Peru S.A/MercadoEmpresas/Planillas'\n",
    "\n",
    "inifile = fl.ReadIniFile(mercado=\"empresas\")\n",
    "parser = inifile.getIniFileParser()\n",
    "section = fl.SectionObj(parser,\"Planillas\",month)\n",
    "loader = fl.LoadFileProcess(section)\n"
   ]
  },
  {
   "cell_type": "code",
   "execution_count": 10,
   "metadata": {},
   "outputs": [
    {
     "name": "stdout",
     "output_type": "stream",
     "text": [
      "El tamaño de Planillas es 500 registros\n"
     ]
    }
   ],
   "source": [
    "planillas = loader.loadFile()"
   ]
  },
  {
   "cell_type": "code",
   "execution_count": 11,
   "metadata": {},
   "outputs": [],
   "source": [
    "writer = pd.ExcelWriter(posixpath.join(dataoutdir,month + \"_Consolidado_Planillas_pruebaprueba.xlsx\"), engine='xlsxwriter')\n",
    "planillas.to_excel(writer, sheet_name='Sheet1')\n",
    "writer.save()"
   ]
  },
  {
   "cell_type": "code",
   "execution_count": null,
   "metadata": {
    "collapsed": true
   },
   "outputs": [],
   "source": []
  }
 ],
 "metadata": {
  "kernelspec": {
   "display_name": "Python 3",
   "language": "python",
   "name": "python3"
  },
  "language_info": {
   "codemirror_mode": {
    "name": "ipython",
    "version": 3
   },
   "file_extension": ".py",
   "mimetype": "text/x-python",
   "name": "python",
   "nbconvert_exporter": "python",
   "pygments_lexer": "ipython3",
   "version": "3.7.1"
  }
 },
 "nbformat": 4,
 "nbformat_minor": 1
}
