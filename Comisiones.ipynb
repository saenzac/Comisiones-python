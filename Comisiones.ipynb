{
 "cells": [
  {
   "cell_type": "code",
   "execution_count": 1,
   "metadata": {},
   "outputs": [],
   "source": [
    "import logging\n",
    "\n",
    "from Loader import fileloader as fl\n",
    "from Loader import datahandledatabase as dhdb\n",
    "from Loader import datacompute as dc\n",
    "from Loader import datapreparation as dp\n",
    "import pandas as pd\n",
    "import numpy as np\n",
    "import posixpath\n",
    "from datetime import datetime\n",
    "import time\n",
    "\n",
    "logger = logging.getLogger(\"\")\n",
    "logger.setLevel(logging.INFO)"
   ]
  },
  {
   "cell_type": "code",
   "execution_count": 2,
   "metadata": {},
   "outputs": [
    {
     "name": "stderr",
     "output_type": "stream",
     "text": [
      "INFO:    Values loaded from globals.ini:\n",
      "INFO:     * mainpath C:/Users/Johnny/OneDrive - Entel Peru S.A\n",
      "INFO:     * scriptspath C:/Users/Johnny/Documents/Comisiones/Comisiones-python\n",
      "INFO:     * databasepath C:/Users/Johnny/Documents/Comisiones/SQLiteDBME\n",
      "INFO:    datapath value is C:/Users/Johnny/OneDrive - Entel Peru S.A/MercadoEmpresas/Data Fuente Comisiones/xlsx\n",
      "INFO:    testpath value is C:/Users/Johnny/OneDrive - Entel Peru S.A/MercadoEmpresas/Data Fuente Comisiones/test\n"
     ]
    }
   ],
   "source": [
    "month = '201902'#para cargar unitarios, disminuir 1 mes\n",
    "month_unitario = 201901#poner un mes mas que el de arriba.\n",
    "\n",
    "inifile = fl.ReadIniFile(mercado=\"empresas\")\n",
    "defaultpath = inifile.getDataPath()\n",
    "testpath = inifile.getTestPath()"
   ]
  },
  {
   "cell_type": "code",
   "execution_count": 3,
   "metadata": {
    "scrolled": true
   },
   "outputs": [
    {
     "name": "stdout",
     "output_type": "stream",
     "text": [
      "Archivo: C:/Users/Johnny/OneDrive - Entel Peru S.A/MercadoEmpresas/Data Fuente Comisiones/xlsx\\201902_Soporte Estructura Inicios Febrero.xlsx\n",
      "Hoja Importada: JERARQUIA\n",
      "El tamaño de Jerarquia es 10176 registros\n"
     ]
    }
   ],
   "source": [
    "# Configurando los archivos de configuración para importar archivos tipo : xlsx, txt, ini\n",
    "parser = inifile.getIniFileParser()\n",
    "\n",
    "loader = fl.LoadFileProcess(month)\n",
    "loader.setParser(parser)\n",
    "loader.setDefaultPath(defaultpath)\n",
    "\n",
    "# Carga de Archivos\n",
    "#*******************\n",
    "# Asegurate que el directorio donde está el archivo este correcto\n",
    "# Asegurate que no haya pestañas ocultas en Bases GCP ni Plataformas. \n",
    "# En GCP_Base comisiones Partir en dos periodos\n",
    "\n",
    "# Preparación : Ninguna\n",
    "# File :  _RRHH Ingresos\n",
    "#ingresos = loader.loadFile('Ingresos')\n",
    "\n",
    "# Preparación : Ninguna\n",
    "# File :  _RRHH Ceses\n",
    "# ceses = loader.loadFile('Ceses')\n",
    "\n",
    "# Preparación : Importar en periodo Mensual y quincenal\n",
    "# Advertencia : Verificar que no se duplique\n",
    "# File :  _Soporte Estructura Canales Venta Mercado Empresa\n",
    "jerarquia = loader.loadFile('Jerarquia')\n",
    "\n",
    "# Preparación : Agregar la columna de Seguro si Gestión de Información no lo proporciona\n",
    "# File :  _Planeamiento Inar Empresas\n",
    "# inar = loader.loadFile('Inar')\n",
    "\n",
    "# Preparación :Completar dos columnas adicionales ver archivo anterior. Mensual y Quincenal\n",
    "# File : _Planeamiento Deacs Empresas\n",
    "# deacs = loader.loadFile('Deacs')\n",
    "\n",
    "# Preparación : Completar dos columnas y Verificar Fecha. Periodo Mensual y Quincenal. Completar  vendedor_cross_selling \n",
    "# de _GCP BASE COMISIONES (BASE SVA / VENDEDOR PYME). Partir el GCE RAS en Ventas_SSAA y Deacs_SSAA\n",
    "# File : _GCE Ventas SSAA\n",
    "#ventas_ssaa = loader.loadFile('Ventas_SSAA')  # listo para subir\n",
    "\n",
    "#ventas_ssaa_new = loader.loadFile('Ventas_SSAA_new')  # listo para subir\n",
    "\n",
    "# Preparación : Completar dos columnas.Verificar Fechas. Periodo Mensual y Quincenal.\n",
    "# File : _GCE Deacs SSAA\n",
    "#deacs_ssaa = loader.loadFile('Deacs_SSAA') #listo para subir\n",
    "\n",
    "# Preparación : Ingresar en Periodo Mensual y Quincenal. Verificar Fechas\n",
    "# File : _GCE Paquetes\n",
    "#paquetes = loader.loadFile('Paquetes') #lisot para subir\n",
    "\n",
    "# Advertencia : la lectura del unitario es en el tiempo Mes de Comisiones -1. \n",
    "# File :  _Comisiones Pymes\n",
    "#unitarios = loader.loadFile('Unitarios') \n",
    "#unitarios = unitarios [unitarios['PERIODO_ACTIVACION'] == month_unitario]\n",
    "#unitarios.reset_index(drop = True, inplace = True)\n",
    "#unitarios = unitarios[unitarios['COMISION_UNITARIA']>0] #nota: revisar con carlos cambios por eliminacion periodo quinc.\n",
    "\n",
    "#soluciones de negocio en COMISION_UNITARIA, VENDEDOR, FECHA_PROCESO\n",
    "\n",
    "# Preparación : Completar columnas numericas Cero\n",
    "# File : _Experiencia Bolsa 3G\n",
    "#bolsas = loader.loadFile('Bolsas') #listo para subir\n",
    "\n",
    "# Preparación : Ninguna\n",
    "# File : _Riesgos Actividad Lima, _Riesgos Actividad Regiones\n",
    "#actividad = loader.loadFile('Actividad')\n",
    "\n",
    "# Preparación : Update despues de Ingresar el INAR mensual. Llenar carterización y dealer regiones\n",
    "# File _ : _GCP Base Comisiones\n",
    "#basesgcp = loader.loadFile('Bases_GCP') \n",
    "\n",
    "# Advertencia : Separar en dos Periodos debido a Equipos de Captura Quincenal, tomar sólo el quincenal del periodo anterior\n",
    "# File : _GCP Base Quincenal Comisiones\n",
    "#basesgcpquincenal = loader.loadFile('Bases_GCP_Quincenal') #no se esta usando\n",
    "\n",
    "# Preparación : Ver Errores. Cargar a conveniencia\n",
    "# Advertencia : Importar en caso no lo incluya Gestión de Información\n",
    "# File : _GCE Base Comisiones\n",
    "#basesgce = loader.loadFile('Bases_GCE') #no se esta usando"
   ]
  },
  {
   "cell_type": "code",
   "execution_count": 4,
   "metadata": {},
   "outputs": [],
   "source": [
    "#Solo unitarios\n",
    "\n",
    "# Advertencia : la lectura del unitario es en el tiempo Mes de Comisiones -1. \n",
    "# File :  _Comisiones Pymes\n",
    "#unitarios = loader.loadFile('Unitarios') \n",
    "#unitarios = unitarios [unitarios['PERIODO_ACTIVACION'] == month_unitario]\n",
    "#unitarios.reset_index(drop = True, inplace = True)\n",
    "#unitarios = unitarios[unitarios['COMISION_UNITARIA']>0]\n"
   ]
  },
  {
   "cell_type": "code",
   "execution_count": 7,
   "metadata": {
    "scrolled": true
   },
   "outputs": [
    {
     "data": {
      "text/plain": [
       "CODIGO                           object\n",
       "RAZON_SOCIAL                     object\n",
       "CONTRATO                          int64\n",
       "FEC_ACTIV                datetime64[ns]\n",
       "FEC_DESACTIVA                   float64\n",
       "MODELO                           object\n",
       "TELEFONO                          int64\n",
       "ESTADO                           object\n",
       "VENDEDOR                         object\n",
       "PLAN_TARIFARIO                   object\n",
       "TMCODE                            int64\n",
       "FECHA_PROCESO            datetime64[ns]\n",
       "FALSO_DEAC                      float64\n",
       "TIPODOC                          object\n",
       "DOCUMENTO                         int64\n",
       "NROORDEN                        float64\n",
       "GROSSREAL                         int64\n",
       "GROSSCOMERCIAL                    int64\n",
       "ACCESS                          float64\n",
       "DIVISION                         object\n",
       "TIPO                             object\n",
       "TECNOLOGIAEQUIPO                 object\n",
       "TIPOEQUIPO                       object\n",
       "CANALVISTACLIENTE                object\n",
       "CANALVISTANEGOCIO                object\n",
       "GERENCIA1                        object\n",
       "GERENCIA2                        object\n",
       "CANALDEVENTA                     object\n",
       "ZONAVENTA                        object\n",
       "SUPERVISORKAM                    object\n",
       "PUNTOVENTA                       object\n",
       "UBIGEO                           object\n",
       "DEPARTAMENTO                     object\n",
       "PROVINCIA                        object\n",
       "DISTRINTO                        object\n",
       "TCENTEL                          object\n",
       "RUC_10_20                        object\n",
       "NEWSADDS                         object\n",
       "CEDENTE                          object\n",
       "NUEVOSEGMENTO                    object\n",
       "TIPOVENTA                        object\n",
       "SEGURO_ENTEL                     object\n",
       "SERVICIO_SEGURO_ENTEL            object\n",
       "PRIMA_SEGURO_ENTEL              float64\n",
       "ACCESSMASVEP                    float64\n",
       "dtype: object"
      ]
     },
     "execution_count": 7,
     "metadata": {},
     "output_type": "execute_result"
    }
   ],
   "source": [
    "# Testing Dataframes\n",
    "\n",
    "#jerarquia.dtypes\n",
    "\n",
    "inar.dtypes\n",
    "#deacs.dtypes \n",
    "\n",
    "#ventas_ssaa.dtypes\n",
    "#deacs_ssaa.dtypes\n",
    "#paquetes.dtypes\n",
    "#bolsas.dtypes\n",
    "\n",
    "#basesgcp.dtypes\n",
    "#basesgcp.describe()\n",
    "#basesgcp.describe(include = ['O'])\n",
    "#basesgce.dtypes\n",
    "#actividad.dtypes\n",
    "#basesgcpquincenal.dtypes\n",
    "#jerarquia.dtypes\n",
    "\n",
    "#unitarios.dtypes\n",
    "\n",
    "# Looking the df\n",
    "# unitarios\n",
    "#unitarios[unitarios['PERIODO_ACTIVACION']==201901]\n",
    "#basesgcp[basesgcp['SEGMENTO_ACCESS'].notnull()].head()\n",
    "#paquetes.head()\n",
    "#ceses.head()\n",
    "#basesgce\n"
   ]
  },
  {
   "cell_type": "code",
   "execution_count": 4,
   "metadata": {
    "scrolled": false
   },
   "outputs": [
    {
     "name": "stderr",
     "output_type": "stream",
     "text": [
      "INFO:    Setting database path to C:/Users/Johnny/Documents/Comisiones/SQLiteDBME/mercado_empresas_db.sqlite\n"
     ]
    },
    {
     "name": "stdout",
     "output_type": "stream",
     "text": [
      "Los registros de la tabla tblJerarquia es 10176 registros insertados \n",
      "--- 0.0 seconds ---\n"
     ]
    }
   ],
   "source": [
    "# Configurando los archivos de configuración para administrar la base de datos\n",
    "dbparser = inifile.getDbIniFileParser()\n",
    "\n",
    "dbmanager = dhdb.DbDataProcess(month)\n",
    "dbmanager.setParser(dbparser)\n",
    "\n",
    "#1. Carga de Data en Base de Datos\n",
    "\n",
    "#dbmanager.dbOperation('insert','tblEmpleados',ingresos)\n",
    "dbmanager.dbOperation('insert','tblJerarquia',jerarquia)\n",
    "#dbmanager.dbOperation('insert','tblVentas',inar)\n",
    "#dbmanager.dbOperation('insert','tblDeacs',deacs)\n",
    "\n",
    "#dbmanager.dbOperation('insert','tblVentaSSAA',ventas_ssaa)\n",
    "#dbmanager.dbOperation('insert','tblVentaSSAANew',ventas_ssaa_new)\n",
    "#dbmanager.dbOperation('insert','tblDeacSSAA',deacs_ssaa)\n",
    "#dbmanager.dbOperation('insert','tblPaquetes',paquetes)\n",
    "\n",
    "#********************************************\n",
    "#2.  Update de tablas de Ventas y Deacs (deben estar en memoria)\n",
    "\n",
    "#dbmanager.dbOperation('update','Ceses', ceses)\n",
    "\n",
    "#dbmanager.dbOperation('update','Bolsas',bolsas) ##  no hubo\n",
    "#dbmanager.dbOperation('update','SumVentaSSAA',ventas_ssaa) \n",
    "#dbmanager.dbOperation('update','Paquetes') \n",
    "\n",
    "#dbmanager.dbOperation('update','Unitarios', unitarios)\n",
    "\n",
    "#dbmanager.dbOperation('update','Actividad',actividad)\n",
    "#dbmanager.dbOperation('update','Bases_GCP',basesgcp)\n",
    "\n",
    "#3. Calculando el Gross Comisión y las Reversiones (Obligatorio al final de la carga)\n",
    "#*************************************************\n",
    "start_time = time.time()\n",
    "\n",
    "#dbmanager.dbOperation('update','Gross_Comision') #ok1\n",
    "#dbmanager.dbOperation('update','Reversiones') #ok1\n",
    "\n",
    "time_consuming = (time.time() - start_time) # In minutes\n",
    "print(\"--- %s seconds ---\" % time_consuming)\n",
    "\n",
    "# DEPRECATED:\n",
    "#dbmanager.dbOperation('update','Bases_GCP_Quincenal',basesgcpquincenal) # actualizar con data quincenal,\n",
    "#dbmanager.dbOperation('update','Bases_GCE',basesgce) # Usar a conveniencia,"
   ]
  },
  {
   "cell_type": "code",
   "execution_count": null,
   "metadata": {},
   "outputs": [],
   "source": []
  }
 ],
 "metadata": {
  "kernelspec": {
   "display_name": "Python 3",
   "language": "python",
   "name": "python3"
  },
  "language_info": {
   "codemirror_mode": {
    "name": "ipython",
    "version": 3
   },
   "file_extension": ".py",
   "mimetype": "text/x-python",
   "name": "python",
   "nbconvert_exporter": "python",
   "pygments_lexer": "ipython3",
   "version": "3.7.1"
  }
 },
 "nbformat": 4,
 "nbformat_minor": 1
}
