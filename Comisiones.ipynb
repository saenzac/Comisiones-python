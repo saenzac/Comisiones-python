{
 "cells": [
  {
   "cell_type": "code",
   "execution_count": 1,
   "metadata": {
    "collapsed": false
   },
   "outputs": [
    {
     "name": "stdout",
     "output_type": "stream",
     "text": [
      "Setting defaultpath as D:/Datos de Usuario/jsaenza/Documents/Comisiones/MercadoEmpresas/Data Fuente Comisiones/xlsx\n",
      "Setting testpath as D:/Datos de Usuario/jsaenza/Documents/Comisiones/MercadoEmpresas/Data Fuente Comisiones/test\n"
     ]
    }
   ],
   "source": [
    "from Loader import fileloader as fl\n",
    "from Loader import datahandledatabase as dhdb\n",
    "from Loader import datacompute as dc\n",
    "from Loader import datapreparation as dp\n",
    "import pandas as pd\n",
    "import numpy as np\n",
    "from datetime import datetime\n",
    "import time\n",
    "\n",
    "month = '201812'#para cargar unitarios, disminuir 1 mes\n",
    "month_unitario = 201812#poner un mes mas que el de arriba.\n",
    "\n",
    "inifile = fl.ReadIniFile()\n",
    "defaultpath = inifile.getDefaultPath()\n",
    "testpath = inifile.getTestPath()"
   ]
  },
  {
   "cell_type": "code",
   "execution_count": 2,
   "metadata": {
    "collapsed": false,
    "scrolled": true
   },
   "outputs": [
    {
     "name": "stdout",
     "output_type": "stream",
     "text": [
      "El tamaño de Ventas_SSAA es 60 registros\n"
     ]
    }
   ],
   "source": [
    "# Configurando los archivos de configuración para importar archivos tipo : xlsx, txt, ini\n",
    "parser = inifile.getIniFileParser()\n",
    "\n",
    "loader = fl.LoadFileProcess(month)\n",
    "loader.setParser(parser)\n",
    "loader.setDefaultPath(defaultpath)\n",
    "\n",
    "# Carga de Archivos\n",
    "#*******************\n",
    "# Asegurate que el directorio donde está el archivo este correcto\n",
    "# Asegurate que no haya pestañas ocultas en Bases GCP ni Plataformas. \n",
    "# En GCP_Base comisiones Partir en dos periodos\n",
    "\n",
    "# Preparación : Ninguna\n",
    "# File :  _RRHH Ingresos\n",
    "#ingresos = loader.loadFile('Ingresos')\n",
    "\n",
    "# Preparación : Ninguna\n",
    "# File :  _RRHH Ceses\n",
    "#ceses = loader.loadFile('Ceses')\n",
    "\n",
    "# Preparación : Importar en periodo Mensual y quincenal\n",
    "# Advertencia : Verificar que no se duplique\n",
    "# File :  _Soporte Estructura Canales Venta Mercado Empresa\n",
    "#jerarquia = loader.loadFile('Jerarquia') \n",
    "\n",
    "# Preparación : Agregar la columna de Seguro si Gestión de Información no lo proporciona\n",
    "# File :  _Planeamiento Inar Empresas\n",
    "#inar = loader.loadFile('Inar')  \n",
    "\n",
    "# Preparación :Completar dos columnas adicionales ver archivo anterior. Mensual y Quincenal\n",
    "# File : _Planeamiento Deacs Empresas\n",
    "#deacs = loader.loadFile('Deacs') \n",
    "\n",
    "# Preparación : Completar dos columnas y Verificar Fecha. Periodo Mensual y Quincenal. Completar  vendedor_cross_selling \n",
    "# de _GCP BASE COMISIONES (BASE SVA / VENDEDOR PYME). Partir el GCE RAS en Ventas_SSAA y Deacs_SSAA\n",
    "# File : _GCE Ventas SSAA\n",
    "#ventas_ssaa = loader.loadFile('Ventas_SSAA') \n",
    "\n",
    "# Preparación : Completar dos columnas.Verificar Fechas. Periodo Mensual y Quincenal.\n",
    "# File : _GCE Deacs SSAA\n",
    "#deacs_ssaa = loader.loadFile('Deacs_SSAA') \n",
    "\n",
    "# Preparación : Ingresar en Periodo Mensual y Quincenal. Verificar Fechas\n",
    "# File : _GCE Paquetes\n",
    "#paquetes = loader.loadFile('Paquetes') \n",
    "\n",
    "# Advertencia : la lectura del unitario es en el tiempo Mes de Comisiones -1. \n",
    "# File :  _Comisiones Pymes\n",
    "#unitarios = loader.loadFile('Unitarios') \n",
    "#unitarios = unitarios [unitarios['PERIODO_ACTIVACION'] == month_unitario]\n",
    "#unitarios.reset_index(drop = True, inplace = True)\n",
    "#unitarios = unitarios[unitarios['COMISION_UNITARIA']>0]\n",
    "\n",
    "#soluciones de negocio en COMISION_UNITARIA, VENDEDOR, FECHA_PROCESO\n",
    "\n",
    "# Preparación : Completar columnas numericas Cero\n",
    "# File : _Experiencia Bolsa 3G\n",
    "#bolsas = loader.loadFile('Bolsas')\n",
    "\n",
    "# Preparación : Ninguna\n",
    "# File : _Riesgos Actividad Lima, _Riesgos Actividad Regiones\n",
    "#actividad = loader.loadFile('Actividad')\n",
    "\n",
    "# Preparación : Update despues de Ingresar el INAR mensual. Llenar carterización y dealer regiones\n",
    "# File _ : _GCP Base Comisiones\n",
    "#basesgcp = loader.loadFile('Bases_GCP')\n",
    "\n",
    "# Advertencia : Separar en dos Periodos debido a Equipos de Captura Quincenal, tomar sólo el quincenal del periodo anterior\n",
    "# File : _GCP Base Quincenal Comisiones\n",
    "#basesgcpquincenal = loader.loadFile('Bases_GCP_Quincenal') \n",
    "\n",
    "# Preparación : Ver Errores. Cargar a conveniencia\n",
    "# Advertencia : Importar en caso no lo incluya Gestión de Información\n",
    "# File : _GCE Base Comisiones\n",
    "#basesgce = loader.loadFile('Bases_GCE')"
   ]
  },
  {
   "cell_type": "code",
   "execution_count": 8,
   "metadata": {
    "collapsed": false
   },
   "outputs": [
    {
     "name": "stdout",
     "output_type": "stream",
     "text": [
      "Archivo: D:/Datos de Usuario/jsaenza/Documents/Mercado Empresas/Comisiones Medianas y Pequeñas Pymes/201811_Comisiones Pymes.xlsx\n",
      "Hoja Importada: Activaciones\n",
      "El tamaño de Unitarios es 14970 registros\n"
     ]
    }
   ],
   "source": [
    "#Solo unitarios\n",
    "\n",
    "# Advertencia : la lectura del unitario es en el tiempo Mes de Comisiones -1. \n",
    "# File :  _Comisiones Pymes\n",
    "#unitarios = loader.loadFile('Unitarios') \n",
    "#unitarios = unitarios [unitarios['PERIODO_ACTIVACION'] == month_unitario]\n",
    "#unitarios.reset_index(drop = True, inplace = True)\n",
    "#unitarios = unitarios[unitarios['COMISION_UNITARIA']>0]\n"
   ]
  },
  {
   "cell_type": "code",
   "execution_count": 4,
   "metadata": {
    "collapsed": false,
    "scrolled": true
   },
   "outputs": [
    {
     "data": {
      "text/plain": [
       "CODIGO                            object\n",
       "RAZON_SOCIAL                      object\n",
       "CONTRATO                         float64\n",
       "SERVICE                           object\n",
       "ACTION_DATE               datetime64[ns]\n",
       "PHONENUMBER                      float64\n",
       "ESTADO                            object\n",
       "TIPO2                             object\n",
       "GANADO_POR                        object\n",
       "CODIGO_INAR                       object\n",
       "ACCESS_REAL                      float64\n",
       "EQUIPO                            object\n",
       "CUENTA                             int64\n",
       "RUC                               object\n",
       "VENDEDOR_CROSS_SELLING            object\n",
       "dtype: object"
      ]
     },
     "execution_count": 4,
     "metadata": {},
     "output_type": "execute_result"
    }
   ],
   "source": [
    "# Testing Dataframes\n",
    "\n",
    "#jerarquia.dtypes\n",
    "\n",
    "#inar.dtypes\n",
    "#deacs.dtypes \n",
    "\n",
    "ventas_ssaa.dtypes\n",
    "#deacs_ssaa.dtypes\n",
    "#paquetes.dtypes\n",
    "#bolsas.dtypes\n",
    "\n",
    "#basesgcp.dtypes\n",
    "#basesgcp.describe()\n",
    "#basesgcp.describe(include = ['O'])\n",
    "#basesgce.dtypes\n",
    "#actividad.dtypes\n",
    "#basesgcpquincenal.dtypes\n",
    "#jerarquia\n",
    "\n",
    "#unitarios.dtypes\n",
    "\n",
    "# Looking the df\n",
    "#unitarios[unitarios['COMISION_UNITARIA']>0]\n",
    "#unitarios[unitarios['PERIODO_ACTIVACION']==201811]\n",
    "#basesgcp[basesgcp['SEGMENTO_ACCESS'].notnull()].head()\n",
    "#paquetes.head()\n",
    "#ceses.head()\n",
    "#basesgce\n"
   ]
  },
  {
   "cell_type": "code",
   "execution_count": 3,
   "metadata": {
    "collapsed": false,
    "scrolled": true
   },
   "outputs": [
    {
     "name": "stdout",
     "output_type": "stream",
     "text": [
      "Also setting database path to D:/Datos de Usuario/jsaenza/Documents/Comisiones/MercadoEmpresas/comisiones3.sqlite\n",
      "--- 0.0 seconds ---\n"
     ]
    }
   ],
   "source": [
    "# Configurando los archivos de configuración para administrar la base de datos\n",
    "dbparser = inifile.getDbIniFileParser()\n",
    "\n",
    "dbmanager = dhdb.DbDataProcess(month)\n",
    "dbmanager.setParser(dbparser)\n",
    "\n",
    "#1. Carga de Data en Base de Datos\n",
    "\n",
    "#dbmanager.dbOperation('insert','tblEmpleados',ingresos) ## ok\n",
    "#dbmanager.dbOperation('insert','tblJerarquia',jerarquia) # Update para los equipos de captura quincenales ##ok mensual\n",
    "\n",
    "#dbmanager.dbOperation('insert','tblVentas',inar) ##ok mensual\n",
    "#dbmanager.dbOperation('insert','tblDeacs',deacs) ## ok mensual\n",
    "\n",
    "#dbmanager.dbOperation('insert','tblVentaSSAA',ventas_ssaa) ## ok\n",
    "#dbmanager.dbOperation('insert','tblDeacSSAA',deacs_ssaa) ## ok\n",
    "#dbmanager.dbOperation('insert','tblPaquetes',paquetes) ##ok\n",
    "\n",
    "\n",
    "#********************************************\n",
    "#2.  Update de tablas de Ventas y Deacs (deben estar en memoria)\n",
    "\n",
    "#dbmanager.dbOperation('update','Ceses', ceses) ## ok \n",
    "\n",
    "#dbmanager.dbOperation('update','Bolsas',bolsas) ## ok\n",
    "#dbmanager.dbOperation('update','SumVentaSSAA',ventas_ssaa) ## ok\n",
    "#dbmanager.dbOperation('update','Paquetes') ## ok\n",
    "\n",
    "#dbmanager.dbOperation('update','Unitarios', unitarios) #### Cargar el unitario de las comisiones previas ##  ok\n",
    "\n",
    "#dbmanager.dbOperation('update','Actividad',actividad) ##\n",
    "#dbmanager.dbOperation('update','Bases_GCP',basesgcp) ## ok\n",
    "#dbmanager.dbOperation('update','Bases_GCP_Quincenal',basesgcpquincenal) # actualizar con data quincenal\n",
    "\n",
    "#dbmanager.dbOperation('update','Bases_GCE',basesgce) # Usar a conveniencia\n",
    "\n",
    "#3. Calculando el Gross Comisión y las Reversiones (Obligatorio al final de la carga)\n",
    "#*************************************************\n",
    "start_time = time.time()\n",
    "\n",
    "#dbmanager.dbOperation('update','Gross_Comision')\n",
    "#dbmanager.dbOperation('update','Reversiones')\n",
    "\n",
    "time_consuming = (time.time() - start_time) # In minutes\n",
    "print(\"--- %s seconds ---\" % time_consuming)"
   ]
  },
  {
   "cell_type": "code",
   "execution_count": 5,
   "metadata": {
    "collapsed": false
   },
   "outputs": [
    {
     "name": "stdout",
     "output_type": "stream",
     "text": [
      "Los registros de la tabla tblGrossRules es 15 registros  \n",
      "Los registros de la tabla Gross_Comision es 44597 registros  \n",
      "Los registros de la tabla Gross_Comision es 0 registros actualizados \n"
     ]
    }
   ],
   "source": []
  },
  {
   "cell_type": "code",
   "execution_count": 30,
   "metadata": {
    "collapsed": false,
    "scrolled": true
   },
   "outputs": [
    {
     "name": "stdout",
     "output_type": "stream",
     "text": [
      "Archivo: C:/Anaconda3/MeScripts/Comisiones-python/Data/logins equivalentes.xlsx\n",
      "Hoja Importada: Similar\n",
      "El tamaño de Logins es 245 registros\n",
      "Archivo: C:/Anaconda3/MeScripts/Comisiones-python/Data/metricas conjuntas.xlsx\n",
      "Hoja Importada: reporte\n",
      "El tamaño de Metricas_conjuntas es 87 registros\n",
      "Archivo: D:/Datos de Usuario/cleon/Documents/Mercado Empresas/Comisiones Plataformas Comerciales/201810_Comisiones Plataformas Comerciales.xlsx\n",
      "Hoja Importada: Leyenda\n",
      "El tamaño de Kpis_plataformas es 129 registros\n",
      "El tamaño de Comisionantes_plataformas es 152 registros\n",
      "Archivo: D:/Datos de Usuario/cleon/Documents/Mercado Empresas/Data Fuente Comisiones/xlsx/201810_Plataformas Comerciales Panel.xlsx\n",
      "Hoja Importada: Resumen Indicadores\n",
      "Hoja Importada: Plataforma Carterizada\n",
      "Hoja Importada: Plataforma Inbound\n",
      "Hoja Importada: Plataforma Outbound\n",
      "Hoja Importada: Canales Presenciales\n",
      "El tamaño de Panel_plataformas es 9939 registros\n"
     ]
    }
   ],
   "source": [
    "# Carga de Panel de Plataformas Comerciales: \n",
    "\n",
    "# Preparación de Data : Quitar formulas y quitar pestañas ocultas. Si hay intercambio de supervisores (o nuevo supervisor) \n",
    "# actualizar logins equivalentes y metricas conjuntas\n",
    "# File : _Plataformas Comerciales Panel\n",
    "\n",
    "logins = loader.loadFile('Logins')\n",
    "metricasconjuntas = loader.loadFile('Metricas_conjuntas')\n",
    "kpispltfrs = loader.loadFile('Kpis_plataformas')\n",
    "comisionantespltfrs = loader.loadFile('Comisionantes_plataformas')\n",
    "panelpltfrs0 = loader.loadHistoricalFile('Panel_plataformas')\n",
    "periodo = loader.getPeriodo()\n",
    "\n",
    "paramspltfrs= {'tipo' : 'plataformas', 'periodo' : periodo.upper(), 'keycol': 'NOMBRES', 'logins' : logins, \n",
    "               'metricasconjuntas' : metricasconjuntas, 'kpis' : kpispltfrs, 'comisionantes' : comisionantespltfrs, \n",
    "               'cuotas' : panelpltfrs0, 'resultados' : None}\n",
    "\n",
    "panelpltfrs = loader.prepareHistoricalFiles(paramspltfrs)\n",
    "\n",
    "panelpltfrs.to_csv(posixpath.join(testpath, month + '_panelpltfrs.csv'),encoding='utf-8-sig')\n",
    "\n",
    "#\"\"\""
   ]
  },
  {
   "cell_type": "code",
   "execution_count": 23,
   "metadata": {
    "collapsed": false
   },
   "outputs": [
    {
     "name": "stdout",
     "output_type": "stream",
     "text": [
      "Hoja Importada: Similar\n",
      "El tamaño de Logins es 245 registros\n",
      "Hoja Importada: reporte\n",
      "El tamaño de Metricas_conjuntas es 87 registros\n",
      "Hoja Importada: Leyenda\n",
      "Hoja Importada: Leyenda\n",
      "Hoja Importada: Leyenda\n",
      "El tamaño de Kpis_voz es 228 registros\n",
      "El tamaño de Comisionantes_voz es 314 registros\n",
      "Hoja Importada: Churn Comisiones\n",
      "Hoja Importada: Churn Comisiones\n",
      "Hoja Importada: Churn Comisiones\n",
      "El tamaño de Churn es 422 registros\n",
      "Hoja Importada: BASE\n",
      "Hoja Importada: BASE\n",
      "El tamaño de Calidad es 125 registros\n"
     ]
    }
   ],
   "source": [
    "#Carga de Panel de voz\n",
    "#*************************\n",
    "# Agregar mes enero faltante en cuotas de GC\n",
    "# Asegúrate en colocar 0 en la cabecera de los resultados y eliminar toda la data fuera del formato\n",
    "\n",
    "\"\"\"\n",
    "logins = loader.loadFile('Logins') # ojo con tener logins duplicados. Sale errores raros\n",
    "metricasconjuntas = loader.loadFile('Metricas_conjuntas')\n",
    "kpisvoz = loader.loadFile('Kpis_voz')\n",
    "\n",
    "comisionantesvoz = loader.loadFile('Comisionantes_voz')\n",
    "#cuotasvoz = loader.loadHistoricalFile('Cuotas')\n",
    "\n",
    "\"\"\"\n",
    "\n",
    "#cuotasvoz=pd.DataFrame()\n",
    "#periodo = loader.getPeriodo()\n",
    "\n",
    "#\"\"\"\n",
    "\n",
    "#\"\"\"\n",
    "\n",
    "# Preparar los resultados antes de enviar el cerrado\n",
    "# GCE_Resultados debe tener dos o mas Hojas sino lanza error\n",
    "\n",
    "#resultadosvoz = loader.loadHistoricalFile('Resultados') # Por precaución eliminar tres columnas posteriores a dic-18.\n",
    "#resultadosvoz = pd.DataFrame()\n",
    "                                                         \n",
    "#churn = loader.loadHistoricalFile('Churn')\n",
    "#calidad = loader.loadHistoricalFile('Calidad')\n",
    "#qnp = loader.loadHistoricalFile('QNP') \n",
    "#tracking = loader.loadHistoricalFile('Tracking') # Asegurarse el nombre del kpi en resultados\n",
    "#epa = loader.loadHistoricalFile('EPA') # Asegurarse el nombre del kpi en resultados\n",
    "\n",
    "\n",
    "#resultadosvoz = resultadosvoz.append(churn, ignore_index = True)\n",
    "#resultadosvoz = resultadosvoz.append(calidad, ignore_index = True)\n",
    "#resultadosvoz = resultadosvoz.append(qnp, ignore_index = True)\n",
    "#resultadosvoz = resultadosvoz.append(tracking, ignore_index = True)\n",
    "#resultadosvoz = resultadosvoz.append(epa, ignore_index = True)\n",
    "\n",
    "#\"\"\""
   ]
  },
  {
   "cell_type": "code",
   "execution_count": 24,
   "metadata": {
    "collapsed": true,
    "scrolled": true
   },
   "outputs": [],
   "source": [
    "# Preparando la ultima data : HC, VAS\n",
    "\n",
    "#hc = loader.loadFile('HC')\n",
    "#vas = dbmanager.loadData('View_VAS_Voz')\n",
    "#vas = pd.DataFrame() # temporal mientras se arregla el código\n",
    "\n",
    "#periodo = loader.getPeriodo() # arriba se repite\n",
    "#print(periodo)\n",
    "\n",
    "\n",
    "\"\"\"\n",
    "criteria = {'VAS' : {'colgroupby' : ['GERENCIA2' , 'ZONAVENTA', 'DEPARTAMENTO', 'VENDEDOR_CROSS_SELLING'], \n",
    "                     'colsum' : 'ACCESS_REAL'},\n",
    "            'HC' : {'colfilter' : 'CARGO', 'colfilteritem' : 'CONSULTOR', 'colgroupby' : 'DATOS', 'colsum' : 'VENDEDORES'}}\n",
    "\n",
    "otherparams = {'periodo' : periodo.upper(), 'frames' : {'HC' : hc, 'VAS' : vas}, 'criteria': criteria}\n",
    "otherdfs = loader.prepareOtherPlainFiles(otherparams) \n",
    "\n",
    "\n",
    "for df in otherdfs.keys():\n",
    "    resultadosvoz = resultadosvoz.append(otherdfs[df], ignore_index = True)\n",
    "\n",
    "\"\"\"\n",
    "#resultadosvoz = pd.DataFrame() # Para test o carga de sólo cuotas\n",
    "\n",
    "\"\"\"\n",
    "paramsvoz = {'tipo' : 'voz', 'periodo' : periodo.upper(), 'keycol': 'LOGIN', 'logins' : logins, \n",
    "             'metricasconjuntas' : metricasconjuntas, 'kpis' : kpisvoz, 'comisionantes' : comisionantesvoz, \n",
    "             'cuotas' : cuotasvoz, 'resultados' : resultadosvoz}\n",
    "\n",
    "\n",
    "panelvoz = loader.prepareHistoricalFiles(paramsvoz)          \n",
    "panelvoz.to_csv(posixpath.join(testpath, month + '_panelvoz.csv'))\n",
    "\"\"\""
   ]
  },
  {
   "cell_type": "code",
   "execution_count": 5,
   "metadata": {
    "collapsed": false
   },
   "outputs": [
    {
     "name": "stdout",
     "output_type": "stream",
     "text": [
      "Los registros de la tabla View_Deacs es 2018 registros  \n",
      "--- 14.24400019645691 seconds ---\n"
     ]
    }
   ],
   "source": [
    "import time\n",
    "\n",
    "# Reportería Genereal Deprecated\n",
    "\n",
    "# ********************************************************\n",
    "# Revisar si en el file de salida hay contratos duplicados \n",
    "# En pymes no sumar access de ssaa y bolsas\n",
    "start_time = time.time()\n",
    "\n",
    "COLS = ['GERENCIA1','GERENCIA2','ZONAVENTA','SUPERVISORKAM','VENDEDOR','POSICION_EMPL','FECHA_PROCESO','ESTADO']\n",
    "\n",
    "## Revisar los contratos nulos en BD ##\n",
    "\n",
    "#ventas_procesadas = dbmanager.loadData('View_Ventas')\n",
    "#ventas_procesadas.sort(columns = COLS,ascending = [1,1,1,1,1,1,0,1], inplace = True )\n",
    "#ventas_procesadas.to_csv(posixpath.join(testpath, month + '_ventas_procesadas.csv'), index = False)\n",
    "\n",
    "#deacs_procesados = dbmanager.loadData('View_Deacs')\n",
    "#deacs_procesados.to_csv(posixpath.join(testpath, month + '_deacs_procesados.csv'), index = False)\n",
    "\n",
    "#ventas_ssaa_procesados = dbmanager.loadData('View_Ventas_SSAA')\n",
    "#ventas_ssaa_procesados.to_csv(posixpath.join(testpath, month + '_ventas_ssaa_procesados.csv'), index = False)\n",
    "\n",
    "#deacs_ssaa = dbmanager.loadData('View_Deacs_SSAA')\n",
    "#deacs_ssaa.to_csv(posixpath.join(testpath, month + '_deacs_ssaa_procesados.csv'), index = False)\n",
    "\n",
    "time_consuming = (time.time() - start_time) # In minutes\n",
    "\n",
    "print(\"--- %s seconds ---\" % time_consuming)"
   ]
  },
  {
   "cell_type": "code",
   "execution_count": null,
   "metadata": {
    "collapsed": true
   },
   "outputs": [],
   "source": []
  }
 ],
 "metadata": {
  "kernelspec": {
   "display_name": "Python 3",
   "language": "python",
   "name": "python3"
  },
  "language_info": {
   "codemirror_mode": {
    "name": "ipython",
    "version": 3
   },
   "file_extension": ".py",
   "mimetype": "text/x-python",
   "name": "python",
   "nbconvert_exporter": "python",
   "pygments_lexer": "ipython3",
   "version": "3.4.3"
  }
 },
 "nbformat": 4,
 "nbformat_minor": 1
}
