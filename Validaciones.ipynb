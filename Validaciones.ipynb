{
 "cells": [
  {
   "cell_type": "code",
   "execution_count": 1,
   "metadata": {},
   "outputs": [],
   "source": [
    "from Loader import fileloader as fl\n",
    "from Loader import datavalidator as dv\n",
    "from Loader import datahandledatabase as dhdb\n",
    "from Loader import globals\n",
    "\n",
    "month = '201810'\n",
    "testpath = 'D:/Datos de Usuario/cleon/Documents/Mercado Empresas/Data Fuente Comisiones/test/'\n",
    "defaultpath = 'D:/Datos de Usuario/cleon/Documents/Mercado Empresas/Data Fuente Comisiones/xlsx/'\n"
   ]
  },
  {
   "cell_type": "code",
   "execution_count": 2,
   "metadata": {},
   "outputs": [],
   "source": [
    "inifile = fl.ReadIniFile(globals.configini)\n",
    "parser = inifile.readFile()\n",
    "\n",
    "loader = fl.LoadFileProcess(month)\n",
    "loader.setParser(parser)\n",
    "loader.setDefaultPath(defaultpath)"
   ]
  },
  {
   "cell_type": "code",
   "execution_count": 3,
   "metadata": {},
   "outputs": [
    {
     "name": "stdout",
     "output_type": "stream",
     "text": [
      "El tamaño de Inar_bruto es 260334 registros\n",
      "Archivo: D:/Datos de Usuario/cleon/Documents/Mercado Empresas/Data Fuente Comisiones/xlsx/201810_Soporte Estructura Canales de Venta Mercado Empresa.xlsx\n",
      "Hoja Importada: JERARQUIA\n",
      "El tamaño de Jerarquia es 30975 registros\n",
      "El tamaño de Comisionantes_voz es 302 registros\n",
      "Los registros de la tabla tblEmpleados es 1008 registros  \n"
     ]
    },
    {
     "name": "stderr",
     "output_type": "stream",
     "text": [
      "C:\\Anaconda3\\lib\\site-packages\\pandas\\io\\parsers.py:1170: DtypeWarning: Columns (21) have mixed types. Specify dtype option on import or set low_memory=False.\n",
      "  data = self._reader.read(nrows)\n"
     ]
    }
   ],
   "source": [
    "# Importando la información\n",
    "# Validar en los equipos quincenales la jerarquia de ventas\n",
    "# Copiar los reportes comisionales del periodo : Grandes Cuentas y Pymes\n",
    "\n",
    "# Inar y eliminando las migraciones\n",
    "\n",
    "#\"\"\"\n",
    "inarbruto = loader.loadFile('Inar_bruto')\n",
    "jerarquia = loader.loadFile('Jerarquia')\n",
    "comisionantes = loader.loadFile('Comisionantes_voz')\n",
    "#\"\"\"\n",
    "\n",
    "inidb = fl.ReadIniFile(globals.dbconfigini)\n",
    "dbparser = inidb.readFile()\n",
    "\n",
    "dbmanager = dhdb.DbDataProcess(month)\n",
    "dbmanager.setParser(dbparser)\n",
    "tblempleados = dbmanager.loadData('tblEmpleados')"
   ]
  },
  {
   "cell_type": "code",
   "execution_count": 4,
   "metadata": {
    "scrolled": true
   },
   "outputs": [
    {
     "name": "stderr",
     "output_type": "stream",
     "text": [
      "C:\\Anaconda3\\MeScripts\\Comisiones4\\Loader\\datavalidator.py:52: SettingWithCopyWarning: \n",
      "A value is trying to be set on a copy of a slice from a DataFrame.\n",
      "Try using .loc[row_indexer,col_indexer] = value instead\n",
      "\n",
      "See the the caveats in the documentation: http://pandas.pydata.org/pandas-docs/stable/indexing.html#indexing-view-versus-copy\n",
      "  blanksdoc['OBSERVACION'] = 'blanks en documento'\n",
      "C:\\Anaconda3\\MeScripts\\Comisiones4\\Loader\\datavalidator.py:135: SettingWithCopyWarning: \n",
      "A value is trying to be set on a copy of a slice from a DataFrame.\n",
      "Try using .loc[row_indexer,col_indexer] = value instead\n",
      "\n",
      "See the the caveats in the documentation: http://pandas.pydata.org/pandas-docs/stable/indexing.html#indexing-view-versus-copy\n",
      "  conjerarquia['CONCOLSJER'] = conjerarquia.apply(lambda x : '|'.join(x), axis = 1)\n"
     ]
    },
    {
     "name": "stdout",
     "output_type": "stream",
     "text": [
      "Archivo exportado D:/Datos de Usuario/cleon/Documents/Mercado Empresas/Data Fuente Comisiones/test/201810_Validaciones en INAR.xlsx con 11 registros\n",
      "Archivo exportado D:/Datos de Usuario/cleon/Documents/Mercado Empresas/Data Fuente Comisiones/test/201810_Otras Validaciones.xlsx con 75 registros\n"
     ]
    }
   ],
   "source": [
    "# Armando las validaciones\n",
    "\n",
    "valinarfl = {'inarbruto' : inarbruto, 'jerarquia' : jerarquia, 'comisionantes' : comisionantes, 'tblempleados' : tblempleados}\n",
    "valinarobj = dv.ValidateInar(valinarfl)\n",
    "inarvalidation = valinarobj.validation()\n",
    "\n",
    "\n",
    "valmultipledatafl = {'jerarquia' : jerarquia, 'comisionantes' : comisionantes, 'tblempleados' : tblempleados}\n",
    "valmultipledataobj = dv.ValidateMultipleData(valmultipledatafl)\n",
    "multipledatavalidation = valmultipledataobj.validation()\n",
    "\n",
    "#Exportando validaciones\n",
    "\n",
    "xlsxfile1 = testpath + month + '_Validaciones en INAR.xlsx'\n",
    "exportparams = {'xlsxfile' : xlsxfile1, 'dataframe' : inarvalidation}\n",
    "valinarobj.exportValidation(exportparams)\n",
    "\n",
    "#\"\"\"\n",
    "xlsxfile2 = testpath + month + '_Otras Validaciones.xlsx'\n",
    "exportparams = {'xlsxfile' : xlsxfile2, 'dataframe' : multipledatavalidation}\n",
    "valmultipledataobj.exportValidation(exportparams)\n",
    "#\"\"\""
   ]
  },
  {
   "cell_type": "code",
   "execution_count": 6,
   "metadata": {},
   "outputs": [],
   "source": [
    "# Detectando los registros de Tienda que no tienen Orden\n",
    "str_tienda = 'Tienda'\n",
    "lst_estados = ['NEWS','ADDS','FCHURN','DEOF','REAC']\n",
    "\n",
    "mask0 = inarbruto['ESTADO'].isin(lst_estados)\n",
    "mask1 = inarbruto['NRO_ORDEN'].isnull()\n",
    "inar_f1 = inarbruto[mask0 & mask1]\n",
    "mask2 = inar_f1['VENDEDOR'].notnull()\n",
    "inar_f2 = inar_f1[mask2]\n",
    "mask3 = inar_f2['VENDEDOR'].str.contains(str_tienda)\n",
    "inar_f3 = inar_f2[mask3]\n",
    "\n",
    "#mask2 = inarbruto['VENDEDOR'].str.contains(str_tienda)\n",
    "#inar_filtrado = inarbruto[mask2]\n",
    "\n"
   ]
  },
  {
   "cell_type": "code",
   "execution_count": 7,
   "metadata": {},
   "outputs": [],
   "source": [
    "inar_f2.to_csv(testpath + 'inar_sin_orden.csv')"
   ]
  },
  {
   "cell_type": "code",
   "execution_count": null,
   "metadata": {
    "collapsed": true
   },
   "outputs": [],
   "source": []
  }
 ],
 "metadata": {
  "kernelspec": {
   "display_name": "Python 3",
   "language": "python",
   "name": "python3"
  },
  "language_info": {
   "codemirror_mode": {
    "name": "ipython",
    "version": 3
   },
   "file_extension": ".py",
   "mimetype": "text/x-python",
   "name": "python",
   "nbconvert_exporter": "python",
   "pygments_lexer": "ipython3",
   "version": "3.6.5"
  }
 },
 "nbformat": 4,
 "nbformat_minor": 1
}
