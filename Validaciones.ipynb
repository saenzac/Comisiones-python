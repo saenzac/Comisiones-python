{
 "cells": [
  {
   "cell_type": "code",
   "execution_count": 1,
   "metadata": {
    "collapsed": false
   },
   "outputs": [
    {
     "name": "stdout",
     "output_type": "stream",
     "text": [
      "Setting defaultpath as D:/Datos de Usuario/jsaenza/Documents/Comisiones/MercadoEmpresas/Data Fuente Comisiones/xlsx\n",
      "Setting testpath as D:/Datos de Usuario/jsaenza/Documents/Comisiones/MercadoEmpresas/Data Fuente Comisiones/test\n"
     ]
    }
   ],
   "source": [
    "from Loader import fileloader as fl\n",
    "from Loader import datavalidator as dv\n",
    "from Loader import datahandledatabase as dhdb\n",
    "import posixpath\n",
    "\n",
    "month = '201811'\n",
    "inifile = fl.ReadIniFile()\n",
    "defaultpath = inifile.getDefaultPath()\n",
    "testpath = inifile.getTestPath()"
   ]
  },
  {
   "cell_type": "code",
   "execution_count": 2,
   "metadata": {
    "collapsed": true
   },
   "outputs": [],
   "source": [
    "parser = inifile.getIniFileParser()\n",
    "\n",
    "loader = fl.LoadFileProcess(month)\n",
    "loader.setParser(parser)\n",
    "loader.setDefaultPath(defaultpath)"
   ]
  },
  {
   "cell_type": "code",
   "execution_count": 11,
   "metadata": {
    "collapsed": false
   },
   "outputs": [
    {
     "name": "stdout",
     "output_type": "stream",
     "text": [
      "El tamaño de Comisionantes_voz es 308 registros\n",
      "Los registros de la tabla tblEmpleados es 1049 registros  \n"
     ]
    }
   ],
   "source": [
    "# Importando la información\n",
    "# Validar en los equipos quincenales la jerarquia de ventas\n",
    "# Copiar los reportes comisionales del periodo : Grandes Cuentas y Pymes\n",
    "\n",
    "# Inar y eliminando las migraciones\n",
    "\n",
    "\n",
    "#inarbruto = loader.loadFile('Inar_bruto')\n",
    "#jerarquia = loader.loadFile('Jerarquia')\n",
    "comisionantes = loader.loadFile('Comisionantes_voz')\n",
    "\n",
    "dbparser = inifile.getDbIniFileParser()\n",
    "\n",
    "dbmanager = dhdb.DbDataProcess(month)\n",
    "dbmanager.setParser(dbparser)\n",
    "tblempleados = dbmanager.loadData('tblEmpleados')"
   ]
  },
  {
   "cell_type": "code",
   "execution_count": 12,
   "metadata": {
    "collapsed": false,
    "scrolled": true
   },
   "outputs": [
    {
     "name": "stderr",
     "output_type": "stream",
     "text": [
      "D:\\Datos de Usuario\\jsaenza\\Documents\\Comisiones\\MercadoEmpresas\\Comisiones-python\\Loader\\datavalidator.py:52: SettingWithCopyWarning: \n",
      "A value is trying to be set on a copy of a slice from a DataFrame.\n",
      "Try using .loc[row_indexer,col_indexer] = value instead\n",
      "\n",
      "See the the caveats in the documentation: http://pandas.pydata.org/pandas-docs/stable/indexing.html#indexing-view-versus-copy\n",
      "  blanksdoc['OBSERVACION'] = 'blanks en documento'\n",
      "D:\\Datos de Usuario\\jsaenza\\Documents\\Comisiones\\MercadoEmpresas\\Comisiones-python\\Loader\\datavalidator.py:135: SettingWithCopyWarning: \n",
      "A value is trying to be set on a copy of a slice from a DataFrame.\n",
      "Try using .loc[row_indexer,col_indexer] = value instead\n",
      "\n",
      "See the the caveats in the documentation: http://pandas.pydata.org/pandas-docs/stable/indexing.html#indexing-view-versus-copy\n",
      "  conjerarquia['CONCOLSJER'] = conjerarquia.apply(lambda x : '|'.join(x), axis = 1)\n"
     ]
    },
    {
     "name": "stdout",
     "output_type": "stream",
     "text": [
      "Archivo exportado D:/Datos de Usuario/jsaenza/Documents/Comisiones/MercadoEmpresas/Data Fuente Comisiones/test/201811_Validaciones en INAR.xlsx con 120 registros\n",
      "Archivo exportado D:/Datos de Usuario/jsaenza/Documents/Comisiones/MercadoEmpresas/Data Fuente Comisiones/test/201811_Otras Validaciones.xlsx con 41 registros\n"
     ]
    }
   ],
   "source": [
    "# Armando las validaciones\n",
    "\n",
    "valinarfl = {'inarbruto' : inarbruto, 'jerarquia' : jerarquia, 'comisionantes' : comisionantes, 'tblempleados' : tblempleados}\n",
    "valinarobj = dv.ValidateInar(valinarfl)\n",
    "inarvalidation = valinarobj.validation()\n",
    "\n",
    "\n",
    "valmultipledatafl = {'jerarquia' : jerarquia, 'comisionantes' : comisionantes, 'tblempleados' : tblempleados}\n",
    "valmultipledataobj = dv.ValidateMultipleData(valmultipledatafl)\n",
    "multipledatavalidation = valmultipledataobj.validation()\n",
    "\n",
    "#Exportando validaciones\n",
    "\n",
    "xlsxfile1 = posixpath.join(testpath, month + '_Validaciones en INAR.xlsx')\n",
    "exportparams = {'xlsxfile' : xlsxfile1, 'dataframe' : inarvalidation}\n",
    "valinarobj.exportValidation(exportparams)\n",
    "\n",
    "#\"\"\"\n",
    "xlsxfile2 = posixpath.join(testpath, month + '_Otras Validaciones.xlsx')\n",
    "exportparams = {'xlsxfile' : xlsxfile2, 'dataframe' : multipledatavalidation}\n",
    "valmultipledataobj.exportValidation(exportparams)\n",
    "#\"\"\""
   ]
  },
  {
   "cell_type": "code",
   "execution_count": 6,
   "metadata": {
    "collapsed": true
   },
   "outputs": [],
   "source": [
    "# Detectando los registros de Tienda que no tienen Orden\n",
    "str_tienda = 'Tienda'\n",
    "lst_estados = ['NEWS','ADDS','FCHURN','DEOF','REAC']\n",
    "\n",
    "mask0 = inarbruto['ESTADO'].isin(lst_estados)\n",
    "mask1 = inarbruto['NRO_ORDEN'].isnull()\n",
    "inar_f1 = inarbruto[mask0 & mask1]\n",
    "mask2 = inar_f1['VENDEDOR'].notnull()\n",
    "inar_f2 = inar_f1[mask2]\n",
    "mask3 = inar_f2['VENDEDOR'].str.contains(str_tienda)\n",
    "inar_f3 = inar_f2[mask3]\n",
    "\n",
    "#mask2 = inarbruto['VENDEDOR'].str.contains(str_tienda)\n",
    "#inar_filtrado = inarbruto[mask2]\n",
    "\n"
   ]
  },
  {
   "cell_type": "code",
   "execution_count": 7,
   "metadata": {
    "collapsed": true
   },
   "outputs": [],
   "source": [
    "inar_f2.to_csv(posixpath.join(testpath, 'inar_sin_orden.csv'))"
   ]
  },
  {
   "cell_type": "code",
   "execution_count": 10,
   "metadata": {
    "collapsed": false
   },
   "outputs": [
    {
     "data": {
      "text/html": [
       "<div>\n",
       "<table border=\"1\" class=\"dataframe\">\n",
       "  <thead>\n",
       "    <tr style=\"text-align: right;\">\n",
       "      <th></th>\n",
       "      <th>ID_EMPL</th>\n",
       "      <th>DNI</th>\n",
       "      <th>NOMBRES</th>\n",
       "      <th>APELLIDO_PATERNO</th>\n",
       "      <th>APELLIDO_MATERNO</th>\n",
       "      <th>POSICION_EMPL</th>\n",
       "      <th>FECHA_INGRESO</th>\n",
       "      <th>FECHA_ACTUALIZACION</th>\n",
       "      <th>PERIODO_ACTIVACION</th>\n",
       "      <th>CODIGO_INAR</th>\n",
       "      <th>FECHA_CESE</th>\n",
       "    </tr>\n",
       "  </thead>\n",
       "  <tbody>\n",
       "    <tr>\n",
       "      <th>817</th>\n",
       "      <td>4482</td>\n",
       "      <td>44609011</td>\n",
       "      <td>RICHARD</td>\n",
       "      <td>PAZ LOAYZA</td>\n",
       "      <td></td>\n",
       "      <td>EJECUTIVO DE CORPORACIONES</td>\n",
       "      <td>2018-11-01 00:00:00</td>\n",
       "      <td>2017-11-02 09:08:42</td>\n",
       "      <td>201710</td>\n",
       "      <td>RPAZ2</td>\n",
       "      <td></td>\n",
       "    </tr>\n",
       "  </tbody>\n",
       "</table>\n",
       "</div>"
      ],
      "text/plain": [
       "     ID_EMPL       DNI  NOMBRES APELLIDO_PATERNO APELLIDO_MATERNO  \\\n",
       "817     4482  44609011  RICHARD       PAZ LOAYZA                    \n",
       "\n",
       "                  POSICION_EMPL        FECHA_INGRESO  FECHA_ACTUALIZACION  \\\n",
       "817  EJECUTIVO DE CORPORACIONES  2018-11-01 00:00:00  2017-11-02 09:08:42   \n",
       "\n",
       "     PERIODO_ACTIVACION CODIGO_INAR FECHA_CESE  \n",
       "817              201710       RPAZ2             "
      ]
     },
     "execution_count": 10,
     "metadata": {},
     "output_type": "execute_result"
    }
   ],
   "source": [
    "tblempleados[tblempleados['CODIGO_INAR'] == 'RPAZ2']"
   ]
  },
  {
   "cell_type": "code",
   "execution_count": null,
   "metadata": {
    "collapsed": true
   },
   "outputs": [],
   "source": []
  },
  {
   "cell_type": "code",
   "execution_count": null,
   "metadata": {
    "collapsed": true
   },
   "outputs": [],
   "source": []
  },
  {
   "cell_type": "code",
   "execution_count": 8,
   "metadata": {
    "collapsed": false
   },
   "outputs": [
    {
     "data": {
      "text/plain": [
       "ID_EMPL                 int64\n",
       "DNI                    object\n",
       "NOMBRES                object\n",
       "APELLIDO_PATERNO       object\n",
       "APELLIDO_MATERNO       object\n",
       "POSICION_EMPL          object\n",
       "FECHA_INGRESO          object\n",
       "FECHA_ACTUALIZACION    object\n",
       "PERIODO_ACTIVACION      int64\n",
       "CODIGO_INAR            object\n",
       "FECHA_CESE             object\n",
       "dtype: object"
      ]
     },
     "execution_count": 8,
     "metadata": {},
     "output_type": "execute_result"
    }
   ],
   "source": [
    "tblempleados.dtypes"
   ]
  },
  {
   "cell_type": "code",
   "execution_count": null,
   "metadata": {
    "collapsed": true
   },
   "outputs": [],
   "source": []
  },
  {
   "cell_type": "code",
   "execution_count": null,
   "metadata": {
    "collapsed": true
   },
   "outputs": [],
   "source": []
  }
 ],
 "metadata": {
  "kernelspec": {
   "display_name": "Python 3",
   "language": "python",
   "name": "python3"
  },
  "language_info": {
   "codemirror_mode": {
    "name": "ipython",
    "version": 3
   },
   "file_extension": ".py",
   "mimetype": "text/x-python",
   "name": "python",
   "nbconvert_exporter": "python",
   "pygments_lexer": "ipython3",
   "version": "3.4.3"
  }
 },
 "nbformat": 4,
 "nbformat_minor": 1
}
