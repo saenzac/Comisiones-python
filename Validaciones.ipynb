{
 "cells": [
  {
   "cell_type": "code",
   "execution_count": 1,
   "metadata": {
    "collapsed": false
   },
   "outputs": [],
   "source": [
    "from Loader import fileloader as fl\n",
    "from Loader import datavalidator as dv\n",
    "from Loader import datahandledatabase as dhdb\n",
    "\n",
    "month = '201809'\n",
    "testpath = 'D:/Datos de Usuario/cleon/Documents/Mercado Empresas/Data Fuente Comisiones/test/'\n",
    "defaultpath = 'D:/Datos de Usuario/cleon/Documents/Mercado Empresas/Data Fuente Comisiones/xlsx/'\n"
   ]
  },
  {
   "cell_type": "code",
   "execution_count": 2,
   "metadata": {
    "collapsed": false
   },
   "outputs": [],
   "source": [
    "inifile = fl.ReadIniFile('C:/Anaconda3/MeScripts/Comisiones4/Config/myconfig.ini')\n",
    "parser = inifile.readFile()\n",
    "\n",
    "loader = fl.LoadFileProcess(month)\n",
    "loader.setParser(parser)\n",
    "loader.setDefaultPath(defaultpath)"
   ]
  },
  {
   "cell_type": "code",
   "execution_count": 3,
   "metadata": {
    "collapsed": false
   },
   "outputs": [
    {
     "name": "stdout",
     "output_type": "stream",
     "text": [
      "El tamaño de Inar_bruto es 215177 registros\n",
      "Hoja Importada: JERARQUIA\n",
      "El tamaño de Jerarquia es 30725 registros\n",
      "El tamaño de Comisionantes_voz es 314 registros\n",
      "Los registros de la tabla tblEmpleados es 994 registros  \n"
     ]
    }
   ],
   "source": [
    "# Importando la información\n",
    "# Validar en los equipos quincenales la jerarquia de ventas\n",
    "# Copiar los reportes comisionales del periodo : Grandes Cuentas y Pymes\n",
    "\n",
    "# Inar y eliminando las migraciones\n",
    "\n",
    "#\"\"\"\n",
    "inarbruto = loader.loadFile('Inar_bruto')\n",
    "jerarquia = loader.loadFile('Jerarquia')\n",
    "comisionantes = loader.loadFile('Comisionantes_voz')\n",
    "#\"\"\"\n",
    "\n",
    "inidb = fl.ReadIniFile('C:/Anaconda3/MeScripts/Comisiones4/Config/mydbconfig.ini')\n",
    "dbparser = inidb.readFile()\n",
    "\n",
    "dbmanager = dhdb.DbDataProcess(month)\n",
    "dbmanager.setParser(dbparser)\n",
    "tblempleados = dbmanager.loadData('tblEmpleados')"
   ]
  },
  {
   "cell_type": "code",
   "execution_count": 4,
   "metadata": {
    "collapsed": false,
    "scrolled": true
   },
   "outputs": [
    {
     "name": "stderr",
     "output_type": "stream",
     "text": [
      "C:\\Anaconda3\\MeScripts\\Comisiones4\\Loader\\datavalidator.py:52: SettingWithCopyWarning: \n",
      "A value is trying to be set on a copy of a slice from a DataFrame.\n",
      "Try using .loc[row_indexer,col_indexer] = value instead\n",
      "\n",
      "See the the caveats in the documentation: http://pandas.pydata.org/pandas-docs/stable/indexing.html#indexing-view-versus-copy\n",
      "  blanksdoc['OBSERVACION'] = 'blanks en documento'\n",
      "C:\\Anaconda3\\MeScripts\\Comisiones4\\Loader\\datavalidator.py:57: SettingWithCopyWarning: \n",
      "A value is trying to be set on a copy of a slice from a DataFrame.\n",
      "Try using .loc[row_indexer,col_indexer] = value instead\n",
      "\n",
      "See the the caveats in the documentation: http://pandas.pydata.org/pandas-docs/stable/indexing.html#indexing-view-versus-copy\n",
      "  blanksvendedor['OBSERVACION'] = 'blanks en vendedor o zona'\n"
     ]
    },
    {
     "name": "stdout",
     "output_type": "stream",
     "text": [
      "Archivo exportado D:/Datos de Usuario/cleon/Documents/Mercado Empresas/Data Fuente Comisiones/test/201809_Validaciones en INAR.xlsx con 319 registros\n",
      "Archivo exportado D:/Datos de Usuario/cleon/Documents/Mercado Empresas/Data Fuente Comisiones/test/201809_Otras Validaciones.xlsx con 45 registros\n"
     ]
    },
    {
     "name": "stderr",
     "output_type": "stream",
     "text": [
      "C:\\Anaconda3\\MeScripts\\Comisiones4\\Loader\\datavalidator.py:135: SettingWithCopyWarning: \n",
      "A value is trying to be set on a copy of a slice from a DataFrame.\n",
      "Try using .loc[row_indexer,col_indexer] = value instead\n",
      "\n",
      "See the the caveats in the documentation: http://pandas.pydata.org/pandas-docs/stable/indexing.html#indexing-view-versus-copy\n",
      "  conjerarquia['CONCOLSJER'] = conjerarquia.apply(lambda x : '|'.join(x), axis = 1)\n"
     ]
    }
   ],
   "source": [
    "# Armando las validaciones\n",
    "\n",
    "valinarfl = {'inarbruto' : inarbruto, 'jerarquia' : jerarquia, 'comisionantes' : comisionantes, 'tblempleados' : tblempleados}\n",
    "valinarobj = dv.ValidateInar(valinarfl)\n",
    "inarvalidation = valinarobj.validation()\n",
    "\n",
    "\n",
    "valmultipledatafl = {'jerarquia' : jerarquia, 'comisionantes' : comisionantes, 'tblempleados' : tblempleados}\n",
    "valmultipledataobj = dv.ValidateMultipleData(valmultipledatafl)\n",
    "multipledatavalidation = valmultipledataobj.validation()\n",
    "\n",
    "#Exportando validaciones\n",
    "\n",
    "xlsxfile1 = testpath + month + '_Validaciones en INAR.xlsx'\n",
    "exportparams = {'xlsxfile' : xlsxfile1, 'dataframe' : inarvalidation}\n",
    "valinarobj.exportValidation(exportparams)\n",
    "\n",
    "#\"\"\"\n",
    "xlsxfile2 = testpath + month + '_Otras Validaciones.xlsx'\n",
    "exportparams = {'xlsxfile' : xlsxfile2, 'dataframe' : multipledatavalidation}\n",
    "valmultipledataobj.exportValidation(exportparams)\n",
    "#\"\"\""
   ]
  },
  {
   "cell_type": "code",
   "execution_count": 6,
   "metadata": {
    "collapsed": false
   },
   "outputs": [],
   "source": [
    "# Detectando los registros de Tienda que no tienen Orden\n",
    "str_tienda = 'Tienda'\n",
    "lst_estados = ['NEWS','ADDS','FCHURN','DEOF','REAC']\n",
    "\n",
    "mask0 = inarbruto['ESTADO'].isin(lst_estados)\n",
    "mask1 = inarbruto['NRO_ORDEN'].isnull()\n",
    "inar_f1 = inarbruto[mask0 & mask1]\n",
    "mask2 = inar_f1['VENDEDOR'].notnull()\n",
    "inar_f2 = inar_f1[mask2]\n",
    "mask3 = inar_f2['VENDEDOR'].str.contains(str_tienda)\n",
    "inar_f3 = inar_f2[mask3]\n",
    "\n",
    "#mask2 = inarbruto['VENDEDOR'].str.contains(str_tienda)\n",
    "#inar_filtrado = inarbruto[mask2]\n",
    "\n"
   ]
  },
  {
   "cell_type": "code",
   "execution_count": 7,
   "metadata": {
    "collapsed": false
   },
   "outputs": [],
   "source": [
    "inar_f2.to_csv(testpath + 'inar_sin_orden.csv')"
   ]
  },
  {
   "cell_type": "code",
   "execution_count": null,
   "metadata": {
    "collapsed": true
   },
   "outputs": [],
   "source": []
  }
 ],
 "metadata": {
  "kernelspec": {
   "display_name": "Python 3",
   "language": "python",
   "name": "python3"
  },
  "language_info": {
   "codemirror_mode": {
    "name": "ipython",
    "version": 3
   },
   "file_extension": ".py",
   "mimetype": "text/x-python",
   "name": "python",
   "nbconvert_exporter": "python",
   "pygments_lexer": "ipython3",
   "version": "3.4.3"
  }
 },
 "nbformat": 4,
 "nbformat_minor": 0
}
