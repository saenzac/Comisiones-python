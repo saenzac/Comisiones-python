{
 "cells": [
  {
   "cell_type": "code",
   "execution_count": 1,
   "metadata": {},
   "outputs": [
    {
     "name": "stderr",
     "output_type": "stream",
     "text": [
      "DEBUG:    Values loaded from globals.ini:\n",
      "DEBUG:    Values loaded from globals.ini:\n",
      "DEBUG:     * datapath /Users/johnnysaenz/OneDrive - Entel Peru S.A/MercadoEmpresas\n",
      "DEBUG:     * datapath /Users/johnnysaenz/OneDrive - Entel Peru S.A/MercadoEmpresas\n",
      "DEBUG:     * scriptspath /Users/johnnysaenz/Developer/Comisiones-python\n",
      "DEBUG:     * scriptspath /Users/johnnysaenz/Developer/Comisiones-python\n",
      "DEBUG:     * databasepath /Users/johnnysaenz/Documents/Comisiones/Mercado Empresas/SQLiteDB\n",
      "DEBUG:     * databasepath /Users/johnnysaenz/Documents/Comisiones/Mercado Empresas/SQLiteDB\n",
      "DEBUG:    defaultpath value is /Users/johnnysaenz/OneDrive - Entel Peru S.A/MercadoEmpresas/Data Fuente Comisiones/xlsx\n",
      "DEBUG:    defaultpath value is /Users/johnnysaenz/OneDrive - Entel Peru S.A/MercadoEmpresas/Data Fuente Comisiones/xlsx\n",
      "DEBUG:    testpath value is /Users/johnnysaenz/OneDrive - Entel Peru S.A/MercadoEmpresas/Data Fuente Comisiones/test\n",
      "DEBUG:    testpath value is /Users/johnnysaenz/OneDrive - Entel Peru S.A/MercadoEmpresas/Data Fuente Comisiones/test\n"
     ]
    }
   ],
   "source": [
    "from Loader import fileloader as fl\n",
    "from Loader import datavalidator as dv\n",
    "from Loader import datahandledatabase as dhdb\n",
    "import posixpath\n",
    "\n",
    "month = '201812'\n",
    "inifile = fl.ReadIniFile()\n",
    "defaultpath = inifile.getDefaultPath()\n",
    "testpath = inifile.getTestPath()"
   ]
  },
  {
   "cell_type": "code",
   "execution_count": 2,
   "metadata": {},
   "outputs": [],
   "source": [
    "parser = inifile.getIniFileParser()\n",
    "\n",
    "loader = fl.LoadFileProcess(month)\n",
    "loader.setParser(parser)\n",
    "loader.setDefaultPath(defaultpath)"
   ]
  },
  {
   "cell_type": "code",
   "execution_count": 3,
   "metadata": {},
   "outputs": [
    {
     "name": "stdout",
     "output_type": "stream",
     "text": [
      "Archivo: /Users/johnnysaenz/OneDrive - Entel Peru S.A/MercadoEmpresas/Data Fuente Comisiones/xlsx/201812_Soporte Estructura Inicios Diciembre.xlsx\n",
      "Hoja Importada: JERARQUIA\n",
      "El tamaño de Jerarquia es 11596 registros\n",
      "El tamaño de Comisionantes_voz es 316 registros\n",
      "Also setting database database path to /Users/johnnysaenz/Documents/Comisiones/Mercado Empresas/SQLiteDB/mercado_empresas_db.sqlite\n",
      "Los registros de la tabla tblEmpleados es 1060 registros  \n"
     ]
    }
   ],
   "source": [
    "# Importando la información\n",
    "# Validar en los equipos quincenales la jerarquia de ventas\n",
    "# Copiar los reportes comisionales del periodo : Grandes Cuentas y Pymes\n",
    "\n",
    "# Inar y eliminando las migraciones\n",
    "\n",
    "\n",
    "#inarbruto = loader.loadFile('Inar_bruto')\n",
    "jerarquia = loader.loadFile('Jerarquia')\n",
    "comisionantes = loader.loadFile('Comisionantes_voz')\n",
    "\n",
    "dbparser = inifile.getDbIniFileParser()\n",
    "\n",
    "dbmanager = dhdb.DbDataProcess(month)\n",
    "dbmanager.setParser(dbparser)\n",
    "tblempleados = dbmanager.loadData('tblEmpleados')"
   ]
  },
  {
   "cell_type": "code",
   "execution_count": 4,
   "metadata": {
    "scrolled": true
   },
   "outputs": [
    {
     "name": "stdout",
     "output_type": "stream",
     "text": [
      "Archivo exportado /Users/johnnysaenz/OneDrive - Entel Peru S.A/MercadoEmpresas/Data Fuente Comisiones/test/201812_Otras Validaciones.xlsx con 60 registros\n"
     ]
    },
    {
     "name": "stderr",
     "output_type": "stream",
     "text": [
      "/Users/johnnysaenz/Developer/Comisiones-python/Loader/datavalidator.py:136: SettingWithCopyWarning: \n",
      "A value is trying to be set on a copy of a slice from a DataFrame.\n",
      "Try using .loc[row_indexer,col_indexer] = value instead\n",
      "\n",
      "See the caveats in the documentation: http://pandas.pydata.org/pandas-docs/stable/indexing.html#indexing-view-versus-copy\n",
      "  conjerarquia['CONCOLSJER'] = conjerarquia.apply(lambda x : '|'.join(x), axis = 1)\n",
      "/Users/johnnysaenz/anaconda3/lib/python3.7/site-packages/pandas/core/frame.py:6211: FutureWarning: Sorting because non-concatenation axis is not aligned. A future version\n",
      "of pandas will change to not sort by default.\n",
      "\n",
      "To accept the future behavior, pass 'sort=False'.\n",
      "\n",
      "To retain the current behavior and silence the warning, pass 'sort=True'.\n",
      "\n",
      "  sort=sort)\n"
     ]
    }
   ],
   "source": [
    "# Armando las validaciones\n",
    "\n",
    "#valinarfl = {'inarbruto' : inarbruto, 'jerarquia' : jerarquia, 'comisionantes' : comisionantes, 'tblempleados' : tblempleados}\n",
    "#valinarobj = dv.ValidateInar(valinarfl)\n",
    "#inarvalidation = valinarobj.validation()\n",
    "\n",
    "valmultipledatafl = {'jerarquia' : jerarquia, 'comisionantes' : comisionantes, 'tblempleados' : tblempleados}\n",
    "valmultipledataobj = dv.ValidateMultipleData(valmultipledatafl)\n",
    "multipledatavalidation = valmultipledataobj.validation()\n",
    "\n",
    "#Exportando validaciones\n",
    "\n",
    "#xlsxfile1 = posixpath.join(testpath, month + '_Validaciones en INAR.xlsx')\n",
    "#exportparams = {'xlsxfile' : xlsxfile1, 'dataframe' : inarvalidation}\n",
    "#valinarobj.exportValidation(exportparams)\n",
    "\n",
    "#\"\"\"\n",
    "xlsxfile2 = posixpath.join(testpath, month + '_Otras Validaciones.xlsx')\n",
    "exportparams = {'xlsxfile' : xlsxfile2, 'dataframe' : multipledatavalidation}\n",
    "valmultipledataobj.exportValidation(exportparams)\n",
    "#\"\"\""
   ]
  },
  {
   "cell_type": "code",
   "execution_count": null,
   "metadata": {},
   "outputs": [],
   "source": [
    "# Detectando los registros de Tienda que no tienen Orden\n",
    "str_tienda = 'Tienda'\n",
    "lst_estados = ['NEWS','ADDS','FCHURN','DEOF','REAC']\n",
    "\n",
    "mask0 = inarbruto['ESTADO'].isin(lst_estados)\n",
    "mask1 = inarbruto['NRO_ORDEN'].isnull()\n",
    "inar_f1 = inarbruto[mask0 & mask1]\n",
    "mask2 = inar_f1['VENDEDOR'].notnull()\n",
    "inar_f2 = inar_f1[mask2]\n",
    "mask3 = inar_f2['VENDEDOR'].str.contains(str_tienda)\n",
    "inar_f3 = inar_f2[mask3]\n",
    "\n",
    "#mask2 = inarbruto['VENDEDOR'].str.contains(str_tienda)\n",
    "#inar_filtrado = inarbruto[mask2]\n",
    "\n"
   ]
  },
  {
   "cell_type": "code",
   "execution_count": null,
   "metadata": {},
   "outputs": [],
   "source": [
    "inar_f2.to_csv(posixpath.join(testpath, 'inar_sin_orden.csv'))"
   ]
  },
  {
   "cell_type": "code",
   "execution_count": null,
   "metadata": {},
   "outputs": [],
   "source": [
    "tblempleados[tblempleados['CODIGO_INAR'] == 'RPAZ2']"
   ]
  },
  {
   "cell_type": "code",
   "execution_count": null,
   "metadata": {},
   "outputs": [],
   "source": [
    "# Archivos para Sherman\n",
    "exportar = False\n",
    "if exportar:\n",
    "    df1 = inarbruto[:500000]\n",
    "    df2 = inarbruto[500001:]\n",
    "    df1.to_csv(testpath + month + '_sherman1.csv', index = False)\n",
    "    df2.to_csv(testpath + month + '_sherman2.csv', index = False)"
   ]
  },
  {
   "cell_type": "code",
   "execution_count": null,
   "metadata": {},
   "outputs": [],
   "source": [
    "inarbruto[inarbruto['CONTRATO'] == 43035266]\n",
    "#inarbruto[inarbruto['codigo'] == '1.10108190']\n",
    "#inarvalidation[inarvalidation['contrato'] == 37838662]"
   ]
  },
  {
   "cell_type": "code",
   "execution_count": null,
   "metadata": {},
   "outputs": [],
   "source": [
    "tblempleados.dtypes"
   ]
  },
  {
   "cell_type": "code",
   "execution_count": null,
   "metadata": {},
   "outputs": [],
   "source": []
  },
  {
   "cell_type": "code",
   "execution_count": null,
   "metadata": {},
   "outputs": [],
   "source": []
  }
 ],
 "metadata": {
  "kernelspec": {
   "display_name": "Python 3",
   "language": "python",
   "name": "python3"
  },
  "language_info": {
   "codemirror_mode": {
    "name": "ipython",
    "version": 3
   },
   "file_extension": ".py",
   "mimetype": "text/x-python",
   "name": "python",
   "nbconvert_exporter": "python",
   "pygments_lexer": "ipython3",
   "version": "3.7.1"
  }
 },
 "nbformat": 4,
 "nbformat_minor": 1
}
