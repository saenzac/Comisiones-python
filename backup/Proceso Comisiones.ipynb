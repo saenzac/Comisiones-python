{
 "cells": [
  {
   "cell_type": "code",
   "execution_count": 1,
   "metadata": {
    "collapsed": false
   },
   "outputs": [],
   "source": [
    "from Loader import fileloader as fl\n",
    "from Loader import datahandledatabase as dhdb\n",
    "from Loader import datacompute as dc\n",
    "from Loader import datapreparation as dp\n",
    "import pandas as pd\n",
    "import numpy as np\n",
    "from datetime import datetime\n",
    "\n",
    "month = '201710'\n",
    "testpath = 'D:/Datos de Usuario/cleon/Documents/Capital Humano/Data Fuente Comisiones/test/'\n",
    "defaultpath = 'D:/Datos de Usuario/cleon/Documents/Capital Humano/Data Fuente Comisiones/xlsx/'\n",
    "#/meses previos/201708"
   ]
  },
  {
   "cell_type": "code",
   "execution_count": 2,
   "metadata": {
    "collapsed": false,
    "scrolled": true
   },
   "outputs": [],
   "source": [
    "# Configurando los archivos de configuración para importar archivos tipo : xlsx, txt, ini\n",
    "\n",
    "inifile = fl.ReadIniFile('C:/Anaconda3/MeScripts/Comisiones4/Config/myconfig.ini')\n",
    "parser = inifile.readFile()\n",
    "\n",
    "loader = fl.LoadFileProcess(month)\n",
    "loader.setParser(parser)\n",
    "loader.setDefaultPath(defaultpath)\n",
    "\n",
    "# Importante en Carga : todas las columnas a importar deben tener data\n",
    "# Asegurate que el directorio donde está el archivo este correcto\n",
    "# Asegurate que no haya pestañas ocultas en GCP ni Pltaformas. \n",
    "# Base comisiones sólo tiene una pestaña\n",
    "# Asegurate que la columna Cedente en INAR este completa totalmente\n",
    "# En Base comisiones GCP partir en dos periodos para el esquema quincenal\n",
    "\n",
    "# Para importar jerarquia revisa esto : poner el código que importe sin '_' y zonaventa. revisar carga \n",
    "# en bd de Ñ jerarquia debe reemplazar la data en la tabla\n",
    "\n",
    "#ingresos = loader.loadFile('Ingresos')\n",
    "#ceses = loader.loadFile('Ceses')\n",
    "#jerarquia = loader.loadFile('Jerarquia')\n",
    "#unitarios = loader.loadFile('Unitarios')\n",
    "\n",
    "#inar = loader.loadFile('Inar') \n",
    "#deacs = loader.loadFile('Deacs') # completar dos columnas adicionales, verificar el tipo de fechas\n",
    "#ventas_ssaa = loader.loadFile('Ventas_SSAA')\n",
    "#deacs_ssaa = loader.loadFile('Deacs_SSAA')\n",
    "#paquetes = loader.loadFile('Paquetes')\n",
    "#ajustes = loader.loadFile('Ajustes')\n",
    "#migras = loader.loadFile('Migras')\n",
    "\n",
    "#bolsas = loader.loadFile('Bolsas')\n",
    "#SSAAvendedorpyme = loader.loadFile('SSAA_Vendedor_Pyme') # asegurate la columna vendedor_cross_selling\n",
    "#actividad = loader.loadFile('Actividad') # verificar el formato de fechas\n",
    "#basesgcp = loader.loadFile('Bases_GCP') # verificar el formato de fechas\n",
    "#basesgce = loader.loadFile('Bases_GCE') # verificar el formato de fechas\n",
    "\n",
    "#basesgcpquincenal = loader.loadFile('Bases_GCP_Quincenal') # cambia el factor en quincenal"
   ]
  },
  {
   "cell_type": "code",
   "execution_count": 3,
   "metadata": {
    "collapsed": false
   },
   "outputs": [],
   "source": [
    "# Configurando los archivos de configuración para administrar la base de datos\n",
    "\n",
    "inidb = fl.ReadIniFile('C:/Anaconda3/MeScripts/Comisiones4/Config/mydbconfig.ini')\n",
    "dbparser = inidb.readFile()\n",
    "\n",
    "dbmanager = dhdb.DbDataProcess(month)\n",
    "dbmanager.setParser(dbparser)\n",
    "\n",
    "# Carga de Data en Base de Datos\n",
    "\n",
    "#dbmanager.dbOperation('insert','tblEmpleados',ingresos)\n",
    "#dbmanager.dbOperation('insert','tblJerarquia',jerarquia)\n",
    "\n",
    "#dbmanager.dbOperation('insert','tblVentas',inar)\n",
    "#dbmanager.dbOperation('insert','tblDeacs',deacs)\n",
    "#dbmanager.dbOperation('insert','tblVentaSSAA',ventas_ssaa)\n",
    "#dbmanager.dbOperation('insert','tblDeacSSAA',deacs_ssaa)\n",
    "#dbmanager.dbOperation('insert','tblPaquetes',paquetes)\n",
    "\n",
    "#dbmanager.dbOperation(migras)\n",
    "\n",
    "#********************************************\n",
    "# Update de tablas de Ventas y Deacs\n",
    "\n",
    "#dbmanager.dbOperation('update','Ceses', ceses)\n",
    "#dbmanager.dbOperation('update','Unitarios', unitarios)\n",
    "\n",
    "#dbmanager.dbOperation('update','Bolsas',bolsas)\n",
    "#dbmanager.dbOperation('update','SumVentaSSAA',ventas_ssaa)\n",
    "\n",
    "#dbmanager.dbOperation(ajustes)\n",
    "\n",
    "#dbmanager.dbOperation('update','Cross_Selling', SSAAvendedorpyme)\n",
    "#dbmanager.dbOperation('update','Actividad',actividad)\n",
    "#dbmanager.dbOperation('update','Bases_GCP',basesgcp)\n",
    "#dbmanager.dbOperation('update','Bases_GCE',basesgce)\n",
    "\n",
    "#dbmanager.dbOperation('update','Bases_GCP_Quincenal',basesgcpquincenal) \n",
    "\n",
    "#dbmanager.dbOperation('update','Paquetes')\n",
    "#dbmanager.dbOperation('update','Gross_Comision')\n",
    "#dbmanager.dbOperation('update','Reversiones')"
   ]
  },
  {
   "cell_type": "code",
   "execution_count": 4,
   "metadata": {
    "collapsed": false
   },
   "outputs": [
    {
     "name": "stdout",
     "output_type": "stream",
     "text": [
      "Los registros de la tabla View_Deacs es 632 registros  \n"
     ]
    }
   ],
   "source": [
    "#Exportando información para plantillas excel\n",
    "\n",
    "# ********************************************************\n",
    "# Revisar si en el file de salida hay contratos duplicados \n",
    "# En pymes no sumar access de ssaa y bolsas\n",
    "\n",
    "## Revisar los contratos nulos en BD ##\n",
    "\n",
    "#ventas_procesadas = dbmanager.loadData('View_Ventas')\n",
    "deacs_procesados = dbmanager.loadData('View_Deacs')\n",
    "#migras_procesados = dbmanager.loadData('View_Migras')\n",
    "\n",
    "#ventas_procesadas.to_csv(testpath + month + '_ventas_procesadas.csv', index = False)\n",
    "deacs_procesados.to_csv(testpath + month + '_deacs_procesados.csv', index = False)\n",
    "#ventas_ssaa_procesados.to_csv(testpath + month + '_ventas_ssaa_procesados.csv', index = False)\n",
    "#deacs_ssaa_pymes_procesados.to_csv(testpath + month + '_deacs_ssaa_pymes_procesados.csv', index = False)\n",
    "#migras_procesados.to_csv(testpath + month + '_migras_procesados.csv', index = False)"
   ]
  },
  {
   "cell_type": "code",
   "execution_count": 5,
   "metadata": {
    "collapsed": false,
    "scrolled": true
   },
   "outputs": [
    {
     "name": "stdout",
     "output_type": "stream",
     "text": [
      "El tamaño de Logins es 224 registros\n",
      "El tamaño de Metricas_conjuntas es 66 registros\n",
      "El tamaño de Kpis_voz es 201 registros\n",
      "El tamaño de Comisionantes_voz es 327 registros\n",
      "El tamaño de Cuotas es 849 registros\n",
      "El tamaño de Resultados es 100 registros\n",
      "El tamaño de Churn es 375 registros\n",
      "El tamaño de Calidad es 153 registros\n",
      "El tamaño de EPA es 63 registros\n"
     ]
    }
   ],
   "source": [
    "# Carga de Panel de Cuotas y Panel de Plataformas\n",
    "\n",
    "#Carga de Panel de voz\n",
    "#*************************\n",
    "# Agregar mes enero faltante en cuotas de GC\n",
    "# Asegúrate en colocar 0 en la cabecera de los resultados y eliminar toda la data fuera del formato\n",
    "\n",
    "#\"\"\"\n",
    "logins = loader.loadFile('Logins') # ojo con tener logins duplicados. Sale errores raros\n",
    "metricasconjuntas = loader.loadFile('Metricas_conjuntas')\n",
    "\n",
    "kpisvoz = loader.loadFile('Kpis_voz')\n",
    "comisionantesvoz = loader.loadFile('Comisionantes_voz')\n",
    "\n",
    "cuotasvoz = loader.loadHistoricalFile('Cuotas')\n",
    "\n",
    "# Preparar los resultados antes de enviar el cerrado\n",
    "\n",
    "resultadosvoz = loader.loadHistoricalFile('Resultados') \n",
    "churn = loader.loadHistoricalFile('Churn')\n",
    "calidad = loader.loadHistoricalFile('Calidad')\n",
    "epa = loader.loadHistoricalFile('EPA')\n",
    "resultadosvoz = resultadosvoz.append(churn, ignore_index = True)\n",
    "resultadosvoz = resultadosvoz.append(calidad, ignore_index = True)\n",
    "resultadosvoz = resultadosvoz.append(epa, ignore_index = True)\n",
    "\n",
    "#\"\"\"\n",
    "\n",
    "# Preparando la ultima data : TNP, HC, Tracking, RAS, View_Ventas_SSAAView_Deacss_SSAA\n",
    "\n",
    "#tnp = loader.loadHistoricalFile('TNP', 'may-17') # para periodo ago-17 --> may-17\n",
    "#tracking = loader.loadHistoricalFile('Tracking')\n",
    "#hc = loader.loadFile('HC')\n",
    "#ras = loader.loadfile('RAS')\n",
    "#ventaSSAA = dbmanager.loadData('View_Ventas_SSAA')\n",
    "#deacSSAA = dbmanager.loadData('View_Deacss_SSAA')\n",
    "\n",
    "#params = {'sections':['HC','Tracking'], 'HC' : hc, 'Tracking' : tracking }\n",
    "#otherdfs = loader.prepareOtherPlainFiles(params) #hcparams\n",
    "\n",
    "#ventaSSAAparams = {'section' : 'View_Ventas_SSAA', 'colfilter' : 'cargo', 'item' : 'CONSULTOR', 'colgroupby' : 'dpto', \n",
    "#'periodo' : periodo}\n",
    "\n",
    "#\"\"\"\n",
    "\n",
    "periodo = loader.getPeriodo()\n",
    "paramsvoz = {'tipo' : 'voz', 'periodo' : periodo, 'keycol': 'login', 'logins' : logins, 'metricasconjuntas' : metricasconjuntas, \n",
    "             'kpis' : kpisvoz, 'comisionantes' : comisionantesvoz, 'cuotas' : cuotasvoz, 'resultados' : resultadosvoz}\n",
    "\n",
    "panelvoz = loader.prepareHistoricalFiles(paramsvoz)          \n",
    "panelvoz.to_csv(testpath + month + '_panelvoz.csv')\n",
    "#\"\"\""
   ]
  },
  {
   "cell_type": "code",
   "execution_count": 8,
   "metadata": {
    "collapsed": false,
    "scrolled": false
   },
   "outputs": [
    {
     "name": "stdout",
     "output_type": "stream",
     "text": [
      "El tamaño de Logins es 223 registros\n",
      "El tamaño de Metricas_conjuntas es 66 registros\n",
      "El tamaño de Kpis_plataformas es 153 registros\n",
      "El tamaño de Comisionantes_plataformas es 155 registros\n",
      "El tamaño de Panel_plataformas es 6638 registros\n"
     ]
    }
   ],
   "source": [
    "# Carga de Panel de Plataformas: quitar formulas en hojas. Quitar columna Total. Quitar pestañas ocultas.\n",
    "# Si hay intercambio de supervisores (o nuevo supervisor) actualizar logins equivalentes y metricas conjuntas\n",
    "\n",
    "\"\"\"\n",
    "logins = loader.loadFile('Logins')\n",
    "metricasconjuntas = loader.loadFile('Metricas_conjuntas')\n",
    "kpispltfrs = loader.loadFile('Kpis_plataformas')\n",
    "comisionantespltfrs = loader.loadFile('Comisionantes_plataformas')\n",
    "panelpltfrs0 = loader.loadHistoricalFile('Panel_plataformas')\n",
    "periodo = loader.getPeriodo()\n",
    "\n",
    "\n",
    "paramspltfrs= {'tipo' : 'plataformas', 'periodo' : periodo, 'keycol': 'nombres', 'logins' : logins, \n",
    "               'metricasconjuntas' : metricasconjuntas, 'kpis' : kpispltfrs, 'comisionantes' : comisionantespltfrs, \n",
    "               'cuotas' : panelpltfrs0, 'resultados' : None}\n",
    "\n",
    "panelpltfrs = loader.prepareHistoricalFiles(paramspltfrs)\n",
    "\n",
    "panelpltfrs.to_csv(testpath + month + '_panelpltfrs.csv')\n",
    "\n",
    "\"\"\""
   ]
  },
  {
   "cell_type": "code",
   "execution_count": 7,
   "metadata": {
    "collapsed": false
   },
   "outputs": [
    {
     "data": {
      "text/plain": [
       "codigo                                object\n",
       "razon_social                          object\n",
       "contrato                               int64\n",
       "fec_activ                     datetime64[ns]\n",
       "fec_desactiva                 datetime64[ns]\n",
       "modelo                                object\n",
       "pack_chip                             object\n",
       "telefono                             float64\n",
       "estado                                object\n",
       "deac                                   int64\n",
       "vendedor                              object\n",
       "tmcode                                 int64\n",
       "plan_tarifario                        object\n",
       "plan_2t                               object\n",
       "renta_basica                         float64\n",
       "motivo_deac                           object\n",
       "fecha_proceso                 datetime64[ns]\n",
       "tipodoc                               object\n",
       "documento                              int64\n",
       "codigo_inar                           object\n",
       "categoria_motivo_deac                 object\n",
       "categoria_tecnologiaequipo            object\n",
       "dtype: object"
      ]
     },
     "execution_count": 7,
     "metadata": {},
     "output_type": "execute_result"
    }
   ],
   "source": [
    "deacs.dtypes"
   ]
  },
  {
   "cell_type": "code",
   "execution_count": null,
   "metadata": {
    "collapsed": true
   },
   "outputs": [],
   "source": []
  }
 ],
 "metadata": {
  "kernelspec": {
   "display_name": "Python 3",
   "language": "python",
   "name": "python3"
  },
  "language_info": {
   "codemirror_mode": {
    "name": "ipython",
    "version": 3
   },
   "file_extension": ".py",
   "mimetype": "text/x-python",
   "name": "python",
   "nbconvert_exporter": "python",
   "pygments_lexer": "ipython3",
   "version": "3.4.3"
  }
 },
 "nbformat": 4,
 "nbformat_minor": 0
}
