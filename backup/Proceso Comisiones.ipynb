{
 "cells": [
  {
   "cell_type": "code",
   "execution_count": 1,
   "metadata": {
    "collapsed": false
   },
   "outputs": [],
   "source": [
    "from Loader import fileloader as fl\n",
    "from Loader import datahandledatabase as dhdb\n",
    "\n",
    "month = '201707'\n",
    "testpath = 'D:/Datos de Usuario/cleon/Documents/Capital Humano/Data Fuente Comisiones/test/'\n",
    "defaultpath = 'D:/Datos de Usuario/cleon/Documents/Capital Humano/Data Fuente Comisiones/xlsx/'"
   ]
  },
  {
   "cell_type": "code",
   "execution_count": 2,
   "metadata": {
    "collapsed": false,
    "scrolled": true
   },
   "outputs": [],
   "source": [
    "# Configurando los archivos de configuración para importar archivos tipo : xlsx, txt, ini\n",
    "\n",
    "inifile = fl.ReadIniFile('C:/Anaconda3/MeScripts/Comisiones4/Config/myconfig.ini')\n",
    "parser = inifile.readFile()\n",
    "\n",
    "loader = fl.LoadFileProcess(month)\n",
    "loader.setParser(parser)\n",
    "loader.setDefaultPath(defaultpath)\n",
    "\n",
    "# Importante en Carga : todas las columnas a importar deben tener data\n",
    "# Asegurate que el directorio donde está el archivo este correcto\n",
    "# Asegurate que no haya pestañas ocultas en GCP. \n",
    "# Asegúrate de Renombrar el archivo de Bolsas : XXXX_Experiencia Bolsa 3G. xlsx y sus encabezados\n",
    "# Base comisiones sólo tiene una pestaña\n",
    "# En Base comisiones GCP partir en dos periodos para el esquema quincenal\n",
    "\n",
    "# Para importar jerarquia revisa esto : poner el código que importe sin '_' y zonaventa. revisar carga en bd de Ñ\n",
    "# jerarquia debe reemplazar la data en la tabla\n",
    "\n",
    "#ingresos = loader.loadFile('Ingresos')\n",
    "#jerarquia = loader.loadFile('Jerarquia')\n",
    "#ceses = loader.loadFile('Ceses')\n",
    "\n",
    "#unitarios = loader.loadFile('Unitarios')\n",
    "\n",
    "#inar = loader.loadFile('Inar')\n",
    "#deacs = loader.loadFile('Deacs') # completar dos columnas\n",
    "#migras = loader.loadFile('Migras')\n",
    "#ventas_ssaa = loader.loadFile('Ventas_SSAA')\n",
    "#deacs_ssaa = loader.loadFile('Deacs_SSAA')\n",
    "#paquetes = loader.loadFile('Paquetes')\n",
    "\n",
    "#ajustes = loader.loadFile('Ajustes')\n",
    "#bolsas = loader.loadFile('Bolsas')\n",
    "#SSAAvendedorpyme = loader.loadFile('SSAA_Vendedor_Pyme')\n",
    "#actividad = loader.loadFile('Actividad')\n",
    "#basesgcp = loader.loadFile('Bases_GCP') \n",
    "#basesgce = loader.loadFile('Bases_GCE')\n",
    "#basesgcpquincenal = loader.loadFile('Bases_GCP_Quincenal') # cambia el factor en quincenal"
   ]
  },
  {
   "cell_type": "code",
   "execution_count": 3,
   "metadata": {
    "collapsed": false
   },
   "outputs": [],
   "source": [
    "# Configurando los archivos de configuración para administrar la base de datos\n",
    "\n",
    "inidb = fl.ReadIniFile('C:/Anaconda3/MeScripts/Comisiones4/Config/mydbconfig.ini')\n",
    "dbparser = inidb.readFile()\n",
    "\n",
    "dbmanager = dhdb.DbDataProcess(month)\n",
    "dbmanager.setParser(dbparser)\n",
    "\n",
    "# Carga de Data en Base de Datos\n",
    "\n",
    "#dbmanager.dbOperation('insert','tblEmpleados',ingresos)\n",
    "#dbmanager.dbOperation('insert','tblJerarquia',jerarquia)\n",
    "\n",
    "#dbmanager.dbOperation('insert','tblVentas',inar)\n",
    "#dbmanager.dbOperation('insert','tblDeacs',deacs)\n",
    "#dbmanager.dbOperation('insert','tblVentaSSAA',ventas_ssaa)\n",
    "#dbmanager.dbOperation('insert','tblDeacSSAA',deacs_ssaa)\n",
    "#dbmanager.dbOperation('insert','tblPaquetes',paquetes)\n",
    "\n",
    "#dbmanager.dbOperation(migras)\n",
    "\n",
    "#********************************************\n",
    "# Update de tablas de Ventas y Deacs\n",
    "\n",
    "#dbloader.refreshtbl(ceses)\n",
    "#dbloader.refreshtbl(unitarios)\n",
    "\n",
    "#dbmanager.dbOperation('update','Bolsas',bolsas)\n",
    "#dbmanager.dbOperation('update','SumVentaSSAA',ventas_ssaa)\n",
    "#dbmanager.dbOperation(ajustes)\n",
    "\n",
    "#dbmanager.dbOperation('update','Actividad',actividad)\n",
    "#dbmanager.dbOperation('update','Bases_GCP',basesgcp)\n",
    "#dbmanager.dbOperation('update','Bases_GCE',basesgce)\n",
    "#dbmanager.dbOperation('update','Bases_GCP_Quincenal',basesgcpquincenal)\n",
    "\n",
    "#dbmanager.dbOperation(SSAAvendedorpyme) \n",
    "\n",
    "#dbmanager.dbOperation('update','Paquetes')\n",
    "#dbmanager.dbOperation('update','Gross_Comision')\n",
    "#dbmanager.dbOperation('update','Reversiones')"
   ]
  },
  {
   "cell_type": "code",
   "execution_count": 4,
   "metadata": {
    "collapsed": false,
    "scrolled": true
   },
   "outputs": [
    {
     "name": "stdout",
     "output_type": "stream",
     "text": [
      "['Datos']\n",
      "['Datos', 'jul-17']\n",
      "['Datos', 'jul-17']\n",
      "['Datos', 'jul-17', 'jul-17']\n"
     ]
    },
    {
     "ename": "ValueError",
     "evalue": "Plan shapes are not aligned",
     "output_type": "error",
     "traceback": [
      "\u001b[1;31m---------------------------------------------------------------------------\u001b[0m",
      "\u001b[1;31mValueError\u001b[0m                                Traceback (most recent call last)",
      "\u001b[1;32m<ipython-input-4-fe7bc2b91e5c>\u001b[0m in \u001b[0;36m<module>\u001b[1;34m()\u001b[0m\n\u001b[0;32m      6\u001b[0m \u001b[1;31m#kpisvoz = loader.loadFile('Kpis_voz')\u001b[0m\u001b[1;33m\u001b[0m\u001b[1;33m\u001b[0m\u001b[0m\n\u001b[0;32m      7\u001b[0m \u001b[1;31m#comisionantesvoz = loader.loadFile('Comisionantes_voz')\u001b[0m\u001b[1;33m\u001b[0m\u001b[1;33m\u001b[0m\u001b[0m\n\u001b[1;32m----> 8\u001b[1;33m \u001b[0mcuotasvoz\u001b[0m \u001b[1;33m=\u001b[0m \u001b[0mloader\u001b[0m\u001b[1;33m.\u001b[0m\u001b[0mloadHistoricalFile\u001b[0m\u001b[1;33m(\u001b[0m\u001b[1;34m'Cuotas'\u001b[0m\u001b[1;33m)\u001b[0m\u001b[1;33m\u001b[0m\u001b[0m\n\u001b[0m\u001b[0;32m      9\u001b[0m \u001b[1;31m#resultadosvoz = loader.loadHistoricalFile('Resultados')\u001b[0m\u001b[1;33m\u001b[0m\u001b[1;33m\u001b[0m\u001b[0m\n\u001b[0;32m     10\u001b[0m \u001b[1;33m\u001b[0m\u001b[0m\n",
      "\u001b[1;32mC:\\Anaconda3\\MeScripts\\Comisiones4\\Loader\\fileloader.py\u001b[0m in \u001b[0;36mloadHistoricalFile\u001b[1;34m(self, section)\u001b[0m\n\u001b[0;32m    264\u001b[0m         \u001b[0mfileobj\u001b[0m \u001b[1;33m=\u001b[0m \u001b[0mReadXlsxFile\u001b[0m\u001b[1;33m(\u001b[0m\u001b[0mself\u001b[0m\u001b[1;33m.\u001b[0m\u001b[0mparameters\u001b[0m\u001b[1;33m)\u001b[0m\u001b[1;33m\u001b[0m\u001b[0m\n\u001b[0;32m    265\u001b[0m \u001b[1;33m\u001b[0m\u001b[0m\n\u001b[1;32m--> 266\u001b[1;33m         \u001b[0mdf0\u001b[0m \u001b[1;33m=\u001b[0m \u001b[0mfileobj\u001b[0m\u001b[1;33m.\u001b[0m\u001b[0mreadFile\u001b[0m\u001b[1;33m(\u001b[0m\u001b[1;33m)\u001b[0m\u001b[1;33m\u001b[0m\u001b[0m\n\u001b[0m\u001b[0;32m    267\u001b[0m \u001b[1;33m\u001b[0m\u001b[0m\n\u001b[0;32m    268\u001b[0m         \u001b[0mdf\u001b[0m \u001b[1;33m=\u001b[0m \u001b[0mself\u001b[0m\u001b[1;33m.\u001b[0m\u001b[0madjustDataframe\u001b[0m\u001b[1;33m(\u001b[0m\u001b[0mdf0\u001b[0m\u001b[1;33m)\u001b[0m\u001b[1;33m\u001b[0m\u001b[0m\n",
      "\u001b[1;32mC:\\Anaconda3\\MeScripts\\Comisiones4\\Loader\\fileloader.py\u001b[0m in \u001b[0;36mreadFile\u001b[1;34m(self)\u001b[0m\n\u001b[0;32m    116\u001b[0m                     \u001b[0mcols\u001b[0m\u001b[1;33m.\u001b[0m\u001b[0mappend\u001b[0m\u001b[1;33m(\u001b[0m\u001b[0mself\u001b[0m\u001b[1;33m.\u001b[0m\u001b[0mparameters\u001b[0m\u001b[1;33m[\u001b[0m\u001b[1;34m'periodo'\u001b[0m\u001b[1;33m]\u001b[0m\u001b[1;33m)\u001b[0m\u001b[1;33m\u001b[0m\u001b[0m\n\u001b[0;32m    117\u001b[0m                     \u001b[0mprint\u001b[0m\u001b[1;33m(\u001b[0m\u001b[0mcols\u001b[0m\u001b[1;33m)\u001b[0m\u001b[1;33m\u001b[0m\u001b[0m\n\u001b[1;32m--> 118\u001b[1;33m                 \u001b[0mdf\u001b[0m \u001b[1;33m=\u001b[0m \u001b[0mdf\u001b[0m\u001b[1;33m.\u001b[0m\u001b[0mappend\u001b[0m\u001b[1;33m(\u001b[0m\u001b[0mdf0\u001b[0m\u001b[1;33m[\u001b[0m\u001b[0mcols\u001b[0m\u001b[1;33m]\u001b[0m\u001b[1;33m,\u001b[0m \u001b[0mignore_index\u001b[0m \u001b[1;33m=\u001b[0m \u001b[1;32mTrue\u001b[0m\u001b[1;33m)\u001b[0m\u001b[1;33m\u001b[0m\u001b[0m\n\u001b[0m\u001b[0;32m    119\u001b[0m \u001b[1;33m\u001b[0m\u001b[0m\n\u001b[0;32m    120\u001b[0m         \u001b[1;32mreturn\u001b[0m \u001b[0mdf\u001b[0m\u001b[1;33m\u001b[0m\u001b[0m\n",
      "\u001b[1;32mC:\\Anaconda3\\lib\\site-packages\\pandas\\core\\frame.py\u001b[0m in \u001b[0;36mappend\u001b[1;34m(self, other, ignore_index, verify_integrity)\u001b[0m\n\u001b[0;32m   3970\u001b[0m             \u001b[0mto_concat\u001b[0m \u001b[1;33m=\u001b[0m \u001b[1;33m[\u001b[0m\u001b[0mself\u001b[0m\u001b[1;33m,\u001b[0m \u001b[0mother\u001b[0m\u001b[1;33m]\u001b[0m\u001b[1;33m\u001b[0m\u001b[0m\n\u001b[0;32m   3971\u001b[0m         return concat(to_concat, ignore_index=ignore_index,\n\u001b[1;32m-> 3972\u001b[1;33m                       verify_integrity=verify_integrity)\n\u001b[0m\u001b[0;32m   3973\u001b[0m \u001b[1;33m\u001b[0m\u001b[0m\n\u001b[0;32m   3974\u001b[0m     def join(self, other, on=None, how='left', lsuffix='', rsuffix='',\n",
      "\u001b[1;32mC:\\Anaconda3\\lib\\site-packages\\pandas\\tools\\merge.py\u001b[0m in \u001b[0;36mconcat\u001b[1;34m(objs, axis, join, join_axes, ignore_index, keys, levels, names, verify_integrity, copy)\u001b[0m\n\u001b[0;32m    753\u001b[0m                        \u001b[0mverify_integrity\u001b[0m\u001b[1;33m=\u001b[0m\u001b[0mverify_integrity\u001b[0m\u001b[1;33m,\u001b[0m\u001b[1;33m\u001b[0m\u001b[0m\n\u001b[0;32m    754\u001b[0m                        copy=copy)\n\u001b[1;32m--> 755\u001b[1;33m     \u001b[1;32mreturn\u001b[0m \u001b[0mop\u001b[0m\u001b[1;33m.\u001b[0m\u001b[0mget_result\u001b[0m\u001b[1;33m(\u001b[0m\u001b[1;33m)\u001b[0m\u001b[1;33m\u001b[0m\u001b[0m\n\u001b[0m\u001b[0;32m    756\u001b[0m \u001b[1;33m\u001b[0m\u001b[0m\n\u001b[0;32m    757\u001b[0m \u001b[1;33m\u001b[0m\u001b[0m\n",
      "\u001b[1;32mC:\\Anaconda3\\lib\\site-packages\\pandas\\tools\\merge.py\u001b[0m in \u001b[0;36mget_result\u001b[1;34m(self)\u001b[0m\n\u001b[0;32m    924\u001b[0m \u001b[1;33m\u001b[0m\u001b[0m\n\u001b[0;32m    925\u001b[0m             new_data = concatenate_block_managers(\n\u001b[1;32m--> 926\u001b[1;33m                 mgrs_indexers, self.new_axes, concat_axis=self.axis, copy=self.copy)\n\u001b[0m\u001b[0;32m    927\u001b[0m             \u001b[1;32mif\u001b[0m \u001b[1;32mnot\u001b[0m \u001b[0mself\u001b[0m\u001b[1;33m.\u001b[0m\u001b[0mcopy\u001b[0m\u001b[1;33m:\u001b[0m\u001b[1;33m\u001b[0m\u001b[0m\n\u001b[0;32m    928\u001b[0m                 \u001b[0mnew_data\u001b[0m\u001b[1;33m.\u001b[0m\u001b[0m_consolidate_inplace\u001b[0m\u001b[1;33m(\u001b[0m\u001b[1;33m)\u001b[0m\u001b[1;33m\u001b[0m\u001b[0m\n",
      "\u001b[1;32mC:\\Anaconda3\\lib\\site-packages\\pandas\\core\\internals.py\u001b[0m in \u001b[0;36mconcatenate_block_managers\u001b[1;34m(mgrs_indexers, axes, concat_axis, copy)\u001b[0m\n\u001b[0;32m   4061\u001b[0m                                                 copy=copy),\n\u001b[0;32m   4062\u001b[0m                          placement=placement)\n\u001b[1;32m-> 4063\u001b[1;33m               for placement, join_units in concat_plan]\n\u001b[0m\u001b[0;32m   4064\u001b[0m \u001b[1;33m\u001b[0m\u001b[0m\n\u001b[0;32m   4065\u001b[0m     \u001b[1;32mreturn\u001b[0m \u001b[0mBlockManager\u001b[0m\u001b[1;33m(\u001b[0m\u001b[0mblocks\u001b[0m\u001b[1;33m,\u001b[0m \u001b[0maxes\u001b[0m\u001b[1;33m)\u001b[0m\u001b[1;33m\u001b[0m\u001b[0m\n",
      "\u001b[1;32mC:\\Anaconda3\\lib\\site-packages\\pandas\\core\\internals.py\u001b[0m in \u001b[0;36m<listcomp>\u001b[1;34m(.0)\u001b[0m\n\u001b[0;32m   4058\u001b[0m                                        concat_axis)\n\u001b[0;32m   4059\u001b[0m \u001b[1;33m\u001b[0m\u001b[0m\n\u001b[1;32m-> 4060\u001b[1;33m     blocks = [make_block(concatenate_join_units(join_units, concat_axis,\n\u001b[0m\u001b[0;32m   4061\u001b[0m                                                 copy=copy),\n\u001b[0;32m   4062\u001b[0m                          placement=placement)\n",
      "\u001b[1;32mC:\\Anaconda3\\lib\\site-packages\\pandas\\core\\internals.py\u001b[0m in \u001b[0;36mcombine_concat_plans\u001b[1;34m(plans, concat_axis)\u001b[0m\n\u001b[0;32m   4279\u001b[0m         \u001b[1;32mwhile\u001b[0m \u001b[0mnum_ended\u001b[0m\u001b[1;33m[\u001b[0m\u001b[1;36m0\u001b[0m\u001b[1;33m]\u001b[0m \u001b[1;33m!=\u001b[0m \u001b[0mlen\u001b[0m\u001b[1;33m(\u001b[0m\u001b[0mnext_items\u001b[0m\u001b[1;33m)\u001b[0m\u001b[1;33m:\u001b[0m\u001b[1;33m\u001b[0m\u001b[0m\n\u001b[0;32m   4280\u001b[0m             \u001b[1;32mif\u001b[0m \u001b[0mnum_ended\u001b[0m\u001b[1;33m[\u001b[0m\u001b[1;36m0\u001b[0m\u001b[1;33m]\u001b[0m \u001b[1;33m>\u001b[0m \u001b[1;36m0\u001b[0m\u001b[1;33m:\u001b[0m\u001b[1;33m\u001b[0m\u001b[0m\n\u001b[1;32m-> 4281\u001b[1;33m                 \u001b[1;32mraise\u001b[0m \u001b[0mValueError\u001b[0m\u001b[1;33m(\u001b[0m\u001b[1;34m\"Plan shapes are not aligned\"\u001b[0m\u001b[1;33m)\u001b[0m\u001b[1;33m\u001b[0m\u001b[0m\n\u001b[0m\u001b[0;32m   4282\u001b[0m \u001b[1;33m\u001b[0m\u001b[0m\n\u001b[0;32m   4283\u001b[0m             \u001b[0mplacements\u001b[0m\u001b[1;33m,\u001b[0m \u001b[0munits\u001b[0m \u001b[1;33m=\u001b[0m \u001b[0mzip\u001b[0m\u001b[1;33m(\u001b[0m\u001b[1;33m*\u001b[0m\u001b[0mnext_items\u001b[0m\u001b[1;33m)\u001b[0m\u001b[1;33m\u001b[0m\u001b[0m\n",
      "\u001b[1;31mValueError\u001b[0m: Plan shapes are not aligned"
     ]
    }
   ],
   "source": [
    "# Importación de Cuotas y Resultados de formato excel de Consultores y Asesores\n",
    "\n",
    "#logins = loader.loadFile('Logins')\n",
    "#metricasconjuntas = loader.loadFile('Metricas_conjuntas')\n",
    "\n",
    "#kpisvoz = loader.loadFile('Kpis_voz')\n",
    "#comisionantesvoz = loader.loadFile('Comisionantes_voz')\n",
    "cuotasvoz = loader.loadHistoricalFile('Cuotas')\n",
    "#resultadosvoz = loader.loadHistoricalFile('Resultados') \n",
    "\n",
    "#churn = loader.loadHistoricalFile('Churn')\n",
    "#tracking = loader.loadHistoricalFile('Tracking')\n",
    "#epa = loader.loadHistoricalFile('EPA')\n",
    "#hc = loader.loadFile('Vendedores')\n",
    "\n",
    "#paramsdfvoz = {'keycol': 'login', kpisvoz' : kpisvoz, 'comisionantesvoz' : comisionantesvoz, 'cuotasvoz' : cuotasvoz, \n",
    "#'resultadosvoz' : resultadosvoz}\n",
    "\n",
    "\n",
    "            \n",
    "#paramsdfotros = {'churn' : churn, 'tracking' : tracking, 'epa': epa, 'hc' : hc, 'vas' : vas, 'tnp' : tnp}\n",
    "\n",
    "\n",
    "#paramsdfpltfrs= {'keycol': 'nombres','kpispltfrs' : kpispltfrs, 'comisionantespltfrs' : comisionantespltfrs, \n",
    "#                'panelpltfrs' : panelpltfrs}\n"
   ]
  },
  {
   "cell_type": "code",
   "execution_count": null,
   "metadata": {
    "collapsed": true
   },
   "outputs": [],
   "source": []
  }
 ],
 "metadata": {
  "kernelspec": {
   "display_name": "Python 3",
   "language": "python",
   "name": "python3"
  },
  "language_info": {
   "codemirror_mode": {
    "name": "ipython",
    "version": 3
   },
   "file_extension": ".py",
   "mimetype": "text/x-python",
   "name": "python",
   "nbconvert_exporter": "python",
   "pygments_lexer": "ipython3",
   "version": "3.4.3"
  }
 },
 "nbformat": 4,
 "nbformat_minor": 0
}
