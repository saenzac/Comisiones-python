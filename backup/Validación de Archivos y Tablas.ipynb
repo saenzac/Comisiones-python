{
 "cells": [
  {
   "cell_type": "code",
   "execution_count": 1,
   "metadata": {
    "collapsed": false
   },
   "outputs": [],
   "source": [
    "import abc\n",
    "import pandas as pd\n",
    "import os\n",
    "from pandas import Series, DataFrame\n",
    "from configparser import SafeConfigParser\n",
    "import codecs\n",
    "import ast"
   ]
  },
  {
   "cell_type": "code",
   "execution_count": 2,
   "metadata": {
    "collapsed": true
   },
   "outputs": [],
   "source": [
    "import sys\n",
    "import sqlite3\n",
    "import pandas as pd\n",
    "from pandas import Series, DataFrame\n",
    "\n",
    "class DbGenericOperator(object):\n",
    "    __metaclass__ = abc.ABCMeta\n",
    "    \n",
    "    @abc.abstractmethod\n",
    "    def opendb(self):\n",
    "        raise NotImplementedError\n",
    "    \n",
    "    @abc.abstractmethod\n",
    "    def closedb(self):\n",
    "        raise NotImplementedError\n",
    "\n",
    "    @abc.abstractmethod\n",
    "    def readtbl(self,query):\n",
    "        raise NotImplementedError\n",
    "    \n",
    "    @abc.abstractmethod\n",
    "    def writetbl(self,query):\n",
    "        raise NotImplementedError      \n",
    "\n",
    "    @abc.abstractmethod    \n",
    "    def updatetbl(self):\n",
    "        raise NotImplementedError\n",
    "  \n",
    "    @abc.abstractmethod\n",
    "    def deletetbl(self,query):\n",
    "        raise NotImplementedError\n",
    "        \n",
    "class DbSqLiteOperator(DbGenericOperator):\n",
    "\n",
    "\n",
    "    def __init__(self, params):\n",
    "\n",
    "        self.dbpath = params['dbpath']\n",
    "        self.dbname = params['dbname']\n",
    "\n",
    "    def openDb(self):\n",
    "        self.conn = sqlite3.connect(self.dbpath + self.dbname, detect_types = sqlite3.PARSE_DECLTYPES)\n",
    "        \n",
    "    def closeDb(self):\n",
    "        self.conn.close()\n",
    "        \n",
    "    def readTbl(self, query):\n",
    "        df = pd.read_sql_query(query, self.conn)\n",
    "        return df\n",
    "     \n",
    "    def writeTbl(self, sql, tuplas):\n",
    "        cursor = self.conn.cursor()\n",
    "        cursor.executemany(sql, tuplas)\n",
    "        self.conn.commit()\n",
    "        cursor.close()\n",
    "        \n",
    "    def updateTbl(self, sql, args):      \n",
    "        cursor = self.conn.cursor()\n",
    "        cursor.executemany(sql, args)\n",
    "        self.conn.commit()\n",
    "        cursor.close()\n",
    "        \n",
    "    def deleteTbl(self, query):\n",
    "        cursor = self.conn.cursor()\n",
    "        cursor.execute(query)\n",
    "        self.conn.commit()"
   ]
  },
  {
   "cell_type": "code",
   "execution_count": 3,
   "metadata": {
    "collapsed": false
   },
   "outputs": [],
   "source": [
    "class DbManager(object):\n",
    "    \n",
    "    __metaclass__ = abc.ABCMeta\n",
    "    \n",
    "    @abc.abstractmethod \n",
    "    def prepare(self):\n",
    "        pass\n",
    "    \n",
    "    @abc.abstractmethod       \n",
    "    def operation(self):\n",
    "        pass\n",
    "  \n",
    "    def display(self, paramstable):\n",
    "        print('Registros de la tabla %s es %s registros ' % ((paramstable['section'], paramstable['lenght'])))\n",
    "    \n",
    "class LoadTbl(DbManager):\n",
    "    \n",
    "    def __init__(self, params):\n",
    "        self.params = params\n",
    "        \n",
    "    def prepare(self):\n",
    "        pass\n",
    "    \n",
    "    def operation(self):\n",
    "        \n",
    "        dboperator = DbSqLiteOperator(self.params)\n",
    "        dboperator.openDb()\n",
    "        df = dboperator.readTbl(self.params['query'])\n",
    "        dboperator.closeDb()\n",
    "        df = df.fillna('')\n",
    "        return df\n",
    "\n",
    "class DbDataProcess(object):\n",
    "    \n",
    "    def __init__(self, month):\n",
    "        self.month = month\n",
    "        self.parser = None\n",
    "        self.section = None\n",
    "        self.parameters = None\n",
    "        self.dbpath = 'D:/Datos de Usuario/cleon/Documents/Capital Humano/Bases/'\n",
    "        self.dbname = 'comisiones3.sqlite'\n",
    "        \n",
    "    def configParameters(self): # incluía parser\n",
    "   \n",
    "\n",
    "        l2 = []\n",
    "        \n",
    "        itemlist = ['colstoinsert', 'coldates', 'colstoupdate']\n",
    "    \n",
    "        for item in self.parser.options(self.section): # \n",
    "            if item in itemlist:\n",
    "                l2.append(ast.literal_eval(self.parser.get(self.section,item)))      \n",
    "            else:\n",
    "                l2.append(self.parser.get(self.section,item))\n",
    "\n",
    "        self.parameters = dict(zip(self.parser.options(self.section),l2))\n",
    "\n",
    "        self.parameters['section'] = self.section\n",
    "        self.parameters['dbpath'] = self.dbpath\n",
    "        self.parameters['dbname'] = self.dbname\n",
    "                \n",
    "    \n",
    "    def loadData(self, section):\n",
    "        \n",
    "        self.section = section\n",
    "        self.configParameters()\n",
    "        \n",
    "        dbobj = LoadTbl(self.parameters)\n",
    "        df = dbobj.operation()\n",
    "        df.name = section\n",
    "        \n",
    "        paramstable = {'section' : self.section, 'lenght' : len(df)}\n",
    "        dbobj.display(paramstable)\n",
    "        \n",
    "        return df\n",
    "        \n",
    "    def setParser(self, parser):\n",
    "        self.parser = parser\n",
    "        "
   ]
  },
  {
   "cell_type": "code",
   "execution_count": 4,
   "metadata": {
    "collapsed": false
   },
   "outputs": [],
   "source": [
    "from Loader import fileloader as fl\n",
    "from Loader import datavalidator as dv\n",
    "\n",
    "month = '201708'\n",
    "testpath = 'D:/Datos de Usuario/cleon/Documents/Capital Humano/Data Fuente Comisiones/test/'\n",
    "defaultpath = 'D:/Datos de Usuario/cleon/Documents/Capital Humano/Data Fuente Comisiones/xlsx/'\n"
   ]
  },
  {
   "cell_type": "code",
   "execution_count": 5,
   "metadata": {
    "collapsed": false
   },
   "outputs": [],
   "source": [
    "inifile = fl.ReadIniFile('C:/Anaconda3/MeScripts/Comisiones4/Config/myconfig.ini')\n",
    "parser = inifile.readFile()\n",
    "\n",
    "loader = fl.LoadFileProcess(month)\n",
    "loader.setParser(parser)\n",
    "loader.setDefaultPath(defaultpath)"
   ]
  },
  {
   "cell_type": "code",
   "execution_count": 6,
   "metadata": {
    "collapsed": false
   },
   "outputs": [
    {
     "name": "stdout",
     "output_type": "stream",
     "text": [
      "El tamaño de Inar_bruto es 965904 registros\n",
      "El tamaño de Jerarquia es 24103 registros\n",
      "El tamaño de Comisionantes_voz es 330 registros\n"
     ]
    },
    {
     "name": "stderr",
     "output_type": "stream",
     "text": [
      "C:\\Anaconda3\\lib\\site-packages\\pandas\\io\\parsers.py:1170: DtypeWarning: Columns (21) have mixed types. Specify dtype option on import or set low_memory=False.\n",
      "  data = self._reader.read(nrows)\n"
     ]
    },
    {
     "ename": "KeyError",
     "evalue": "'query'",
     "output_type": "error",
     "traceback": [
      "\u001b[1;31m---------------------------------------------------------------------------\u001b[0m",
      "\u001b[1;31mKeyError\u001b[0m                                  Traceback (most recent call last)",
      "\u001b[1;32m<ipython-input-6-62b85f3aacbe>\u001b[0m in \u001b[0;36m<module>\u001b[1;34m()\u001b[0m\n\u001b[0;32m     10\u001b[0m \u001b[0mdbmanager\u001b[0m \u001b[1;33m=\u001b[0m \u001b[0mDbDataProcess\u001b[0m\u001b[1;33m(\u001b[0m\u001b[0mmonth\u001b[0m\u001b[1;33m)\u001b[0m\u001b[1;33m\u001b[0m\u001b[0m\n\u001b[0;32m     11\u001b[0m \u001b[0mdbmanager\u001b[0m\u001b[1;33m.\u001b[0m\u001b[0msetParser\u001b[0m\u001b[1;33m(\u001b[0m\u001b[0mdbparser\u001b[0m\u001b[1;33m)\u001b[0m\u001b[1;33m\u001b[0m\u001b[0m\n\u001b[1;32m---> 12\u001b[1;33m \u001b[0mtblempleados\u001b[0m \u001b[1;33m=\u001b[0m \u001b[0mdbmanager\u001b[0m\u001b[1;33m.\u001b[0m\u001b[0mloadData\u001b[0m\u001b[1;33m(\u001b[0m\u001b[1;34m'tblEmpleados'\u001b[0m\u001b[1;33m)\u001b[0m\u001b[1;33m\u001b[0m\u001b[0m\n\u001b[0m",
      "\u001b[1;32m<ipython-input-3-e8a801ced486>\u001b[0m in \u001b[0;36mloadData\u001b[1;34m(self, section)\u001b[0m\n\u001b[0;32m     67\u001b[0m \u001b[1;33m\u001b[0m\u001b[0m\n\u001b[0;32m     68\u001b[0m         \u001b[0mdbobj\u001b[0m \u001b[1;33m=\u001b[0m \u001b[0mLoadTbl\u001b[0m\u001b[1;33m(\u001b[0m\u001b[0mself\u001b[0m\u001b[1;33m.\u001b[0m\u001b[0mparameters\u001b[0m\u001b[1;33m)\u001b[0m\u001b[1;33m\u001b[0m\u001b[0m\n\u001b[1;32m---> 69\u001b[1;33m         \u001b[0mdf\u001b[0m \u001b[1;33m=\u001b[0m \u001b[0mdbobj\u001b[0m\u001b[1;33m.\u001b[0m\u001b[0moperation\u001b[0m\u001b[1;33m(\u001b[0m\u001b[1;33m)\u001b[0m\u001b[1;33m\u001b[0m\u001b[0m\n\u001b[0m\u001b[0;32m     70\u001b[0m         \u001b[0mdf\u001b[0m\u001b[1;33m.\u001b[0m\u001b[0mname\u001b[0m \u001b[1;33m=\u001b[0m \u001b[0msection\u001b[0m\u001b[1;33m\u001b[0m\u001b[0m\n\u001b[0;32m     71\u001b[0m \u001b[1;33m\u001b[0m\u001b[0m\n",
      "\u001b[1;32m<ipython-input-3-e8a801ced486>\u001b[0m in \u001b[0;36moperation\u001b[1;34m(self)\u001b[0m\n\u001b[0;32m     26\u001b[0m         \u001b[0mdboperator\u001b[0m \u001b[1;33m=\u001b[0m \u001b[0mDbSqLiteOperator\u001b[0m\u001b[1;33m(\u001b[0m\u001b[0mself\u001b[0m\u001b[1;33m.\u001b[0m\u001b[0mparams\u001b[0m\u001b[1;33m)\u001b[0m\u001b[1;33m\u001b[0m\u001b[0m\n\u001b[0;32m     27\u001b[0m         \u001b[0mdboperator\u001b[0m\u001b[1;33m.\u001b[0m\u001b[0mopenDb\u001b[0m\u001b[1;33m(\u001b[0m\u001b[1;33m)\u001b[0m\u001b[1;33m\u001b[0m\u001b[0m\n\u001b[1;32m---> 28\u001b[1;33m         \u001b[0mdf\u001b[0m \u001b[1;33m=\u001b[0m \u001b[0mdboperator\u001b[0m\u001b[1;33m.\u001b[0m\u001b[0mreadTbl\u001b[0m\u001b[1;33m(\u001b[0m\u001b[0mself\u001b[0m\u001b[1;33m.\u001b[0m\u001b[0mparams\u001b[0m\u001b[1;33m[\u001b[0m\u001b[1;34m'query'\u001b[0m\u001b[1;33m]\u001b[0m\u001b[1;33m)\u001b[0m\u001b[1;33m\u001b[0m\u001b[0m\n\u001b[0m\u001b[0;32m     29\u001b[0m         \u001b[0mdboperator\u001b[0m\u001b[1;33m.\u001b[0m\u001b[0mcloseDb\u001b[0m\u001b[1;33m(\u001b[0m\u001b[1;33m)\u001b[0m\u001b[1;33m\u001b[0m\u001b[0m\n\u001b[0;32m     30\u001b[0m         \u001b[0mdf\u001b[0m \u001b[1;33m=\u001b[0m \u001b[0mdf\u001b[0m\u001b[1;33m.\u001b[0m\u001b[0mfillna\u001b[0m\u001b[1;33m(\u001b[0m\u001b[1;34m''\u001b[0m\u001b[1;33m)\u001b[0m\u001b[1;33m\u001b[0m\u001b[0m\n",
      "\u001b[1;31mKeyError\u001b[0m: 'query'"
     ]
    }
   ],
   "source": [
    "# Importando la información\n",
    "\n",
    "inarbruto = loader.loadFile('Inar_bruto')\n",
    "jerarquia = loader.loadFile('Jerarquia')\n",
    "comisionantes = loader.loadFile('Comisionantes_voz')\n",
    "\n",
    "inidb = fl.ReadIniFile('C:/Anaconda3/MeScripts/Comisiones4/Config/mydbconfig.ini')\n",
    "dbparser = inidb.readFile()\n",
    "\n",
    "dbmanager = DbDataProcess(month)\n",
    "dbmanager.setParser(dbparser)\n",
    "tblempleados = dbmanager.loadData('tblEmpleados')\n"
   ]
  },
  {
   "cell_type": "code",
   "execution_count": null,
   "metadata": {
    "collapsed": false,
    "scrolled": true
   },
   "outputs": [],
   "source": [
    "# Armando las validaciones\n",
    "\n",
    "valinarfl = {'inarbruto' : inarbruto, 'jerarquia' : jerarquia, 'comisionantes' : comisionantes, 'tblempleados' : tblempleados}\n",
    "valinarobj = dv.ValidateInar(valinarfl)\n",
    "inarvalidation = valinarobj.validation()\n",
    "\n",
    "\n",
    "valmultipledatafl = {'jerarquia' : jerarquia, 'comisionantes' : comisionantes, 'tblempleados' : tblempleados}\n",
    "valmultipledataobj = dv.ValidateMultipleData(valmultipledatafl)\n",
    "multipledatavalidation = valmultipledataobj.validation()\n",
    "\n",
    "#****** Exportar validaciones\n",
    "\n",
    "xlsxfile1 = testpath + month + '_Validaciones en INAR.xlsx'\n",
    "exportparams = {'xlsxfile' : xlsxfile1, 'dataframe' : inarvalidation}\n",
    "valinarobj.exportValidation(exportparams)\n",
    "\n",
    "xlsxfile2 = testpath + month + '_Otras Validaciones.xlsx'\n",
    "exportparams = {'xlsxfile' : xlsxfile2, 'dataframe' : multipledatavalidation}\n",
    "valmultipledataobj.exportValidation(exportparams)"
   ]
  },
  {
   "cell_type": "code",
   "execution_count": null,
   "metadata": {
    "collapsed": false
   },
   "outputs": [],
   "source": [
    "exportar = False\n",
    "if exportar:\n",
    "    df1 = inarbruto[:500000]\n",
    "    df2 = inarbruto[500001:]\n",
    "    df1.to_csv(testpath + month + '_herman1.csv', index = False)\n",
    "    df2.to_csv(testpath + month + '_herman2.csv', index = False)"
   ]
  },
  {
   "cell_type": "code",
   "execution_count": null,
   "metadata": {
    "collapsed": true
   },
   "outputs": [],
   "source": []
  }
 ],
 "metadata": {
  "kernelspec": {
   "display_name": "Python 3",
   "language": "python",
   "name": "python3"
  },
  "language_info": {
   "codemirror_mode": {
    "name": "ipython",
    "version": 3
   },
   "file_extension": ".py",
   "mimetype": "text/x-python",
   "name": "python",
   "nbconvert_exporter": "python",
   "pygments_lexer": "ipython3",
   "version": "3.4.3"
  }
 },
 "nbformat": 4,
 "nbformat_minor": 0
}
