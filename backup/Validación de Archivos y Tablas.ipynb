{
 "cells": [
  {
   "cell_type": "code",
   "execution_count": 2,
   "metadata": {
    "collapsed": false
   },
   "outputs": [],
   "source": [
    "from Loader import fileloader as fl\n",
    "from Loader import datavalidator as dv\n",
    "from Loader import datahandledatabase as dhdb\n",
    "\n",
    "month = '201711'\n",
    "testpath = 'D:/Datos de Usuario/cleon/Documents/Capital Humano/Data Fuente Comisiones/test/'\n",
    "defaultpath = 'D:/Datos de Usuario/cleon/Documents/Capital Humano/Data Fuente Comisiones/xlsx/'\n"
   ]
  },
  {
   "cell_type": "code",
   "execution_count": 3,
   "metadata": {
    "collapsed": false
   },
   "outputs": [],
   "source": [
    "inifile = fl.ReadIniFile('C:/Anaconda3/MeScripts/Comisiones4/Config/myconfig.ini')\n",
    "parser = inifile.readFile()\n",
    "\n",
    "loader = fl.LoadFileProcess(month)\n",
    "loader.setParser(parser)\n",
    "loader.setDefaultPath(defaultpath)"
   ]
  },
  {
   "cell_type": "code",
   "execution_count": 4,
   "metadata": {
    "collapsed": false
   },
   "outputs": [
    {
     "name": "stdout",
     "output_type": "stream",
     "text": [
      "El tamaño de Inar_bruto es 375410 registros\n",
      "El tamaño de Jerarquia es 24876 registros\n",
      "El tamaño de Comisionantes_voz es 65 registros\n",
      "Los registros de la tabla tblEmpleados es 832 registros  \n"
     ]
    },
    {
     "name": "stderr",
     "output_type": "stream",
     "text": [
      "C:\\Anaconda3\\lib\\site-packages\\pandas\\io\\parsers.py:1170: DtypeWarning: Columns (21) have mixed types. Specify dtype option on import or set low_memory=False.\n",
      "  data = self._reader.read(nrows)\n"
     ]
    }
   ],
   "source": [
    "# Importando la información\n",
    "\n",
    "inarbruto = loader.loadFile('Inar_bruto')\n",
    "jerarquia = loader.loadFile('Jerarquia')\n",
    "comisionantes = loader.loadFile('Comisionantes_voz')\n",
    "\n",
    "inidb = fl.ReadIniFile('C:/Anaconda3/MeScripts/Comisiones4/Config/mydbconfig.ini')\n",
    "dbparser = inidb.readFile()\n",
    "\n",
    "dbmanager = dhdb.DbDataProcess(month)\n",
    "dbmanager.setParser(dbparser)\n",
    "tblempleados = dbmanager.loadData('tblEmpleados')\n"
   ]
  },
  {
   "cell_type": "code",
   "execution_count": 5,
   "metadata": {
    "collapsed": false,
    "scrolled": true
   },
   "outputs": [
    {
     "name": "stderr",
     "output_type": "stream",
     "text": [
      "C:\\Anaconda3\\MeScripts\\Comisiones4\\Loader\\datavalidator.py:52: SettingWithCopyWarning: \n",
      "A value is trying to be set on a copy of a slice from a DataFrame.\n",
      "Try using .loc[row_indexer,col_indexer] = value instead\n",
      "\n",
      "See the the caveats in the documentation: http://pandas.pydata.org/pandas-docs/stable/indexing.html#indexing-view-versus-copy\n",
      "  blanksdoc['observacion'] = 'blanks en documento'\n",
      "C:\\Anaconda3\\MeScripts\\Comisiones4\\Loader\\datavalidator.py:57: SettingWithCopyWarning: \n",
      "A value is trying to be set on a copy of a slice from a DataFrame.\n",
      "Try using .loc[row_indexer,col_indexer] = value instead\n",
      "\n",
      "See the the caveats in the documentation: http://pandas.pydata.org/pandas-docs/stable/indexing.html#indexing-view-versus-copy\n",
      "  blanksvendedor['observacion'] = 'blanks en vendedor o zona'\n",
      "C:\\Anaconda3\\MeScripts\\Comisiones4\\Loader\\datavalidator.py:136: SettingWithCopyWarning: \n",
      "A value is trying to be set on a copy of a slice from a DataFrame.\n",
      "Try using .loc[row_indexer,col_indexer] = value instead\n",
      "\n",
      "See the the caveats in the documentation: http://pandas.pydata.org/pandas-docs/stable/indexing.html#indexing-view-versus-copy\n",
      "  conjerarquia['concolsjer'] = conjerarquia.apply(lambda x : '|'.join(x), axis = 1)\n"
     ]
    },
    {
     "name": "stdout",
     "output_type": "stream",
     "text": [
      "Archivo exportado D:/Datos de Usuario/cleon/Documents/Capital Humano/Data Fuente Comisiones/test/201711_Validaciones en INAR.xlsx con 404 registros\n",
      "Archivo exportado D:/Datos de Usuario/cleon/Documents/Capital Humano/Data Fuente Comisiones/test/201711_Otras Validaciones.xlsx con 7 registros\n"
     ]
    }
   ],
   "source": [
    "# Armando las validaciones\n",
    "\n",
    "valinarfl = {'inarbruto' : inarbruto, 'jerarquia' : jerarquia, 'comisionantes' : comisionantes, 'tblempleados' : tblempleados}\n",
    "valinarobj = dv.ValidateInar(valinarfl)\n",
    "inarvalidation = valinarobj.validation()\n",
    "\n",
    "\n",
    "valmultipledatafl = {'jerarquia' : jerarquia, 'comisionantes' : comisionantes, 'tblempleados' : tblempleados}\n",
    "valmultipledataobj = dv.ValidateMultipleData(valmultipledatafl)\n",
    "multipledatavalidation = valmultipledataobj.validation()\n",
    "\n",
    "#Exportando validaciones\n",
    "\n",
    "xlsxfile1 = testpath + month + '_Validaciones en INAR.xlsx'\n",
    "exportparams = {'xlsxfile' : xlsxfile1, 'dataframe' : inarvalidation}\n",
    "valinarobj.exportValidation(exportparams)\n",
    "\n",
    "xlsxfile2 = testpath + month + '_Otras Validaciones.xlsx'\n",
    "exportparams = {'xlsxfile' : xlsxfile2, 'dataframe' : multipledatavalidation}\n",
    "valmultipledataobj.exportValidation(exportparams)"
   ]
  },
  {
   "cell_type": "code",
   "execution_count": 13,
   "metadata": {
    "collapsed": false
   },
   "outputs": [],
   "source": [
    "exportar = False\n",
    "if exportar:\n",
    "    df1 = inarbruto[:500000]\n",
    "    df2 = inarbruto[500001:]\n",
    "    df1.to_csv(testpath + month + '_sherman1.csv', index = False)\n",
    "    df2.to_csv(testpath + month + '_sherman2.csv', index = False)"
   ]
  },
  {
   "cell_type": "code",
   "execution_count": 5,
   "metadata": {
    "collapsed": false
   },
   "outputs": [
    {
     "data": {
      "text/html": [
       "<div>\n",
       "<table border=\"1\" class=\"dataframe\">\n",
       "  <thead>\n",
       "    <tr style=\"text-align: right;\">\n",
       "      <th></th>\n",
       "      <th>codigo</th>\n",
       "      <th>razon_social</th>\n",
       "      <th>contrato</th>\n",
       "      <th>fec_activ</th>\n",
       "      <th>fec_desactiva</th>\n",
       "      <th>modelo</th>\n",
       "      <th>telefono</th>\n",
       "      <th>estado</th>\n",
       "      <th>vendedor</th>\n",
       "      <th>plan_tarifario</th>\n",
       "      <th>zona</th>\n",
       "      <th>motivo</th>\n",
       "      <th>dealer</th>\n",
       "      <th>tmcode</th>\n",
       "      <th>fecha_proceso</th>\n",
       "      <th>falso_deac</th>\n",
       "      <th>tecnologia</th>\n",
       "      <th>tipodoc</th>\n",
       "      <th>documento</th>\n",
       "    </tr>\n",
       "  </thead>\n",
       "  <tbody>\n",
       "    <tr>\n",
       "      <th>674872</th>\n",
       "      <td>1.18298899</td>\n",
       "      <td>JOSE LUIS CASTILLO DEZA</td>\n",
       "      <td>37838662</td>\n",
       "      <td>11/10/2017 12:00:00 AM</td>\n",
       "      <td>NaN</td>\n",
       "      <td>super chip e plus</td>\n",
       "      <td>51979701267</td>\n",
       "      <td>NEWS</td>\n",
       "      <td>BLUE_TRU1</td>\n",
       "      <td>Negocio Chip 35</td>\n",
       "      <td>REGIONAL NORTE</td>\n",
       "      <td>NaN</td>\n",
       "      <td>CALOZANO2</td>\n",
       "      <td>2122</td>\n",
       "      <td>11/10/2017 12:00:00 AM</td>\n",
       "      <td>NaN</td>\n",
       "      <td>3G</td>\n",
       "      <td>RUC</td>\n",
       "      <td>10423984436</td>\n",
       "    </tr>\n",
       "  </tbody>\n",
       "</table>\n",
       "</div>"
      ],
      "text/plain": [
       "            codigo             razon_social  contrato               fec_activ  \\\n",
       "674872  1.18298899  JOSE LUIS CASTILLO DEZA  37838662  11/10/2017 12:00:00 AM   \n",
       "\n",
       "       fec_desactiva             modelo     telefono estado   vendedor  \\\n",
       "674872           NaN  super chip e plus  51979701267   NEWS  BLUE_TRU1   \n",
       "\n",
       "         plan_tarifario            zona motivo     dealer  tmcode  \\\n",
       "674872  Negocio Chip 35  REGIONAL NORTE    NaN  CALOZANO2    2122   \n",
       "\n",
       "                 fecha_proceso falso_deac tecnologia tipodoc    documento  \n",
       "674872  11/10/2017 12:00:00 AM        NaN         3G     RUC  10423984436  "
      ]
     },
     "execution_count": 5,
     "metadata": {},
     "output_type": "execute_result"
    }
   ],
   "source": [
    "inarbruto[inarbruto['contrato'] == 37838662]"
   ]
  },
  {
   "cell_type": "code",
   "execution_count": 7,
   "metadata": {
    "collapsed": false
   },
   "outputs": [
    {
     "data": {
      "text/html": [
       "<div>\n",
       "<table border=\"1\" class=\"dataframe\">\n",
       "  <thead>\n",
       "    <tr style=\"text-align: right;\">\n",
       "      <th></th>\n",
       "      <th>codigo</th>\n",
       "      <th>razon_social</th>\n",
       "      <th>contrato</th>\n",
       "      <th>fec_activ</th>\n",
       "      <th>fec_desactiva</th>\n",
       "      <th>estado</th>\n",
       "      <th>telefono</th>\n",
       "      <th>modelo</th>\n",
       "      <th>tmcode</th>\n",
       "      <th>plan_tarifario</th>\n",
       "      <th>vendedor</th>\n",
       "      <th>zona</th>\n",
       "      <th>dealer</th>\n",
       "      <th>tecnologia</th>\n",
       "      <th>tipodoc</th>\n",
       "      <th>documento</th>\n",
       "      <th>falso_deac</th>\n",
       "      <th>fecha_proceso</th>\n",
       "      <th>fecha_cese</th>\n",
       "      <th>observacion</th>\n",
       "    </tr>\n",
       "  </thead>\n",
       "  <tbody>\n",
       "    <tr>\n",
       "      <th>593</th>\n",
       "      <td>1.18298899</td>\n",
       "      <td>JOSE LUIS CASTILLO DEZA</td>\n",
       "      <td>37838662</td>\n",
       "      <td>11/10/2017 12:00:00 AM</td>\n",
       "      <td>NaN</td>\n",
       "      <td>NEWS</td>\n",
       "      <td>51979701267</td>\n",
       "      <td>super chip e plus</td>\n",
       "      <td>2122</td>\n",
       "      <td>Negocio Chip 35</td>\n",
       "      <td>NaN</td>\n",
       "      <td>REGIONAL NORTE</td>\n",
       "      <td>CALOZANO2</td>\n",
       "      <td>3G</td>\n",
       "      <td>RUC</td>\n",
       "      <td>10423984436</td>\n",
       "      <td>NaN</td>\n",
       "      <td>11/10/2017 12:00:00 AM</td>\n",
       "      <td>NaN</td>\n",
       "      <td>vendedor no se encuentra en jerarquia de ventas</td>\n",
       "    </tr>\n",
       "  </tbody>\n",
       "</table>\n",
       "</div>"
      ],
      "text/plain": [
       "         codigo             razon_social  contrato               fec_activ  \\\n",
       "593  1.18298899  JOSE LUIS CASTILLO DEZA  37838662  11/10/2017 12:00:00 AM   \n",
       "\n",
       "    fec_desactiva estado     telefono             modelo  tmcode  \\\n",
       "593           NaN   NEWS  51979701267  super chip e plus    2122   \n",
       "\n",
       "      plan_tarifario vendedor            zona     dealer tecnologia tipodoc  \\\n",
       "593  Negocio Chip 35      NaN  REGIONAL NORTE  CALOZANO2         3G     RUC   \n",
       "\n",
       "       documento falso_deac           fecha_proceso fecha_cese  \\\n",
       "593  10423984436        NaN  11/10/2017 12:00:00 AM        NaN   \n",
       "\n",
       "                                         observacion  \n",
       "593  vendedor no se encuentra en jerarquia de ventas  "
      ]
     },
     "execution_count": 7,
     "metadata": {},
     "output_type": "execute_result"
    }
   ],
   "source": [
    "inarvalidation[inarvalidation['contrato'] == 37838662]"
   ]
  },
  {
   "cell_type": "code",
   "execution_count": 12,
   "metadata": {
    "collapsed": false
   },
   "outputs": [
    {
     "data": {
      "text/html": [
       "<div>\n",
       "<table border=\"1\" class=\"dataframe\">\n",
       "  <thead>\n",
       "    <tr style=\"text-align: right;\">\n",
       "      <th></th>\n",
       "      <th>codigo</th>\n",
       "      <th>razon_social</th>\n",
       "      <th>contrato</th>\n",
       "      <th>fec_activ</th>\n",
       "      <th>fec_desactiva</th>\n",
       "      <th>modelo</th>\n",
       "      <th>telefono</th>\n",
       "      <th>estado</th>\n",
       "      <th>vendedor</th>\n",
       "      <th>plan_tarifario</th>\n",
       "      <th>zona</th>\n",
       "      <th>motivo</th>\n",
       "      <th>dealer</th>\n",
       "      <th>tmcode</th>\n",
       "      <th>fecha_proceso</th>\n",
       "      <th>falso_deac</th>\n",
       "      <th>tecnologia</th>\n",
       "      <th>tipodoc</th>\n",
       "      <th>documento</th>\n",
       "    </tr>\n",
       "  </thead>\n",
       "  <tbody>\n",
       "    <tr>\n",
       "      <th>0</th>\n",
       "      <td>1.18251697</td>\n",
       "      <td>RUTH ESMERALDA HERRERA PAUCAR</td>\n",
       "      <td>37528088</td>\n",
       "      <td>01/10/2017 12:00:00 AM</td>\n",
       "      <td>NaN</td>\n",
       "      <td>huawei b310s wt</td>\n",
       "      <td>51955241402</td>\n",
       "      <td>NEWS</td>\n",
       "      <td>TOTTUS_ATOCONGO1</td>\n",
       "      <td>Internet 2 Mbps</td>\n",
       "      <td>Retail</td>\n",
       "      <td>NaN</td>\n",
       "      <td>NaN</td>\n",
       "      <td>2216</td>\n",
       "      <td>01/10/2017 12:00:00 AM</td>\n",
       "      <td>NaN</td>\n",
       "      <td>BAM</td>\n",
       "      <td>DNI</td>\n",
       "      <td>76224067</td>\n",
       "    </tr>\n",
       "    <tr>\n",
       "      <th>1</th>\n",
       "      <td>1.18251788</td>\n",
       "      <td>ERIKA RAMIREZ YAUYO</td>\n",
       "      <td>37528082</td>\n",
       "      <td>01/10/2017 12:00:00 AM</td>\n",
       "      <td>NaN</td>\n",
       "      <td>huawei b310s wt</td>\n",
       "      <td>51955257080</td>\n",
       "      <td>NEWS</td>\n",
       "      <td>SODIMAC_VES1</td>\n",
       "      <td>Internet 2 Mbps</td>\n",
       "      <td>Retail</td>\n",
       "      <td>NaN</td>\n",
       "      <td>NaN</td>\n",
       "      <td>2216</td>\n",
       "      <td>01/10/2017 12:00:00 AM</td>\n",
       "      <td>NaN</td>\n",
       "      <td>BAM</td>\n",
       "      <td>DNI</td>\n",
       "      <td>48191286</td>\n",
       "    </tr>\n",
       "    <tr>\n",
       "      <th>2</th>\n",
       "      <td>1.15443450</td>\n",
       "      <td>NATALI NATIVIDAD GALVEZ RAMIREZ</td>\n",
       "      <td>37528012</td>\n",
       "      <td>01/10/2017 12:00:00 AM</td>\n",
       "      <td>NaN</td>\n",
       "      <td>huawei b310s wt</td>\n",
       "      <td>51955178608</td>\n",
       "      <td>NEWS</td>\n",
       "      <td>PLAZAVEA_CERES71</td>\n",
       "      <td>Internet 2 Mbps</td>\n",
       "      <td>Retail</td>\n",
       "      <td>NaN</td>\n",
       "      <td>NaN</td>\n",
       "      <td>2216</td>\n",
       "      <td>01/10/2017 12:00:00 AM</td>\n",
       "      <td>NaN</td>\n",
       "      <td>BAM</td>\n",
       "      <td>DNI</td>\n",
       "      <td>46657593</td>\n",
       "    </tr>\n",
       "    <tr>\n",
       "      <th>3</th>\n",
       "      <td>1.11863187</td>\n",
       "      <td>ANTONIO FAICHIN VASQUEZ</td>\n",
       "      <td>37527017</td>\n",
       "      <td>01/10/2017 12:00:00 AM</td>\n",
       "      <td>NaN</td>\n",
       "      <td>huawei b310s wt</td>\n",
       "      <td>51955081166</td>\n",
       "      <td>NEWS</td>\n",
       "      <td>SODIMAC_ATOCONGO74</td>\n",
       "      <td>Internet 2 Mbps</td>\n",
       "      <td>Retail</td>\n",
       "      <td>NaN</td>\n",
       "      <td>NaN</td>\n",
       "      <td>2216</td>\n",
       "      <td>01/10/2017 12:00:00 AM</td>\n",
       "      <td>NaN</td>\n",
       "      <td>BAM</td>\n",
       "      <td>DNI</td>\n",
       "      <td>42402071</td>\n",
       "    </tr>\n",
       "    <tr>\n",
       "      <th>4</th>\n",
       "      <td>1.18251154</td>\n",
       "      <td>LOURDES CAPURRO CCACCYA</td>\n",
       "      <td>37527020</td>\n",
       "      <td>01/10/2017 12:00:00 AM</td>\n",
       "      <td>NaN</td>\n",
       "      <td>huawei b310s wt</td>\n",
       "      <td>51955007443</td>\n",
       "      <td>NEWS</td>\n",
       "      <td>PLAZA VEA_VES 22</td>\n",
       "      <td>Internet 2 Mbps</td>\n",
       "      <td>Retail</td>\n",
       "      <td>NaN</td>\n",
       "      <td>NaN</td>\n",
       "      <td>2216</td>\n",
       "      <td>01/10/2017 12:00:00 AM</td>\n",
       "      <td>NaN</td>\n",
       "      <td>BAM</td>\n",
       "      <td>DNI</td>\n",
       "      <td>47163557</td>\n",
       "    </tr>\n",
       "  </tbody>\n",
       "</table>\n",
       "</div>"
      ],
      "text/plain": [
       "       codigo                     razon_social  contrato  \\\n",
       "0  1.18251697    RUTH ESMERALDA HERRERA PAUCAR  37528088   \n",
       "1  1.18251788              ERIKA RAMIREZ YAUYO  37528082   \n",
       "2  1.15443450  NATALI NATIVIDAD GALVEZ RAMIREZ  37528012   \n",
       "3  1.11863187          ANTONIO FAICHIN VASQUEZ  37527017   \n",
       "4  1.18251154          LOURDES CAPURRO CCACCYA  37527020   \n",
       "\n",
       "                fec_activ fec_desactiva           modelo     telefono estado  \\\n",
       "0  01/10/2017 12:00:00 AM           NaN  huawei b310s wt  51955241402   NEWS   \n",
       "1  01/10/2017 12:00:00 AM           NaN  huawei b310s wt  51955257080   NEWS   \n",
       "2  01/10/2017 12:00:00 AM           NaN  huawei b310s wt  51955178608   NEWS   \n",
       "3  01/10/2017 12:00:00 AM           NaN  huawei b310s wt  51955081166   NEWS   \n",
       "4  01/10/2017 12:00:00 AM           NaN  huawei b310s wt  51955007443   NEWS   \n",
       "\n",
       "             vendedor   plan_tarifario    zona motivo dealer  tmcode  \\\n",
       "0    TOTTUS_ATOCONGO1  Internet 2 Mbps  Retail    NaN    NaN    2216   \n",
       "1        SODIMAC_VES1  Internet 2 Mbps  Retail    NaN    NaN    2216   \n",
       "2    PLAZAVEA_CERES71  Internet 2 Mbps  Retail    NaN    NaN    2216   \n",
       "3  SODIMAC_ATOCONGO74  Internet 2 Mbps  Retail    NaN    NaN    2216   \n",
       "4    PLAZA VEA_VES 22  Internet 2 Mbps  Retail    NaN    NaN    2216   \n",
       "\n",
       "            fecha_proceso falso_deac tecnologia tipodoc documento  \n",
       "0  01/10/2017 12:00:00 AM        NaN        BAM     DNI  76224067  \n",
       "1  01/10/2017 12:00:00 AM        NaN        BAM     DNI  48191286  \n",
       "2  01/10/2017 12:00:00 AM        NaN        BAM     DNI  46657593  \n",
       "3  01/10/2017 12:00:00 AM        NaN        BAM     DNI  42402071  \n",
       "4  01/10/2017 12:00:00 AM        NaN        BAM     DNI  47163557  "
      ]
     },
     "execution_count": 12,
     "metadata": {},
     "output_type": "execute_result"
    }
   ],
   "source": [
    "inarbruto.head()"
   ]
  },
  {
   "cell_type": "code",
   "execution_count": null,
   "metadata": {
    "collapsed": true
   },
   "outputs": [],
   "source": []
  }
 ],
 "metadata": {
  "kernelspec": {
   "display_name": "Python 3",
   "language": "python",
   "name": "python3"
  },
  "language_info": {
   "codemirror_mode": {
    "name": "ipython",
    "version": 3
   },
   "file_extension": ".py",
   "mimetype": "text/x-python",
   "name": "python",
   "nbconvert_exporter": "python",
   "pygments_lexer": "ipython3",
   "version": "3.4.3"
  }
 },
 "nbformat": 4,
 "nbformat_minor": 0
}
