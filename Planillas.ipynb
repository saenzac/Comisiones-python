{
 "cells": [
  {
   "cell_type": "code",
   "execution_count": 2,
   "metadata": {},
   "outputs": [],
   "source": [
    "from Loader import fileloader as fl\n",
    "from Loader import globals\n",
    "import pandas as pd"
   ]
  },
  {
   "cell_type": "code",
   "execution_count": 3,
   "metadata": {},
   "outputs": [],
   "source": [
    "month='201809'\n",
    "dataoutdir = 'D:/Datos de Usuario/cleon/Documents/Mercado Empresas/Planillas/'\n",
    "\n",
    "inifile = fl.ReadIniFile(globals.configini)\n",
    "parser = inifile.readFile()\n",
    "\n",
    "loader = fl.LoadFileProcess(month)\n",
    "loader.setParser(parser)"
   ]
  },
  {
   "cell_type": "code",
   "execution_count": 5,
   "metadata": {},
   "outputs": [
    {
     "name": "stderr",
     "output_type": "stream",
     "text": [
      "C:\\Users\\Johnny\\Anaconda3\\lib\\site-packages\\pandas\\io\\excel.py:329: FutureWarning: The `sheetname` keyword is deprecated, use `sheet_name` instead\n",
      "  **kwds)\n"
     ]
    },
    {
     "name": "stdout",
     "output_type": "stream",
     "text": [
      "El tamaño de Planillas es 653 registros\n"
     ]
    }
   ],
   "source": [
    "planillas = loader.loadFile('Planillas')"
   ]
  },
  {
   "cell_type": "code",
   "execution_count": 4,
   "metadata": {},
   "outputs": [],
   "source": [
    "writer = pd.ExcelWriter(dataoutdir + month + \"_Consolidado_Planillas.xlsx\", engine='xlsxwriter')\n",
    "planillas.to_excel(writer, sheet_name='Sheet1')\n",
    "writer.save()"
   ]
  },
  {
   "cell_type": "code",
   "execution_count": 5,
   "metadata": {},
   "outputs": [
    {
     "data": {
      "text/html": [
       "<div>\n",
       "<table border=\"1\" class=\"dataframe\">\n",
       "  <thead>\n",
       "    <tr style=\"text-align: right;\">\n",
       "      <th></th>\n",
       "      <th>LOGIN</th>\n",
       "      <th>GERENCIA1</th>\n",
       "      <th>GERENCIA2</th>\n",
       "      <th>ZONA</th>\n",
       "      <th>DEPARTAMENTO</th>\n",
       "      <th>KAM</th>\n",
       "      <th>POSICIÓN</th>\n",
       "      <th>NOMBRES</th>\n",
       "      <th>DNI</th>\n",
       "      <th>TARGET</th>\n",
       "      <th>FECHA_DE_PAGO</th>\n",
       "      <th>FECHA_DE_INGRESO</th>\n",
       "      <th>PORCENTAJE_TOTAL_PONDERADO</th>\n",
       "      <th>PAGO</th>\n",
       "    </tr>\n",
       "  </thead>\n",
       "  <tbody>\n",
       "    <tr>\n",
       "      <th>231</th>\n",
       "      <td>DRAMOS</td>\n",
       "      <td>PEQUEÑAS Y MEDIANAS EMPRESAS</td>\n",
       "      <td>DEALERS PYMES LIMA</td>\n",
       "      <td>DEALER PYMES3</td>\n",
       "      <td>LIMA</td>\n",
       "      <td>LIMA</td>\n",
       "      <td>GERENTE DE NEGOCIOS DEALERS</td>\n",
       "      <td>DANTE RAMOS TORRES</td>\n",
       "      <td>10456835</td>\n",
       "      <td>6280</td>\n",
       "      <td>2018-09-25</td>\n",
       "      <td>2015-05-16</td>\n",
       "      <td>0</td>\n",
       "      <td>0</td>\n",
       "    </tr>\n",
       "  </tbody>\n",
       "</table>\n",
       "</div>"
      ],
      "text/plain": [
       "      LOGIN                     GERENCIA1           GERENCIA2           ZONA  \\\n",
       "231  DRAMOS  PEQUEÑAS Y MEDIANAS EMPRESAS  DEALERS PYMES LIMA  DEALER PYMES3   \n",
       "\n",
       "    DEPARTAMENTO   KAM                     POSICIÓN             NOMBRES  \\\n",
       "231         LIMA  LIMA  GERENTE DE NEGOCIOS DEALERS  DANTE RAMOS TORRES   \n",
       "\n",
       "          DNI  TARGET FECHA_DE_PAGO FECHA_DE_INGRESO  \\\n",
       "231  10456835    6280    2018-09-25       2015-05-16   \n",
       "\n",
       "     PORCENTAJE_TOTAL_PONDERADO  PAGO  \n",
       "231                           0     0  "
      ]
     },
     "execution_count": 5,
     "metadata": {},
     "output_type": "execute_result"
    }
   ],
   "source": [
    "planillas[planillas['DNI']=='10456835']"
   ]
  },
  {
   "cell_type": "code",
   "execution_count": null,
   "metadata": {
    "collapsed": true
   },
   "outputs": [],
   "source": []
  }
 ],
 "metadata": {
  "kernelspec": {
   "display_name": "Python 3",
   "language": "python",
   "name": "python3"
  },
  "language_info": {
   "codemirror_mode": {
    "name": "ipython",
    "version": 3
   },
   "file_extension": ".py",
   "mimetype": "text/x-python",
   "name": "python",
   "nbconvert_exporter": "python",
   "pygments_lexer": "ipython3",
   "version": "3.6.5"
  }
 },
 "nbformat": 4,
 "nbformat_minor": 1
}
