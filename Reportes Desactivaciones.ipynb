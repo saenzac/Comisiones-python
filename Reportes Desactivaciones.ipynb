{
 "cells": [
  {
   "cell_type": "code",
   "execution_count": 2,
   "metadata": {
    "collapsed": false
   },
   "outputs": [],
   "source": [
    "from Loader import fileloader as fl\n",
    "from Loader import datahandledatabase as dhdb\n",
    "import pandas as pd\n",
    "import numpy as np\n",
    "import time\n",
    "from datetime import datetime\n",
    "import openpyxl as xlsx"
   ]
  },
  {
   "cell_type": "code",
   "execution_count": 6,
   "metadata": {
    "collapsed": false
   },
   "outputs": [],
   "source": [
    "periodo = 201809\n",
    "start_date_pre = '2018-07-16' # Only DDNN1\n",
    "start_date = '2018-08-16' # Captura teams\n",
    "end_date = '2018-09-16' # End of Captura teams\n",
    "\n",
    "TESTPATH = 'D:/Datos de Usuario/cleon/Documents/Mercado Empresas/Data Fuente Comisiones/test/'\n",
    "\n",
    "inidb = fl.ReadIniFile('C:/Anaconda3/MeScripts/Comisiones4/Config/mydbconfig.ini')\n",
    "dbparser = inidb.readFile()\n",
    "\n",
    "dbmanager = dhdb.DbDataProcess(str(periodo))\n",
    "dbmanager.setParser(dbparser)\n",
    "\n",
    "start_date_pre_dt = datetime.strptime(start_date_pre, '%Y-%m-%d')\n",
    "start_date_dt = datetime.strptime(start_date, '%Y-%m-%d')\n",
    "end_date_dt = datetime.strptime(end_date, '%Y-%m-%d')"
   ]
  },
  {
   "cell_type": "code",
   "execution_count": 7,
   "metadata": {
    "collapsed": true
   },
   "outputs": [],
   "source": [
    "def textToDateConverter(df, date_cols):\n",
    "# Text cols to dates converter    \n",
    "    for datevalue in date_cols:\n",
    "        df[datevalue] = pd.to_datetime(df[datevalue],'%Y-%m-%d', dayfirst = True)\n",
    "    \n",
    "    return df"
   ]
  },
  {
   "cell_type": "code",
   "execution_count": 8,
   "metadata": {
    "collapsed": false
   },
   "outputs": [
    {
     "name": "stderr",
     "output_type": "stream",
     "text": [
      "C:\\Anaconda3\\lib\\site-packages\\IPython\\kernel\\__main__.py:67: SettingWithCopyWarning: \n",
      "A value is trying to be set on a copy of a slice from a DataFrame\n",
      "\n",
      "See the the caveats in the documentation: http://pandas.pydata.org/pandas-docs/stable/indexing.html#indexing-view-versus-copy\n",
      "C:\\Anaconda3\\lib\\site-packages\\IPython\\kernel\\__main__.py:80: SettingWithCopyWarning: \n",
      "A value is trying to be set on a copy of a slice from a DataFrame\n",
      "\n",
      "See the the caveats in the documentation: http://pandas.pydata.org/pandas-docs/stable/indexing.html#indexing-view-versus-copy\n",
      "C:\\Anaconda3\\lib\\site-packages\\pandas\\core\\frame.py:2915: SettingWithCopyWarning: \n",
      "A value is trying to be set on a copy of a slice from a DataFrame\n",
      "\n",
      "See the the caveats in the documentation: http://pandas.pydata.org/pandas-docs/stable/indexing.html#indexing-view-versus-copy\n",
      "  inplace=inplace, kind=kind, na_position=na_position)\n"
     ]
    },
    {
     "name": "stdout",
     "output_type": "stream",
     "text": [
      "Los registros de la tabla View_Deacs es 602 registros  \n",
      "--- 8.62323522567749 seconds ---\n"
     ]
    }
   ],
   "source": [
    "# Data Wrangling Ventas y Deacs Voz\n",
    "# ********************************************************\n",
    "# Equipos quincenales : actualizar\n",
    "start_time = time.time()\n",
    "\n",
    "# PROCESO DE REPORTERIA SOBRE DESACTIVACIONES VOZ\n",
    "#************************************************\n",
    "\n",
    "COLS_DEAC = ['PERIODO_DESACTIVACION','GERENCIA1','GERENCIA2','ZONAVENTA','DEPARTAMENTO',\n",
    "              'SUPERVISORKAM','VENDEDOR_ACTIVACION','VENDEDOR_OTRO','POSICION_EMPL',\n",
    "              'FECHA_PROCESO','CANALDEVENTA','CODIGO','RAZON_SOCIAL','CONTRATO','FEC_ACTIV','FEC_DESACTIVA', 'TELEFONO',\n",
    "              'ESTADO','PLAN_ACTIVACION','FECHA_ACTUALIZACION','PACK_CHIP','MOTIVO_DEAC','TIPODOC','DOCUMENTO',\n",
    "              'CEDENTE_ACTIVACION','PORTABILIDAD',\n",
    "              'TECNOLOGIAEQUIPO','ACCESS', 'ACCESSBOLSA','ACCESSPAQUETE','ACCESSLICENCIA','FECHA_CESE_EMPLEADO',\n",
    "              'COMISION_UNITARIA','DIAS_DESACTIVADOS','RANGO_DESACTIVACION','CATEGORIA_MOTIVO_DEAC',\n",
    "              'CATEGORIA_TECNOLOGIAEQUIPO','ACTIVIDAD', 'PENALIDAD','REVERSION','TIPO_REVERSION']\n",
    "\n",
    "DATE_COLUMNS = ['FECHA_PROCESO','FEC_ACTIV','FEC_DESACTIVA']\n",
    "DROP_COLUMNS = ['VENDEDOR_OTRO']\n",
    "RENAME_COLUMNS ={'COMISION_UNITARIA':'COMISION_UNITARIA_DB'}\n",
    "HALF_MONTHTLY_TEAMS = ['FALCO','MICHA','KRATOS','KAIZEN','DNEGOCIOS_EMPRESAS1']\n",
    "HALF_MONTHTLY_TEAMS_PRE = ['DNEGOCIOS_EMPRESAS1']\n",
    "\n",
    "CHANNEL_FILTER1 = ['PEQUEÑAS Y MEDIANAS EMPRESAS']\n",
    "CHANNEL_FILTER2 = ['CORPORACIONES','GRANDES CLIENTES','VENTA REGIONAL EMPRESA']\n",
    "\n",
    "ORDER_COLUMN = ['PERIODO_DESACTIVACION','GERENCIA1','GERENCIA2','DEPARTAMENTO','ZONAVENTA','SUPERVISORKAM',\n",
    "                'VENDEDOR_ACTIVACION','FECHA_PROCESO','ESTADO']\n",
    "\n",
    "deacs_ = dbmanager.loadData('View_Deacs')\n",
    "\n",
    "deacs_ = textToDateConverter(deacs_, DATE_COLUMNS)\n",
    "deacs_ = deacs_[COLS_DEAC]\n",
    "\n",
    "deacs_.to_csv(TESTPATH + str(periodo) + '_deacs_.csv', index = False) # Punto de control 1\n",
    "\n",
    "filter1 = deacs_['PERIODO_DESACTIVACION'] == start_date_dt.year * 100 + start_date_dt.month\n",
    "filter2 = deacs_['PERIODO_DESACTIVACION'] == end_date_dt.year * 100 + end_date_dt.month\n",
    "filter3 = deacs_['ZONAVENTA'].isin(HALF_MONTHTLY_TEAMS)\n",
    "filter4 = deacs_['FECHA_PROCESO'] <= end_date_dt\n",
    "filter5 = deacs_['FECHA_PROCESO'] >= start_date_dt\n",
    "filter6 = deacs_['FECHA_PROCESO'] < start_date_dt # DDNN_1\n",
    "filter7 = deacs_['ZONAVENTA'].isin(HALF_MONTHTLY_TEAMS_PRE)\n",
    "\n",
    "deacs_t_0 = deacs_[filter6 & filter7]\n",
    "deacs_t_1_1 = deacs_[filter1 & ~filter3]\n",
    "deacs_t_1_2 = deacs_[filter1 & filter5 & filter3 & ~filter7]\n",
    "deacs_t = deacs_[filter2 & filter4 & filter3 & ~filter7]\n",
    "deacs = deacs_t_0.append(deacs_t_1_1, ignore_index = True)\n",
    "deacs = deacs.append(deacs_t_1_2, ignore_index = True)\n",
    "deacs = deacs.append(deacs_t, ignore_index = True) \n",
    "\n",
    "deacs.to_csv(TESTPATH + str(periodo) + '_deacs_1.csv', index = False)# Punto de control 2\n",
    "\n",
    "stage1 = deacs['GERENCIA2'].isin(CHANNEL_FILTER2)\n",
    "stage2 = deacs['GERENCIA1'].isin(CHANNEL_FILTER1)\n",
    "\n",
    "# Filtrando las deacs_gce\n",
    "#************************\n",
    "#\"\"\"\n",
    "deacs_gce = deacs[stage1]\n",
    "# Corrigiendo los códigos de regiones múltiples\n",
    "filter_reg = deacs_gce['VENDEDOR_OTRO'] != ''\n",
    "#multiple_seller = deacs_gce[filter_reg]['VENDEDOR_OTRO'].values\n",
    "#deacs_gce.loc[filter_reg,'VENDEDOR'] = multiple_seller # verificar si va\n",
    "\n",
    "deacs_gce.drop(DROP_COLUMNS, axis =1, inplace = True)\n",
    "deacs_gce = deacs_gce.rename(columns = RENAME_COLUMNS)\n",
    "\n",
    "deacs_gce.sort(columns = ORDER_COLUMN,ascending = [1,1,1,1,1,1,1,1,1], inplace = True )\n",
    "deacs_gce.to_csv(TESTPATH + str(periodo) + '_deacs_gce.csv', index = False)\n",
    "\n",
    "#\"\"\"\n",
    "\n",
    "# Filtrando las deacs_gcp\n",
    "#************************\n",
    "\n",
    "#\"\"\"\n",
    "deacs_gcp = deacs[stage2]\n",
    "deacs_gcp.drop(DROP_COLUMNS, axis =1, inplace = True)\n",
    "deacs_gcp.sort(columns = ORDER_COLUMN,ascending = [1,1,1,1,1,1,1,1,1], inplace = True )\n",
    "deacs_gcp.to_csv(TESTPATH + str(periodo) + '_deacs_gcp.csv', index = False)\n",
    "\n",
    "#\"\"\"\n",
    "\n",
    "time_consuming = (time.time() - start_time) # In seconds\n",
    "\n",
    "print(\"--- %s seconds ---\" % time_consuming)"
   ]
  },
  {
   "cell_type": "code",
   "execution_count": 5,
   "metadata": {
    "collapsed": false
   },
   "outputs": [
    {
     "name": "stderr",
     "output_type": "stream",
     "text": [
      "C:\\Anaconda3\\lib\\site-packages\\pandas\\core\\indexing.py:249: SettingWithCopyWarning: \n",
      "A value is trying to be set on a copy of a slice from a DataFrame.\n",
      "Try using .loc[row_indexer,col_indexer] = value instead\n",
      "\n",
      "See the the caveats in the documentation: http://pandas.pydata.org/pandas-docs/stable/indexing.html#indexing-view-versus-copy\n",
      "  self.obj[key] = _infer_fill_value(value)\n",
      "C:\\Anaconda3\\lib\\site-packages\\pandas\\core\\indexing.py:415: SettingWithCopyWarning: \n",
      "A value is trying to be set on a copy of a slice from a DataFrame.\n",
      "Try using .loc[row_indexer,col_indexer] = value instead\n",
      "\n",
      "See the the caveats in the documentation: http://pandas.pydata.org/pandas-docs/stable/indexing.html#indexing-view-versus-copy\n",
      "  self.obj[item] = s\n",
      "C:\\Anaconda3\\lib\\site-packages\\IPython\\kernel\\__main__.py:56: SettingWithCopyWarning: \n",
      "A value is trying to be set on a copy of a slice from a DataFrame\n",
      "\n",
      "See the the caveats in the documentation: http://pandas.pydata.org/pandas-docs/stable/indexing.html#indexing-view-versus-copy\n"
     ]
    },
    {
     "name": "stdout",
     "output_type": "stream",
     "text": [
      "Los registros de la tabla View_Ventas_SSAA es 3606 registros  \n",
      "--- 4.857300043106079 seconds ---\n"
     ]
    },
    {
     "name": "stderr",
     "output_type": "stream",
     "text": [
      "C:\\Anaconda3\\lib\\site-packages\\IPython\\kernel\\__main__.py:69: SettingWithCopyWarning: \n",
      "A value is trying to be set on a copy of a slice from a DataFrame\n",
      "\n",
      "See the the caveats in the documentation: http://pandas.pydata.org/pandas-docs/stable/indexing.html#indexing-view-versus-copy\n",
      "C:\\Anaconda3\\lib\\site-packages\\pandas\\core\\frame.py:2915: SettingWithCopyWarning: \n",
      "A value is trying to be set on a copy of a slice from a DataFrame\n",
      "\n",
      "See the the caveats in the documentation: http://pandas.pydata.org/pandas-docs/stable/indexing.html#indexing-view-versus-copy\n",
      "  inplace=inplace, kind=kind, na_position=na_position)\n"
     ]
    }
   ],
   "source": [
    "# Data Wrangling Deacs Data\n",
    "# ********************************************************\n",
    "# Equipos quincenales : actualizar\n",
    "start_time = time.time()\n",
    "\n",
    "half_monthly_teams = ['FALCO','MICHA','KRATOS','KAIZEN']\n",
    "end_date_dt = datetime.strptime(end_date, '%Y-%m-%d')\n",
    "\n",
    "DATE_COLUMNS_DATA = ['ACTION_DATE']\n",
    "\n",
    "ORDER_COLUMN_DATA = ['PERIODO_ACTIVACION','GERENCIA1','GERENCIA2','DEPARTAMENTO','ZONAVENTA','SUPERVISORKAM',\n",
    "                     'VENDEDOR_CROSS_SELLING','ACTION_DATE','ESTADO']\n",
    "\n",
    "CHANNEL_FILTER1 = ['PEQUEÑAS Y MEDIANAS EMPRESAS','PLATAFORMAS COMERCIALES REGIONES']\n",
    "CHANNEL_FILTER2 = ['CORPORACIONES','GRANDES CLIENTES','VENTA REGIONAL EMPRESA']\n",
    "CHANNEL_FILTER3 = ['HOGAR']\n",
    "\n",
    "DROP_COLUMNS = ['GERENCIA2','ZONAVENTA','VENDEDOR_OTRO']\n",
    "DROP_COLUMNS2 = ['NEW_GERENCIA2','NEW_ZONAVENTA','VENDEDOR_OTRO']\n",
    "RENAME_COLUMNS_DATA ={'NEW_GERENCIA2':'GERENCIA2','NEW_ZONAVENTA':'ZONAVENTA'}\n",
    "\n",
    "COLS_DATA = ['PERIODO_ACTIVACION','GERENCIA1','GERENCIA2','NEW_GERENCIA2','ZONAVENTA','NEW_ZONAVENTA','DEPARTAMENTO',\n",
    "             'SUPERVISORKAM','VENDEDOR_CROSS_SELLING','VENDEDOR_OTRO','POSICION_EMPL','ACTION_DATE','CANALDEVENTA',\n",
    "             'CODIGO','RAZON_SOCIAL','CONTRATO','SERVICE','PHONENUMBER','ESTADO','FECHA_ACTUALIZACION','RUC','ACCESS_REAL',\n",
    "             'TIPO2','GANADO_POR','EQUIPO','CUENTA','OBSERVACIONES']\n",
    "\n",
    "# PROCESO DE REPORTERIA SOBRE DESACTIVACIONES DATA\n",
    "#*************************************************\n",
    "\n",
    "#deacs_ssaa = dbmanager.loadData('View_Deacs_SSAA')\n",
    "#deacs_procesados.to_csv(testpath + month + '_deacs_procesados.csv', index = False)\n",
    "#deacs_ssaa.to_csv(testpath + month + '_deacs_ssaa_procesados.csv', index = False)\n",
    "\n",
    "## Revisar los contratos nulos en BD ##\n",
    "\n",
    "time_consuming = (time.time() - start_time) # In seconds\n",
    "\n",
    "print(\"--- %s seconds ---\" % time_consuming)"
   ]
  },
  {
   "cell_type": "code",
   "execution_count": 8,
   "metadata": {
    "collapsed": false
   },
   "outputs": [
    {
     "data": {
      "text/plain": [
       "openpyxl.workbook.Workbook"
      ]
     },
     "execution_count": 8,
     "metadata": {},
     "output_type": "execute_result"
    }
   ],
   "source": [
    "wb = xlsx.load_workbook(PATH + PERIODO + FILE)\n",
    "type(wb)"
   ]
  },
  {
   "cell_type": "code",
   "execution_count": 7,
   "metadata": {
    "collapsed": false
   },
   "outputs": [
    {
     "data": {
      "text/plain": [
       "201807"
      ]
     },
     "execution_count": 7,
     "metadata": {},
     "output_type": "execute_result"
    }
   ],
   "source": [
    "start_date_dt.year * 100 + start_date_dt.month"
   ]
  },
  {
   "cell_type": "code",
   "execution_count": 6,
   "metadata": {
    "collapsed": false
   },
   "outputs": [
    {
     "data": {
      "text/plain": [
       "7"
      ]
     },
     "execution_count": 6,
     "metadata": {},
     "output_type": "execute_result"
    }
   ],
   "source": [
    "start_date_dt.month"
   ]
  },
  {
   "cell_type": "code",
   "execution_count": null,
   "metadata": {
    "collapsed": true
   },
   "outputs": [],
   "source": []
  }
 ],
 "metadata": {
  "kernelspec": {
   "display_name": "Python 3",
   "language": "python",
   "name": "python3"
  },
  "language_info": {
   "codemirror_mode": {
    "name": "ipython",
    "version": 3
   },
   "file_extension": ".py",
   "mimetype": "text/x-python",
   "name": "python",
   "nbconvert_exporter": "python",
   "pygments_lexer": "ipython3",
   "version": "3.4.3"
  }
 },
 "nbformat": 4,
 "nbformat_minor": 0
}
