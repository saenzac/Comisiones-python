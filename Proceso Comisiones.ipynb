{
 "cells": [
  {
   "cell_type": "code",
   "execution_count": 1,
   "metadata": {
    "collapsed": false
   },
   "outputs": [],
   "source": [
    "from Loader import fileloader as fl\n",
    "from Loader import datahandledatabase as dhdb\n",
    "\n",
    "month = '201707'\n",
    "testpath = 'D:/Datos de Usuario/cleon/Documents/Capital Humano/Data Fuente Comisiones/test/'\n",
    "defaultpath = 'D:/Datos de Usuario/cleon/Documents/Capital Humano/Data Fuente Comisiones/xlsx/'"
   ]
  },
  {
   "cell_type": "code",
   "execution_count": 2,
   "metadata": {
    "collapsed": false
   },
   "outputs": [],
   "source": [
    "# Importando la información\n",
    "\n",
    "inifile = fl.ReadIniFile('C:/Anaconda3/MeScripts/Comisiones4/Config/myconfig.ini')\n",
    "parser = inifile.readFile()\n",
    "\n",
    "loader = fl.LoadFileProcess(month)\n",
    "loader.setParser(parser)\n",
    "loader.setDefaultPath(defaultpath)"
   ]
  },
  {
   "cell_type": "code",
   "execution_count": 3,
   "metadata": {
    "collapsed": false,
    "scrolled": true
   },
   "outputs": [],
   "source": [
    "# Importante en Carga : todas las columnas a importar deben tener data\n",
    "# Asegurate que el directorio donde está el archivo este correcto\n",
    "# Asegurate que no haya pestañas ocultas en GCP. \n",
    "# Asegúrate de Renombrar el archivo de Bolsas : XXXX_Experiencia Bolsa 3G. xlsx y sus encabezados\n",
    "# Base comisiones sólo tiene una pestaña\n",
    "# En Base comisiones GCP partir en dos periodos para el esquema quincenal\n",
    "\n",
    "# Para importar jerarquia revisa esto : poner el código que importe sin '_' y zonaventa. revisar carga en bd de Ñ\n",
    "# jerarquia debe reemplazar la data en la tabla\n",
    "\n",
    "#ingresos = loader.loadFile('Ingresos')\n",
    "#jerarquia = loader.loadFile('Jerarquia')\n",
    "#ceses = loader.loadFile('Ceses')\n",
    "\n",
    "#unitarios = loader.loadFile('Unitarios')\n",
    "\n",
    "#inar = loader.loadFile('Inar')\n",
    "#deacs = loader.loadFile('Deacs') # completar dos columnas\n",
    "#migras = loader.loadFile('Migras')\n",
    "#ventas_ssaa = loader.loadFile('Ventas_SSAA')\n",
    "#deacs_ssaa = loader.loadFile('Deacs_SSAA')\n",
    "#paquetes = loader.loadFile('Paquetes')\n",
    "\n",
    "#ajustes = loader.loadFile('Ajustes')\n",
    "#bolsas = loader.loadFile('Bolsas')\n",
    "#SSAAvendedorpyme = loader.loadFile('SSAA_Vendedor_Pyme')\n",
    "#actividad = loader.loadFile('Actividad')\n",
    "#basesgcp = loader.loadFile('Bases_GCP') \n",
    "#basesgce = loader.loadFile('Bases_GCE')\n",
    "#basesgcpquincenal = loader.loadFile('Bases_GCP_Quincenal') # cambia el factor en quincenal"
   ]
  },
  {
   "cell_type": "code",
   "execution_count": 4,
   "metadata": {
    "collapsed": false
   },
   "outputs": [],
   "source": [
    "inidb = fl.ReadIniFile('C:/Anaconda3/MeScripts/Comisiones4/Config/mydbconfig.ini')\n",
    "dbparser = inidb.readFile()\n",
    "\n",
    "dbmanager = dhdb.DbDataProcess(month)\n",
    "dbmanager.setParser(dbparser)\n",
    "\n",
    "# Carga de Data en Base de Datos\n",
    "\n",
    "#dbmanager.dbOperation('insert','tblEmpleados',ingresos)\n",
    "#dbmanager.dbOperation('insert','tblJerarquia',jerarquia)\n",
    "\n",
    "#dbmanager.dbOperation('insert','tblVentas',inar)\n",
    "#dbmanager.dbOperation('insert','tblDeacs',deacs)\n",
    "#dbmanager.dbOperation('insert','tblVentaSSAA',ventas_ssaa)\n",
    "#dbmanager.dbOperation('insert','tblDeacSSAA',deacs_ssaa)\n",
    "#dbmanager.dbOperation('insert','tblPaquetes',paquetes)\n",
    "\n",
    "#dbmanager.dbOperation(migras)"
   ]
  },
  {
   "cell_type": "code",
   "execution_count": 5,
   "metadata": {
    "collapsed": false
   },
   "outputs": [
    {
     "name": "stdout",
     "output_type": "stream",
     "text": [
      "Los registros de la tabla tblGrossRules es 15 registros  \n",
      "Los registros de la tabla Gross_Comision es 34804 registros  \n",
      "Los registros de la tabla Gross_Comision es 41 registros actualizados \n"
     ]
    }
   ],
   "source": [
    "#dbloader.refreshtbl(ceses)\n",
    "#dbloader.refreshtbl(unitarios)\n",
    "\n",
    "#dbmanager.dbOperation('update','Bolsas',bolsas)\n",
    "#dbmanager.dbOperation('update','SumVentaSSAA',ventas_ssaa)\n",
    "#dbmanager.dbOperation(ajustes)\n",
    "\n",
    "#dbmanager.dbOperation('update','Actividad',actividad)\n",
    "#dbmanager.dbOperation('update','Bases_GCP',basesgcp)\n",
    "#dbmanager.dbOperation('update','Bases_GCE',basesgce)\n",
    "#dbmanager.dbOperation('update','Bases_GCP_Quincenal',basesgcpquincenal)\n",
    "\n",
    "#dbmanager.dbOperation(SSAAvendedorpyme) \n",
    "\n",
    "#dbmanager.dbOperation('update','Paquetes',paquetes)\n",
    "#dbmanager.dbOperation('update','Gross_Comision')\n",
    "#dbmanager.dbOperation('update','Reversiones')"
   ]
  },
  {
   "cell_type": "code",
   "execution_count": null,
   "metadata": {
    "collapsed": true
   },
   "outputs": [],
   "source": []
  }
 ],
 "metadata": {
  "kernelspec": {
   "display_name": "Python 3",
   "language": "python",
   "name": "python3"
  },
  "language_info": {
   "codemirror_mode": {
    "name": "ipython",
    "version": 3
   },
   "file_extension": ".py",
   "mimetype": "text/x-python",
   "name": "python",
   "nbconvert_exporter": "python",
   "pygments_lexer": "ipython3",
   "version": "3.4.3"
  }
 },
 "nbformat": 4,
 "nbformat_minor": 0
}
