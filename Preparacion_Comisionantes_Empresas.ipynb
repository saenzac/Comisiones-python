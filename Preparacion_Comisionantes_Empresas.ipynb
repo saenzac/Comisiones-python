{
 "cells": [
  {
   "cell_type": "code",
   "execution_count": null,
   "metadata": {},
   "outputs": [],
   "source": [
    "from Loader import fileloader as fl\n",
    "from Loader import dfutils\n",
    "import xlwings as xw\n",
    "import pandas as pd\n",
    "\n",
    "month = '201902'\n",
    "\n",
    "inifile = fl.ReadIniFile(mercado=\"empresas\")\n",
    "datapath = inifile.getDataPath()\n",
    "testpath = inifile.getTestPath()\n",
    "parser = inifile.getIniFileParser()\n",
    "\n",
    "loader = fl.LoadFileProcess(month)\n",
    "loader.setParser(parser)\n",
    "loader.setDefaultPath(datapath)\n"
   ]
  },
  {
   "cell_type": "code",
   "execution_count": null,
   "metadata": {},
   "outputs": [],
   "source": [
    "#The final order the columns written in the excel file will have\n",
    "columns_resultant = ['DNI', 'PADRON_FECHA_DE_INGRESO', 'FECHA_DE_INICIO_EN_EL_PUESTO', 'NOMBRE_DEL_PUESTO', 'FECHA_CESE']\n",
    "\n",
    "# Generating padron empleados and ceses Dataframes\n",
    "padron_df = loader.loadFile('Padron_Empleados')\n",
    "padron_df_short = padron_df[ columns_resultant[0:4] ]\n",
    "\n",
    "ceses_df = loader.loadFile('Ceses')\n",
    "ceses_df_short = ceses_df[[ columns_resultant[0], columns_resultant[4] ]]\n",
    "\n",
    "# Iteration over the comisiones Excel workbooks\n",
    "inis = ['Comisionantes_Plataformas_All', 'Comisionantes_CAL_All', 'Comisionantes_Fidelizacion_Telemarketing_All', 'Comisionantes_Soporte_Empresas_All', 'Comisionantes_GrandesCuentas_All', 'Comisionantes_SolucionesNegocio_All', 'Comisionantes_Pymes_All']\n",
    "#inis = [ 'Comisionantes_SolucionesNegocio_All','Comisionantes_Pymes_All' ]\n",
    "\n",
    "for i in range(len(inis)):\n",
    "  # Generating the dataframes.\n",
    "  comisionantes_df = loader.loadFile(inis[i])\n",
    "  col_index = dfutils.getExcelColIndexFromDF(comisionantes_df, 'DNI2')\n",
    "  row_len = len(comisionantes_df.index)\n",
    "  comisionantes_params = loader.getParameters()\n",
    "  comis_skiprows = comisionantes_params['skiprows']\n",
    "  file = loader.getFileList()[0]\n",
    "  comisionantes_df_short = comisionantes_df[[columns_resultant[0]]].copy()\n",
    "\n",
    "  # Merging the dataframes\n",
    "  merged_1 = pd.merge(comisionantes_df_short, padron_df_short, how='left',left_on='DNI', right_on = 'DNI')\n",
    "  merged_2 = pd.merge(merged_1, ceses_df_short, how='left',left_on='DNI', right_on = 'DNI')\n",
    "  # Rename DNI -> DNI2 because the column name already exists in the sheet\n",
    "  merged_2.rename(columns={'DNI':'DNI2'},inplace=True)\n",
    "\n",
    "  # Opening the workbook and referencing to 'comisionantes' worksheet\n",
    "  wb = xw.Book(file)\n",
    "  comis_sheet = wb.sheets('Comisionantes')\n",
    "\n",
    "  # Pasting the resultant dataframe of the merge operations  to the Excel sheet\n",
    "  comis_sheet.range((comis_skiprows + 1,col_index),(row_len + comis_skiprows + 1,col_index)).number_format = '@'\n",
    "  comis_sheet.range((comis_skiprows + 1,col_index)).options(pd.DataFrame, index=False).value = merged_2\n",
    "\n",
    "  wb.save()\n",
    "  wb.close()"
   ]
  }
 ],
 "metadata": {
  "kernelspec": {
   "display_name": "Python 3",
   "language": "python",
   "name": "python3"
  },
  "language_info": {
   "codemirror_mode": {
    "name": "ipython",
    "version": 3
   },
   "file_extension": ".py",
   "mimetype": "text/x-python",
   "name": "python",
   "nbconvert_exporter": "python",
   "pygments_lexer": "ipython3",
   "version": "3.7.1"
  }
 },
 "nbformat": 4,
 "nbformat_minor": 2
}
