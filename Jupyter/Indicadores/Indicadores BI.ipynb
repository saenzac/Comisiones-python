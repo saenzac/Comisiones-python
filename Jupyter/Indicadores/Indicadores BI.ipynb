{
 "cells": [
  {
   "cell_type": "code",
   "execution_count": 1,
   "metadata": {},
   "outputs": [
    {
     "output_type": "display_data",
     "data": {
      "text/plain": "Output(layout=Layout(border='solid', height='600px', width='100%'), outputs=({'name': 'stdout', 'output_type':…",
      "application/vnd.jupyter.widget-view+json": {
       "version_major": 2,
       "version_minor": 0,
       "model_id": "65de21811edc42718b95d85246a65a84"
      }
     },
     "metadata": {}
    }
   ],
   "source": [
    "# -*- coding: utf-8 -*-\n",
    "\n",
    "import logging\n",
    "from colorama import Fore\n",
    "from ipywidgets import interact, interactive, fixed, interact_manual\n",
    "import ipywidgets as widgets\n",
    "from IPython.display import clear_output\n",
    "from IPython.display import display\n",
    "import ecomis\n",
    "import xlwings as xw\n",
    "import pandas as pd\n",
    "import numpy as np\n",
    "import posixpath\n",
    "import dateutil.relativedelta\n",
    "\n",
    "logger = logging.getLogger(\"juplogger\")\n",
    "handler = ecomis.LogViewver()\n",
    "logger.addHandler(handler)\n",
    "logger.setLevel(logging.INFO)\n",
    "logger.propagate = False\n",
    "\n",
    "month = '202005'\n",
    "\n",
    "inifile = ecomis.ReadIniFile(mercado=\"empresas\")\n",
    "\n",
    "# Configurando los archivos de configuración para administrar la base de datos\n",
    "dbparser = inifile.getDbIniFileParser()\n",
    "dbmanager = ecomis.DbDataProcess(month)\n",
    "dbmanager.setParser(dbparser)# Configurando los archivos de configuración para administrar la base de datos\n",
    "\n",
    "handler.show_logs()\n"
   ]
  },
  {
   "cell_type": "code",
   "execution_count": 2,
   "metadata": {},
   "outputs": [],
   "source": [
    "section = ecomis.SectionObj(inifile,\"ResultadosComisiones_All_Files\",month)\n",
    "loader = ecomis.LoadFileProcess(section)\n",
    "df = loader.loadFile()\n",
    "delta_mes = dateutil.relativedelta.relativedelta(months=1)\n",
    "df['FECHA_DE_PRODUCCION'] = df['FECHA_DE_PAGO'].apply(lambda x: x - delta_mes)\n",
    "df = df[df[\"ESQUEMA\"] != \"SPARE POSITION\"]\n",
    "\n"
   ]
  },
  {
   "cell_type": "code",
   "execution_count": 3,
   "metadata": {},
   "outputs": [],
   "source": [
    "dbmanager.dbOperation('insert','tblResultadosComisiones',df)"
   ]
  },
  {
   "cell_type": "code",
   "execution_count": 14,
   "metadata": {},
   "outputs": [],
   "source": [
    "indicadores_path = inifile.getMainPath() + '/Indicadores'\n",
    "writer = pd.ExcelWriter(posixpath.join(indicadores_path, month + \"_Indicadores.xlsx\"), engine='xlsxwriter')\n",
    "df.to_excel(writer, sheet_name = 'Indicadores')\n",
    "writer.save()"
   ]
  },
  {
   "cell_type": "code",
   "execution_count": 17,
   "metadata": {},
   "outputs": [
    {
     "output_type": "execute_result",
     "data": {
      "text/plain": "DNI                                   object\nGERENCIA1                             object\nGERENCIA2                             object\nZONA                                  object\nESQUEMA                               object\nPORCENTAJE_TOTAL_PONDERADO           float64\nCAPTURA_I                            float64\nGESTION_I                            float64\nDESARROLLO_I                         float64\nTARGET                                 int64\nPAGO                                 float64\nFECHA_DE_PAGO                 datetime64[ns]\nCOMISIÓN                             float64\nFECHA_DE_PRODUCCION           datetime64[ns]\ndtype: object"
     },
     "metadata": {},
     "execution_count": 17
    }
   ],
   "source": [
    "df.dtypes"
   ]
  },
  {
   "cell_type": "code",
   "execution_count": null,
   "metadata": {},
   "outputs": [],
   "source": []
  }
 ],
 "metadata": {
  "kernelspec": {
   "display_name": "Python 3",
   "language": "python",
   "name": "python3"
  },
  "language_info": {
   "codemirror_mode": {
    "name": "ipython",
    "version": 3
   },
   "file_extension": ".py",
   "mimetype": "text/x-python",
   "name": "python",
   "nbconvert_exporter": "python",
   "pygments_lexer": "ipython3",
   "version": "3.7.6"
  }
 },
 "nbformat": 4,
 "nbformat_minor": 4
}