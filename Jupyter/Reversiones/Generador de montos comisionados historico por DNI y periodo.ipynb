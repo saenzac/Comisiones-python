{
 "cells": [
  {
   "cell_type": "code",
   "execution_count": 2,
   "metadata": {},
   "outputs": [
    {
     "data": {
      "application/vnd.jupyter.widget-view+json": {
       "model_id": "3bcb94a7af8543d2b4917ac6c6896779",
       "version_major": 2,
       "version_minor": 0
      },
      "text/plain": [
       "Output(layout=Layout(border='solid', height='600px', width='100%'), outputs=({'name': 'stdout', 'output_type':…"
      ]
     },
     "metadata": {},
     "output_type": "display_data"
    }
   ],
   "source": [
    "# -*- coding: utf-8 -*-\n",
    "\n",
    "import logging\n",
    "from colorama import Fore\n",
    "from ipywidgets import interact, interactive, fixed, interact_manual\n",
    "import ipywidgets as widgets\n",
    "from IPython.display import clear_output\n",
    "from IPython.display import display\n",
    "import ecomis\n",
    "import xlwings as xw\n",
    "import pandas as pd\n",
    "import numpy as np\n",
    "import posixpath\n",
    "\n",
    "logger = logging.getLogger(\"juplogger\")\n",
    "handler = ecomis.LogViewver()\n",
    "logger.addHandler(handler)\n",
    "logger.setLevel(logging.INFO)\n",
    "logger.propagate = False\n",
    "\n",
    "month = '202005'\n",
    "\n",
    "inifile = ecomis.ReadIniFile(mercado=\"empresas\")\n",
    "\n",
    "handler.show_logs()"
   ]
  },
  {
   "cell_type": "code",
   "execution_count": 3,
   "metadata": {},
   "outputs": [],
   "source": [
    "section = ecomis.SectionObj(inifile,\"Quienes comisionaron\")\n",
    "loader = ecomis.LoadFileProcess(section)\n",
    "df = loader.loadFile()"
   ]
  },
  {
   "cell_type": "code",
   "execution_count": 5,
   "metadata": {},
   "outputs": [],
   "source": [
    "indicadores_path = inifile.getMainPath() + '/Indicadores'\n",
    "writer = pd.ExcelWriter(posixpath.join(indicadores_path, \"reversiones.xlsx\"), engine='xlsxwriter')\n",
    "df.to_excel(writer, sheet_name = 'Indicadores')\n",
    "writer.save()"
   ]
  },
  {
   "cell_type": "code",
   "execution_count": null,
   "metadata": {},
   "outputs": [],
   "source": []
  }
 ],
 "metadata": {
  "kernelspec": {
   "display_name": "Python 3",
   "language": "python",
   "name": "python3"
  },
  "language_info": {
   "codemirror_mode": {
    "name": "ipython",
    "version": 3
   },
   "file_extension": ".py",
   "mimetype": "text/x-python",
   "name": "python",
   "nbconvert_exporter": "python",
   "pygments_lexer": "ipython3",
   "version": "3.7.6"
  }
 },
 "nbformat": 4,
 "nbformat_minor": 4
}
