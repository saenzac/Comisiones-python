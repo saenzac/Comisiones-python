{
 "cells": [
  {
   "cell_type": "code",
   "execution_count": 1,
   "metadata": {},
   "outputs": [],
   "source": [
    "#from Loader import fileloader as fl\n",
    "#from Loader import datahandledatabase as dhdb\n",
    "import ecomis\n",
    "import pandas as pd\n",
    "import numpy as np\n",
    "import time\n",
    "import posixpath\n",
    "from datetime import datetime\n",
    "import openpyxl as xlsx"
   ]
  },
  {
   "cell_type": "code",
   "execution_count": 2,
   "metadata": {},
   "outputs": [],
   "source": [
    "periodo = 202006\n",
    "#start_date_pre = '2018-08-17' # Only DDNN1\n",
    "start_date = '2020-06-01' # Captura teams\n",
    "end_date = '2020-06-30'# End of Captura teams\n",
    "\n",
    "inidb = ecomis.ReadIniFile(mercado=\"empresas\")\n",
    "TESTPATH = inidb.getTestPath()\n",
    "dbparser = inidb.getDbIniFileParser()\n",
    "\n",
    "dbmanager = ecomis.DbDataProcess(str(periodo))\n",
    "dbmanager.setParser(dbparser)\n",
    "\n",
    "#start_date_pre_dt = datetime.strptime(start_date_pre, '%Y-%m-%d')\n",
    "start_date_dt = datetime.strptime(start_date, '%Y-%m-%d')\n",
    "end_date_dt = datetime.strptime(end_date, '%Y-%m-%d')"
   ]
  },
  {
   "cell_type": "code",
   "execution_count": 3,
   "metadata": {},
   "outputs": [],
   "source": [
    "def textToDateConverter(df, date_cols):  \n",
    "    for datevalue in date_cols:\n",
    "        df[datevalue] = pd.to_datetime(df[datevalue],format='%Y-%m-%d', dayfirst = True)\n",
    "    \n",
    "    return df"
   ]
  },
  {
   "cell_type": "code",
   "execution_count": 4,
   "metadata": {
    "tags": []
   },
   "outputs": [
    {
     "name": "stdout",
     "output_type": "stream",
     "text": [
      "--- 15.961806297302246 seconds ---\n"
     ]
    },
    {
     "name": "stderr",
     "output_type": "stream",
     "text": [
      "C:\\Users\\jsaenza\\anaconda\\lib\\site-packages\\pandas\\core\\frame.py:3997: SettingWithCopyWarning: \n",
      "A value is trying to be set on a copy of a slice from a DataFrame\n",
      "\n",
      "See the caveats in the documentation: https://pandas.pydata.org/pandas-docs/stable/user_guide/indexing.html#returning-a-view-versus-a-copy\n",
      "  errors=errors,\n",
      "C:\\Users\\jsaenza\\anaconda\\lib\\site-packages\\ipykernel_launcher.py:74: SettingWithCopyWarning: \n",
      "A value is trying to be set on a copy of a slice from a DataFrame\n",
      "\n",
      "See the caveats in the documentation: https://pandas.pydata.org/pandas-docs/stable/user_guide/indexing.html#returning-a-view-versus-a-copy\n"
     ]
    }
   ],
   "source": [
    "start_time = time.time()\n",
    "\n",
    "# PROCESO DE REPORTERIA SOBRE DESACTIVACIONES VOZ\n",
    "#************************************************\n",
    "\n",
    "COLS_DEAC = ['PERIODO_DESACTIVACION','GERENCIA1','GERENCIA2','ZONAVENTA','DEPARTAMENTO',\n",
    "              'SUPERVISORKAM','VENDEDOR_ACTIVACION','VENDEDOR_OTRO','POSICION_EMPL',\n",
    "              'FECHA_PROCESO','CANALDEVENTA','CODIGO','RAZON_SOCIAL','CONTRATO','FEC_ACTIV','FEC_DESACTIVA', 'TELEFONO',\n",
    "              'ESTADO','PLAN_ACTIVACION','FECHA_ACTUALIZACION','PACK_CHIP','MOTIVO_DEAC','TIPODOC','DOCUMENTO',\n",
    "              'CEDENTE_ACTIVACION','PORTABILIDAD',\n",
    "              'TECNOLOGIAEQUIPO','ACCESS', 'ACCESSBOLSA','ACCESSPAQUETE','ACCESSLICENCIA','FECHA_CESE_EMPLEADO',\n",
    "              'COMISION_UNITARIA','DIAS_DESACTIVADOS','RANGO_DESACTIVACION','CATEGORIA_MOTIVO_DEAC',\n",
    "              'CATEGORIA_TECNOLOGIAEQUIPO','ACTIVIDAD', 'PENALIDAD','REVERSION','TIPO_REVERSION']\n",
    "\n",
    "DATE_COLUMNS = ['FECHA_PROCESO','FEC_ACTIV','FEC_DESACTIVA']\n",
    "DROP_COLUMNS = ['VENDEDOR_OTRO']\n",
    "RENAME_COLUMNS ={'COMISION_UNITARIA':'COMISION_UNITARIA_DB'}\n",
    "#HALF_MONTHTLY_TEAMS = ['MICHA','KRATOS','KAIZEN']\n",
    "HALF_MONTHTLY_TEAMS = []\n",
    "\n",
    "CHANNEL_FILTER1 = ['VD PYMES']\n",
    "CHANNEL_FILTER2 = ['CORPORACIONES','GRANDES CLIENTES','VENTA REGIONAL EMPRESA','DESARROLLO NEGOCIOS','INSIDE SALES']\n",
    "\n",
    "ORDER_COLUMN = ['PERIODO_DESACTIVACION','GERENCIA1','GERENCIA2','DEPARTAMENTO','ZONAVENTA','SUPERVISORKAM',\n",
    "                'VENDEDOR_ACTIVACION','FECHA_PROCESO','ESTADO']\n",
    "\n",
    "deacs_ = dbmanager.loadData('View_Deacs')\n",
    "\n",
    "deacs_ = textToDateConverter(deacs_, DATE_COLUMNS)\n",
    "deacs_ = deacs_[COLS_DEAC]\n",
    "\n",
    "#deacs_.to_csv(TESTPATH + str(periodo) + '_deacs_.csv', index = False) # Punto de control 1\n",
    "\n",
    "filter1 = deacs_['PERIODO_DESACTIVACION'] == start_date_dt.year * 100 + start_date_dt.month\n",
    "filter2 = deacs_['PERIODO_DESACTIVACION'] == end_date_dt.year * 100 + end_date_dt.month\n",
    "filter3 = deacs_['ZONAVENTA'].isin(HALF_MONTHTLY_TEAMS)\n",
    "filter4 = deacs_['FECHA_PROCESO'] <= end_date_dt\n",
    "filter5 = deacs_['FECHA_PROCESO'] >= start_date_dt\n",
    "\n",
    "deacs_t_1_1 = deacs_[filter1 & ~filter3]\n",
    "deacs_t_1_2 = deacs_[filter1 & filter5 & filter3]\n",
    "deacs_t = deacs_[filter2 & filter4 & filter3]\n",
    "\n",
    "deacs = deacs_t_1_1.append(deacs_t_1_2, ignore_index = True)\n",
    "deacs = deacs.append(deacs_t, ignore_index = True) \n",
    "\n",
    "#deacs.to_csv(TESTPATH + str(periodo) + '_deacs_1.csv', index = False)# Punto de control 2\n",
    "\n",
    "stage1 = deacs['GERENCIA2'].isin(CHANNEL_FILTER2)\n",
    "stage2 = deacs['GERENCIA2'].isin(CHANNEL_FILTER1)\n",
    "\n",
    "# Filtrando las deacs_gce\n",
    "#************************\n",
    "\n",
    "deacs_gce = deacs[stage1]\n",
    "# Corrigiendo los códigos de regiones múltiples\n",
    "filter_reg = deacs_gce['VENDEDOR_OTRO'] != ''\n",
    "#multiple_seller = deacs_gce[filter_reg]['VENDEDOR_OTRO'].values\n",
    "#deacs_gce.loc[filter_reg,'VENDEDOR'] = multiple_seller # verificar si va\n",
    "\n",
    "deacs_gce.drop(DROP_COLUMNS, axis =1, inplace = True)\n",
    "deacs_gce = deacs_gce.rename(columns = RENAME_COLUMNS)\n",
    "deacs_gce.sort_values(by = ORDER_COLUMN,ascending = [1,1,1,1,1,1,1,1,1], inplace = True )\n",
    "\n",
    "\n",
    "#\"\"\"\n",
    "\n",
    "# Filtrando las deacs_gcp\n",
    "#************************\n",
    "\n",
    "#\"\"\"\n",
    "deacs_gcp = deacs[stage2]\n",
    "deacs_gcp.drop(DROP_COLUMNS, axis =1, inplace = True)\n",
    "deacs_gcp.sort_values(by = ORDER_COLUMN,ascending = [1,1,1,1,1,1,1,1,1], inplace = True )\n",
    "\n",
    "\n",
    "#\"\"\"\n",
    "\n",
    "# Exportar archivos\n",
    "deacs_gce.to_csv(posixpath.join(TESTPATH, str(periodo) + '_deacs_gce.csv'), index = False, encoding='utf-8-sig')\n",
    "deacs_gcp.to_csv(posixpath.join(TESTPATH, str(periodo) + '_deacs_gcp.csv'), index = False, encoding='utf-8-sig')\n",
    "\n",
    "time_consuming = (time.time() - start_time) # In seconds\n",
    "\n",
    "print(\"--- %s seconds ---\" % time_consuming)"
   ]
  },
  {
   "cell_type": "code",
   "execution_count": null,
   "metadata": {},
   "outputs": [],
   "source": [
    "# Data Wrangling Deacs Data. En desarrollo\n",
    "# ********************************************************\n",
    "# Equipos quincenales : actualizar\n",
    "start_time = time.time()\n",
    "\n",
    "#half_monthly_teams = ['FALCO','MICHA','KRATOS','KAIZEN']\n",
    "half_monthly_teams = []\n",
    "end_date_dt = datetime.strptime(end_date, '%Y-%m-%d')\n",
    "\n",
    "DATE_COLUMNS_DATA = ['ACTION_DATE']\n",
    "\n",
    "ORDER_COLUMN_DATA = ['PERIODO_ACTIVACION','GERENCIA1','GERENCIA2','DEPARTAMENTO','ZONAVENTA','SUPERVISORKAM',\n",
    "                     'VENDEDOR_CROSS_SELLING','ACTION_DATE','ESTADO']\n",
    "\n",
    "CHANNEL_FILTER1 = ['J. FERNANDEZ','PLATAFORMAS COMERCIALES REGIONES']\n",
    "CHANNEL_FILTER2 = ['CORPORACIONES','GRANDES CLIENTES','VENTA REGIONAL EMPRESA']\n",
    "CHANNEL_FILTER3 = ['HOGAR']\n",
    "\n",
    "DROP_COLUMNS = ['GERENCIA2','ZONAVENTA','VENDEDOR_OTRO']\n",
    "DROP_COLUMNS2 = ['NEW_GERENCIA2','NEW_ZONAVENTA','VENDEDOR_OTRO']\n",
    "RENAME_COLUMNS_DATA ={'NEW_GERENCIA2':'GERENCIA2','NEW_ZONAVENTA':'ZONAVENTA'}\n",
    "\n",
    "COLS_DATA = ['PERIODO_ACTIVACION','GERENCIA1','GERENCIA2','NEW_GERENCIA2','ZONAVENTA','NEW_ZONAVENTA','DEPARTAMENTO',\n",
    "             'SUPERVISORKAM','VENDEDOR_CROSS_SELLING','VENDEDOR_OTRO','POSICION_EMPL','ACTION_DATE','CANALDEVENTA',\n",
    "             'CODIGO','RAZON_SOCIAL','CONTRATO','SERVICE','PHONENUMBER','ESTADO','FECHA_ACTUALIZACION','RUC','ACCESS_REAL',\n",
    "             'TIPO2','GANADO_POR','EQUIPO','CUENTA','OBSERVACIONES']\n",
    "\n",
    "# PROCESO DE REPORTERIA SOBRE DESACTIVACIONES DATA\n",
    "#*************************************************\n",
    "\n",
    "#deacs_ssaa = dbmanager.loadData('View_Deacs_SSAA')\n",
    "#deacs_procesados.to_csv(testpath + month + '_deacs_procesados.csv', index = False)\n",
    "#deacs_ssaa.to_csv(testpath + month + '_deacs_ssaa_procesados.csv', index = False)\n",
    "\n",
    "## Revisar los contratos nulos en BD ##\n",
    "\n",
    "time_consuming = (time.time() - start_time) # In seconds\n",
    "\n",
    "print(\"--- %s seconds ---\" % time_consuming)"
   ]
  },
  {
   "cell_type": "code",
   "execution_count": null,
   "metadata": {},
   "outputs": [],
   "source": [
    "wb = xlsx.load_workbook(PATH + PERIODO + FILE)\n",
    "type(wb)"
   ]
  },
  {
   "cell_type": "code",
   "execution_count": null,
   "metadata": {},
   "outputs": [],
   "source": [
    "deacs_[deacs_['CONTRATO']==46064367]"
   ]
  },
  {
   "cell_type": "code",
   "execution_count": null,
   "metadata": {},
   "outputs": [],
   "source": []
  }
 ],
 "metadata": {
  "kernelspec": {
   "display_name": "Python 3",
   "language": "python",
   "name": "python3"
  },
  "language_info": {
   "codemirror_mode": {
    "name": "ipython",
    "version": 3
   },
   "file_extension": ".py",
   "mimetype": "text/x-python",
   "name": "python",
   "nbconvert_exporter": "python",
   "pygments_lexer": "ipython3",
   "version": "3.7.6"
  }
 },
 "nbformat": 4,
 "nbformat_minor": 1
}
