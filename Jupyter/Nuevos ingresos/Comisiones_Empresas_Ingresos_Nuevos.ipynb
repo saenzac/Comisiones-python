{
 "cells": [
  {
   "cell_type": "code",
   "execution_count": 3,
   "metadata": {},
   "outputs": [
    {
     "data": {
      "application/vnd.jupyter.widget-view+json": {
       "model_id": "0d651be556e9460faa464c22a353d160",
       "version_major": 2,
       "version_minor": 0
      },
      "text/plain": [
       "Output(layout=Layout(border='solid', height='600px', width='100%'))"
      ]
     },
     "metadata": {},
     "output_type": "display_data"
    }
   ],
   "source": [
    "import logging\n",
    "import ecomis\n",
    "import pandas as pd\n",
    "import numpy as np\n",
    "import posixpath\n",
    "from datetime import datetime\n",
    "import time\n",
    "import xlwings as xw\n",
    "import copy\n",
    "\n",
    "logger = logging.getLogger(\"juplogger\")\n",
    "handler = ecomis.LogViewver()\n",
    "logger.addHandler(handler)\n",
    "logger.setLevel(logging.INFO)\n",
    "logger.propagate = False\n",
    "\n",
    "handler.show_logs()"
   ]
  },
  {
   "cell_type": "markdown",
   "metadata": {},
   "source": [
    "**Ingresos Nuevos**\n",
    "----------\n",
    "Ejecutar el siguiente codigo como requisito para las siguientes secciones de Ingresos Nuevos"
   ]
  },
  {
   "cell_type": "code",
   "execution_count": 4,
   "metadata": {
    "scrolled": true
   },
   "outputs": [],
   "source": [
    "month=\"202005\"\n",
    "inifile = ecomis.ReadIniFile(mercado=\"empresas\")\n",
    "parser = inifile.getIniFileParser()\n",
    "\n",
    "# Configurando los archivos de configuración para administrar\n",
    "# la base de datos\n",
    "dbparser = inifile.getDbIniFileParser()\n",
    "dbmanager = ecomis.DbDataProcess(month)\n",
    "dbmanager.setParser(dbparser)"
   ]
  },
  {
   "cell_type": "markdown",
   "metadata": {},
   "source": [
    "***<span style=\"color:red\">Copiar</span>*** Ingresos Nuevos del Archivo de Atracción\n",
    "-----\n",
    "\n",
    "Copia los ingresos nuevos desde el archivo enviado por atracción hacia el archivo de Ingresos Nuevos de comisiones.\n",
    "\n",
    "**Requisitos**: \n",
    "- Haber filtrado las personas de interes en el archivo que envia attracion\n",
    "- Asegurarse la hoja se llame BASE en el archivo de ingresos nuevos de comisiones\n",
    "- Asegurarse que los nombres de columnas del archivo de atraccion no hayan cambiado\n",
    "\n",
    "**Pasos**:\n",
    "- En el archivo de atracción filtrar solo las personas que comisionan, eliminar las demás\n",
    "- Ejecutar script\n",
    "- Convertir la columna DNI a formato Texto\n",
    "- Jalar las fórmulas\n",
    "- Proseguir con la subida a la base de datos de los nuevos ingresos\n",
    "\n",
    "\n",
    "\n"
   ]
  },
  {
   "cell_type": "code",
   "execution_count": 4,
   "metadata": {},
   "outputs": [
    {
     "data": {
      "application/vnd.jupyter.widget-view+json": {
       "model_id": "72e5d63726354bb0a5cf40ea1d9c2507",
       "version_major": 2,
       "version_minor": 0
      },
      "text/plain": [
       "Output(layout=Layout(border='solid', height='250px', width='100%'), outputs=({'name': 'stdout', 'output_type':…"
      ]
     },
     "metadata": {},
     "output_type": "display_data"
    }
   ],
   "source": [
    "## Cargamos el archivo de Ingresos (RRHH Ingresos.xlsx) porque para que \n",
    "# xlwings abra el archivo necesita el nombre del fichero y también\n",
    "# necesitamos las columnas definidas en el archivo de configuracion.\n",
    "section_ingresos = ecomis.SectionObj(inifile,\"Ingresos2\")\n",
    "# Guardamos el nombre de nuestro archivo de nuevos ingresos.\n",
    "comis_ingresos_archivo_nombre = section_ingresos.getParameter('filelist')[0]\n",
    "# Obtenemos las columnas que deberia tener el reporte de ingresos nuevos.\n",
    "cols_required = section_ingresos.getParameter('cols')\n",
    "\n",
    "\n",
    "## Obtenemos la lista de los nombres de los libros\n",
    "# actualmente abiertos en Excel.\n",
    "wb_names = ecomis.getOpenedWorkbooksNames()\n",
    "#Seleccionamos el archivo que contenga \"REPORTEREMUNERACIONES\"\n",
    "keyname = \"REPORTEREMUNERACIONES\"\n",
    "atraccion_ingresos_filename = [s for s in wb_names if keyname in s][0]\n",
    "#Nos conectamos al archivo y hoja de calculo enviado por atraccion\n",
    "wb_ingresos = xw.Book(atraccion_ingresos_filename)\n",
    "sht = wb_ingresos.sheets[0]\n",
    "#Nos posicionamos en la celda A1 extendemos hacia la esquina opuesta \n",
    "#retornando el contenido como dataframe\n",
    "df = sht.range('A1').options(pd.DataFrame,\n",
    "                         index=False, expand='table').value\n",
    "\n",
    "#Filtramos las columnas que debe tener el archivo de atraccion.\n",
    "#Eliminamos los 3 ultimos elementos de cols_required y concatenamos\n",
    "#con las demas columnas que contienen informacion que necesitamos.\n",
    "cols_required = cols_required[:-3] + ['Variable', 'VP', 'CC', 'Jefe DIrecto']\n",
    "logger.info(cols_required[:-3])\n",
    "#Obtenemos el dataframe a ser pegado en nuestro archivo de comisiones.\n",
    "df_final = df[cols_required]\n",
    "\n",
    "#Nos conectamos a nuestro archivo de Ingresos\n",
    "wb_comis_ingresos = xw.Book(comis_ingresos_archivo_nombre)\n",
    "sheet_comis_ingresos = wb_comis_ingresos.sheets('BASE')\n",
    "#Obtener el nro. de fila del último registro\n",
    "lastrow = sheet_comis_ingresos.api.Cells(65536, 1).End(xw.constants.Direction.xlUp).Row\n",
    "#Pegamos el dataframe desde la primera fila vacia hacia abajo.\n",
    "sheet_comis_ingresos.range((lastrow+1, 1)).options(header=False, index=False).value = df_final\n",
    "\n"
   ]
  },
  {
   "cell_type": "markdown",
   "metadata": {},
   "source": [
    "Insertar ***<span style=\"color:red\">Nuevos</span>*** Ingresos en la BD\n",
    "-----\n",
    "\n",
    "Inserta los registros mracados con ADD_TO_DB = \"SI\" del dataframe de Ingresos de comisiones a la base de datos"
   ]
  },
  {
   "cell_type": "code",
   "execution_count": 6,
   "metadata": {},
   "outputs": [
    {
     "name": "stderr",
     "output_type": "stream",
     "text": [
      "C:\\Users\\jsaenza\\anaconda\\lib\\site-packages\\pandas\\core\\frame.py:3694: SettingWithCopyWarning: \n",
      "A value is trying to be set on a copy of a slice from a DataFrame\n",
      "\n",
      "See the caveats in the documentation: http://pandas.pydata.org/pandas-docs/stable/indexing.html#indexing-view-versus-copy\n",
      "  errors=errors)\n"
     ]
    }
   ],
   "source": [
    "section_ingresos = ecomis.SectionObj(inifile,\"Ingresos\")\n",
    "ingresos = ecomis.LoadFileProcess(section_ingresos).loadFile()\n",
    "section_ingresos_cdp = ecomis.SectionObj(inifile,\"IngresosCDP\")\n",
    "ingresos_cdp = ecomis.LoadFileProcess(section_ingresos_cdp).loadFile()\n",
    "\n",
    "# Separamos los que se van a agregar a la base de datos y los que unicamente se va actualizar su CODIGO_INAR\n",
    "ingresos_add = ingresos[ingresos.ADD_TO_DB == \"SI\"]\n",
    "ingresos_add.drop(['ADD_TO_DB','UPDATE_CODIGO_INAR','UPDATE_TARGET'], axis=1, inplace=True)\n",
    "\n",
    "ingresos_add_CDP = ingresos_cdp[ingresos_cdp.ADD_TO_DB == \"SI\"]\n",
    "ingresos_add_CDP.drop(['ADD_TO_DB','UPDATE_PUESTO','UPDATE_CODIGO_INAR','UPDATE_TARGET'], axis=1, inplace=True)"
   ]
  },
  {
   "cell_type": "code",
   "execution_count": 7,
   "metadata": {},
   "outputs": [
    {
     "data": {
      "text/html": [
       "<div>\n",
       "<style scoped>\n",
       "    .dataframe tbody tr th:only-of-type {\n",
       "        vertical-align: middle;\n",
       "    }\n",
       "\n",
       "    .dataframe tbody tr th {\n",
       "        vertical-align: top;\n",
       "    }\n",
       "\n",
       "    .dataframe thead th {\n",
       "        text-align: right;\n",
       "    }\n",
       "</style>\n",
       "<table border=\"1\" class=\"dataframe\">\n",
       "  <thead>\n",
       "    <tr style=\"text-align: right;\">\n",
       "      <th></th>\n",
       "      <th>DNI</th>\n",
       "      <th>NOMBRES</th>\n",
       "      <th>APELLIDO_PATERNO</th>\n",
       "      <th>POSICION_EMPL</th>\n",
       "      <th>FECHA_INGRESO</th>\n",
       "      <th>CODIGO_INAR</th>\n",
       "      <th>TARGET</th>\n",
       "    </tr>\n",
       "  </thead>\n",
       "  <tbody>\n",
       "    <tr>\n",
       "      <th>4</th>\n",
       "      <td>47451980</td>\n",
       "      <td>CONDORI PICON MIGUEL LINO</td>\n",
       "      <td>CONDORI PICON</td>\n",
       "      <td>CONSULTOR VENTAS DIRECTAS</td>\n",
       "      <td>2020-04-01</td>\n",
       "      <td>mlcondori</td>\n",
       "      <td>3000</td>\n",
       "    </tr>\n",
       "    <tr>\n",
       "      <th>5</th>\n",
       "      <td>09999439</td>\n",
       "      <td>NÚÑEZ SALAZAR KARINNA JANET</td>\n",
       "      <td>NÚÑEZ SALAZAR</td>\n",
       "      <td>EJECUTIVO INSIDE SALES</td>\n",
       "      <td>2020-04-01</td>\n",
       "      <td>kjnuñez</td>\n",
       "      <td>1800</td>\n",
       "    </tr>\n",
       "  </tbody>\n",
       "</table>\n",
       "</div>"
      ],
      "text/plain": [
       "        DNI                      NOMBRES APELLIDO_PATERNO  \\\n",
       "4  47451980    CONDORI PICON MIGUEL LINO    CONDORI PICON   \n",
       "5  09999439  NÚÑEZ SALAZAR KARINNA JANET    NÚÑEZ SALAZAR   \n",
       "\n",
       "               POSICION_EMPL FECHA_INGRESO CODIGO_INAR  TARGET  \n",
       "4  CONSULTOR VENTAS DIRECTAS    2020-04-01   mlcondori    3000  \n",
       "5     EJECUTIVO INSIDE SALES    2020-04-01     kjnuñez    1800  "
      ]
     },
     "execution_count": 7,
     "metadata": {},
     "output_type": "execute_result"
    }
   ],
   "source": [
    "ingresos_add"
   ]
  },
  {
   "cell_type": "markdown",
   "metadata": {},
   "source": [
    "**Ejecutar lo siguiente para modificar la BD**"
   ]
  },
  {
   "cell_type": "code",
   "execution_count": 8,
   "metadata": {},
   "outputs": [],
   "source": [
    "dbmanager.dbOperation('insertwodeletion','tblEmpleados',ingresos_add)\n",
    "#dbmanager.dbOperation('insertwodeletion','tblEmpleados',ingresos_add_CDP)"
   ]
  },
  {
   "cell_type": "markdown",
   "metadata": {},
   "source": [
    "Actualizar ***<span style=\"color:red\">Codigo Inar</span>*** Ingresos en la BD\n",
    "----\n",
    "\n",
    "Actualiza los registros marcados con UPDATE_CORDIGO_INAR = \"SI\" del dataframe de ingresos a la Base de Datos."
   ]
  },
  {
   "cell_type": "code",
   "execution_count": 11,
   "metadata": {},
   "outputs": [
    {
     "data": {
      "text/html": [
       "<div>\n",
       "<style scoped>\n",
       "    .dataframe tbody tr th:only-of-type {\n",
       "        vertical-align: middle;\n",
       "    }\n",
       "\n",
       "    .dataframe tbody tr th {\n",
       "        vertical-align: top;\n",
       "    }\n",
       "\n",
       "    .dataframe thead th {\n",
       "        text-align: right;\n",
       "    }\n",
       "</style>\n",
       "<table border=\"1\" class=\"dataframe\">\n",
       "  <thead>\n",
       "    <tr style=\"text-align: right;\">\n",
       "      <th></th>\n",
       "      <th>DNI</th>\n",
       "      <th>NOMBRES</th>\n",
       "      <th>POSICION_EMPL</th>\n",
       "      <th>FECHA_INGRESO</th>\n",
       "      <th>TARGET</th>\n",
       "    </tr>\n",
       "  </thead>\n",
       "  <tbody>\n",
       "  </tbody>\n",
       "</table>\n",
       "</div>"
      ],
      "text/plain": [
       "Empty DataFrame\n",
       "Columns: [DNI, NOMBRES, POSICION_EMPL, FECHA_INGRESO, TARGET]\n",
       "Index: []"
      ]
     },
     "execution_count": 11,
     "metadata": {},
     "output_type": "execute_result"
    }
   ],
   "source": [
    "section_ingresos = ecomis.SectionObj(inifile,\"Ingresos\")\n",
    "ingresos = ecomis.LoadFileProcess(section_ingresos).loadFile()\n",
    "section_ingresos_cdp = ecomis.SectionObj(inifile,\"IngresosCDP\")\n",
    "ingresos_cdp = ecomis.LoadFileProcess(section_ingresos_cdp).loadFile()\n",
    "\n",
    "ingresos_update = ingresos[ingresos.UPDATE_CODIGO_INAR == \"SI\"]\n",
    "ingresos_update.drop(['ADD_TO_DB','UPDATE_CODIGO_INAR','UPDATE_TARGET'], axis=1, inplace=True)\n",
    "\n",
    "ingresos_update_CDP = ingresos_cdp[ingresos_cdp.UPDATE_CODIGO_INAR == \"SI\"]\n",
    "ingresos_update_CDP.drop(['ADD_TO_DB','UPDATE_CODIGO_INAR','UPDATE_PUESTO','UPDATE_TARGET'], axis=1, inplace=True)\n",
    "ingresos_update_CDP"
   ]
  },
  {
   "cell_type": "code",
   "execution_count": 14,
   "metadata": {},
   "outputs": [
    {
     "data": {
      "text/html": [
       "<div>\n",
       "<style scoped>\n",
       "    .dataframe tbody tr th:only-of-type {\n",
       "        vertical-align: middle;\n",
       "    }\n",
       "\n",
       "    .dataframe tbody tr th {\n",
       "        vertical-align: top;\n",
       "    }\n",
       "\n",
       "    .dataframe thead th {\n",
       "        text-align: right;\n",
       "    }\n",
       "</style>\n",
       "<table border=\"1\" class=\"dataframe\">\n",
       "  <thead>\n",
       "    <tr style=\"text-align: right;\">\n",
       "      <th></th>\n",
       "      <th>DNI</th>\n",
       "      <th>NOMBRES</th>\n",
       "      <th>APELLIDO_PATERNO</th>\n",
       "      <th>POSICION_EMPL</th>\n",
       "      <th>FECHA_INGRESO</th>\n",
       "      <th>CODIGO_INAR</th>\n",
       "      <th>TARGET</th>\n",
       "    </tr>\n",
       "  </thead>\n",
       "  <tbody>\n",
       "  </tbody>\n",
       "</table>\n",
       "</div>"
      ],
      "text/plain": [
       "Empty DataFrame\n",
       "Columns: [DNI, NOMBRES, APELLIDO_PATERNO, POSICION_EMPL, FECHA_INGRESO, CODIGO_INAR, TARGET]\n",
       "Index: []"
      ]
     },
     "execution_count": 14,
     "metadata": {},
     "output_type": "execute_result"
    }
   ],
   "source": [
    "ingresos_update"
   ]
  },
  {
   "cell_type": "markdown",
   "metadata": {},
   "source": [
    "**Ejecutar lo siguiente para modificar la BD**"
   ]
  },
  {
   "cell_type": "code",
   "execution_count": 13,
   "metadata": {},
   "outputs": [],
   "source": [
    "dbmanager.dbOperation('update','UpdateEmpleadoCodigoInar',ingresos_update)\n",
    "dbmanager.dbOperation('update','UpdateEmpleadoCodigoInar',ingresos_update_CDP)"
   ]
  },
  {
   "cell_type": "markdown",
   "metadata": {},
   "source": [
    "Actualizar ***<span style=\"color:red\">Puestos</span>*** Ingresos en la BD\n",
    "-----\n",
    "\n",
    "Actualiza los puestos por DNI ingresados en el archivo de Ingresos de comisiones pestaña \"UpdatePuestos\" hacia la Base de Datos."
   ]
  },
  {
   "cell_type": "code",
   "execution_count": 3,
   "metadata": {},
   "outputs": [],
   "source": [
    "section_ingresos_cdp = ecomis.SectionObj(inifile,\"IngresosCDP\")\n",
    "ingresos_cdp = ecomis.LoadFileProcess(section_ingresos_cdp).loadFile()\n",
    "\n",
    "ingresos_update_puesto_CDP = ingresos_cdp[ingresos_cdp.UPDATE_PUESTO == \"SI\"]\n",
    "ingresos_update_puesto_CDP.drop(['ADD_TO_DB','UPDATE_CODIGO_INAR','UPDATE_PUESTO','UPDATE_TARGET'], axis=1, inplace=True)"
   ]
  },
  {
   "cell_type": "code",
   "execution_count": 4,
   "metadata": {},
   "outputs": [
    {
     "data": {
      "text/html": [
       "<div>\n",
       "<style scoped>\n",
       "    .dataframe tbody tr th:only-of-type {\n",
       "        vertical-align: middle;\n",
       "    }\n",
       "\n",
       "    .dataframe tbody tr th {\n",
       "        vertical-align: top;\n",
       "    }\n",
       "\n",
       "    .dataframe thead th {\n",
       "        text-align: right;\n",
       "    }\n",
       "</style>\n",
       "<table border=\"1\" class=\"dataframe\">\n",
       "  <thead>\n",
       "    <tr style=\"text-align: right;\">\n",
       "      <th></th>\n",
       "      <th>DNI</th>\n",
       "      <th>NOMBRES</th>\n",
       "      <th>POSICION_EMPL</th>\n",
       "      <th>FECHA_INGRESO</th>\n",
       "      <th>TARGET</th>\n",
       "    </tr>\n",
       "  </thead>\n",
       "  <tbody>\n",
       "    <tr>\n",
       "      <td>0</td>\n",
       "      <td>45219594</td>\n",
       "      <td>TAPIA PANDURO KEY ELAR</td>\n",
       "      <td>CONSULTOR SENIOR VENTAS DIRECTAS</td>\n",
       "      <td>2019-11-01</td>\n",
       "      <td>4200</td>\n",
       "    </tr>\n",
       "  </tbody>\n",
       "</table>\n",
       "</div>"
      ],
      "text/plain": [
       "        DNI                 NOMBRES                     POSICION_EMPL  \\\n",
       "0  45219594  TAPIA PANDURO KEY ELAR  CONSULTOR SENIOR VENTAS DIRECTAS   \n",
       "\n",
       "  FECHA_INGRESO  TARGET  \n",
       "0    2019-11-01    4200  "
      ]
     },
     "execution_count": 4,
     "metadata": {},
     "output_type": "execute_result"
    }
   ],
   "source": [
    "ingresos_update_puesto_CDP"
   ]
  },
  {
   "cell_type": "markdown",
   "metadata": {},
   "source": [
    "**Ejecutar lo siguiente para modificar la BD**"
   ]
  },
  {
   "cell_type": "code",
   "execution_count": 5,
   "metadata": {},
   "outputs": [],
   "source": [
    "dbmanager.dbOperation('update','UpdatePuestoEmpleado',ingresos_update_puesto_CDP)"
   ]
  },
  {
   "cell_type": "markdown",
   "metadata": {},
   "source": [
    "Actualizar ***<span style=\"color:red\">TARGETS</span>*** Ingresos en la BD\n",
    "-----\n",
    "\n",
    "Actualiza los targets por DNI en la base de datos."
   ]
  },
  {
   "cell_type": "code",
   "execution_count": 7,
   "metadata": {},
   "outputs": [
    {
     "name": "stderr",
     "output_type": "stream",
     "text": [
      "C:\\Users\\jsaenza\\Anaconda3\\lib\\site-packages\\pandas\\core\\frame.py:3694: SettingWithCopyWarning: \n",
      "A value is trying to be set on a copy of a slice from a DataFrame\n",
      "\n",
      "See the caveats in the documentation: http://pandas.pydata.org/pandas-docs/stable/indexing.html#indexing-view-versus-copy\n",
      "  errors=errors)\n"
     ]
    },
    {
     "data": {
      "text/html": [
       "<div>\n",
       "<style scoped>\n",
       "    .dataframe tbody tr th:only-of-type {\n",
       "        vertical-align: middle;\n",
       "    }\n",
       "\n",
       "    .dataframe tbody tr th {\n",
       "        vertical-align: top;\n",
       "    }\n",
       "\n",
       "    .dataframe thead th {\n",
       "        text-align: right;\n",
       "    }\n",
       "</style>\n",
       "<table border=\"1\" class=\"dataframe\">\n",
       "  <thead>\n",
       "    <tr style=\"text-align: right;\">\n",
       "      <th></th>\n",
       "      <th>DNI</th>\n",
       "      <th>NOMBRES</th>\n",
       "      <th>POSICION_EMPL</th>\n",
       "      <th>FECHA_INGRESO</th>\n",
       "      <th>TARGET</th>\n",
       "    </tr>\n",
       "  </thead>\n",
       "  <tbody>\n",
       "  </tbody>\n",
       "</table>\n",
       "</div>"
      ],
      "text/plain": [
       "Empty DataFrame\n",
       "Columns: [DNI, NOMBRES, POSICION_EMPL, FECHA_INGRESO, TARGET]\n",
       "Index: []"
      ]
     },
     "execution_count": 7,
     "metadata": {},
     "output_type": "execute_result"
    }
   ],
   "source": [
    "section_ingresos = ecomis.SectionObj(inifile,\"Ingresos\")\n",
    "ingresos = ecomis.LoadFileProcess(section_ingresos).loadFile()\n",
    "section_ingresos_cdp = ecomis.SectionObj(inifile,\"IngresosCDP\")\n",
    "ingresos_cdp = ecomis.LoadFileProcess(section_ingresos_cdp).loadFile()\n",
    "\n",
    "ingresos_update = ingresos[ingresos.UPDATE_TARGET == \"SI\"]\n",
    "ingresos_update.drop(['ADD_TO_DB','UPDATE_CODIGO_INAR','UPDATE_TARGET'], axis=1, inplace=True)\n",
    "\n",
    "ingresos_update_CDP = ingresos_cdp[ingresos_cdp.UPDATE_TARGET == \"SI\"]\n",
    "ingresos_update_CDP.drop(['ADD_TO_DB','UPDATE_CODIGO_INAR','UPDATE_PUESTO','UPDATE_TARGET'], axis=1, inplace=True)\n",
    "ingresos_update_CDP"
   ]
  },
  {
   "cell_type": "code",
   "execution_count": 8,
   "metadata": {},
   "outputs": [
    {
     "data": {
      "text/html": [
       "<div>\n",
       "<style scoped>\n",
       "    .dataframe tbody tr th:only-of-type {\n",
       "        vertical-align: middle;\n",
       "    }\n",
       "\n",
       "    .dataframe tbody tr th {\n",
       "        vertical-align: top;\n",
       "    }\n",
       "\n",
       "    .dataframe thead th {\n",
       "        text-align: right;\n",
       "    }\n",
       "</style>\n",
       "<table border=\"1\" class=\"dataframe\">\n",
       "  <thead>\n",
       "    <tr style=\"text-align: right;\">\n",
       "      <th></th>\n",
       "      <th>DNI</th>\n",
       "      <th>NOMBRES</th>\n",
       "      <th>APELLIDO_PATERNO</th>\n",
       "      <th>POSICION_EMPL</th>\n",
       "      <th>FECHA_INGRESO</th>\n",
       "      <th>CODIGO_INAR</th>\n",
       "      <th>TARGET</th>\n",
       "    </tr>\n",
       "  </thead>\n",
       "  <tbody>\n",
       "    <tr>\n",
       "      <th>12</th>\n",
       "      <td>41215255</td>\n",
       "      <td>ALFARO LUNA VICTORIA CARLOS ALBERTO</td>\n",
       "      <td>ALFARO LUNA VICTORIA</td>\n",
       "      <td>EJECUTIVO DE DESARROLLO PYME REGIONES</td>\n",
       "      <td>2019-09-01</td>\n",
       "      <td>calfaro</td>\n",
       "      <td>2200</td>\n",
       "    </tr>\n",
       "    <tr>\n",
       "      <th>13</th>\n",
       "      <td>71407612</td>\n",
       "      <td>ARIMBORGO DIAZ ROSARIO</td>\n",
       "      <td>ARIMBORGO DIAZ</td>\n",
       "      <td>ASESOR DE SERVICIOS EMPRESAS PLUS</td>\n",
       "      <td>2019-09-01</td>\n",
       "      <td>rarimborgo</td>\n",
       "      <td>600</td>\n",
       "    </tr>\n",
       "    <tr>\n",
       "      <th>15</th>\n",
       "      <td>43166770</td>\n",
       "      <td>CONTRERAS SANCHEZ JOSE FRANCISCO</td>\n",
       "      <td>CONTRERAS SANCHEZ</td>\n",
       "      <td>EJECUTIVO DE DESARROLLO PYME REGIONES</td>\n",
       "      <td>2019-09-01</td>\n",
       "      <td>jcontreras</td>\n",
       "      <td>2200</td>\n",
       "    </tr>\n",
       "    <tr>\n",
       "      <th>17</th>\n",
       "      <td>40969083</td>\n",
       "      <td>LAZARO RUSSELL CHRISTIAN ANTHONY</td>\n",
       "      <td>LAZARO RUSSELL</td>\n",
       "      <td>EJECUTIVO DE DESARROLLO PYME REGIONES</td>\n",
       "      <td>2019-09-01</td>\n",
       "      <td>clazaro</td>\n",
       "      <td>2200</td>\n",
       "    </tr>\n",
       "    <tr>\n",
       "      <th>19</th>\n",
       "      <td>48272168</td>\n",
       "      <td>PAREDES VEGA ESTHER CELINA</td>\n",
       "      <td>PAREDES VEGA</td>\n",
       "      <td>ASESOR DE SERVICIOS EMPRESAS PLUS</td>\n",
       "      <td>2019-09-01</td>\n",
       "      <td>eparedes</td>\n",
       "      <td>600</td>\n",
       "    </tr>\n",
       "    <tr>\n",
       "      <th>20</th>\n",
       "      <td>44872218</td>\n",
       "      <td>SANTA CRUZ BAZALAR JOSE CARLOS</td>\n",
       "      <td>SANTA CRUZ BAZALAR</td>\n",
       "      <td>EJECUTIVO DE DESARROLLO PYME</td>\n",
       "      <td>2019-09-01</td>\n",
       "      <td>jsantacruz</td>\n",
       "      <td>2500</td>\n",
       "    </tr>\n",
       "    <tr>\n",
       "      <th>21</th>\n",
       "      <td>48153838</td>\n",
       "      <td>TELLO TELLO ALICIA</td>\n",
       "      <td>TELLO TELLO</td>\n",
       "      <td>EJECUTIVO DE DESARROLLO PYME REGIONES</td>\n",
       "      <td>2019-09-01</td>\n",
       "      <td>atello</td>\n",
       "      <td>2200</td>\n",
       "    </tr>\n",
       "    <tr>\n",
       "      <th>23</th>\n",
       "      <td>41663955</td>\n",
       "      <td>ZEBALLOS RIVAS ANDREA</td>\n",
       "      <td>ZEBALLOS RIVAS</td>\n",
       "      <td>EJECUTIVO DE REGIONES</td>\n",
       "      <td>2019-09-01</td>\n",
       "      <td>azeballos</td>\n",
       "      <td>4000</td>\n",
       "    </tr>\n",
       "    <tr>\n",
       "      <th>24</th>\n",
       "      <td>47145757</td>\n",
       "      <td>CHIRINOS ESPINOZA LUIS OMAR</td>\n",
       "      <td>CHIRINOS ESPINOZA</td>\n",
       "      <td>ASESOR DE SERVICIOS PREFERENTES</td>\n",
       "      <td>2019-09-16</td>\n",
       "      <td>lchirinos</td>\n",
       "      <td>600</td>\n",
       "    </tr>\n",
       "    <tr>\n",
       "      <th>26</th>\n",
       "      <td>47153042</td>\n",
       "      <td>MENDOZA ARÉVALO MARITA DEL CARMEN</td>\n",
       "      <td>MENDOZA ARÉVALO</td>\n",
       "      <td>EJECUTIVO DE DESARROLLO PYME</td>\n",
       "      <td>2019-09-16</td>\n",
       "      <td>mmendoza</td>\n",
       "      <td>2500</td>\n",
       "    </tr>\n",
       "  </tbody>\n",
       "</table>\n",
       "</div>"
      ],
      "text/plain": [
       "         DNI                              NOMBRES      APELLIDO_PATERNO  \\\n",
       "12  41215255  ALFARO LUNA VICTORIA CARLOS ALBERTO  ALFARO LUNA VICTORIA   \n",
       "13  71407612               ARIMBORGO DIAZ ROSARIO        ARIMBORGO DIAZ   \n",
       "15  43166770     CONTRERAS SANCHEZ JOSE FRANCISCO     CONTRERAS SANCHEZ   \n",
       "17  40969083     LAZARO RUSSELL CHRISTIAN ANTHONY        LAZARO RUSSELL   \n",
       "19  48272168           PAREDES VEGA ESTHER CELINA          PAREDES VEGA   \n",
       "20  44872218       SANTA CRUZ BAZALAR JOSE CARLOS    SANTA CRUZ BAZALAR   \n",
       "21  48153838                   TELLO TELLO ALICIA           TELLO TELLO   \n",
       "23  41663955                ZEBALLOS RIVAS ANDREA        ZEBALLOS RIVAS   \n",
       "24  47145757          CHIRINOS ESPINOZA LUIS OMAR     CHIRINOS ESPINOZA   \n",
       "26  47153042    MENDOZA ARÉVALO MARITA DEL CARMEN       MENDOZA ARÉVALO   \n",
       "\n",
       "                            POSICION_EMPL FECHA_INGRESO CODIGO_INAR  TARGET  \n",
       "12  EJECUTIVO DE DESARROLLO PYME REGIONES    2019-09-01     calfaro    2200  \n",
       "13      ASESOR DE SERVICIOS EMPRESAS PLUS    2019-09-01  rarimborgo     600  \n",
       "15  EJECUTIVO DE DESARROLLO PYME REGIONES    2019-09-01  jcontreras    2200  \n",
       "17  EJECUTIVO DE DESARROLLO PYME REGIONES    2019-09-01     clazaro    2200  \n",
       "19      ASESOR DE SERVICIOS EMPRESAS PLUS    2019-09-01    eparedes     600  \n",
       "20           EJECUTIVO DE DESARROLLO PYME    2019-09-01  jsantacruz    2500  \n",
       "21  EJECUTIVO DE DESARROLLO PYME REGIONES    2019-09-01      atello    2200  \n",
       "23                  EJECUTIVO DE REGIONES    2019-09-01   azeballos    4000  \n",
       "24        ASESOR DE SERVICIOS PREFERENTES    2019-09-16   lchirinos     600  \n",
       "26           EJECUTIVO DE DESARROLLO PYME    2019-09-16    mmendoza    2500  "
      ]
     },
     "execution_count": 8,
     "metadata": {},
     "output_type": "execute_result"
    }
   ],
   "source": [
    "ingresos_update"
   ]
  },
  {
   "cell_type": "code",
   "execution_count": 9,
   "metadata": {},
   "outputs": [],
   "source": [
    "dbmanager.dbOperation('update','UpdateTargetEmpleado',ingresos_update)\n",
    "dbmanager.dbOperation('update','UpdateTargetEmpleado',ingresos_update_CDP)"
   ]
  },
  {
   "cell_type": "code",
   "execution_count": null,
   "metadata": {},
   "outputs": [],
   "source": []
  }
 ],
 "metadata": {
  "kernelspec": {
   "display_name": "Python 3",
   "language": "python",
   "name": "python3"
  },
  "language_info": {
   "codemirror_mode": {
    "name": "ipython",
    "version": 3
   },
   "file_extension": ".py",
   "mimetype": "text/x-python",
   "name": "python",
   "nbconvert_exporter": "python",
   "pygments_lexer": "ipython3",
   "version": "3.7.6"
  }
 },
 "nbformat": 4,
 "nbformat_minor": 1
}
