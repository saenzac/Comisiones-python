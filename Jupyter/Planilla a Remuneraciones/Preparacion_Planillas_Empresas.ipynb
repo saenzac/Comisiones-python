{
 "cells": [
  {
   "cell_type": "code",
   "execution_count": 9,
   "metadata": {},
   "outputs": [],
   "source": [
    "#from Loader import fileloader_proto as fl\n",
    "import ecomis\n",
    "import pandas as pd\n",
    "import posixpath"
   ]
  },
  {
   "cell_type": "code",
   "execution_count": 10,
   "metadata": {},
   "outputs": [],
   "source": [
    "month='202007'\n",
    "\n",
    "inifile = ecomis.ReadIniFile(mercado=\"empresas\")\n",
    "section = ecomis.SectionObj(inifile,\"Planillas\",month)\n",
    "empresas_mainpath = section.getParameter('mainpath_mercado') + '/Planillas'\n",
    "loader = ecomis.LoadFileProcess(section)"
   ]
  },
  {
   "cell_type": "code",
   "execution_count": 11,
   "metadata": {},
   "outputs": [],
   "source": [
    "planillas = loader.loadFile()\n",
    "planillas = planillas[planillas[\"ESQUEMA\"] != \"SPARE POSITION\"]"
   ]
  },
  {
   "cell_type": "code",
   "execution_count": 12,
   "metadata": {},
   "outputs": [],
   "source": [
    "writer = pd.ExcelWriter(posixpath.join(empresas_mainpath, month + \"test.xlsx\"), engine='xlsxwriter')\n",
    "planillas.to_excel(writer, sheet_name = 'Sheet1')\n",
    "writer.save()"
   ]
  },
  {
   "cell_type": "code",
   "execution_count": null,
   "metadata": {},
   "outputs": [],
   "source": []
  }
 ],
 "metadata": {
  "kernelspec": {
   "display_name": "Python 3",
   "language": "python",
   "name": "python3"
  },
  "language_info": {
   "codemirror_mode": {
    "name": "ipython",
    "version": 3
   },
   "file_extension": ".py",
   "mimetype": "text/x-python",
   "name": "python",
   "nbconvert_exporter": "python",
   "pygments_lexer": "ipython3",
   "version": "3.7.6"
  }
 },
 "nbformat": 4,
 "nbformat_minor": 2
}
