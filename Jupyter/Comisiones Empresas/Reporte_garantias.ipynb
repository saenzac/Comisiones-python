{
 "cells": [
  {
   "cell_type": "code",
   "execution_count": 1,
   "metadata": {},
   "outputs": [],
   "source": [
    "#from Loader import fileloader as fl\n",
    "#from Loader import datahandledatabase as dhdb\n",
    "import ecomis\n",
    "import pandas as pd\n",
    "import numpy as np\n",
    "import time\n",
    "import posixpath\n",
    "from datetime import datetime\n",
    "\n",
    "periodo = 202006\n",
    "\n",
    "inidb = ecomis.ReadIniFile(mercado=\"empresas\")\n",
    "TESTPATH = inidb.getTestPath()\n",
    "\n",
    "dbparser = inidb.getDbIniFileParser()\n",
    "\n",
    "dbmanager = ecomis.DbDataProcess(str(periodo))\n",
    "dbmanager.setParser(dbparser)\n",
    "\n",
    "#To make sqlite dates recognized by external software we follow the ISO-8601 norm so\n",
    "#date and time in the following format:  YYYY-MM-DD HH:MM:SS.SSS\n",
    "def textToDateConverter(df, date_cols):\n",
    "    for datevalue in date_cols:\n",
    "        df[datevalue] = pd.to_datetime(df[datevalue],format='%Y-%m-%d', dayfirst = True)\n",
    "    return df"
   ]
  },
  {
   "cell_type": "code",
   "execution_count": 2,
   "metadata": {},
   "outputs": [],
   "source": [
    "DATE_COLUMNS = ['ACTION_DATE']\n",
    "COLS = ['PERIODO_ACTIVACION','CONTRATO','ACTION_DATE','SERVICE','CODIGO_INAR',\n",
    "        'GERENCIA2','ZONA_DE_VENTA','DEPARTAMENTO','ACCESS_']\n",
    "\n",
    "\n",
    "garantias_ = dbmanager.loadData('View_Garantias')\n",
    "garantias_ = textToDateConverter(garantias_, DATE_COLUMNS)\n",
    "garantias_ = garantias_[COLS]\n",
    "\n",
    "filter1 = garantias_['PERIODO_ACTIVACION'] == periodo\n",
    "garantias = garantias_[filter1]\n",
    "\n",
    "garantias.to_csv(posixpath.join(TESTPATH,str(periodo) + '_garantias.csv'), index = False, encoding='utf-8-sig') # Punto de Control\n"
   ]
  },
  {
   "cell_type": "code",
   "execution_count": null,
   "metadata": {},
   "outputs": [],
   "source": []
  }
 ],
 "metadata": {
  "kernelspec": {
   "display_name": "Python 3",
   "language": "python",
   "name": "python3"
  },
  "language_info": {
   "codemirror_mode": {
    "name": "ipython",
    "version": 3
   },
   "file_extension": ".py",
   "mimetype": "text/x-python",
   "name": "python",
   "nbconvert_exporter": "python",
   "pygments_lexer": "ipython3",
   "version": "3.7.6"
  }
 },
 "nbformat": 4,
 "nbformat_minor": 4
}
