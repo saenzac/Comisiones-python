{
 "cells": [
  {
   "cell_type": "code",
   "execution_count": 2,
   "metadata": {},
   "outputs": [],
   "source": [
    "#from Loader import fileloader_proto as fl\n",
    "#from Loader import dfutils\n",
    "import ecomis\n",
    "import xlwings as xw\n",
    "import pandas as pd\n",
    "\n",
    "month = '202005'\n",
    "\n",
    "inifile = ecomis.ReadIniFile(mercado=\"empresas\")"
   ]
  },
  {
   "cell_type": "code",
   "execution_count": 2,
   "metadata": {
    "scrolled": true
   },
   "outputs": [],
   "source": [
    "#The final order the columns written in the excel file will have\n",
    "columns_resultant = ['DNI', 'PADRON_FECHA_DE_INGRESO', 'FECHA_DE_INICIO_EN_EL_PUESTO', 'NOMBRE_DEL_PUESTO', \n",
    "                     'FECHA_CESE','FECHA_INICIO_SUBSIDIO','FECHA_FIN_SUBSIDIO','TARGET']\n",
    "\n",
    "#Generando dataframes de empleados, ceses y subsidios\n",
    "#Padron Empleados\n",
    "section_padron_empleados = ecomis.SectionObj(inifile,'Padron_Empleados',month)\n",
    "loader_empleados = ecomis.LoadFileProcess(section_padron_empleados)\n",
    "padron_df = loader_empleados.loadFile()\n",
    "padron_df_short = padron_df[ columns_resultant[0:4] ]\n",
    "\n",
    "#Ceses\n",
    "section_ceses = ecomis.SectionObj(inifile,'Ceses',month)\n",
    "loader_ceses = ecomis.LoadFileProcess(section_ceses)\n",
    "ceses_df = loader_ceses.loadFile()\n",
    "ceses_df_short = ceses_df[[ columns_resultant[0], columns_resultant[4] ]]\n",
    "#Subsidios\n",
    "section_subsidios = ecomis.SectionObj(inifile,'Subsidios',month)\n",
    "loader_subsidios = ecomis.LoadFileProcess(section_subsidios)\n",
    "subsidios_df = loader_subsidios.loadFile()\n",
    "\n",
    "#Targets\n",
    "section_targets = ecomis.SectionObj(inifile,'Targets',month)\n",
    "loader_targets = ecomis.LoadFileProcess(section_targets)\n",
    "targets_df = loader_targets.loadFile()\n",
    "\n",
    "\n",
    "\n"
   ]
  },
  {
   "cell_type": "code",
   "execution_count": 7,
   "metadata": {},
   "outputs": [],
   "source": [
    "# Iteration over the comisiones Excel workbooks\n",
    "\"\"\"\n",
    "inis = ['Comisionantes_Plataformas_All', 'Comisionantes_CAL_All', 'Comisionantes_Fidelizacion_Telemarketing_All', \n",
    "'Comisionantes_Soporte_Empresas_All', 'Comisionantes_Corporaciones_All', 'Comisionantes_SolucionesNegocio_All', \n",
    "'Comisionantes_Pymes_All','Comisionantes_GC_DDNN_IS_All','Comisionantes_VentaRegionaEmpresa_All']\n",
    "\"\"\"\n",
    "\n",
    "inis = [ 'Comisionantes_Pymes_All']\n",
    "\n",
    "for i in range(len(inis)):\n",
    "  # Generating the dataframes.\n",
    "  section_ingresos = ecomis.SectionObj(inifile,inis[i],month)\n",
    "  loader = ecomis.LoadFileProcess(section_ingresos)\n",
    "  comisionantes_df = loader.loadFile()\n",
    "\n",
    "  col_index = ecomis.getExcelColIndexFromDF(comisionantes_df, 'DNI2')\n",
    "  row_len = len(comisionantes_df.index)\n",
    "\n",
    "  comis_skiprows = section_ingresos.getParameter('skiprows')\n",
    "  file = section_ingresos.getParameter('filelist')[0]\n",
    "\n",
    "  #Tomamnos solo la columna DNI, este sería nuestra referencia para concatenar/merge la demas data a la izquierda.\n",
    "  comisionantes_df_short = comisionantes_df[[columns_resultant[0]]].copy()\n",
    "\n",
    "  # Merging the dataframes\n",
    "  merged_1 = pd.merge(comisionantes_df_short, padron_df_short, how='left',left_on='DNI', right_on = 'DNI')\n",
    "  merged_2 = pd.merge(merged_1, ceses_df_short, how='left',left_on='DNI', right_on = 'DNI')\n",
    "  merged_3 = pd.merge(merged_2, subsidios_df, how='left',left_on='DNI', right_on = 'DNI')\n",
    "  merged_4 = pd.merge(merged_3, targets_df, how='left',left_on='DNI', right_on = 'DNI')\n",
    "  merged_4.drop_duplicates('DNI', inplace = True)\n",
    "  # Rename DNI -> DNI2 because the column name already exists in the sheet\n",
    "  merged_4.rename(columns={'DNI':'DNI2'},inplace=True)\n",
    "\n",
    "  # Opening the workbook and referencing to 'comisionantes' worksheet\n",
    "  wb = xw.Book(file)\n",
    "  comis_sheet = wb.sheets('Comisionantes')\n",
    "\n",
    "  # Pasting the resultant dataframe of the merge operations  to the Excel sheet\n",
    "  comis_sheet.range((comis_skiprows + 1,col_index),(row_len + comis_skiprows + 1,col_index)).number_format = '@'\n",
    "  comis_sheet.range((comis_skiprows + 1,col_index)).options(pd.DataFrame, index=False).value = merged_4\n",
    "\n",
    "  wb.save()\n",
    "  wb.close()"
   ]
  },
  {
   "cell_type": "code",
   "execution_count": null,
   "metadata": {},
   "outputs": [],
   "source": []
  }
 ],
 "metadata": {
  "kernelspec": {
   "display_name": "Python 3",
   "language": "python",
   "name": "python3"
  },
  "language_info": {
   "codemirror_mode": {
    "name": "ipython",
    "version": 3
   },
   "file_extension": ".py",
   "mimetype": "text/x-python",
   "name": "python",
   "nbconvert_exporter": "python",
   "pygments_lexer": "ipython3",
   "version": "3.7.6"
  }
 },
 "nbformat": 4,
 "nbformat_minor": 2
}
