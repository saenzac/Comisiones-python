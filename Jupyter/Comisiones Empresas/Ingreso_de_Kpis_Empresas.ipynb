{
 "cells": [
  {
   "cell_type": "code",
   "execution_count": 1,
   "metadata": {},
   "outputs": [
    {
     "data": {
      "application/vnd.jupyter.widget-view+json": {
       "model_id": "c97b135b28d7431ca582084fc2555bbe",
       "version_major": 2,
       "version_minor": 0
      },
      "text/plain": [
       "Output(layout=Layout(border='solid', height='250px', width='100%'), outputs=({'name': 'stdout', 'output_type':…"
      ]
     },
     "metadata": {},
     "output_type": "display_data"
    }
   ],
   "source": [
    "import ecomis\n",
    "import pandas as pd\n",
    "from ipywidgets import interact, interactive, fixed, interact_manual\n",
    "import ipywidgets as widgets\n",
    "from IPython.display import display\n",
    "import numpy as np\n",
    "from datetime import datetime\n",
    "import time\n",
    "import posixpath\n",
    "import logging\n",
    "\n",
    "logger = logging.getLogger(\"juplogger\")\n",
    "handler = ecomis.LogViewver()\n",
    "logger.addHandler(handler)\n",
    "logger.setLevel(logging.INFO)\n",
    "logger.propagate = False\n",
    "\n",
    "month = '201912'\n",
    "\n",
    "inifile = ecomis.ReadIniFile(mercado=\"empresas\")\n",
    "defaultpath = inifile.getDataPath()\n",
    "testpath = inifile.getTestPath()\n",
    "\n",
    "handler.show_logs()\n",
    "\n",
    "# Configurando los archivos de configuración para administrar la base de datos\n",
    "dbparser = inifile.getDbIniFileParser()\n",
    "dbmanager = ecomis.DbDataProcess(month)\n",
    "dbmanager.setParser(dbparser)"
   ]
  },
  {
   "cell_type": "code",
   "execution_count": 2,
   "metadata": {},
   "outputs": [
    {
     "data": {
      "application/vnd.jupyter.widget-view+json": {
       "model_id": "cf42e67f81ba49bbbbb62dbbcecbb2f3",
       "version_major": 2,
       "version_minor": 0
      },
      "text/plain": [
       "Checkbox(value=False, description='Cuotas')"
      ]
     },
     "metadata": {},
     "output_type": "display_data"
    },
    {
     "data": {
      "application/vnd.jupyter.widget-view+json": {
       "model_id": "074853476b0c4a299a6b9c2a6979840a",
       "version_major": 2,
       "version_minor": 0
      },
      "text/plain": [
       "Checkbox(value=False, description='Resultados')"
      ]
     },
     "metadata": {},
     "output_type": "display_data"
    },
    {
     "data": {
      "application/vnd.jupyter.widget-view+json": {
       "model_id": "8da4106c4a6e413b9136bf1ced693e77",
       "version_major": 2,
       "version_minor": 0
      },
      "text/plain": [
       "RadioButtons(description='Canal:', options=('Corporaciones', 'Grandes Clientes, DDNN, IS', 'Venta Regional Emp…"
      ]
     },
     "metadata": {},
     "output_type": "display_data"
    }
   ],
   "source": [
    "cb1 = widgets.Checkbox(\n",
    "    value=False,\n",
    "    description='Cuotas',\n",
    "    disabled=False\n",
    ")\n",
    "\n",
    "cb2 = widgets.Checkbox(\n",
    "    value=False,\n",
    "    description='Resultados',\n",
    "    disabled=False\n",
    ")\n",
    "\n",
    "w = widgets.RadioButtons(\n",
    "    options=['Corporaciones', 'Grandes Clientes, DDNN, IS', 'Venta Regional Empresas', 'Pymes y Dealers'],\n",
    "    description='Canal:',\n",
    "    disabled=False\n",
    ")\n",
    "display(cb1)\n",
    "display(cb2)\n",
    "display(w)"
   ]
  },
  {
   "cell_type": "code",
   "execution_count": 3,
   "metadata": {},
   "outputs": [
    {
     "data": {
      "text/plain": [
       "False"
      ]
     },
     "execution_count": 3,
     "metadata": {},
     "output_type": "execute_result"
    }
   ],
   "source": [
    "cb2.value"
   ]
  },
  {
   "cell_type": "code",
   "execution_count": 4,
   "metadata": {},
   "outputs": [
    {
     "data": {
      "application/vnd.jupyter.widget-view+json": {
       "model_id": "ab60116f26864ee6b22ff2b4dbe99c3c",
       "version_major": 2,
       "version_minor": 0
      },
      "text/plain": [
       "Output(layout=Layout(border='solid', height='250px', width='100%'), outputs=({'name': 'stdout', 'output_type':…"
      ]
     },
     "metadata": {},
     "output_type": "display_data"
    }
   ],
   "source": [
    "#Carga de Panel de voz\n",
    "#*************************\n",
    "# Agregar mes enero faltante en cuotas de GC\n",
    "# Asegúrate en colocar 0 en la cabecera de los resultados y eliminar toda la data fuera del formato\n",
    "#\"\"\"\n",
    "section_logins = ecomis.SectionObj(inifile,'Logins',month)\n",
    "logins = ecomis.LoadFileProcess(section_logins).loadFile()\n",
    "\n",
    "periodo = section_logins.getParameter('periodo')\n",
    "\n",
    "section_metricasconjuntas = ecomis.SectionObj(inifile,'Metricas_conjuntas',month)\n",
    "metricasconjuntas = ecomis.LoadFileProcess(section_metricasconjuntas).loadFile()\n",
    "\n",
    "if w.value == 'Corporaciones':\n",
    "    section_kpisvoz = ecomis.SectionObj(inifile,'Kpis_voz_corpo',month)\n",
    "    section_comisionantesvoz = ecomis.SectionObj(inifile,'Comisionantes_voz_corpo',month)\n",
    "elif w.value == 'Grandes Clientes, DDNN, IS':\n",
    "    section_kpisvoz = ecomis.SectionObj(inifile,'Kpis_voz_gc_dd_is',month)\n",
    "    section_comisionantesvoz = ecomis.SectionObj(inifile,'Comisionantes_voz_gc_dd_is',month)\n",
    "elif w.value == 'Venta Regional Empresas':\n",
    "    section_kpisvoz = ecomis.SectionObj(inifile,'Kpis_voz_venta_regional',month)\n",
    "    section_comisionantesvoz = ecomis.SectionObj(inifile,'Comisionantes_venta_regional',month)    \n",
    "elif w.value == 'Pymes y Dealers':\n",
    "    section_kpisvoz = ecomis.SectionObj(inifile,'Kpis_voz_pymes',month)\n",
    "    section_comisionantesvoz = ecomis.SectionObj(inifile,'Comisionantes_voz_pymes',month)  \n",
    "\n",
    "if cb1.value:\n",
    "    if w.value == 'Venta Regional Empresas':\n",
    "      section_cuotasvoz = ecomis.SectionObj(inifile,'Cuotas_Regiones_Pymes',month)\n",
    "    else:\n",
    "      section_cuotasvoz = ecomis.SectionObj(inifile,'Cuotas',month)\n",
    "else:\n",
    "    cuotasvoz = pd.DataFrame()\n",
    "\n",
    "if cb2.value:\n",
    "    # Preparar los resultados antes de enviar el cerrado\n",
    "    # GCE_Resultados debe tener dos o mas Hojas sino lanza error\n",
    "    section_resultadosvoz = ecomis.SectionObj(inifile,'Resultados',month)\n",
    "else:\n",
    "    resultadosvoz = pd.DataFrame()\n",
    "\n",
    "kpisvoz = ecomis.LoadFileProcess(section_kpisvoz).loadFile()\n",
    "comisionantesvoz = ecomis.LoadFileProcess(section_comisionantesvoz).loadFile()\n",
    "\n",
    "if cb1.value:\n",
    "  cuotasvoz = ecomis.LoadFileProcess(section_cuotasvoz).loadFile()\n",
    "\n",
    "if cb2.value:\n",
    "  resultadosvoz = ecomis.LoadFileProcess(section_resultadosvoz).loadFile()\n",
    "\n",
    "\n",
    "#resultadosvoz = loader_resultadosvoz.loadHistoricalFile('Resultados') # Por precaución eliminar tres columnas posteriores a dic-18.\n",
    "#resultadosvoz = pd.DataFrame() # Usar si no hay resultados\n",
    "#churn = loader.loadHistoricalFile('Churn')\n",
    "#calidad = loader.loadHistoricalFile('Calidad')\n",
    "#qnp = loader.loadHistoricalFile('QNP') \n",
    "#tracking = loader.loadHistoricalFile('Tracking') # Asegurarse el nombre del kpi en resultados\n",
    "#epa = loader.loadHistoricalFile('EPA') # Asegurarse el nombre del kpi en resultados\n",
    "#resultadosvoz = resultadosvoz.append(churn, ignore_index = True)\n",
    "#resultadosvoz = resultadosvoz.append(calidad, ignore_index = True)\n",
    "#resultadosvoz = resultadosvoz.append(qnp, ignore_index = True)\n",
    "#resultadosvoz = resultadosvoz.append(tracking, ignore_index = True)\n",
    "#resultadosvoz = resultadosvoz.append(epa, ignore_index = True)\n",
    "#\"\"\"\n",
    "\n",
    "handler.show_logs()"
   ]
  },
  {
   "cell_type": "code",
   "execution_count": 5,
   "metadata": {
    "scrolled": true
   },
   "outputs": [
    {
     "name": "stderr",
     "output_type": "stream",
     "text": [
      "C:\\Users\\jsaenza\\Anaconda3\\lib\\site-packages\\pandas\\core\\frame.py:7123: FutureWarning: Sorting because non-concatenation axis is not aligned. A future version\n",
      "of pandas will change to not sort by default.\n",
      "\n",
      "To accept the future behavior, pass 'sort=False'.\n",
      "\n",
      "To retain the current behavior and silence the warning, pass 'sort=True'.\n",
      "\n",
      "  sort=sort,\n",
      "C:\\Users\\jsaenza\\Anaconda3\\lib\\site-packages\\ecomis\\Lib\\datapreparation.py:47: FutureWarning: \n",
      ".ix is deprecated. Please use\n",
      ".loc for label based indexing or\n",
      ".iloc for positional indexing\n",
      "\n",
      "See the documentation here:\n",
      "http://pandas.pydata.org/pandas-docs/stable/user_guide/indexing.html#ix-indexer-is-deprecated\n",
      "  r1 = values_detected.ix[i].values[0]\n",
      "C:\\Users\\jsaenza\\Anaconda3\\lib\\site-packages\\ecomis\\Lib\\datapreparation.py:103: FutureWarning: \n",
      ".ix is deprecated. Please use\n",
      ".loc for label based indexing or\n",
      ".iloc for positional indexing\n",
      "\n",
      "See the documentation here:\n",
      "http://pandas.pydata.org/pandas-docs/stable/user_guide/indexing.html#ix-indexer-is-deprecated\n",
      "  ifiltro = values_detected.ix[i].values[0]\n",
      "C:\\Users\\jsaenza\\Anaconda3\\lib\\site-packages\\ecomis\\Lib\\datapreparation.py:104: FutureWarning: \n",
      ".ix is deprecated. Please use\n",
      ".loc for label based indexing or\n",
      ".iloc for positional indexing\n",
      "\n",
      "See the documentation here:\n",
      "http://pandas.pydata.org/pandas-docs/stable/user_guide/indexing.html#ix-indexer-is-deprecated\n",
      "  imetrica = values_detected.ix[i].values[2]\n",
      "C:\\Users\\jsaenza\\Anaconda3\\lib\\site-packages\\ecomis\\Lib\\datapreparation.py:105: FutureWarning: \n",
      ".ix is deprecated. Please use\n",
      ".loc for label based indexing or\n",
      ".iloc for positional indexing\n",
      "\n",
      "See the documentation here:\n",
      "http://pandas.pydata.org/pandas-docs/stable/user_guide/indexing.html#ix-indexer-is-deprecated\n",
      "  itypeofkpi = values_detected.ix[i].values[3]\n",
      "C:\\Users\\jsaenza\\Anaconda3\\lib\\site-packages\\ecomis\\Lib\\datapreparation.py:129: FutureWarning: \n",
      ".ix is deprecated. Please use\n",
      ".loc for label based indexing or\n",
      ".iloc for positional indexing\n",
      "\n",
      "See the documentation here:\n",
      "http://pandas.pydata.org/pandas-docs/stable/user_guide/indexing.html#ix-indexer-is-deprecated\n",
      "  icol = values_detected.ix[i].values[0]\n",
      "C:\\Users\\jsaenza\\Anaconda3\\lib\\site-packages\\ecomis\\Lib\\datapreparation.py:130: FutureWarning: \n",
      ".ix is deprecated. Please use\n",
      ".loc for label based indexing or\n",
      ".iloc for positional indexing\n",
      "\n",
      "See the documentation here:\n",
      "http://pandas.pydata.org/pandas-docs/stable/user_guide/indexing.html#ix-indexer-is-deprecated\n",
      "  imetrica = values_detected.ix[i].values[1]\n",
      "C:\\Users\\jsaenza\\Anaconda3\\lib\\site-packages\\ecomis\\Lib\\datapreparation.py:131: FutureWarning: \n",
      ".ix is deprecated. Please use\n",
      ".loc for label based indexing or\n",
      ".iloc for positional indexing\n",
      "\n",
      "See the documentation here:\n",
      "http://pandas.pydata.org/pandas-docs/stable/user_guide/indexing.html#ix-indexer-is-deprecated\n",
      "  itypeofkpi = values_detected.ix[i].values[2]\n",
      "C:\\Users\\jsaenza\\Anaconda3\\lib\\site-packages\\ecomis\\Lib\\datapreparation.py:132: FutureWarning: \n",
      ".ix is deprecated. Please use\n",
      ".loc for label based indexing or\n",
      ".iloc for positional indexing\n",
      "\n",
      "See the documentation here:\n",
      "http://pandas.pydata.org/pandas-docs/stable/user_guide/indexing.html#ix-indexer-is-deprecated\n",
      "  iresultado = values_detected.ix[i].values[3]\n"
     ]
    },
    {
     "data": {
      "application/vnd.jupyter.widget-view+json": {
       "model_id": "ab60116f26864ee6b22ff2b4dbe99c3c",
       "version_major": 2,
       "version_minor": 0
      },
      "text/plain": [
       "Output(layout=Layout(border='solid', height='250px', width='100%'), outputs=({'name': 'stdout', 'output_type':…"
      ]
     },
     "metadata": {},
     "output_type": "display_data"
    }
   ],
   "source": [
    "# Preparando la ultima data : HC, VAS\n",
    "\n",
    "#hc = loader.loadFile('HC')\n",
    "#vas = dbmanager.loadData('View_VAS_Voz')\n",
    "#vas = pd.DataFrame() # temporal mientras se arregla el código\n",
    "\n",
    "#periodo = loader.getPeriodo() # arriba se repite\n",
    "\n",
    "\n",
    "\"\"\"\n",
    "criteria = {'VAS' : {'colgroupby' : ['GERENCIA2' , 'ZONAVENTA', 'DEPARTAMENTO', 'VENDEDOR_CROSS_SELLING'], \n",
    "                     'colsum' : 'ACCESS_REAL'},\n",
    "            'HC' : {'colfilter' : 'CARGO', 'colfilteritem' : 'CONSULTOR', 'colgroupby' : 'DATOS', 'colsum' : 'VENDEDORES'}}\n",
    "\n",
    "otherparams = {'periodo' : periodo.upper(), 'frames' : {'HC' : hc, 'VAS' : vas}, 'criteria': criteria}\n",
    "otherdfs = loader.prepareOtherPlainFiles(otherparams) \n",
    "\n",
    "\n",
    "for df in otherdfs.keys():\n",
    "    resultadosvoz = resultadosvoz.append(otherdfs[df], ignore_index = True)\n",
    "\n",
    "\"\"\"\n",
    "\n",
    "\n",
    "#\"\"\"\n",
    "paramsvoz = {'tipo' : 'voz',\n",
    "             'periodo' : periodo.upper(),\n",
    "             'keycol': 'LOGIN',\n",
    "             'logins' : logins, \n",
    "             'metricasconjuntas' : metricasconjuntas,\n",
    "             'kpis' : kpisvoz, \n",
    "             'comisionantes' : comisionantesvoz, \n",
    "             'cuotas' : cuotasvoz,\n",
    "             'resultados' : resultadosvoz}\n",
    "\n",
    "\n",
    "panelvoz = ecomis.LoadFileProcess(section_cuotasvoz).prepareHistoricalFiles(paramsvoz)          \n",
    "panelvoz.to_csv(posixpath.join(testpath, month + '_panelvoz.csv'),encoding='utf-8-sig')\n",
    "handler.show_logs()\n",
    "#\"\"\""
   ]
  },
  {
   "cell_type": "code",
   "execution_count": null,
   "metadata": {},
   "outputs": [],
   "source": [
    "cuotasvoz.to_csv(testpath + 'cuotas_brutas.csv')"
   ]
  },
  {
   "cell_type": "code",
   "execution_count": 5,
   "metadata": {},
   "outputs": [
    {
     "data": {
      "text/plain": [
       "'/Users/johnnysaenz/OneDrive - Entel Peru S.A/Comisiones/MercadoEmpresas/Data Fuente Comisiones/test'"
      ]
     },
     "execution_count": 5,
     "metadata": {},
     "output_type": "execute_result"
    }
   ],
   "source": [
    "testpath"
   ]
  },
  {
   "cell_type": "code",
   "execution_count": null,
   "metadata": {},
   "outputs": [],
   "source": []
  }
 ],
 "metadata": {
  "kernelspec": {
   "display_name": "Python 3",
   "language": "python",
   "name": "python3"
  },
  "language_info": {
   "codemirror_mode": {
    "name": "ipython",
    "version": 3
   },
   "file_extension": ".py",
   "mimetype": "text/x-python",
   "name": "python",
   "nbconvert_exporter": "python",
   "pygments_lexer": "ipython3",
   "version": "3.7.6"
  }
 },
 "nbformat": 4,
 "nbformat_minor": 1
}
