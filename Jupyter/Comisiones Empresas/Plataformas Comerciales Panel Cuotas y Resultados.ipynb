{
 "cells": [
  {
   "cell_type": "code",
   "execution_count": 9,
   "metadata": {},
   "outputs": [
    {
     "data": {
      "application/vnd.jupyter.widget-view+json": {
       "model_id": "3593360845724d38abababd912236c57",
       "version_major": 2,
       "version_minor": 0
      },
      "text/plain": [
       "Output(layout=Layout(border='solid', height='600px', width='100%'), outputs=({'name': 'stdout', 'output_type':…"
      ]
     },
     "metadata": {},
     "output_type": "display_data"
    }
   ],
   "source": [
    "import ecomis\n",
    "import pandas as pd\n",
    "import numpy as np\n",
    "from datetime import datetime\n",
    "import time\n",
    "import posixpath\n",
    "import logging\n",
    "\n",
    "logger = logging.getLogger(\"juplogger\")\n",
    "handler = ecomis.LogViewver()\n",
    "logger.addHandler(handler)\n",
    "logger.setLevel(logging.INFO)\n",
    "logger.propagate = False\n",
    "\n",
    "month = '202005'\n",
    "\n",
    "inifile = ecomis.ReadIniFile(mercado=\"empresas\")\n",
    "defaultpath = inifile.getDataPath()\n",
    "testpath = inifile.getTestPath()\n",
    "\n",
    "handler.show_logs()\n",
    "\n",
    "# Configurando los archivos de configuración para administrar la base de datos\n",
    "dbparser = inifile.getDbIniFileParser()\n",
    "dbmanager = ecomis.DbDataProcess(month)\n",
    "dbmanager.setParser(dbparser)"
   ]
  },
  {
   "cell_type": "code",
   "execution_count": null,
   "metadata": {},
   "outputs": [],
   "source": [
    "# Carga de Panel de Plataformas Comerciales: \n",
    "# Preparación de Data : Quitar formulas y quitar pestañas ocultas. Si hay intercambio de supervisores (o nuevo supervisor) \n",
    "# actualizar logins equivalentes y metricas conjuntas\n",
    "\n",
    "section_logins = ecomis.SectionObj(inifile,'Logins',month)\n",
    "logins = ecomis.LoadFileProcess(section_logins).loadFile()\n",
    "\n",
    "section_metricasconjuntas = ecomis.SectionObj(inifile,'Metricas_conjuntas',month)\n",
    "metricasconjuntas = ecomis.LoadFileProcess(section_metricasconjuntas).loadFile()\n",
    "\n",
    "section_kpispltfrs = ecomis.SectionObj(inifile,'Kpis_plataformas',month)\n",
    "kpispltfrs = ecomis.LoadFileProcess(section_kpispltfrs).loadFile()\n",
    "\n",
    "section_comisionantespltfrs = ecomis.SectionObj(inifile,'Comisionantes_plataformas',month)\n",
    "comisionantespltfrs = ecomis.LoadFileProcess(section_comisionantespltfrs).loadFile()\n",
    "\n",
    "section_panelpltfrs0 = ecomis.SectionObj(inifile,'Panel_plataformas',month)\n",
    "panelpltfrs0 = ecomis.LoadFileProcess(section_panelpltfrs0).loadFile()\n",
    "\n",
    "periodo = section_logins.getParameter('periodo')\n",
    "\n",
    "paramspltfrs= {'tipo' : 'plataformas',\n",
    "               'periodo' : periodo.upper(),\n",
    "               'keycol': 'NOMBRES',\n",
    "               'logins' : logins, \n",
    "               'metricasconjuntas' : metricasconjuntas,\n",
    "               'kpis' : kpispltfrs,\n",
    "               'comisionantes' : comisionantespltfrs, \n",
    "               'cuotas' : panelpltfrs0,\n",
    "               'resultados' : None}\n",
    "\n",
    "panelpltfrs = (ecomis.LoadFileProcess(section_panelpltfrs0)).prepareHistoricalFiles(paramspltfrs)\n",
    "panelpltfrs.to_csv(posixpath.join(testpath, month + '_panelpltfrs.csv'),encoding='utf-8-sig')\n",
    "\n",
    "handler.show_logs()"
   ]
  },
  {
   "cell_type": "code",
   "execution_count": null,
   "metadata": {},
   "outputs": [],
   "source": []
  }
 ],
 "metadata": {
  "kernelspec": {
   "display_name": "Python 3",
   "language": "python",
   "name": "python3"
  },
  "language_info": {
   "codemirror_mode": {
    "name": "ipython",
    "version": 3
   },
   "file_extension": ".py",
   "mimetype": "text/x-python",
   "name": "python",
   "nbconvert_exporter": "python",
   "pygments_lexer": "ipython3",
   "version": "3.7.6"
  }
 },
 "nbformat": 4,
 "nbformat_minor": 2
}
