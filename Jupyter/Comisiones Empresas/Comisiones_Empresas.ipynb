{
 "cells": [
  {
   "cell_type": "code",
   "execution_count": 1,
   "metadata": {},
   "outputs": [
    {
     "data": {
      "application/vnd.jupyter.widget-view+json": {
       "model_id": "0cb34fba9a0548a9b2d1ffc83eab5daf",
       "version_major": 2,
       "version_minor": 0
      },
      "text/plain": [
       "Output(layout=Layout(border='solid', height='600px', width='100%'), outputs=({'name': 'stdout', 'output_type':…"
      ]
     },
     "metadata": {},
     "output_type": "display_data"
    }
   ],
   "source": [
    "import logging\n",
    "from colorama import Fore\n",
    "import ipywidgets as widgets\n",
    "from IPython.display import clear_output\n",
    "from IPython.display import display\n",
    "import ecomis\n",
    "import pandas as pd\n",
    "import numpy as np\n",
    "import posixpath\n",
    "from datetime import datetime\n",
    "import time\n",
    "import xlwings as xw\n",
    "import copy\n",
    "\n",
    "logger = logging.getLogger(\"juplogger\")\n",
    "handler = ecomis.LogViewver()\n",
    "logger.addHandler(handler)\n",
    "logger.setLevel(logging.INFO)\n",
    "logger.propagate = False\n",
    "\n",
    "month = '202008'#para cargar unitarios, disminuir 1 mes\n",
    "month_unitario = 201908#poner un mes mas que el de arriba.\n",
    "\n",
    "inifile = ecomis.ReadIniFile(mercado=\"empresas\")\n",
    "#parser = inifile.getIniFileParser()\n",
    "\n",
    "# Configurando los archivos de configuración para administrar la base de datos\n",
    "dbparser = inifile.getDbIniFileParser()\n",
    "dbmanager = ecomis.DbDataProcess(month)\n",
    "dbmanager.setParser(dbparser)\n",
    "handler.show_logs()"
   ]
  },
  {
   "cell_type": "markdown",
   "metadata": {},
   "source": [
    "*** Carga de Archivos ***\n",
    "\n",
    "Asegurate que el directorio donde está el archivo este correcto\n",
    "\n",
    "Asegurate que no haya pestañas ocultas en Bases GCP ni Plataformas. "
   ]
  },
  {
   "cell_type": "code",
   "execution_count": 2,
   "metadata": {
    "scrolled": true
   },
   "outputs": [],
   "source": [
    "list_ops = ['Ceses', 'Jerarquia','Inar', 'Deacs', 'Ventas_SSAA_new', 'Paquetes_new','Unitarios','Bolsas','Bases_GCP','Garantias']\n",
    "\n",
    "# Carga de Ceses\n",
    "def load_ceses():\n",
    "    section_ceses = ecomis.SectionObj(inifile,'Ceses',month)\n",
    "    loader_ceses = ecomis.LoadFileProcess(section_ceses)\n",
    "    dataf = loader_ceses.loadFile()\n",
    "    return dataf\n",
    "\n",
    "def load_padron_empleados():\n",
    "    section_padron_empleados = ecomis.SectionObj(inifile,'Padron_Empleados',month)\n",
    "    loader_padron_empleados = ecomis.LoadFileProcess(section_padron_empleados)\n",
    "    dataf = loader_padron_empleados.loadFile()\n",
    "    return dataf\n",
    "\n",
    "def load_targets():\n",
    "    section_targets = ecomis.SectionObj(inifile,'Targets',month)\n",
    "    loader_targets = ecomis.LoadFileProcess(section_targets)\n",
    "    dataf = loader_targets.loadFile()\n",
    "    return dataf\n",
    "\n",
    "# Carga de Jerarquia\n",
    "# Advertencia : Verificar que no se duplique\n",
    "def load_jerarquia():\n",
    "    section_jerarquia = ecomis.SectionObj(inifile,'Jerarquia',month)\n",
    "    loader_jerarquia = ecomis.LoadFileProcess(section_jerarquia)\n",
    "    dataf = loader_jerarquia.loadFile()\n",
    "    return dataf\n",
    "\n",
    "\n",
    "# Carga de Inar\n",
    "# Preparación : Agregar la columna de Seguro si Gestión de Información no lo proporciona\n",
    "def load_inar():\n",
    "    section_inar = ecomis.SectionObj(inifile,'Inar',month)\n",
    "    loader_inar = ecomis.LoadFileProcess(section_inar)\n",
    "    dataf = loader_inar.loadFile()\n",
    "    return dataf\n",
    "\n",
    "# Carga Deacs\n",
    "# Preparación :Completar dos columnas adicionales ver archivo anterior. Mensual y Quincenal\n",
    "def load_deacs():\n",
    "    section_deacs = ecomis.SectionObj(inifile,'Deacs',month)\n",
    "    loader_deacs = ecomis.LoadFileProcess(section_deacs)\n",
    "    dataf = loader_deacs.loadFile()\n",
    "    return dataf\n",
    "\n",
    "# Carga VAS\n",
    "# Separar el archivo de RAS en 2: \n",
    "# 1 archivo con activaciones y otro con desactivaciones.\n",
    "# Aca solo cargamos el archivo de desactivaciones\n",
    "# Estado: OK\n",
    "def load_vas():\n",
    "    section_ventas_ssaa = ecomis.SectionObj(inifile,'Ventas_SSAA_new',month)\n",
    "    loader_ventas_ssaa = ecomis.LoadFileProcess(section_ventas_ssaa)\n",
    "    dataf = loader_ventas_ssaa.loadFile()\n",
    "\n",
    "    dataf.replace(np.nan, '', regex=True, inplace=True) \n",
    "    #Eliminamos los contratos con algun valor en la columna NETO\n",
    "    #dataf = dataf[ dataf['NETO'] == \"\" ]\n",
    "    #Considerar únicamente los registros que sean “Si” en la columna “Considerar”, los demás se eliminan/ no se consideran.\n",
    "    #dataf = dataf[ dataf['NO_CONSIDERAR'] == \"\" ]\n",
    "    #Quitamos PAQUETE_DATOS\n",
    "    #dataf = dataf[~(dataf['FAMILIA'] == \"PAQUETE_DATOS\") ]\n",
    "    dataf.reset_index(drop = True, inplace = True)\n",
    "    return dataf\n",
    "\n",
    "# Carga Paquetes\n",
    "# Verificar Fechas\n",
    "def load_paquetes():\n",
    "    section_paquetes = ecomis.SectionObj(inifile,'Paquetes_new',month)\n",
    "    loader_paquetes = ecomis.LoadFileProcess(section_paquetes)\n",
    "    paquetes = loader_paquetes.loadFile()\n",
    "    return paquetes\n",
    "\n",
    "# Carga de Comision Unitaria\n",
    "# Advertencia : la lectura del unitario es en el tiempo Mes de Comisiones -1. \n",
    "# File :  _Comisiones Pymes\n",
    "#def load_unitarios():\n",
    "#    section_unitarios = ecomis.SectionObj(inifile,\"Unitarios\",month)\n",
    "#    loader_unitarios = ecomis.LoadFileProcess(section_unitarios)\n",
    "#    unitarios = loader_unitarios.loadFile()\n",
    "\n",
    "#    unitarios = unitarios[unitarios['COMISION_UNITARIA']>0]\n",
    "#    unitarios.reset_index(drop = True, inplace = True)\n",
    "#    return unitarios\n",
    "\n",
    "# Carga de Bolsas\n",
    "# Preparación : Completar columnas numericas Cero\n",
    "def load_bolsas():\n",
    "    section_bolsas = ecomis.SectionObj(inifile,\"Bolsas\",month)\n",
    "    loader_bolsas = ecomis.LoadFileProcess(section_bolsas)\n",
    "    bolsas = loader_bolsas.loadFile()\n",
    "    return bolsas\n",
    "\n",
    "# Carga de GCP\n",
    "# Preparación : Update despues de Ingresar el INAR mensual. Llenar carterización y dealer regiones\n",
    "# File _ : _GCP Base Comisiones\n",
    "def load_BasesGCP():\n",
    "    section_base_pyme = ecomis.SectionObj(inifile,\"Bases_GCP\",month)\n",
    "    loader_base_pyme = ecomis.LoadFileProcess(section_base_pyme)\n",
    "    basesgcp = loader_base_pyme.loadFile()\n",
    "    return basesgcp\n",
    "\n",
    "# Carga de Garantias\n",
    "# Preparación : Update despues de Ingresar el INAR mensual. Llenar carterización y dealer regiones\n",
    "# File _ : _GCP Base Comisiones\n",
    "def load_garantias():\n",
    "    section_garantias = ecomis.SectionObj(inifile,\"Garantias\",month)\n",
    "    loader_base_garantias = ecomis.LoadFileProcess(section_garantias)\n",
    "    garantias = loader_base_garantias.loadFile()\n",
    "    garantias['CODIGO_INAR'] = garantias['CODIGO_INAR'].str.strip()\n",
    "    return garantias\n",
    "\n",
    "# Carga de Subsidios\n",
    "def load_subsidios():\n",
    "    section_subsidios = ecomis.SectionObj(inifile,\"Subsidios\",month)\n",
    "    loader_subsidios = ecomis.LoadFileProcess(section_subsidios)\n",
    "    subsidios = loader_subsidios.loadFile()\n",
    "    return subsidios\n",
    "\n",
    "\n",
    "# Carga de Migraciones\n",
    "def load_migraciones():\n",
    "    section_migras = ecomis.SectionObj(inifile,\"Migraciones\",month)\n",
    "    loader_migras = ecomis.LoadFileProcess(section_migras)\n",
    "    migras = loader_migras.loadFile()\n",
    "    migras['CODIGO_INAR'] = migras['CODIGO_INAR'].str.strip()\n",
    "    return migras\n",
    "\n",
    "# Carga de Churn\n",
    "def load_churn():\n",
    "    section_churn = ecomis.SectionObj(inifile,\"Churn\",month)\n",
    "    loader_chrun = ecomis.LoadFileProcess(section_churn)\n",
    "    churn = loader_chrun.loadFile()\n",
    "    churn['CANAL_O_VENDEDOR'] = churn['CANAL_O_VENDEDOR'].str.strip()\n",
    "    return churn\n",
    "#soluciones de negocio en COMISION_UNITARIA, VENDEDOR, FECHA_PROCESO\n",
    "\n",
    "# Preparación : Ninguna\n",
    "# File : _Riesgos Actividad Lima, _Riesgos Actividad Regiones\n",
    "#actividad = loader.loadFile('Actividad') #en deshuso\n",
    "\n",
    "\n",
    "# Preparación : Completar dos columnas.Verificar Fechas. Periodo Mensual y Quincenal.\n",
    "# File : _GCE Deacs SSAA\n",
    "#section_deacs_ssaa = fl.SectionObj(inifile,\"Deacs_SSAA_new\",month)\n",
    "#loader_deacs_ssaa = fl.LoadFileProcess(section_deacs_ssaa)\n",
    "#deacs_ssaa = loader_deacs_ssaa.loadFile()\n",
    "\n",
    "# Advertencia : Separar en dos Periodos debido a Equipos de Captura Quincenal, tomar sólo el quincenal del periodo anterior\n",
    "# File : _GCP Base Quincenal Comisiones\n",
    "#basesgcpquincenal = loader.loadFile('Bases_GCP_Quincenal') #no se esta usando\n",
    "\n",
    "# Preparación : Ver Errores. Cargar a conveniencia\n",
    "# Advertencia : Importar en caso no lo incluya Gestión de Información\n",
    "# File : _GCE Base Comisiones\n",
    "#basesgce = loader.loadFile('Bases_GCE') #no se esta usando\n",
    "\n"
   ]
  },
  {
   "cell_type": "markdown",
   "metadata": {},
   "source": [
    "** Ceses **\n",
    "\n",
    "Usar el archivo de ceses que contenga los ceses hasta fin del mes de producción.\n",
    "\n"
   ]
  },
  {
   "cell_type": "code",
   "execution_count": 10,
   "metadata": {},
   "outputs": [
    {
     "data": {
      "application/vnd.jupyter.widget-view+json": {
       "model_id": "d9ce6cf8a5154fada391716e807ac309",
       "version_major": 2,
       "version_minor": 0
      },
      "text/plain": [
       "Dropdown(description='Number:', options=('Ceses', 'Padron Empleados', 'Targets', 'Jerarquia', 'Inar', 'Deacs',…"
      ]
     },
     "metadata": {},
     "output_type": "display_data"
    },
    {
     "data": {
      "application/vnd.jupyter.widget-view+json": {
       "model_id": "056c131acf5142b2b9648e9f0b0f5307",
       "version_major": 2,
       "version_minor": 0
      },
      "text/plain": [
       "Button(button_style='info', description='Ejecutar Carga', style=ButtonStyle(), tooltip='Ejecutar Carga Ceses')"
      ]
     },
     "metadata": {},
     "output_type": "display_data"
    },
    {
     "data": {
      "application/vnd.jupyter.widget-view+json": {
       "model_id": "3ee29b7212bb4004b06b6b5053bb9028",
       "version_major": 2,
       "version_minor": 0
      },
      "text/plain": [
       "Button(button_style='info', description='Ver detalles de carga', style=ButtonStyle(), tooltip='Ejecutar Carga …"
      ]
     },
     "metadata": {},
     "output_type": "display_data"
    },
    {
     "data": {
      "application/vnd.jupyter.widget-view+json": {
       "model_id": "ae39ceb6d2a44f7ea6fdda2acc4e612c",
       "version_major": 2,
       "version_minor": 0
      },
      "text/plain": [
       "Button(button_style='info', description='Clear', style=ButtonStyle(), tooltip='Clear')"
      ]
     },
     "metadata": {},
     "output_type": "display_data"
    },
    {
     "data": {
      "application/vnd.jupyter.widget-view+json": {
       "model_id": "0cb34fba9a0548a9b2d1ffc83eab5daf",
       "version_major": 2,
       "version_minor": 0
      },
      "text/plain": [
       "Output(layout=Layout(border='solid', height='600px', width='100%'))"
      ]
     },
     "metadata": {},
     "output_type": "display_data"
    }
   ],
   "source": [
    "dataf = []\n",
    "def show_details_callback(event):\n",
    "  handler.clear_logs()\n",
    "  section = ecomis.SectionObj(inifile,dd_gui.value,month)\n",
    "  t = []\n",
    "  t.append(\"Cols. a ser leidas: [\" + ', '.join(section.getParameter(\"cols\")) + \"]\")\n",
    "  t.append(\"Cols. Date Type: [\" + ', '.join(section.getParameter(\"colsdatetype\")) + \"]\")\n",
    "  t.append(\"Keyfile: [\" + ', '.join(section.getParameter(\"keyfile\")) + \"]\")\n",
    "  t.append(\"Presetsheet: [\" + ', '.join(section.getParameter(\"presetsheet\")) + \"]\")\n",
    "  t.append(\"Cols Converted: [\" + ', '.join(section.getParameter(\"colsconverted\")) + \"]\")\n",
    "  t.append(\"Cols To Change: [\" + ', '.join(section.getParameter(\"colstochange\")) + \"]\")\n",
    "  for i in t:\n",
    "    logger.info(i)\n",
    "\n",
    "list_ops = ['Ceses', 'Padron Empleados', 'Targets', 'Jerarquia','Inar', 'Deacs', 'Ventas_SSAA_new', 'Paquetes_new','Unitarios','Bolsas','Bases_GCP','Garantias','Subsidios','Migraciones','Churn']\n",
    "def load_btn_callback(event):\n",
    "    global dataf\n",
    "    del dataf\n",
    "    handler.clear_logs()\n",
    "    if dd_gui.value == \"Ceses\":\n",
    "        dataf = load_ceses()\n",
    "    if dd_gui.value == \"Padron Empleados\":\n",
    "        dataf = load_padron_empleados()       \n",
    "    if dd_gui.value == \"Targets\":\n",
    "        dataf = load_targets()\n",
    "    elif dd_gui.value == \"Jerarquia\":\n",
    "        dataf = load_jerarquia()\n",
    "    elif dd_gui.value == \"Inar\":\n",
    "        dataf = load_inar()\n",
    "    elif dd_gui.value == \"Deacs\":\n",
    "        dataf = load_deacs()\n",
    "    elif dd_gui.value == \"Ventas_SSAA_new\":\n",
    "        dataf = load_vas()\n",
    "    elif dd_gui.value == \"Paquetes_new\":\n",
    "        dataf = load_paquetes()\n",
    "    #elif dd_gui.value == \"Unitarios\":\n",
    "    #    dataf = load_unitarios()\n",
    "    elif dd_gui.value == \"Bases_GCP\":\n",
    "        dataf = load_BasesGCP()\n",
    "    elif dd_gui.value == \"Garantias\":    \n",
    "        dataf = load_garantias()\n",
    "    elif dd_gui.value == \"Subsidios\":    \n",
    "        dataf = load_subsidios()\n",
    "    elif dd_gui.value == \"Migraciones\":\n",
    "        dataf = load_migraciones()\n",
    "    elif dd_gui.value == \"Churn\":\n",
    "        dataf = load_churn()\n",
    "\n",
    "def clear_callback(event):\n",
    "    handler.clear_logs()\n",
    "\n",
    "btn_ceses_ejecutar_gui = widgets.Button(\n",
    "    description='Ejecutar Carga', disabled=False, button_style='info', tooltip='Ejecutar Carga Ceses', icon='' )\n",
    "btn_ceses_detalles_gui = widgets.Button(\n",
    "    description='Ver detalles de carga', disabled=False, button_style='info', tooltip='Ejecutar Carga Ceses', icon='' )\n",
    "btn_clear_gui = widgets.Button(\n",
    "    description='Clear', disabled=False, button_style='info', tooltip='Clear', icon='' )\n",
    "dd_gui = widgets.Dropdown(\n",
    "    options=list_ops,\n",
    "    value='Ceses',\n",
    "    description='Number:',\n",
    "    disabled=False)\n",
    "\n",
    "btn_ceses_ejecutar_gui.on_click(load_btn_callback)\n",
    "btn_ceses_detalles_gui.on_click(show_details_callback)\n",
    "btn_clear_gui.on_click(clear_callback)\n",
    "display(dd_gui)\n",
    "display(btn_ceses_ejecutar_gui)\n",
    "display(btn_ceses_detalles_gui)\n",
    "display(btn_clear_gui)\n",
    "handler.show_logs()"
   ]
  },
  {
   "cell_type": "code",
   "execution_count": 4,
   "metadata": {},
   "outputs": [
    {
     "data": {
      "text/plain": [
       "[]"
      ]
     },
     "execution_count": 4,
     "metadata": {},
     "output_type": "execute_result"
    }
   ],
   "source": [
    "dataf"
   ]
  },
  {
   "cell_type": "markdown",
   "metadata": {},
   "source": [
    "** Inar **\n",
    "\n",
    "Preparación : Agregar la columna de Seguro si Gestión de Información no lo proporciona\n",
    "File :  _Planeamiento Inar Empresas"
   ]
  },
  {
   "cell_type": "code",
   "execution_count": 11,
   "metadata": {
    "scrolled": true
   },
   "outputs": [
    {
     "data": {
      "text/plain": [
       "GERENCIA2                  object\n",
       "CONTRATO                    int64\n",
       "ESTADO                     object\n",
       "FECHA_PROCESO      datetime64[ns]\n",
       "CARTERIZACION               int64\n",
       "SEGMENTO_ACCESS            object\n",
       "dtype: object"
      ]
     },
     "execution_count": 11,
     "metadata": {},
     "output_type": "execute_result"
    }
   ],
   "source": [
    "# Testing Dataframes\n",
    "\n",
    "#jerarquia.dtypes\n",
    "\n",
    "#inar.dtypes\n",
    "#deacs.dtypes \n",
    "\n",
    "#ventas_ssaa.dtypes\n",
    "#deacs_ssaa.dtypes\n",
    "dataf.dtypes\n",
    "#bolsas.dtypes\n",
    "\n",
    "#basesgcp.dtypes\n",
    "#basesgcp.describe()\n",
    "#basesgcp.describe(include = ['O'])\n",
    "#basesgce.dtypes\n",
    "#actividad.dtypes\n",
    "#basesgcpquincenal.dtypes\n",
    "#jerarquia.dtypes\n",
    "\n",
    "#unitarios.dtypes\n",
    "\n",
    "# Looking the df\n",
    "#unitarios\n",
    "#unitarios[unitarios['PERIODO_ACTIVACION']==201901]\n",
    "#basesgcp[basesgcp['SEGMENTO_ACCESS'].notnull()].head()\n",
    "#paquetes.head()\n",
    "#ceses.head()\n",
    "#basesgcp\n",
    "#ventas_ssaa"
   ]
  },
  {
   "cell_type": "code",
   "execution_count": 12,
   "metadata": {
    "scrolled": false
   },
   "outputs": [
    {
     "data": {
      "application/vnd.jupyter.widget-view+json": {
       "model_id": "0cb34fba9a0548a9b2d1ffc83eab5daf",
       "version_major": 2,
       "version_minor": 0
      },
      "text/plain": [
       "Output(layout=Layout(border='solid', height='600px', width='100%'), outputs=({'name': 'stdout', 'output_type':…"
      ]
     },
     "metadata": {},
     "output_type": "display_data"
    }
   ],
   "source": [
    "#1. Carga de Data en Base de Datos\n",
    "\n",
    "#dbmanager.dbOperation('insert','tblJerarquia',dataf) #OK\n",
    "#dbmanager.dbOperation('insert','tblVentas',dataf)#OK GI cerrado\n",
    "#dbmanager.dbOperation('insert','tblDeacs',dataf)#OK\n",
    "#dbmanager.dbOperation('insert','tblGarantias',dataf)#OK\n",
    "#dbmanager.dbOperation('insert','tblMigraciones',dataf) #OK\n",
    "#dbmanager.dbOperation('insert','tblChurn',dataf) #OK\n",
    "#dbmanager.dbOperation('insert','tblVentaSSAANew',dataf) #OK\n",
    "\n",
    "#********************************************\n",
    "#2.  Update de tablas de Ventas y Deacs (deben estar en memoria)\n",
    "\n",
    "#dbmanager.dbOperation('update','Ceses', dataf) #OK\n",
    "#dbmanager.dbOperation('update','UpdateTargetEmpleado', dataf) #OK\n",
    "#dbmanager.dbOperation('update','UpdateSubsidiosEmpleados', dataf)#OK\n",
    "#dbmanager.dbOperation('update','Bases_GCP', dataf) #ok\n",
    "#dbmanager.dbOperation('update','SumVentaSSAA',dataf) #\n",
    "\n",
    "#Opcionales\n",
    "#dbmanager.dbOperation('update','UpdatePuestoEmpleado', dataf) #OK\n",
    "\n",
    "#3. Calculando el Gross Comisión y las Reversiones (Obligatorio al final de la carga)\n",
    "#*************************************************\n",
    "start_time = time.time()\n",
    "\n",
    "#dbmanager.dbOperation('update','Gross_Comision') #no hecho, no se usa al parecer\n",
    "#dbmanager.dbOperation('update','Reversiones') #OK\n",
    "\n",
    "handler.show_logs()\n",
    "\n",
    "# DEPRECATED:\n",
    "#dbmanager.dbOperation('insert','tblDeacSSAA',deacs_ssaa) FALTA, investigar\n",
    "#dbmanager.dbOperation('insert','tblPaquetes',dataf) # no se hizo, parece en deshuso\n",
    "#dbmanager.dbOperation('update','Bolsas',bolsas) #no hubo\n",
    "#dbmanager.dbOperation('update','Paquetes') # no se hizo, parece en deshuso\n",
    "\n",
    "#dbmanager.dbOperation('update','Actividad', actividad) #en deshuso\n",
    "#dbmanager.dbOperation('update','Bases_GCP_Quincenal',basesgcpquincenal) # actualizar con data quincenal,\n",
    "#dbmanager.dbOperation('update','Bases_GCE',basesgce) # Usar a conveniencia,"
   ]
  },
  {
   "cell_type": "code",
   "execution_count": null,
   "metadata": {},
   "outputs": [],
   "source": []
  }
 ],
 "metadata": {
  "kernelspec": {
   "display_name": "Python 3",
   "language": "python",
   "name": "python3"
  },
  "language_info": {
   "codemirror_mode": {
    "name": "ipython",
    "version": 3
   },
   "file_extension": ".py",
   "mimetype": "text/x-python",
   "name": "python",
   "nbconvert_exporter": "python",
   "pygments_lexer": "ipython3",
   "version": "3.7.6"
  }
 },
 "nbformat": 4,
 "nbformat_minor": 4
}
