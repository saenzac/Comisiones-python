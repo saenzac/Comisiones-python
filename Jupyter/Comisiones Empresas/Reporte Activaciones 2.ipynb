{
 "cells": [
  {
   "cell_type": "code",
   "execution_count": 8,
   "metadata": {},
   "outputs": [],
   "source": [
    "#from Loader import fileloader as fl\n",
    "#from Loader import datahandledatabase as dhdb\n",
    "import ecomis\n",
    "import pandas as pd\n",
    "import numpy as np\n",
    "import time\n",
    "import posixpath\n",
    "from datetime import datetime\n",
    "import openpyxl as xlsx\n",
    "\n",
    "periodo = 202007\n",
    "\n",
    "inidb = ecomis.ReadIniFile(mercado=\"empresas\")\n",
    "TESTPATH = inidb.getTestPath()\n",
    "\n",
    "dbparser = inidb.getDbIniFileParser()\n",
    "\n",
    "dbmanager = ecomis.DbDataProcess(str(periodo))\n",
    "dbmanager.setParser(dbparser)\n",
    "\n",
    "#To make sqlite dates recognized by external software we follow the ISO-8601 norm so\n",
    "#date and time in the following format:  YYYY-MM-DD HH:MM:SS.SSS\n",
    "def textToDateConverter(df, date_cols):\n",
    "    for datevalue in date_cols:\n",
    "        df[datevalue] = pd.to_datetime(df[datevalue],format='%Y-%m-%d', dayfirst = True)\n",
    "    return df"
   ]
  },
  {
   "cell_type": "code",
   "execution_count": 9,
   "metadata": {},
   "outputs": [],
   "source": [
    "# Equipos quincenales : actualizar\n",
    "start_time = time.time()\n",
    "\n",
    "HALF_MONTHTLY_TEAMS = []\n",
    "DATE_COLUMNS = ['FECHA_PROCESO','FEC_ACTIV','FEC_DESACTIVA']\n",
    "ORDER_COLUMN = ['PERIODO_ACTIVACION','GERENCIA1','GERENCIA2','DEPARTAMENTO','ZONAVENTA','SUPERVISORKAM','VENDEDOR',\n",
    "                'FECHA_PROCESO','ESTADO']\n",
    "\n",
    "DROP_COLUMNS = ['GERENCIA2','ZONAVENTA','VENDEDOR_OTRO']\n",
    "RENAME_COLUMNS ={'NEW_GERENCIA2':'GERENCIA2','NEW_ZONAVENTA':'ZONAVENTA','COMISION_UNITARIA':'COMISION_UNITARIA_DB'}\n",
    "\n",
    "COLS = ['PERIODO_ACTIVACION','GERENCIA1','GERENCIA2','NEW_GERENCIA2','ZONAVENTA','NEW_ZONAVENTA','DEPARTAMENTO','SUPERVISORKAM',\n",
    "        'VENDEDOR','VENDEDOR_OTRO','POSICION_EMPL',\n",
    "        'FECHA_PROCESO','CANALDEVENTA','CODIGO','RAZON_SOCIAL','CONTRATO','FEC_ACTIV','FEC_DESACTIVA', 'MODELO','TELEFONO',\n",
    "        'ESTADO','TMCODE','PLAN_TARIFARIO','DIVISION','FECHA_ACTUALIZACION','TIPODOC','DOCUMENTO','GROSSCOMERCIAL',\n",
    "        'GROSSCOMISION','ACCESS', \n",
    "        'ACCESSBOLSA','ACCESSPAQUETE','ACCESSLICENCIA', 'TIPOEQUIPO', 'RUC_10_20','NEWSADDS','TECNOLOGIAEQUIPO', 'NROORDEN', \n",
    "        'ACTIVIDAD','NUEVOSEGMENTO','CEDENTE', 'TIPOVENTA','DEPARTAMENTOGROSS','CARTERIZACION','FACTOR_FACTURACIÓN', \n",
    "        'DEALERS_REGIONES', 'COMISION_UNITARIA','PRIMA_SEGURO_ENTEL','ACCESSMASVEP','SEGMENTO_ACCESS','PORTA_EQUIPO']\n",
    "\n",
    "ventas_ = dbmanager.loadData('View_Ventas')\n",
    "ventas_ = textToDateConverter(ventas_, DATE_COLUMNS)\n",
    "ventas_ = ventas_[COLS]\n",
    "\n",
    "#Filtros\n",
    "filter1 = ventas_['PERIODO_ACTIVACION'] == periodo\n",
    "ventas = ventas_[filter1]\n"
   ]
  },
  {
   "cell_type": "markdown",
   "metadata": {},
   "source": [
    "$$Corporaciones$$"
   ]
  },
  {
   "cell_type": "code",
   "execution_count": 19,
   "metadata": {},
   "outputs": [],
   "source": [
    "CHANNEL_FILTER1 = ['CORPORACIONES']\n",
    "stage1 = ventas['NEW_GERENCIA2'].isin(CHANNEL_FILTER1)\n",
    "\n",
    "ventas_gce = ventas[stage1]\n",
    "\n",
    "# Corrigiendo los códigos de regiones múltiples\n",
    "filter_reg = ventas_gce['VENDEDOR_OTRO'] != ''\n",
    "multiple_seller = ventas_gce[filter_reg]['VENDEDOR_OTRO'].values\n",
    "ventas_gce.loc[filter_reg,'VENDEDOR'] = multiple_seller\n",
    "ventas_gce.drop(DROP_COLUMNS, axis =1, inplace = True)\n",
    "ventas_gce = ventas_gce.rename(columns = RENAME_COLUMNS)\n",
    "\n",
    "ventas_gce.sort_values(by = ORDER_COLUMN, ascending = [1,1,1,1,1,1,1,1,1], inplace = True )\n",
    "\n",
    "\n",
    "ventas_gce.to_csv(posixpath.join(TESTPATH, str(periodo) + '_corporaciones.csv'), index = False, encoding='utf-8-sig')\n",
    "\n"
   ]
  },
  {
   "cell_type": "markdown",
   "metadata": {},
   "source": [
    "$$Grandes Clientes$$"
   ]
  },
  {
   "cell_type": "code",
   "execution_count": 10,
   "metadata": {},
   "outputs": [],
   "source": [
    "CHANNEL_FILTER1 = ['GRANDES CLIENTES','INSIDE SALES','DESARROLLO NEGOCIOS']\n",
    "stage1 = ventas['NEW_GERENCIA2'].isin(CHANNEL_FILTER1)\n",
    "\n",
    "ventas_gce = ventas[stage1]\n",
    "\n",
    "# Corrigiendo los códigos de regiones múltiples\n",
    "filter_reg = ventas_gce['VENDEDOR_OTRO'] != ''\n",
    "multiple_seller = ventas_gce[filter_reg]['VENDEDOR_OTRO'].values\n",
    "ventas_gce.loc[filter_reg,'VENDEDOR'] = multiple_seller\n",
    "ventas_gce.drop(DROP_COLUMNS, axis =1, inplace = True)\n",
    "ventas_gce = ventas_gce.rename(columns = RENAME_COLUMNS)\n",
    "\n",
    "ventas_gce.sort_values(by = ORDER_COLUMN, ascending = [1,1,1,1,1,1,1,1,1], inplace = True )\n",
    "\n",
    "\n",
    "ventas_gce.to_csv(posixpath.join(TESTPATH, str(periodo) + '_grandes_clientes.csv'), index = False, encoding='utf-8-sig')\n"
   ]
  },
  {
   "cell_type": "markdown",
   "metadata": {},
   "source": [
    "$$Venta Regional Empresa$$"
   ]
  },
  {
   "cell_type": "code",
   "execution_count": 25,
   "metadata": {},
   "outputs": [],
   "source": [
    "CHANNEL_FILTER1 = ['VENTA REGIONAL EMPRESA']\n",
    "stage1 = ventas['NEW_GERENCIA2'].isin(CHANNEL_FILTER1)\n",
    "\n",
    "ventas_gce = ventas[stage1]\n",
    "\n",
    "# Corrigiendo los códigos de regiones múltiples\n",
    "filter_reg = ventas_gce['VENDEDOR_OTRO'] != ''\n",
    "multiple_seller = ventas_gce[filter_reg]['VENDEDOR_OTRO'].values\n",
    "ventas_gce.loc[filter_reg,'VENDEDOR'] = multiple_seller\n",
    "ventas_gce.drop(DROP_COLUMNS, axis =1, inplace = True)\n",
    "ventas_gce = ventas_gce.rename(columns = RENAME_COLUMNS)\n",
    "\n",
    "ventas_gce.sort_values(by = ORDER_COLUMN, ascending = [1,1,1,1,1,1,1,1,1], inplace = True )\n",
    "\n",
    "\n",
    "ventas_gce.to_csv(posixpath.join(TESTPATH, str(periodo) + '_venta_regional_empresas.csv'), index = False, encoding='utf-8-sig')"
   ]
  },
  {
   "cell_type": "markdown",
   "metadata": {},
   "source": [
    "$$Desarrollo de Negocios$$"
   ]
  },
  {
   "cell_type": "code",
   "execution_count": 13,
   "metadata": {},
   "outputs": [],
   "source": [
    "CHANNEL_FILTER1 = ['DESARROLLO NEGOCIOS']\n",
    "stage1 = ventas['NEW_GERENCIA2'].isin(CHANNEL_FILTER1)\n",
    "\n",
    "ventas_gce = ventas[stage1]\n",
    "\n",
    "# Corrigiendo los códigos de regiones múltiples\n",
    "filter_reg = ventas_gce['VENDEDOR_OTRO'] != ''\n",
    "multiple_seller = ventas_gce[filter_reg]['VENDEDOR_OTRO'].values\n",
    "ventas_gce.loc[filter_reg,'VENDEDOR'] = multiple_seller\n",
    "ventas_gce.drop(DROP_COLUMNS, axis =1, inplace = True)\n",
    "ventas_gce = ventas_gce.rename(columns = RENAME_COLUMNS)\n",
    "\n",
    "ventas_gce.sort_values(by = ORDER_COLUMN, ascending = [1,1,1,1,1,1,1,1,1], inplace = True )\n",
    "\n",
    "ventas_gce.to_csv(posixpath.join(TESTPATH, str(periodo) + '_venta_ddnn.csv'), index = False, encoding='utf-8-sig')"
   ]
  },
  {
   "cell_type": "code",
   "execution_count": null,
   "metadata": {},
   "outputs": [],
   "source": []
  }
 ],
 "metadata": {
  "kernelspec": {
   "display_name": "Python 3",
   "language": "python",
   "name": "python3"
  },
  "language_info": {
   "codemirror_mode": {
    "name": "ipython",
    "version": 3
   },
   "file_extension": ".py",
   "mimetype": "text/x-python",
   "name": "python",
   "nbconvert_exporter": "python",
   "pygments_lexer": "ipython3",
   "version": "3.7.6"
  }
 },
 "nbformat": 4,
 "nbformat_minor": 2
}
