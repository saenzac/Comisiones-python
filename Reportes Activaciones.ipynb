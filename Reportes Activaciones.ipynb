{
 "cells": [
  {
   "cell_type": "code",
   "execution_count": 2,
   "metadata": {},
   "outputs": [],
   "source": [
    "from Loader import fileloader as fl\n",
    "from Loader import datahandledatabase as dhdb\n",
    "import pandas as pd\n",
    "import numpy as np\n",
    "import time\n",
    "import posixpath\n",
    "from datetime import datetime\n",
    "import openpyxl as xlsx"
   ]
  },
  {
   "cell_type": "code",
   "execution_count": 3,
   "metadata": {},
   "outputs": [
    {
     "name": "stderr",
     "output_type": "stream",
     "text": [
      "DEBUG:    Values loaded from globals.ini:\n",
      "DEBUG:    Values loaded from globals.ini:\n",
      "DEBUG:     * datapath /Users/johnnysaenz/OneDrive - Entel Peru S.A/MercadoEmpresas\n",
      "DEBUG:     * datapath /Users/johnnysaenz/OneDrive - Entel Peru S.A/MercadoEmpresas\n",
      "DEBUG:     * scriptspath /Users/johnnysaenz/Developer/Comisiones-python\n",
      "DEBUG:     * scriptspath /Users/johnnysaenz/Developer/Comisiones-python\n",
      "DEBUG:     * databasepath /Users/johnnysaenz/Documents/Comisiones/Mercado Empresas/SQLiteDB\n",
      "DEBUG:     * databasepath /Users/johnnysaenz/Documents/Comisiones/Mercado Empresas/SQLiteDB\n",
      "DEBUG:    testpath value is /Users/johnnysaenz/OneDrive - Entel Peru S.A/MercadoEmpresas/Data Fuente Comisiones/test\n",
      "DEBUG:    testpath value is /Users/johnnysaenz/OneDrive - Entel Peru S.A/MercadoEmpresas/Data Fuente Comisiones/test\n"
     ]
    },
    {
     "name": "stdout",
     "output_type": "stream",
     "text": [
      "Also setting database database path to /Users/johnnysaenz/Documents/Comisiones/Mercado Empresas/SQLiteDB/mercado_empresas_db.sqlite\n"
     ]
    }
   ],
   "source": [
    "periodo = 201812\n",
    "\n",
    "start_date = '2018-12-01' # Captura teams \n",
    "end_date = '2019-12-31' # End of Captura teams \n",
    "\n",
    "start_date_dt = datetime.strptime(start_date, '%Y-%m-%d')\n",
    "end_date_dt = datetime.strptime(end_date, '%Y-%m-%d')\n",
    "\n",
    "inidb = fl.ReadIniFile()\n",
    "TESTPATH = inidb.getTestPath()\n",
    "\n",
    "dbparser = inidb.getDbIniFileParser()\n",
    "\n",
    "dbmanager = dhdb.DbDataProcess(str(periodo))\n",
    "dbmanager.setParser(dbparser)"
   ]
  },
  {
   "cell_type": "code",
   "execution_count": 5,
   "metadata": {},
   "outputs": [],
   "source": [
    "#To make sqlite dates recognized by external software we follow the ISO-8601 norm so\n",
    "#date and time in the following format:  YYYY-MM-DD HH:MM:SS.SSS\n",
    "def textToDateConverter(df, date_cols):\n",
    "    for datevalue in date_cols:\n",
    "        df[datevalue] = pd.to_datetime(df[datevalue],format='%Y-%m-%d', dayfirst = True)\n",
    "    return df"
   ]
  },
  {
   "cell_type": "code",
   "execution_count": 6,
   "metadata": {},
   "outputs": [
    {
     "name": "stdout",
     "output_type": "stream",
     "text": [
      "Los registros de la tabla View_Ventas es 34225 registros  \n"
     ]
    },
    {
     "name": "stderr",
     "output_type": "stream",
     "text": [
      "/Users/johnnysaenz/anaconda3/lib/python3.7/site-packages/pandas/core/indexing.py:543: SettingWithCopyWarning: \n",
      "A value is trying to be set on a copy of a slice from a DataFrame.\n",
      "Try using .loc[row_indexer,col_indexer] = value instead\n",
      "\n",
      "See the caveats in the documentation: http://pandas.pydata.org/pandas-docs/stable/indexing.html#indexing-view-versus-copy\n",
      "  self.obj[item] = s\n",
      "/Users/johnnysaenz/anaconda3/lib/python3.7/site-packages/pandas/core/frame.py:3697: SettingWithCopyWarning: \n",
      "A value is trying to be set on a copy of a slice from a DataFrame\n",
      "\n",
      "See the caveats in the documentation: http://pandas.pydata.org/pandas-docs/stable/indexing.html#indexing-view-versus-copy\n",
      "  errors=errors)\n",
      "/Users/johnnysaenz/anaconda3/lib/python3.7/site-packages/ipykernel_launcher.py:78: SettingWithCopyWarning: \n",
      "A value is trying to be set on a copy of a slice from a DataFrame\n",
      "\n",
      "See the caveats in the documentation: http://pandas.pydata.org/pandas-docs/stable/indexing.html#indexing-view-versus-copy\n"
     ]
    },
    {
     "name": "stdout",
     "output_type": "stream",
     "text": [
      "--- 5.897860050201416 seconds ---\n"
     ]
    }
   ],
   "source": [
    "# Equipos quincenales : actualizar\n",
    "start_time = time.time()\n",
    "\n",
    "# REPORTERIA ACTIVACIONES VOZ\n",
    "#********************************************\n",
    "\n",
    "#HALF_MONTHTLY_TEAMS = ['MICHA','KRATOS','KAIZEN']\n",
    "HALF_MONTHTLY_TEAMS = []\n",
    "DATE_COLUMNS = ['FECHA_PROCESO','FEC_ACTIV','FEC_DESACTIVA']\n",
    "ORDER_COLUMN = ['PERIODO_ACTIVACION','GERENCIA1','GERENCIA2','DEPARTAMENTO','ZONAVENTA','SUPERVISORKAM','VENDEDOR',\n",
    "                'FECHA_PROCESO','ESTADO']\n",
    "\n",
    "CHANNEL_FILTER1 = ['PEQUEÑAS Y MEDIANAS EMPRESAS','PLATAFORMAS COMERCIALES REGIONES']\n",
    "CHANNEL_FILTER2 = ['CORPORACIONES','GRANDES CLIENTES','VENTA REGIONAL EMPRESA']\n",
    "CHANNEL_FILTER3 = ['HOGAR']\n",
    "CHANNEL_FILTER4 = ['SOLUCIONES DE DATOS']\n",
    "\n",
    "DROP_COLUMNS = ['GERENCIA2','ZONAVENTA','VENDEDOR_OTRO']\n",
    "DROP_COLUMNS2 = ['NEW_GERENCIA2','NEW_ZONAVENTA','VENDEDOR_OTRO']\n",
    "RENAME_COLUMNS ={'NEW_GERENCIA2':'GERENCIA2','NEW_ZONAVENTA':'ZONAVENTA','COMISION_UNITARIA':'COMISION_UNITARIA_DB'}\n",
    "\n",
    "COLS = ['PERIODO_ACTIVACION','GERENCIA1','GERENCIA2','NEW_GERENCIA2','ZONAVENTA','NEW_ZONAVENTA','DEPARTAMENTO','SUPERVISORKAM',\n",
    "        'VENDEDOR','VENDEDOR_OTRO','POSICION_EMPL',\n",
    "        'FECHA_PROCESO','CANALDEVENTA','CODIGO','RAZON_SOCIAL','CONTRATO','FEC_ACTIV','FEC_DESACTIVA', 'MODELO','TELEFONO',\n",
    "        'ESTADO','TMCODE','PLAN_TARIFARIO','DIVISION','FECHA_ACTUALIZACION','TIPODOC','DOCUMENTO','GROSSCOMERCIAL',\n",
    "        'GROSSCOMISION','ACCESS', \n",
    "        'ACCESSBOLSA','ACCESSPAQUETE','ACCESSLICENCIA', 'TIPOEQUIPO', 'RUC_10_20','NEWSADDS','TECNOLOGIAEQUIPO', 'NROORDEN', \n",
    "        'ACTIVIDAD','NUEVOSEGMENTO','CEDENTE', 'TIPOVENTA','DEPARTAMENTOGROSS','CARTERIZACION','FACTOR_FACTURACIÓN', \n",
    "        'DEALERS_REGIONES', 'COMISION_UNITARIA','PRIMA_SEGURO_ENTEL','ACCESSMASVEP','SEGMENTO_ACCESS']\n",
    "\n",
    "## Revisar los contratos nulos en BD ##\n",
    "\n",
    "#\"\"\"\n",
    "ventas_ = dbmanager.loadData('View_Ventas')\n",
    "ventas_ = textToDateConverter(ventas_, DATE_COLUMNS)\n",
    "ventas_ = ventas_[COLS]\n",
    "\n",
    "filter1 = ventas_['PERIODO_ACTIVACION'] == periodo\n",
    "filter2 = ventas_['PERIODO_ACTIVACION'] == end_date_dt.month + 201800 # Tener en cuenta diciembre\n",
    "filter3 = ventas_['ZONAVENTA'].isin(HALF_MONTHTLY_TEAMS)\n",
    "filter4 = ventas_['FECHA_PROCESO'] <= end_date_dt\n",
    "\n",
    "ventast_1 = ventas_[filter1]\n",
    "ventast = ventas_[filter2 & filter3 & filter4]\n",
    "ventas = ventast_1.append(ventast, ignore_index = True)\n",
    "\n",
    "stage1 = ventas['NEW_GERENCIA2'].isin(CHANNEL_FILTER2)\n",
    "stage2 = ventas['GERENCIA1'].isin(CHANNEL_FILTER1)\n",
    "stage3 = ventas['GERENCIA2'].isin(CHANNEL_FILTER3)\n",
    "stage4 = ventas['GERENCIA2'].isin(CHANNEL_FILTER4)\n",
    "\n",
    "#\"\"\"\n",
    "\n",
    "#\"\"\"\n",
    "# Filtrando las ventas_gce\n",
    "#*************************\n",
    "\n",
    "ventas_gce = ventas[stage1]\n",
    "# Corrigiendo los códigos de regiones múltiples\n",
    "filter_reg = ventas_gce['VENDEDOR_OTRO'] != ''\n",
    "multiple_seller = ventas_gce[filter_reg]['VENDEDOR_OTRO'].values\n",
    "ventas_gce.loc[filter_reg,'VENDEDOR'] = multiple_seller\n",
    "ventas_gce.drop(DROP_COLUMNS, axis =1, inplace = True)\n",
    "ventas_gce = ventas_gce.rename(columns = RENAME_COLUMNS)\n",
    "\n",
    "ventas_gce.sort_values(by = ORDER_COLUMN,ascending = [1,1,1,1,1,1,1,1,1], inplace = True )\n",
    "\n",
    "\n",
    "#\"\"\"\n",
    "\n",
    "# Filtrando las ventas_gcp\n",
    "#*************************\n",
    "\n",
    "ventas_gcp = ventas[stage2 & ~ stage3]\n",
    "order_col = ORDER_COLUMN.copy()\n",
    "order_col.pop(0)\n",
    "ventas_gcp.drop(DROP_COLUMNS2, axis =1, inplace = True)\n",
    "ventas_gcp.sort_values(by = order_col,ascending = [1,1,1,1,1,1,1,1], inplace = True )\n",
    "\n",
    "#\"\"\"\n",
    "\n",
    "# Filtrando las ventas_datos\n",
    "#*************************\n",
    "\n",
    "ventas_datos = ventas[stage4]\n",
    "ventas_datos.drop(DROP_COLUMNS, axis =1, inplace = True)\n",
    "ventas_datos = ventas_datos.rename(columns = RENAME_COLUMNS)\n",
    "\n",
    "ventas_datos.sort_values(by = ORDER_COLUMN,ascending = [1,1,1,1,1,1,1,1,1], inplace = True )\n",
    "\n",
    "#\"\"\"\n",
    "\n",
    "\n",
    "# REPORTERIA\n",
    "\n",
    "ventas_.to_csv(posixpath.join(TESTPATH,str(periodo) + '_ventas_brutas_.csv'), index = False) # Punto de Control\n",
    "ventas_gce.to_csv(posixpath.join(TESTPATH, str(periodo) + '_ventas_gce.csv'), index = False)\n",
    "ventas_gcp.to_csv(posixpath.join(TESTPATH ,str(periodo) + '_ventas_gcp.csv'), index = False)\n",
    "ventas_datos.to_csv(posixpath.join(TESTPATH, str(periodo) + '_ventas_M2M.csv'), index = False)\n",
    "\n",
    "\n",
    "time_consuming = (time.time() - start_time) # In seconds\n",
    "\n",
    "print(\"--- %s seconds ---\" % time_consuming)"
   ]
  },
  {
   "cell_type": "code",
   "execution_count": 7,
   "metadata": {},
   "outputs": [
    {
     "name": "stdout",
     "output_type": "stream",
     "text": [
      "Los registros de la tabla View_Ventas_SSAA es 2851 registros  \n"
     ]
    },
    {
     "name": "stderr",
     "output_type": "stream",
     "text": [
      "/Users/johnnysaenz/anaconda3/lib/python3.7/site-packages/pandas/core/indexing.py:362: SettingWithCopyWarning: \n",
      "A value is trying to be set on a copy of a slice from a DataFrame.\n",
      "Try using .loc[row_indexer,col_indexer] = value instead\n",
      "\n",
      "See the caveats in the documentation: http://pandas.pydata.org/pandas-docs/stable/indexing.html#indexing-view-versus-copy\n",
      "  self.obj[key] = _infer_fill_value(value)\n",
      "/Users/johnnysaenz/anaconda3/lib/python3.7/site-packages/ipykernel_launcher.py:70: SettingWithCopyWarning: \n",
      "A value is trying to be set on a copy of a slice from a DataFrame\n",
      "\n",
      "See the caveats in the documentation: http://pandas.pydata.org/pandas-docs/stable/indexing.html#indexing-view-versus-copy\n"
     ]
    },
    {
     "name": "stdout",
     "output_type": "stream",
     "text": [
      "--- 0.4209280014038086 seconds ---\n"
     ]
    }
   ],
   "source": [
    "# REPORTERIA ACTIVACIONES VAS (SSAA)\n",
    "# ********************************************************\n",
    "# Equipos quincenales : actualizar\n",
    "start_time = time.time()\n",
    "\n",
    "#half_monthly_teams = ['MICHA','KRATOS','KAIZEN']\n",
    "half_monthly_teams = []\n",
    "end_date_dt = datetime.strptime(end_date, '%Y-%m-%d')\n",
    "\n",
    "DATE_COLUMNS_DATA = ['ACTION_DATE']\n",
    "\n",
    "ORDER_COLUMN_DATA = ['PERIODO_ACTIVACION','GERENCIA1','GERENCIA2','DEPARTAMENTO','ZONAVENTA','SUPERVISORKAM',\n",
    "                     'VENDEDOR_CROSS_SELLING','ACTION_DATE','ESTADO']\n",
    "\n",
    "CHANNEL_FILTER1 = ['PEQUEÑAS Y MEDIANAS EMPRESAS','PLATAFORMAS COMERCIALES REGIONES']\n",
    "CHANNEL_FILTER2 = ['CORPORACIONES','GRANDES CLIENTES','VENTA REGIONAL EMPRESA']\n",
    "CHANNEL_FILTER3 = ['HOGAR']\n",
    "\n",
    "DROP_COLUMNS = ['GERENCIA2','ZONAVENTA','VENDEDOR_OTRO']\n",
    "DROP_COLUMNS2 = ['NEW_GERENCIA2','NEW_ZONAVENTA','VENDEDOR_OTRO']\n",
    "RENAME_COLUMNS_DATA ={'NEW_GERENCIA2':'GERENCIA2','NEW_ZONAVENTA':'ZONAVENTA'}\n",
    "\n",
    "COLS_DATA = ['PERIODO_ACTIVACION','GERENCIA1','GERENCIA2','NEW_GERENCIA2','ZONAVENTA','NEW_ZONAVENTA','DEPARTAMENTO',\n",
    "             'SUPERVISORKAM','VENDEDOR_CROSS_SELLING','VENDEDOR_OTRO','POSICION_EMPL','ACTION_DATE','CANALDEVENTA',\n",
    "             'CODIGO','RAZON_SOCIAL','CONTRATO','SERVICE','PHONENUMBER','ESTADO','FECHA_ACTUALIZACION','RUC','ACCESS_REAL',\n",
    "             'TIPO2','GANADO_POR','EQUIPO','CUENTA','OBSERVACIONES']\n",
    "\n",
    "## Revisar los contratos nulos en BD ##\n",
    "\n",
    "# Importing, cleaning, filtering and appending == > initial\n",
    "ventas_ssaa_ = dbmanager.loadData('View_Ventas_SSAA')\n",
    "ventas_ssaa_ = textToDateConverter(ventas_ssaa_, DATE_COLUMNS_DATA)\n",
    "ventas_ssaa_ = ventas_ssaa_[COLS_DATA]\n",
    "\n",
    "\n",
    "filter1 = ventas_ssaa_['PERIODO_ACTIVACION'] == periodo\n",
    "filter2 = ventas_ssaa_['PERIODO_ACTIVACION'] == end_date_dt.month + 201800 # Tener en cuenta diciembre\n",
    "filter3 = ventas_ssaa_['ZONAVENTA'].isin(half_monthly_teams)\n",
    "filter4 = ventas_ssaa_['ACTION_DATE'] <= end_date_dt\n",
    "\n",
    "ventas_ssaa_t_1 = ventas_ssaa_[filter1]\n",
    "ventas_ssaa_t = ventas_ssaa_[filter2 & filter3 & filter4]\n",
    "ventas_ssaa = ventas_ssaa_t_1.append(ventas_ssaa_t, ignore_index = True)\n",
    "\n",
    "stage1 = ventas_ssaa['NEW_GERENCIA2'].isin(CHANNEL_FILTER2)\n",
    "stage2 = ventas_ssaa['GERENCIA1'].isin(CHANNEL_FILTER1)\n",
    "stage3 = ventas_ssaa['GERENCIA2'].isin(CHANNEL_FILTER3)\n",
    "\n",
    "#\"\"\"\n",
    "# Filtrando las ventas_ssaa_gce\n",
    "#*************************\n",
    "ventas_ssaa_gce = ventas_ssaa[stage1]\n",
    "# Corrigiendo los códigos de regiones múltiples\n",
    "filter_reg = ventas_ssaa_gce['VENDEDOR_OTRO'] != ''\n",
    "multiple_seller = ventas_ssaa_gce[filter_reg]['VENDEDOR_OTRO'].values\n",
    "ventas_ssaa_gce.loc[filter_reg,'VENDEDOR'] = multiple_seller\n",
    "ventas_ssaa_gce.drop(DROP_COLUMNS, axis =1, inplace = True)\n",
    "ventas_ssaa_gce = ventas_ssaa_gce.rename(columns = RENAME_COLUMNS_DATA)\n",
    "ventas_ssaa_gce.sort_values(by = ORDER_COLUMN_DATA,ascending = [1,1,1,1,1,1,1,1,1], inplace = True )\n",
    "\n",
    "\n",
    "#\"\"\"\n",
    "\n",
    "#\"\"\"\n",
    "# Filtrando las ventas_ssaa_gcp\n",
    "#*************************\n",
    "\n",
    "ventas_ssaa_gcp = ventas_ssaa[stage2 & ~ stage3]\n",
    "ventas_ssaa_gcp.drop(DROP_COLUMNS2, axis =1, inplace = True)\n",
    "ventas_ssaa_gcp.sort_values(by = ORDER_COLUMN_DATA,ascending = [1,1,1,1,1,1,1,1,1], inplace = True )\n",
    "\n",
    "#\"\"\"\n",
    "\n",
    "# REPORTERIA\n",
    "\n",
    "\n",
    "ventas_ssaa_.to_csv(posixpath.join(TESTPATH, str(periodo) + '_ventas_ssaa_.csv'), index = False) # Para Soluciones de Negocio\n",
    "ventas_ssaa_gce.to_csv(posixpath.join(TESTPATH, str(periodo) + '_ventas_ssaa_gce.csv'), index = False)\n",
    "ventas_ssaa_gcp.to_csv(posixpath.join(TESTPATH, str(periodo) + '_ventas_ssaa_gcp.csv'), index = False)\n",
    "\n",
    "time_consuming = (time.time() - start_time) # In seconds\n",
    "\n",
    "print(\"--- %s seconds ---\" % time_consuming)"
   ]
  },
  {
   "cell_type": "code",
   "execution_count": 4,
   "metadata": {},
   "outputs": [
    {
     "data": {
      "text/plain": [
       "1544387163.358"
      ]
     },
     "execution_count": 4,
     "metadata": {},
     "output_type": "execute_result"
    }
   ],
   "source": [
    "time.time()"
   ]
  },
  {
   "cell_type": "code",
   "execution_count": null,
   "metadata": {
    "collapsed": true
   },
   "outputs": [],
   "source": []
  }
 ],
 "metadata": {
  "kernelspec": {
   "display_name": "Python 3",
   "language": "python",
   "name": "python3"
  },
  "language_info": {
   "codemirror_mode": {
    "name": "ipython",
    "version": 3
   },
   "file_extension": ".py",
   "mimetype": "text/x-python",
   "name": "python",
   "nbconvert_exporter": "python",
   "pygments_lexer": "ipython3",
   "version": "3.7.1"
  }
 },
 "nbformat": 4,
 "nbformat_minor": 1
}
