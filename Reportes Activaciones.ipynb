{
 "cells": [
  {
   "cell_type": "code",
   "execution_count": 11,
   "metadata": {
    "collapsed": false
   },
   "outputs": [],
   "source": [
    "from Loader import fileloader as fl\n",
    "from Loader import datahandledatabase as dhdb\n",
    "import pandas as pd\n",
    "import numpy as np\n",
    "import time\n",
    "from datetime import datetime\n",
    "import openpyxl as xlsx"
   ]
  },
  {
   "cell_type": "code",
   "execution_count": 12,
   "metadata": {
    "collapsed": false
   },
   "outputs": [],
   "source": [
    "periodo = 201808\n",
    "start_date_pre = '2018-07-16' # Only DDNN1 '2018-07-16'\n",
    "start_date = '2018-08-16' # Captura teams '2018-08-16'\n",
    "end_date = '2018-09-16' # End of Captura teams '2018-09-15'\n",
    "start_date_pre_dt = datetime.strptime(start_date_pre, '%Y-%m-%d')\n",
    "start_date_dt = datetime.strptime(start_date, '%Y-%m-%d')\n",
    "end_date_dt = datetime.strptime(end_date, '%Y-%m-%d')\n",
    "\n",
    "TESTPATH = 'D:/Datos de Usuario/cleon/Documents/Mercado Empresas/Data Fuente Comisiones/test/'\n",
    "inidb = fl.ReadIniFile('C:/Anaconda3/MeScripts/Comisiones4/Config/mydbconfig.ini')\n",
    "dbparser = inidb.readFile()\n",
    "\n",
    "dbmanager = dhdb.DbDataProcess(str(periodo))\n",
    "dbmanager.setParser(dbparser)"
   ]
  },
  {
   "cell_type": "code",
   "execution_count": 13,
   "metadata": {
    "collapsed": true
   },
   "outputs": [],
   "source": [
    "def textToDateConverter(df, date_cols):\n",
    "# Text cols to dates converter    \n",
    "    for datevalue in date_cols:\n",
    "        df[datevalue] = pd.to_datetime(df[datevalue],'%Y-%m-%d', dayfirst = True)\n",
    "    \n",
    "    return df"
   ]
  },
  {
   "cell_type": "code",
   "execution_count": 9,
   "metadata": {
    "collapsed": false
   },
   "outputs": [
    {
     "name": "stderr",
     "output_type": "stream",
     "text": [
      "C:\\Anaconda3\\lib\\site-packages\\pandas\\core\\indexing.py:415: SettingWithCopyWarning: \n",
      "A value is trying to be set on a copy of a slice from a DataFrame.\n",
      "Try using .loc[row_indexer,col_indexer] = value instead\n",
      "\n",
      "See the the caveats in the documentation: http://pandas.pydata.org/pandas-docs/stable/indexing.html#indexing-view-versus-copy\n",
      "  self.obj[item] = s\n",
      "C:\\Anaconda3\\lib\\site-packages\\IPython\\kernel\\__main__.py:61: SettingWithCopyWarning: \n",
      "A value is trying to be set on a copy of a slice from a DataFrame\n",
      "\n",
      "See the the caveats in the documentation: http://pandas.pydata.org/pandas-docs/stable/indexing.html#indexing-view-versus-copy\n",
      "C:\\Anaconda3\\lib\\site-packages\\IPython\\kernel\\__main__.py:73: SettingWithCopyWarning: \n",
      "A value is trying to be set on a copy of a slice from a DataFrame\n",
      "\n",
      "See the the caveats in the documentation: http://pandas.pydata.org/pandas-docs/stable/indexing.html#indexing-view-versus-copy\n",
      "C:\\Anaconda3\\lib\\site-packages\\pandas\\core\\frame.py:2915: SettingWithCopyWarning: \n",
      "A value is trying to be set on a copy of a slice from a DataFrame\n",
      "\n",
      "See the the caveats in the documentation: http://pandas.pydata.org/pandas-docs/stable/indexing.html#indexing-view-versus-copy\n",
      "  inplace=inplace, kind=kind, na_position=na_position)\n"
     ]
    },
    {
     "name": "stdout",
     "output_type": "stream",
     "text": [
      "Los registros de la tabla View_Ventas es 47772 registros  \n",
      "--- 66.24751281738281 seconds ---\n"
     ]
    }
   ],
   "source": [
    "# Data Wrangling Ventas y Deacs Voz\n",
    "# ********************************************************\n",
    "# Equipos quincenales : actualizar\n",
    "start_time = time.time()\n",
    "\n",
    "# PROCESO DE REPORTERIA SOBRE ACTIVACIONES VOZ\n",
    "#********************************************\n",
    "\n",
    "HALF_MONTHTLY_TEAMS = ['FALCO','MICHA','KRATOS','KAIZEN']\n",
    "DATE_COLUMNS = ['FECHA_PROCESO','FEC_ACTIV','FEC_DESACTIVA']\n",
    "ORDER_COLUMN = ['PERIODO_ACTIVACION','GERENCIA1','GERENCIA2','DEPARTAMENTO','ZONAVENTA','SUPERVISORKAM','VENDEDOR',\n",
    "                'FECHA_PROCESO','ESTADO']\n",
    "\n",
    "CHANNEL_FILTER1 = ['PEQUEÑAS Y MEDIANAS EMPRESAS','PLATAFORMAS COMERCIALES REGIONES']\n",
    "CHANNEL_FILTER2 = ['CORPORACIONES','GRANDES CLIENTES','VENTA REGIONAL EMPRESA']\n",
    "CHANNEL_FILTER3 = ['HOGAR']\n",
    "\n",
    "DROP_COLUMNS = ['GERENCIA2','ZONAVENTA','VENDEDOR_OTRO']\n",
    "DROP_COLUMNS2 = ['NEW_GERENCIA2','NEW_ZONAVENTA','VENDEDOR_OTRO']\n",
    "RENAME_COLUMNS ={'NEW_GERENCIA2':'GERENCIA2','NEW_ZONAVENTA':'ZONAVENTA','COMISION_UNITARIA':'COMISION_UNITARIA_DB'}\n",
    "\n",
    "COLS = ['PERIODO_ACTIVACION','GERENCIA1','GERENCIA2','NEW_GERENCIA2','ZONAVENTA','NEW_ZONAVENTA','DEPARTAMENTO','SUPERVISORKAM',\n",
    "        'VENDEDOR','VENDEDOR_OTRO','POSICION_EMPL',\n",
    "        'FECHA_PROCESO','CANALDEVENTA','CODIGO','RAZON_SOCIAL','CONTRATO','FEC_ACTIV','FEC_DESACTIVA', 'MODELO','TELEFONO',\n",
    "        'ESTADO','TMCODE','PLAN_TARIFARIO','DIVISION','FECHA_ACTUALIZACION','TIPODOC','DOCUMENTO','GROSSCOMERCIAL',\n",
    "        'GROSSCOMISION','ACCESS', \n",
    "        'ACCESSBOLSA','ACCESSPAQUETE','ACCESSLICENCIA', 'TIPOEQUIPO', 'RUC_10_20','NEWSADDS','TECNOLOGIAEQUIPO', 'NROORDEN', \n",
    "        'ACTIVIDAD','NUEVOSEGMENTO','CEDENTE', 'TIPOVENTA','DEPARTAMENTOGROSS','CARTERIZACION','FACTOR_FACTURACIÓN', \n",
    "        'DEALERS_REGIONES', 'COMISION_UNITARIA','PRIMA_SEGURO_ENTEL','ACCESSMASVEP','SEGMENTO_ACCESS']\n",
    "\n",
    "## Revisar los contratos nulos en BD ##\n",
    "\n",
    "#\"\"\"\n",
    "ventas_ = dbmanager.loadData('View_Ventas')\n",
    "ventas_ = textToDateConverter(ventas_, DATE_COLUMNS)\n",
    "ventas_ = ventas_[COLS]\n",
    "\n",
    "#ventas_.to_csv(TESTPATH + str(periodo) + '_ventas_.csv', index = False) # Punto de Control\n",
    "\n",
    "filter1 = ventas_['PERIODO_ACTIVACION'] == periodo\n",
    "filter2 = ventas_['PERIODO_ACTIVACION'] == end_date_dt.month + 201800 # Tener en cuenta diciembre\n",
    "filter3 = ventas_['ZONAVENTA'].isin(HALF_MONTHTLY_TEAMS)\n",
    "filter4 = ventas_['FECHA_PROCESO'] <= end_date_dt\n",
    "\n",
    "ventast_1 = ventas_[filter1]\n",
    "ventast = ventas_[filter2 & filter3 & filter4]\n",
    "ventas = ventast_1.append(ventast, ignore_index = True)\n",
    "\n",
    "stage1 = ventas['NEW_GERENCIA2'].isin(CHANNEL_FILTER2)\n",
    "stage2 = ventas['GERENCIA1'].isin(CHANNEL_FILTER1)\n",
    "stage3 = ventas['GERENCIA2'].isin(CHANNEL_FILTER3)\n",
    "\n",
    "# Filtrando las ventas_gce\n",
    "#*************************\n",
    "\n",
    "ventas_gce = ventas[stage1]\n",
    "# Corrigiendo los códigos de regiones múltiples\n",
    "filter_reg = ventas_gce['VENDEDOR_OTRO'] != ''\n",
    "multiple_seller = ventas_gce[filter_reg]['VENDEDOR_OTRO'].values\n",
    "ventas_gce.loc[filter_reg,'VENDEDOR'] = multiple_seller\n",
    "ventas_gce.drop(DROP_COLUMNS, axis =1, inplace = True)\n",
    "ventas_gce = ventas_gce.rename(columns = RENAME_COLUMNS)\n",
    "\n",
    "ventas_gce.sort(columns = ORDER_COLUMN,ascending = [1,1,1,1,1,1,1,1,1], inplace = True )\n",
    "ventas_gce.to_csv(TESTPATH + str(periodo) + '_ventas_gce.csv', index = False)\n",
    "\n",
    "# Filtrando las ventas_gcp\n",
    "#*************************\n",
    "\n",
    "ventas_gcp = ventas[stage2 & ~ stage3]\n",
    "order_col = ORDER_COLUMN.copy()\n",
    "order_col.pop(0)\n",
    "ventas_gcp.drop(DROP_COLUMNS2, axis =1, inplace = True)\n",
    "ventas_gcp.sort(columns = order_col,ascending = [1,1,1,1,1,1,1,1], inplace = True )\n",
    "ventas_gcp.to_csv(TESTPATH + str(periodo) + '_ventas_gcp.csv', index = False)\n",
    "\n",
    "#\"\"\"\n",
    "\n",
    "time_consuming = (time.time() - start_time) # In seconds\n",
    "\n",
    "print(\"--- %s seconds ---\" % time_consuming)"
   ]
  },
  {
   "cell_type": "code",
   "execution_count": 14,
   "metadata": {
    "collapsed": false
   },
   "outputs": [
    {
     "name": "stderr",
     "output_type": "stream",
     "text": [
      "C:\\Anaconda3\\lib\\site-packages\\pandas\\core\\indexing.py:249: SettingWithCopyWarning: \n",
      "A value is trying to be set on a copy of a slice from a DataFrame.\n",
      "Try using .loc[row_indexer,col_indexer] = value instead\n",
      "\n",
      "See the the caveats in the documentation: http://pandas.pydata.org/pandas-docs/stable/indexing.html#indexing-view-versus-copy\n",
      "  self.obj[key] = _infer_fill_value(value)\n",
      "C:\\Anaconda3\\lib\\site-packages\\pandas\\core\\indexing.py:415: SettingWithCopyWarning: \n",
      "A value is trying to be set on a copy of a slice from a DataFrame.\n",
      "Try using .loc[row_indexer,col_indexer] = value instead\n",
      "\n",
      "See the the caveats in the documentation: http://pandas.pydata.org/pandas-docs/stable/indexing.html#indexing-view-versus-copy\n",
      "  self.obj[item] = s\n",
      "C:\\Anaconda3\\lib\\site-packages\\IPython\\kernel\\__main__.py:57: SettingWithCopyWarning: \n",
      "A value is trying to be set on a copy of a slice from a DataFrame\n",
      "\n",
      "See the the caveats in the documentation: http://pandas.pydata.org/pandas-docs/stable/indexing.html#indexing-view-versus-copy\n"
     ]
    },
    {
     "name": "stdout",
     "output_type": "stream",
     "text": [
      "Los registros de la tabla View_Ventas_SSAA es 3124 registros  \n",
      "--- 6.800594091415405 seconds ---\n"
     ]
    },
    {
     "name": "stderr",
     "output_type": "stream",
     "text": [
      "C:\\Anaconda3\\lib\\site-packages\\IPython\\kernel\\__main__.py:70: SettingWithCopyWarning: \n",
      "A value is trying to be set on a copy of a slice from a DataFrame\n",
      "\n",
      "See the the caveats in the documentation: http://pandas.pydata.org/pandas-docs/stable/indexing.html#indexing-view-versus-copy\n",
      "C:\\Anaconda3\\lib\\site-packages\\pandas\\core\\frame.py:2915: SettingWithCopyWarning: \n",
      "A value is trying to be set on a copy of a slice from a DataFrame\n",
      "\n",
      "See the the caveats in the documentation: http://pandas.pydata.org/pandas-docs/stable/indexing.html#indexing-view-versus-copy\n",
      "  inplace=inplace, kind=kind, na_position=na_position)\n"
     ]
    }
   ],
   "source": [
    "# Data Wrangling Ventas Data\n",
    "# ********************************************************\n",
    "# Equipos quincenales : actualizar\n",
    "start_time = time.time()\n",
    "\n",
    "half_monthly_teams = ['FALCO','MICHA','KRATOS','KAIZEN']\n",
    "end_date_dt = datetime.strptime(end_date, '%Y-%m-%d')\n",
    "\n",
    "DATE_COLUMNS_DATA = ['ACTION_DATE']\n",
    "\n",
    "ORDER_COLUMN_DATA = ['PERIODO_ACTIVACION','GERENCIA1','GERENCIA2','DEPARTAMENTO','ZONAVENTA','SUPERVISORKAM',\n",
    "                     'VENDEDOR_CROSS_SELLING','ACTION_DATE','ESTADO']\n",
    "\n",
    "CHANNEL_FILTER1 = ['PEQUEÑAS Y MEDIANAS EMPRESAS','PLATAFORMAS COMERCIALES REGIONES']\n",
    "CHANNEL_FILTER2 = ['CORPORACIONES','GRANDES CLIENTES','VENTA REGIONAL EMPRESA']\n",
    "CHANNEL_FILTER3 = ['HOGAR']\n",
    "\n",
    "DROP_COLUMNS = ['GERENCIA2','ZONAVENTA','VENDEDOR_OTRO']\n",
    "DROP_COLUMNS2 = ['NEW_GERENCIA2','NEW_ZONAVENTA','VENDEDOR_OTRO']\n",
    "RENAME_COLUMNS_DATA ={'NEW_GERENCIA2':'GERENCIA2','NEW_ZONAVENTA':'ZONAVENTA'}\n",
    "\n",
    "COLS_DATA = ['PERIODO_ACTIVACION','GERENCIA1','GERENCIA2','NEW_GERENCIA2','ZONAVENTA','NEW_ZONAVENTA','DEPARTAMENTO',\n",
    "             'SUPERVISORKAM','VENDEDOR_CROSS_SELLING','VENDEDOR_OTRO','POSICION_EMPL','ACTION_DATE','CANALDEVENTA',\n",
    "             'CODIGO','RAZON_SOCIAL','CONTRATO','SERVICE','PHONENUMBER','ESTADO','FECHA_ACTUALIZACION','RUC','ACCESS_REAL',\n",
    "             'TIPO2','GANADO_POR','EQUIPO','CUENTA','OBSERVACIONES']\n",
    "\n",
    "## Revisar los contratos nulos en BD ##\n",
    "\n",
    "# Importing, cleaning, filtering and appending == > initial\n",
    "ventas_ssaa_ = dbmanager.loadData('View_Ventas_SSAA')\n",
    "ventas_ssaa_ = textToDateConverter(ventas_ssaa_, DATE_COLUMNS_DATA)\n",
    "ventas_ssaa_ = ventas_ssaa_[COLS_DATA]\n",
    "\n",
    "ventas_ssaa_.to_csv(TESTPATH + str(periodo) + '_ventas_ssaa_.csv', index = False) # Para Soluciones de Negocio\n",
    "\n",
    "filter1 = ventas_ssaa_['PERIODO_ACTIVACION'] == periodo\n",
    "filter2 = ventas_ssaa_['PERIODO_ACTIVACION'] == end_date_dt.month + 201800 # Tener en cuenta diciembre\n",
    "filter3 = ventas_ssaa_['ZONAVENTA'].isin(half_monthly_teams)\n",
    "filter4 = ventas_ssaa_['ACTION_DATE'] <= end_date_dt\n",
    "\n",
    "ventas_ssaa_t_1 = ventas_ssaa_[filter1]\n",
    "ventas_ssaa_t = ventas_ssaa_[filter2 & filter3 & filter4]\n",
    "ventas_ssaa = ventas_ssaa_t_1.append(ventas_ssaa_t, ignore_index = True)\n",
    "\n",
    "stage1 = ventas_ssaa['NEW_GERENCIA2'].isin(CHANNEL_FILTER2)\n",
    "stage2 = ventas_ssaa['GERENCIA1'].isin(CHANNEL_FILTER1)\n",
    "stage3 = ventas_ssaa['GERENCIA2'].isin(CHANNEL_FILTER3)\n",
    "\n",
    "#\"\"\"\n",
    "# Filtrando las ventas_ssaa_gce\n",
    "#*************************\n",
    "ventas_ssaa_gce = ventas_ssaa[stage1]\n",
    "# Corrigiendo los códigos de regiones múltiples\n",
    "filter_reg = ventas_ssaa_gce['VENDEDOR_OTRO'] != ''\n",
    "multiple_seller = ventas_ssaa_gce[filter_reg]['VENDEDOR_OTRO'].values\n",
    "ventas_ssaa_gce.loc[filter_reg,'VENDEDOR'] = multiple_seller\n",
    "ventas_ssaa_gce.drop(DROP_COLUMNS, axis =1, inplace = True)\n",
    "ventas_ssaa_gce = ventas_ssaa_gce.rename(columns = RENAME_COLUMNS_DATA)\n",
    "\n",
    "ventas_ssaa_gce.sort(columns = ORDER_COLUMN_DATA,ascending = [1,1,1,1,1,1,1,1,1], inplace = True )\n",
    "ventas_ssaa_gce.to_csv(TESTPATH + str(periodo) + '_ventas_ssaa_gce.csv', index = False)\n",
    "\n",
    "#\"\"\"\n",
    "\n",
    "#\"\"\"\n",
    "# Filtrando las ventas_ssaa_gcp\n",
    "#*************************\n",
    "\n",
    "ventas_ssaa_gcp = ventas_ssaa[stage2 & ~ stage3]\n",
    "ventas_ssaa_gcp.drop(DROP_COLUMNS2, axis =1, inplace = True)\n",
    "ventas_ssaa_gcp.sort(columns = ORDER_COLUMN_DATA,ascending = [1,1,1,1,1,1,1,1,1], inplace = True )\n",
    "ventas_ssaa_gcp.to_csv(TESTPATH + str(periodo) + '_ventas_ssaa_gcp.csv', index = False)\n",
    "\n",
    "#\"\"\"\n",
    "\n",
    "time_consuming = (time.time() - start_time) # In seconds\n",
    "\n",
    "print(\"--- %s seconds ---\" % time_consuming)"
   ]
  },
  {
   "cell_type": "code",
   "execution_count": null,
   "metadata": {
    "collapsed": true
   },
   "outputs": [],
   "source": []
  }
 ],
 "metadata": {
  "kernelspec": {
   "display_name": "Python 3",
   "language": "python",
   "name": "python3"
  },
  "language_info": {
   "codemirror_mode": {
    "name": "ipython",
    "version": 3
   },
   "file_extension": ".py",
   "mimetype": "text/x-python",
   "name": "python",
   "nbconvert_exporter": "python",
   "pygments_lexer": "ipython3",
   "version": "3.4.3"
  }
 },
 "nbformat": 4,
 "nbformat_minor": 0
}
