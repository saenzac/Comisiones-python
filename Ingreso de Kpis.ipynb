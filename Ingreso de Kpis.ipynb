{
 "cells": [
  {
   "cell_type": "code",
   "execution_count": 1,
   "metadata": {},
   "outputs": [
    {
     "name": "stderr",
     "output_type": "stream",
     "text": [
      "DEBUG:    Values loaded from globals.ini:\n",
      "DEBUG:    Values loaded from globals.ini:\n",
      "DEBUG:     * datapath D:/Datos de Usuario/jsaenza/Documents/OneDrive - Entel Peru S.A/MercadoEmpresas\n",
      "DEBUG:     * datapath D:/Datos de Usuario/jsaenza/Documents/OneDrive - Entel Peru S.A/MercadoEmpresas\n",
      "DEBUG:     * scriptspath D:/Datos de Usuario/jsaenza/Documents/Comisiones/Comisiones-python\n",
      "DEBUG:     * scriptspath D:/Datos de Usuario/jsaenza/Documents/Comisiones/Comisiones-python\n",
      "DEBUG:     * databasepath D:/Datos de Usuario/jsaenza/Documents/Comisiones/SQLiteDB\n",
      "DEBUG:     * databasepath D:/Datos de Usuario/jsaenza/Documents/Comisiones/SQLiteDB\n",
      "DEBUG:    defaultpath value is D:/Datos de Usuario/jsaenza/Documents/OneDrive - Entel Peru S.A/MercadoEmpresas/Data Fuente Comisiones/xlsx\n",
      "DEBUG:    defaultpath value is D:/Datos de Usuario/jsaenza/Documents/OneDrive - Entel Peru S.A/MercadoEmpresas/Data Fuente Comisiones/xlsx\n",
      "DEBUG:    testpath value is D:/Datos de Usuario/jsaenza/Documents/OneDrive - Entel Peru S.A/MercadoEmpresas/Data Fuente Comisiones/test\n",
      "DEBUG:    testpath value is D:/Datos de Usuario/jsaenza/Documents/OneDrive - Entel Peru S.A/MercadoEmpresas/Data Fuente Comisiones/test\n"
     ]
    }
   ],
   "source": [
    "from Loader import fileloader as fl\n",
    "from Loader import datahandledatabase as dhdb\n",
    "from Loader import datacompute as dc\n",
    "from Loader import datapreparation as dp\n",
    "import pandas as pd\n",
    "import numpy as np\n",
    "from datetime import datetime\n",
    "import time\n",
    "import posixpath\n",
    "\n",
    "month = '201812'\n",
    "month_unitario = 201812\n",
    "\n",
    "inifile = fl.ReadIniFile()\n",
    "\n",
    "defaultpath = inifile.getDefaultPath()\n",
    "testpath = inifile.getTestPath()\n",
    "\n",
    "#testpath = 'D:/Datos de Usuario/cleon/Documents/Mercado Empresas/Data Fuente Comisiones/test/'\n",
    "#defaultpath = 'D:/Datos de Usuario/cleon/Documents/Mercado Empresas/Data Fuente Comisiones/xlsx/'\n",
    "\n",
    "#defaultpath = 'D:/Datos de Usuario/cleon/Documents/Mercado Empresas/Data Fuente Comisiones/xlsx/meses previos/201809/'\n",
    "\n",
    "#*****************Actualizar periodo*************\n",
    "#defaultpath = 'D:/Datos de Usuario/cleon/Documents/Mercado Empresas/Data Fuente Comisiones/xlsx/meses previos/201804/'\n"
   ]
  },
  {
   "cell_type": "code",
   "execution_count": 2,
   "metadata": {
    "scrolled": true
   },
   "outputs": [],
   "source": [
    "# Configurando los archivos de configuración para importar archivos tipo : xlsx, txt, ini\n",
    "parser = inifile.getIniFileParser()\n",
    "\n",
    "loader = fl.LoadFileProcess(month)\n",
    "loader.setParser(parser)\n",
    "loader.setDefaultPath(defaultpath)"
   ]
  },
  {
   "cell_type": "code",
   "execution_count": 3,
   "metadata": {
    "scrolled": true
   },
   "outputs": [
    {
     "name": "stdout",
     "output_type": "stream",
     "text": [
      "Also setting database database path to /Users/johnnysaenz/Documents/Comisiones/Mercado Empresas/SQLiteDB/mercado_empresas_db.sqlite\n"
     ]
    }
   ],
   "source": [
    "# Configurando los archivos de configuración para administrar la base de datos\n",
    "dbparser = inifile.getDbIniFileParser()\n",
    "#inidb = fl.ReadIniFile('C:/Anaconda3/MeScripts/Comisiones4/Config/mydbconfig.ini')\n",
    "#dbparser = inidb.readFile()\n",
    "\n",
    "dbmanager = dhdb.DbDataProcess(month)\n",
    "dbmanager.setParser(dbparser)\n"
   ]
  },
  {
   "cell_type": "code",
   "execution_count": 5,
   "metadata": {
    "scrolled": true
   },
   "outputs": [
    {
     "name": "stdout",
     "output_type": "stream",
     "text": [
      "Archivo: /Users/johnnysaenz/Developer/Comisiones-python/Data/logins equivalentes.xlsx\n",
      "Hoja Importada: Similar\n",
      "El tamaño de Logins es 155 registros\n",
      "Archivo: /Users/johnnysaenz/Developer/Comisiones-python/Data/metricas conjuntas.xlsx\n",
      "Hoja Importada: reporte\n",
      "El tamaño de Metricas_conjuntas es 87 registros\n",
      "Archivo: /Users/johnnysaenz/OneDrive - Entel Peru S.A/MercadoEmpresas/Comisiones Plataformas Comerciales/201812_Comisiones Plataformas Comerciales.xlsx\n",
      "Hoja Importada: Leyenda\n",
      "El tamaño de Kpis_plataformas es 129 registros\n",
      "El tamaño de Comisionantes_plataformas es 150 registros\n",
      "Archivo: /Users/johnnysaenz/OneDrive - Entel Peru S.A/MercadoEmpresas/Data Fuente Comisiones/xlsx/201812_Plataformas Comerciales Panel.xlsx\n",
      "Hoja Importada: Resumen Indicadores\n",
      "Hoja Importada: Plataforma Carterizada\n",
      "Hoja Importada: Plataforma Inbound\n",
      "Hoja Importada: Plataforma Outbound\n",
      "Hoja Importada: Canales Presenciales\n",
      "Hoja Importada: Canales Online\n",
      "El tamaño de Panel_plataformas es 10401 registros\n"
     ]
    }
   ],
   "source": [
    "# Carga de Panel de Plataformas Comerciales: \n",
    "\n",
    "# Preparación de Data : Quitar formulas y quitar pestañas ocultas. Si hay intercambio de supervisores (o nuevo supervisor) \n",
    "# actualizar logins equivalentes y metricas conjuntas\n",
    "# File : _Plataformas Comerciales Panel\n",
    "\n",
    "logins = loader.loadFile('Logins')\n",
    "metricasconjuntas = loader.loadFile('Metricas_conjuntas')\n",
    "kpispltfrs = loader.loadFile('Kpis_plataformas')\n",
    "comisionantespltfrs = loader.loadFile('Comisionantes_plataformas')\n",
    "panelpltfrs0 = loader.loadHistoricalFile('Panel_plataformas')\n",
    "periodo = loader.getPeriodo()\n",
    "\n",
    "paramspltfrs= {'tipo' : 'plataformas', 'periodo' : periodo.upper(), 'keycol': 'NOMBRES', 'logins' : logins, \n",
    "               'metricasconjuntas' : metricasconjuntas, 'kpis' : kpispltfrs, 'comisionantes' : comisionantespltfrs, \n",
    "               'cuotas' : panelpltfrs0, 'resultados' : None}\n",
    "\n",
    "panelpltfrs = loader.prepareHistoricalFiles(paramspltfrs)\n",
    "\n",
    "panelpltfrs.to_csv(posixpath.join(testpath, month + '_panelpltfrs.csv'),encoding='utf-8-sig')\n",
    "\n",
    "#\"\"\""
   ]
  },
  {
   "cell_type": "code",
   "execution_count": 5,
   "metadata": {},
   "outputs": [
    {
     "name": "stdout",
     "output_type": "stream",
     "text": [
      "Archivo: /Users/johnnysaenz/Developer/Comisiones-python/Data/logins equivalentes.xlsx\n",
      "Hoja Importada: Similar\n",
      "El tamaño de Logins es 155 registros\n",
      "Archivo: /Users/johnnysaenz/Developer/Comisiones-python/Data/metricas conjuntas.xlsx\n",
      "Hoja Importada: reporte\n",
      "El tamaño de Metricas_conjuntas es 87 registros\n",
      "Archivo: /Users/johnnysaenz/OneDrive - Entel Peru S.A/MercadoEmpresas/Comisiones Grandes Cuentas/201812_Comisiones Soluciones de Negocio.xlsm\n",
      "Hoja Importada: Leyenda\n",
      "Archivo: /Users/johnnysaenz/OneDrive - Entel Peru S.A/MercadoEmpresas/Comisiones Grandes Cuentas/201812_Comisiones Grandes Cuentas.xlsm\n",
      "Hoja Importada: Leyenda\n",
      "Archivo: /Users/johnnysaenz/OneDrive - Entel Peru S.A/MercadoEmpresas/Comisiones Medianas y Pequeñas Pymes/201812_Comisiones Pymes.xlsm\n",
      "Hoja Importada: Leyenda\n",
      "El tamaño de Kpis_voz es 254 registros\n",
      "El tamaño de Comisionantes_voz es 316 registros\n",
      "Archivo: /Users/johnnysaenz/OneDrive - Entel Peru S.A/MercadoEmpresas/Data Fuente Comisiones/xlsx/201812_Formato de cuotas VP Empresas.xlsx\n",
      "Hoja Importada: VD  PYME\n",
      "Hoja Importada: DATA\n",
      "Hoja Importada: DEALERS LIMA\n",
      "Hoja Importada: DDNN \n",
      "Hoja Importada: GRANDES CLIENTES\n",
      "Hoja Importada: DEALERS REGIONES-KAM\n",
      "Hoja Importada: CORPORACIONES\n",
      "Hoja Importada: VENTA REGIONAL EMPRESA\n",
      "El tamaño de Cuotas es 839 registros\n",
      "Archivo: /Users/johnnysaenz/OneDrive - Entel Peru S.A/MercadoEmpresas/Data Fuente Comisiones/xlsx/201812_Formato de Resultados VP Empresas(1).xlsx\n",
      "Hoja Importada: DEALERS REGION\n",
      "Hoja Importada: CORPORACIONES\n",
      "Hoja Importada: GRANDES CLIENTES\n",
      "Hoja Importada: DATA\n",
      "Hoja Importada: DEALERS LIMA\n",
      "Hoja Importada: DDNN PYME\n",
      "El tamaño de Resultados es 290 registros\n",
      "Archivo: /Users/johnnysaenz/OneDrive - Entel Peru S.A/MercadoEmpresas/Data Fuente Comisiones/xlsx/201812_GCE Churn Corporaciones.xlsx\n",
      "Hoja Importada: Churn Comisiones\n",
      "Archivo: /Users/johnnysaenz/OneDrive - Entel Peru S.A/MercadoEmpresas/Data Fuente Comisiones/xlsx/201812_GCE Churn Regiones.xlsx\n",
      "Hoja Importada: Churn Comisiones\n",
      "Archivo: /Users/johnnysaenz/OneDrive - Entel Peru S.A/MercadoEmpresas/Data Fuente Comisiones/xlsx/201812_GCE Churn Grandes Clientes.xlsx\n",
      "Hoja Importada: Churn Comisiones\n",
      "El tamaño de Churn es 478 registros\n",
      "Archivo: /Users/johnnysaenz/OneDrive - Entel Peru S.A/MercadoEmpresas/Data Fuente Comisiones/xlsx/201812_Riesgos Calidad Lima.xlsx\n",
      "Hoja Importada: BASE\n",
      "Archivo: /Users/johnnysaenz/OneDrive - Entel Peru S.A/MercadoEmpresas/Data Fuente Comisiones/xlsx/201812_Riesgos Calidad Regiones.xlsx\n",
      "Hoja Importada: BASE\n",
      "El tamaño de Calidad es 134 registros\n"
     ]
    }
   ],
   "source": [
    "#Carga de Panel de voz\n",
    "#*************************\n",
    "# Agregar mes enero faltante en cuotas de GC\n",
    "# Asegúrate en colocar 0 en la cabecera de los resultados y eliminar toda la data fuera del formato\n",
    "\n",
    "#\"\"\"\n",
    "logins = loader.loadFile('Logins') # ojo con tener logins duplicados. Sale errores raros\n",
    "metricasconjuntas = loader.loadFile('Metricas_conjuntas')\n",
    "kpisvoz = loader.loadFile('Kpis_voz')\n",
    "comisionantesvoz = loader.loadFile('Comisionantes_voz')\n",
    "cuotasvoz = loader.loadHistoricalFile('Cuotas')\n",
    "\n",
    "#\"\"\"\n",
    "\n",
    "periodo = loader.getPeriodo()\n",
    "\n",
    "#\"\"\"\n",
    "\n",
    "#\"\"\"\n",
    "\n",
    "# Preparar los resultados antes de enviar el cerrado\n",
    "# GCE_Resultados debe tener dos o mas Hojas sino lanza error\n",
    "\n",
    "resultadosvoz = loader.loadHistoricalFile('Resultados') # Por precaución eliminar tres columnas posteriores a dic-18.\n",
    "#resultadosvoz = pd.DataFrame() # Usar si no hay resultados\n",
    "                                                         \n",
    "churn = loader.loadHistoricalFile('Churn')\n",
    "calidad = loader.loadHistoricalFile('Calidad')\n",
    "\n",
    "#qnp = loader.loadHistoricalFile('QNP') \n",
    "#tracking = loader.loadHistoricalFile('Tracking') # Asegurarse el nombre del kpi en resultados\n",
    "#epa = loader.loadHistoricalFile('EPA') # Asegurarse el nombre del kpi en resultados\n",
    "\n",
    "resultadosvoz = resultadosvoz.append(churn, ignore_index = True)\n",
    "resultadosvoz = resultadosvoz.append(calidad, ignore_index = True)\n",
    "\n",
    "#resultadosvoz = resultadosvoz.append(qnp, ignore_index = True)\n",
    "#resultadosvoz = resultadosvoz.append(tracking, ignore_index = True)\n",
    "#resultadosvoz = resultadosvoz.append(epa, ignore_index = True)\n",
    "\n",
    "#\"\"\""
   ]
  },
  {
   "cell_type": "code",
   "execution_count": 6,
   "metadata": {
    "scrolled": true
   },
   "outputs": [],
   "source": [
    "# Preparando la ultima data : HC, VAS\n",
    "\n",
    "#hc = loader.loadFile('HC')\n",
    "#vas = dbmanager.loadData('View_VAS_Voz')\n",
    "#vas = pd.DataFrame() # temporal mientras se arregla el código\n",
    "\n",
    "#periodo = loader.getPeriodo() # arriba se repite\n",
    "\n",
    "\n",
    "\"\"\"\n",
    "criteria = {'VAS' : {'colgroupby' : ['GERENCIA2' , 'ZONAVENTA', 'DEPARTAMENTO', 'VENDEDOR_CROSS_SELLING'], \n",
    "                     'colsum' : 'ACCESS_REAL'},\n",
    "            'HC' : {'colfilter' : 'CARGO', 'colfilteritem' : 'CONSULTOR', 'colgroupby' : 'DATOS', 'colsum' : 'VENDEDORES'}}\n",
    "\n",
    "otherparams = {'periodo' : periodo.upper(), 'frames' : {'HC' : hc, 'VAS' : vas}, 'criteria': criteria}\n",
    "otherdfs = loader.prepareOtherPlainFiles(otherparams) \n",
    "\n",
    "\n",
    "for df in otherdfs.keys():\n",
    "    resultadosvoz = resultadosvoz.append(otherdfs[df], ignore_index = True)\n",
    "\n",
    "\"\"\"\n",
    "\n",
    "\n",
    "#\"\"\"\n",
    "paramsvoz = {'tipo' : 'voz', 'periodo' : periodo.upper(), 'keycol': 'LOGIN', 'logins' : logins, \n",
    "             'metricasconjuntas' : metricasconjuntas, 'kpis' : kpisvoz, 'comisionantes' : comisionantesvoz, \n",
    "             'cuotas' : cuotasvoz, 'resultados' : resultadosvoz}\n",
    "\n",
    "\n",
    "panelvoz = loader.prepareHistoricalFiles(paramsvoz)          \n",
    "panelvoz.to_csv(posixpath.join(testpath, month + '_panelvoz.csv'),encoding='utf-8-sig')\n",
    "#\"\"\""
   ]
  },
  {
   "cell_type": "code",
   "execution_count": 6,
   "metadata": {},
   "outputs": [],
   "source": [
    "cuotasvoz.to_csv(testpath + 'cuotas_brutas.csv')"
   ]
  },
  {
   "cell_type": "code",
   "execution_count": null,
   "metadata": {
    "collapsed": true
   },
   "outputs": [],
   "source": []
  },
  {
   "cell_type": "code",
   "execution_count": null,
   "metadata": {
    "collapsed": true
   },
   "outputs": [],
   "source": []
  },
  {
   "cell_type": "code",
   "execution_count": null,
   "metadata": {
    "collapsed": true
   },
   "outputs": [],
   "source": []
  },
  {
   "cell_type": "code",
   "execution_count": null,
   "metadata": {
    "collapsed": true
   },
   "outputs": [],
   "source": []
  }
 ],
 "metadata": {
  "kernelspec": {
   "display_name": "Python 3",
   "language": "python",
   "name": "python3"
  },
  "language_info": {
   "codemirror_mode": {
    "name": "ipython",
    "version": 3
   },
   "file_extension": ".py",
   "mimetype": "text/x-python",
   "name": "python",
   "nbconvert_exporter": "python",
   "pygments_lexer": "ipython3",
   "version": "3.7.1"
  }
 },
 "nbformat": 4,
 "nbformat_minor": 1
}
