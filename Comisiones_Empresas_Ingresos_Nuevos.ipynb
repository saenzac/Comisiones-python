{
 "cells": [
  {
   "cell_type": "code",
   "execution_count": 19,
   "metadata": {},
   "outputs": [],
   "source": [
    "import logging\n",
    "\n",
    "from Loader import fileloader_proto as fl\n",
    "from Loader import datahandledatabase as dhdb\n",
    "from Loader import datacompute as dc\n",
    "from Loader import datapreparation as dp\n",
    "from Loader import dfutils as utils\n",
    "import pandas as pd\n",
    "import numpy as np\n",
    "import posixpath\n",
    "from datetime import datetime\n",
    "import time\n",
    "import xlwings as xw\n",
    "import copy\n",
    "\n",
    "logger = logging.getLogger(\"\")\n",
    "logger.setLevel(logging.INFO)"
   ]
  },
  {
   "cell_type": "markdown",
   "metadata": {},
   "source": [
    "**Ingresos Nuevos**\n",
    "----------\n",
    "Ejecutar el siguiente codigo como requisito para las siguientes secciones de Ingresos Nuevos"
   ]
  },
  {
   "cell_type": "code",
   "execution_count": 20,
   "metadata": {
    "scrolled": true
   },
   "outputs": [
    {
     "name": "stderr",
     "output_type": "stream",
     "text": [
      "INFO:    Values loaded from globals.ini:\n",
      "INFO:     * mainpath C:/Users/jsaenza/OneDrive - Entel Peru S.A\n",
      "INFO:     * scriptspath C:/Users/jsaenza/Documents/Comisiones/Comisiones-python\n",
      "INFO:     * databasepath C:/Users/jsaenza/OneDrive - Entel Peru S.A/SQLiteDB\n",
      "INFO:    datapath value is C:/Users/jsaenza/OneDrive - Entel Peru S.A/MercadoEmpresas/Data Fuente Comisiones/xlsx\n",
      "INFO:    testpath value is C:/Users/jsaenza/OneDrive - Entel Peru S.A/MercadoEmpresas/Data Fuente Comisiones/test\n",
      "INFO:    Setting database path to C:/Users/jsaenza/OneDrive - Entel Peru S.A/SQLiteDB/mercado_empresas_db.sqlite\n"
     ]
    }
   ],
   "source": [
    "month=\"201907\"\n",
    "inifile = fl.ReadIniFile(mercado=\"empresas\")\n",
    "parser = inifile.getIniFileParser()\n",
    "\n",
    "# Configurando los archivos de configuración para administrar la base de datos\n",
    "dbparser = inifile.getDbIniFileParser()\n",
    "dbmanager = dhdb.DbDataProcess(month)\n",
    "dbmanager.setParser(dbparser)\n"
   ]
  },
  {
   "cell_type": "markdown",
   "metadata": {},
   "source": [
    "***<span style=\"color:red\">Copiar</span>*** Ingresos Nuevos del Archivo de Atracción\n",
    "-----\n",
    "\n",
    "Copia los ingresos nuevos desde el archivo enviado por atracción hacia el archivo de Ingresos Nuevos de comisiones.\n",
    "\n",
    "**Requisitos**: \n",
    "- Haber filtrado las personas de interes en el archivo que envia attracion\n",
    "- Asegurarse la hoja se llame BASE en el archivo de ingresos nuevos de comisiones\n",
    "- Asegurarse que los nombres de columnas del archivo de atraccion no hayan cambiado\n",
    "\n",
    "**Pasos**:\n",
    "- En el archivo de atracción filtrar solo las personas que comisionan, eliminar las demás\n",
    "- Ejecutar script\n",
    "- Convertir la columna DNI a formato Texto\n",
    "- Jalar las fórmulas\n",
    "- Proseguir con la subida a la base de datos de los nuevos ingresos\n",
    "\n",
    "\n",
    "\n"
   ]
  },
  {
   "cell_type": "code",
   "execution_count": 10,
   "metadata": {},
   "outputs": [],
   "source": [
    "#Obtenemos la lista de los nombres de los libros de Excel abiertos.\n",
    "wb_names = utils.getOpenedWorkbooksNames()\n",
    "#Seleccionamos el archivo que contenga \"REPORTEREMUNERACIONES\"\n",
    "keyname = \"REPORTEREMUNERACIONES\"\n",
    "atraccion_ingresos_filename = [s for s in wb_names if keyname in s][0]\n",
    "#Nos conectamos al archivo y hoja de calculo enviado por atraccion\n",
    "wb_ingresos = xw.Book(atraccion_ingresos_filename)\n",
    "sht = wb_ingresos.sheets[0]\n",
    "#Nos posicionamos en la celda A1 extendemos hacia la esquina opuesta retornando el contenido como dataframe\n",
    "df = sht.range('A1').options(pd.DataFrame,\n",
    "                         index=False, expand='table').value\n",
    "#Filtramos las columnas que debe tener el archivo de atraccion.\n",
    "cols_required = cols_required[:-3] + ['Variable', 'VP', 'CC', 'Jefe DIrecto']\n",
    "#Obtenemos el dataframe a ser pegado en nuestro archivo de comisiones.\n",
    "df_final = df[cols_required]\n",
    "\n",
    "# Cargamos el sheet de Ingresos porque para que xlwings abra el archivo necesita el nombre\n",
    "# del fichero y también necesitamos las columnas definidas en el archivo de configuracion\n",
    "section_ingresos = fl.SectionObj(inifile,\"Ingresos\")\n",
    "# Guardamos el nombre de nuestro archivo de nuevos ingresos\n",
    "comis_ingresos_archivo_nombre = section_ingresos.getParameter('filelist')[0]\n",
    "# Obtenemos las columnas que deberia tener el reporte de ingresos nuevos.\n",
    "cols_required = section_ingresos.getParameter('cols')\n",
    "\n",
    "#Nos conectamos a nuestro archivo de Ingresos\n",
    "wb_comis_ingresos = xw.Book(comis_ingresos_archivo_nombre)\n",
    "sheet_comis_ingresos = wb_comis_ingresos.sheets('BASE')\n",
    "#Obtener el nro. de fila del último registro\n",
    "lastrow = sheet_comis_ingresos.api.Cells(65536, 1).End(xw.constants.Direction.xlUp).Row\n",
    "#Pegamos el dataframe\n",
    "sheet_comis_ingresos.range((lastrow+1, 1)).options(header=False, index=False).value = df_final\n"
   ]
  },
  {
   "cell_type": "markdown",
   "metadata": {},
   "source": [
    "Insertar ***<span style=\"color:red\">Nuevos</span>*** Ingresos en la BD\n",
    "-----\n",
    "\n",
    "Inserta los registros mracados con ADD_TO_DB = \"SI\" del dataframe de Ingresos de comisiones a la base de datos"
   ]
  },
  {
   "cell_type": "code",
   "execution_count": 5,
   "metadata": {},
   "outputs": [
    {
     "name": "stdout",
     "output_type": "stream",
     "text": [
      "El tamaño de Ingresos es 94 registros\n",
      "El tamaño de IngresosCDP es 69 registros\n"
     ]
    },
    {
     "name": "stderr",
     "output_type": "stream",
     "text": [
      "C:\\Users\\jsaenza\\Anaconda3\\lib\\site-packages\\pandas\\core\\frame.py:3694: SettingWithCopyWarning: \n",
      "A value is trying to be set on a copy of a slice from a DataFrame\n",
      "\n",
      "See the caveats in the documentation: http://pandas.pydata.org/pandas-docs/stable/indexing.html#indexing-view-versus-copy\n",
      "  errors=errors)\n"
     ]
    }
   ],
   "source": [
    "section_ingresos = fl.SectionObj(inifile,\"Ingresos\")\n",
    "ingresos = fl.LoadFileProcess(section_ingresos).loadFile()\n",
    "section_ingresos_cdp = fl.SectionObj(inifile,\"IngresosCDP\")\n",
    "ingresos_cdp = fl.LoadFileProcess(section_ingresos_cdp).loadFile()\n",
    "\n",
    "# Separamos los que se van a agregar a la base de datos y los que unicamente se va actualizar su CODIGO_INAR\n",
    "ingresos_add = ingresos[ingresos.ADD_TO_DB == \"SI\"]\n",
    "ingresos_add.drop(['ADD_TO_DB','UPDATE_CODIGO_INAR'], axis=1, inplace=True)\n",
    "\n",
    "ingresos_add_CDP = ingresos_cdp[ingresos_cdp.ADD_TO_DB == \"SI\"]\n",
    "ingresos_add_CDP.drop(['ADD_TO_DB','UPDATE_PUESTO','UPDATE_CODIGO_INAR'], axis=1, inplace=True)"
   ]
  },
  {
   "cell_type": "markdown",
   "metadata": {},
   "source": [
    "**Ejecutar lo siguiente para modificar la BD**"
   ]
  },
  {
   "cell_type": "code",
   "execution_count": 6,
   "metadata": {},
   "outputs": [
    {
     "name": "stdout",
     "output_type": "stream",
     "text": [
      "Los registros de la tabla tblEmpleados es 0 registros insertados \n",
      "Los registros de la tabla tblEmpleados es 0 registros insertados \n"
     ]
    }
   ],
   "source": [
    "dbmanager.dbOperation('insert','tblEmpleados',ingresos_add)\n",
    "dbmanager.dbOperation('insert','tblEmpleados',ingresos_add_CDP)"
   ]
  },
  {
   "cell_type": "markdown",
   "metadata": {},
   "source": [
    "Actualizar ***<span style=\"color:red\">Codigo Inar</span>*** Ingresos en la BD\n",
    "----\n",
    "\n",
    "Actualiza los registros marcados con UPDATE_CORDIGO_INAR = \"SI\" del dataframe de ingresos a la Base de Datos."
   ]
  },
  {
   "cell_type": "code",
   "execution_count": 21,
   "metadata": {},
   "outputs": [
    {
     "name": "stdout",
     "output_type": "stream",
     "text": [
      "El tamaño de Ingresos es 94 registros\n",
      "El tamaño de IngresosCDP es 69 registros\n"
     ]
    },
    {
     "name": "stderr",
     "output_type": "stream",
     "text": [
      "C:\\Users\\jsaenza\\Anaconda3\\lib\\site-packages\\pandas\\core\\frame.py:3694: SettingWithCopyWarning: \n",
      "A value is trying to be set on a copy of a slice from a DataFrame\n",
      "\n",
      "See the caveats in the documentation: http://pandas.pydata.org/pandas-docs/stable/indexing.html#indexing-view-versus-copy\n",
      "  errors=errors)\n"
     ]
    },
    {
     "data": {
      "text/html": [
       "<div>\n",
       "<style scoped>\n",
       "    .dataframe tbody tr th:only-of-type {\n",
       "        vertical-align: middle;\n",
       "    }\n",
       "\n",
       "    .dataframe tbody tr th {\n",
       "        vertical-align: top;\n",
       "    }\n",
       "\n",
       "    .dataframe thead th {\n",
       "        text-align: right;\n",
       "    }\n",
       "</style>\n",
       "<table border=\"1\" class=\"dataframe\">\n",
       "  <thead>\n",
       "    <tr style=\"text-align: right;\">\n",
       "      <th></th>\n",
       "      <th>DNI</th>\n",
       "      <th>NOMBRES</th>\n",
       "      <th>POSICION_EMPL</th>\n",
       "      <th>FECHA_INGRESO</th>\n",
       "      <th>CODIGO_INAR</th>\n",
       "    </tr>\n",
       "  </thead>\n",
       "  <tbody>\n",
       "    <tr>\n",
       "      <th>13</th>\n",
       "      <td>40712693</td>\n",
       "      <td>MORALES OLAZABAL JAVIER ALONSO</td>\n",
       "      <td>CONSULTOR DE SERVICIO VALOR AGREGADO</td>\n",
       "      <td>2019-06-01</td>\n",
       "      <td>JMORALES</td>\n",
       "    </tr>\n",
       "    <tr>\n",
       "      <th>14</th>\n",
       "      <td>41032819</td>\n",
       "      <td>LAGUNA DIAZ VICTOR ROMAN</td>\n",
       "      <td>EJECUTIVO DE REGIONES</td>\n",
       "      <td>2019-06-01</td>\n",
       "      <td>VLAGUNAD</td>\n",
       "    </tr>\n",
       "    <tr>\n",
       "      <th>32</th>\n",
       "      <td>45487775</td>\n",
       "      <td>GUILLÉN RENGIFO JOSÉ LUIS</td>\n",
       "      <td>EJECUTIVO DE DESARROLLO PYME</td>\n",
       "      <td>2019-07-01</td>\n",
       "      <td>JGUILLEN</td>\n",
       "    </tr>\n",
       "    <tr>\n",
       "      <th>43</th>\n",
       "      <td>41179299</td>\n",
       "      <td>DIAZ AMAYO FERNANDO ALONSO</td>\n",
       "      <td>EJECUTIVO DE DESARROLLO PYME REGIONES</td>\n",
       "      <td>2019-07-01</td>\n",
       "      <td>FDIAZ5</td>\n",
       "    </tr>\n",
       "  </tbody>\n",
       "</table>\n",
       "</div>"
      ],
      "text/plain": [
       "         DNI                         NOMBRES  \\\n",
       "13  40712693  MORALES OLAZABAL JAVIER ALONSO   \n",
       "14  41032819        LAGUNA DIAZ VICTOR ROMAN   \n",
       "32  45487775       GUILLÉN RENGIFO JOSÉ LUIS   \n",
       "43  41179299      DIAZ AMAYO FERNANDO ALONSO   \n",
       "\n",
       "                            POSICION_EMPL FECHA_INGRESO CODIGO_INAR  \n",
       "13   CONSULTOR DE SERVICIO VALOR AGREGADO    2019-06-01    JMORALES  \n",
       "14                  EJECUTIVO DE REGIONES    2019-06-01    VLAGUNAD  \n",
       "32           EJECUTIVO DE DESARROLLO PYME    2019-07-01    JGUILLEN  \n",
       "43  EJECUTIVO DE DESARROLLO PYME REGIONES    2019-07-01      FDIAZ5  "
      ]
     },
     "execution_count": 21,
     "metadata": {},
     "output_type": "execute_result"
    }
   ],
   "source": [
    "section_ingresos = fl.SectionObj(inifile,\"Ingresos\")\n",
    "ingresos = fl.LoadFileProcess(section_ingresos).loadFile()\n",
    "section_ingresos_cdp = fl.SectionObj(inifile,\"IngresosCDP\")\n",
    "ingresos_cdp = fl.LoadFileProcess(section_ingresos_cdp).loadFile()\n",
    "\n",
    "ingresos_update = ingresos[ingresos.UPDATE_CODIGO_INAR == \"SI\"]\n",
    "ingresos_update.drop(['ADD_TO_DB','UPDATE_CODIGO_INAR'], axis=1, inplace=True)\n",
    "\n",
    "ingresos_update_CDP = ingresos_cdp[ingresos_cdp.UPDATE_CODIGO_INAR == \"SI\"]\n",
    "ingresos_update_CDP.drop(['ADD_TO_DB','UPDATE_CODIGO_INAR','UPDATE_PUESTO'], axis=1, inplace=True)\n",
    "ingresos_update_CDP"
   ]
  },
  {
   "cell_type": "markdown",
   "metadata": {},
   "source": [
    "**Ejecutar lo siguiente para modificar la BD**"
   ]
  },
  {
   "cell_type": "code",
   "execution_count": 22,
   "metadata": {},
   "outputs": [
    {
     "name": "stdout",
     "output_type": "stream",
     "text": [
      "Los registros de la tabla UpdateEmpleadoCodigoInar es 0 registros actualizados \n",
      "Los registros de la tabla UpdateEmpleadoCodigoInar es 4 registros actualizados \n"
     ]
    }
   ],
   "source": [
    "dbmanager.dbOperation('update','UpdateEmpleadoCodigoInar',ingresos_update)\n",
    "dbmanager.dbOperation('update','UpdateEmpleadoCodigoInar',ingresos_update_CDP)"
   ]
  },
  {
   "cell_type": "markdown",
   "metadata": {},
   "source": [
    "Actualizar ***<span style=\"color:red\">Puestos</span>*** Ingresos en la BD\n",
    "-----\n",
    "\n",
    "Actualiza los puestos por DNI ingresados en el archivo de Ingresos de comisiones pestaña \"UpdatePuestos\" hacia la Base de Datos."
   ]
  },
  {
   "cell_type": "code",
   "execution_count": 15,
   "metadata": {},
   "outputs": [
    {
     "name": "stdout",
     "output_type": "stream",
     "text": [
      "El tamaño de IngresosCDP es 69 registros\n"
     ]
    },
    {
     "name": "stderr",
     "output_type": "stream",
     "text": [
      "C:\\Users\\jsaenza\\Anaconda3\\lib\\site-packages\\pandas\\core\\frame.py:3694: SettingWithCopyWarning: \n",
      "A value is trying to be set on a copy of a slice from a DataFrame\n",
      "\n",
      "See the caveats in the documentation: http://pandas.pydata.org/pandas-docs/stable/indexing.html#indexing-view-versus-copy\n",
      "  errors=errors)\n"
     ]
    }
   ],
   "source": [
    "section_ingresos_cdp = fl.SectionObj(inifile,\"IngresosCDP\")\n",
    "ingresos_cdp = fl.LoadFileProcess(section_ingresos_cdp).loadFile()\n",
    "\n",
    "ingresos_update_puesto_CDP = ingresos_cdp[ingresos_cdp.UPDATE_PUESTO == \"SI\"]\n",
    "ingresos_update_puesto_CDP.drop(['ADD_TO_DB','UPDATE_CODIGO_INAR','UPDATE_PUESTO'], axis=1, inplace=True)"
   ]
  },
  {
   "cell_type": "markdown",
   "metadata": {},
   "source": [
    "**Ejecutar lo siguiente para modificar la BD**"
   ]
  },
  {
   "cell_type": "code",
   "execution_count": 18,
   "metadata": {},
   "outputs": [
    {
     "name": "stdout",
     "output_type": "stream",
     "text": [
      "Los registros de la tabla UpdatePuesto es 37 registros actualizados \n"
     ]
    }
   ],
   "source": [
    "dbmanager.dbOperation('update','UpdatePuesto',ingresos_update_puesto_CDP)"
   ]
  },
  {
   "cell_type": "markdown",
   "metadata": {},
   "source": [
    "**Ejecutar lo siguiente para modificar la BD**"
   ]
  },
  {
   "cell_type": "code",
   "execution_count": 17,
   "metadata": {},
   "outputs": [
    {
     "data": {
      "text/plain": [
       "37"
      ]
     },
     "execution_count": 17,
     "metadata": {},
     "output_type": "execute_result"
    }
   ],
   "source": [
    "len(ingresos_update_puesto_CDP)"
   ]
  },
  {
   "cell_type": "code",
   "execution_count": null,
   "metadata": {},
   "outputs": [],
   "source": []
  }
 ],
 "metadata": {
  "kernelspec": {
   "display_name": "Python 3",
   "language": "python",
   "name": "python3"
  },
  "language_info": {
   "codemirror_mode": {
    "name": "ipython",
    "version": 3
   },
   "file_extension": ".py",
   "mimetype": "text/x-python",
   "name": "python",
   "nbconvert_exporter": "python",
   "pygments_lexer": "ipython3",
   "version": "3.6.5"
  }
 },
 "nbformat": 4,
 "nbformat_minor": 1
}
