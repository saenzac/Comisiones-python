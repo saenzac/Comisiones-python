{
 "cells": [
  {
   "cell_type": "code",
   "execution_count": 8,
   "metadata": {},
   "outputs": [],
   "source": [
    "from Loader import fileloader as fl\n",
    "import pandas as pd\n",
    "import posixpath"
   ]
  },
  {
   "cell_type": "code",
   "execution_count": 9,
   "metadata": {},
   "outputs": [],
   "source": [
    "month='201902'\n",
    "dataoutdir = 'C:/Users/Johnny/OneDrive - Entel Peru S.A/MercadoEmpresas/Planillas'\n",
    "#dataoutdir = '/Users/johnnysaenz/OneDrive - Entel Peru S.A/MercadoEmpresas/Planillas'\n",
    "\n",
    "inifile = fl.ReadIniFile(mercado=\"empresas\")\n",
    "parser = inifile.getIniFileParser()\n",
    "\n",
    "loader = fl.LoadFileProcess(month)\n",
    "loader.setParser(parser)"
   ]
  },
  {
   "cell_type": "code",
   "execution_count": 10,
   "metadata": {},
   "outputs": [
    {
     "name": "stdout",
     "output_type": "stream",
     "text": [
      "El tamaño de Planillas es 312 registros\n"
     ]
    }
   ],
   "source": [
    "planillas = loader.loadFile('Planillas')"
   ]
  },
  {
   "cell_type": "code",
   "execution_count": 11,
   "metadata": {},
   "outputs": [],
   "source": [
    "writer = pd.ExcelWriter(posixpath.join(dataoutdir,month + \"_Consolidado_Planillas_Feb_Para_Saber.xlsx\"), engine='xlsxwriter')\n",
    "planillas.to_excel(writer, sheet_name='Sheet1')\n",
    "writer.save()"
   ]
  },
  {
   "cell_type": "code",
   "execution_count": null,
   "metadata": {
    "collapsed": true
   },
   "outputs": [],
   "source": []
  }
 ],
 "metadata": {
  "kernelspec": {
   "display_name": "Python 3",
   "language": "python",
   "name": "python3"
  },
  "language_info": {
   "codemirror_mode": {
    "name": "ipython",
    "version": 3
   },
   "file_extension": ".py",
   "mimetype": "text/x-python",
   "name": "python",
   "nbconvert_exporter": "python",
   "pygments_lexer": "ipython3",
   "version": "3.7.1"
  }
 },
 "nbformat": 4,
 "nbformat_minor": 1
}
