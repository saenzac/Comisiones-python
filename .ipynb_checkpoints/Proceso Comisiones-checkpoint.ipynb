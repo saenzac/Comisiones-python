{
 "cells": [
  {
   "cell_type": "code",
   "execution_count": 1,
   "metadata": {
    "collapsed": false
   },
   "outputs": [],
   "source": [
    "from Loader import fileloader as fl\n",
    "from Loader import datahandledatabase as dhdb\n",
    "\n",
    "month = '201707'\n",
    "testpath = 'D:/Datos de Usuario/cleon/Documents/Capital Humano/Data Fuente Comisiones/test/'\n",
    "defaultpath = 'D:/Datos de Usuario/cleon/Documents/Capital Humano/Data Fuente Comisiones/xlsx/'"
   ]
  },
  {
   "cell_type": "code",
   "execution_count": 2,
   "metadata": {
    "collapsed": false,
    "scrolled": true
   },
   "outputs": [],
   "source": [
    "# Configurando los archivos de configuración para importar archivos tipo : xlsx, txt, ini\n",
    "\n",
    "inifile = fl.ReadIniFile('C:/Anaconda3/MeScripts/Comisiones4/Config/myconfig.ini')\n",
    "parser = inifile.readFile()\n",
    "\n",
    "loader = fl.LoadFileProcess(month)\n",
    "loader.setParser(parser)\n",
    "loader.setDefaultPath(defaultpath)\n",
    "\n",
    "# Importante en Carga : todas las columnas a importar deben tener data\n",
    "# Asegurate que el directorio donde está el archivo este correcto\n",
    "# Asegurate que no haya pestañas ocultas en GCP. \n",
    "# Asegúrate de Renombrar el archivo de Bolsas : XXXX_Experiencia Bolsa 3G. xlsx y sus encabezados\n",
    "# Base comisiones sólo tiene una pestaña\n",
    "# En Base comisiones GCP partir en dos periodos para el esquema quincenal\n",
    "\n",
    "# Para importar jerarquia revisa esto : poner el código que importe sin '_' y zonaventa. revisar carga en bd de Ñ\n",
    "# jerarquia debe reemplazar la data en la tabla\n",
    "\n",
    "#ingresos = loader.loadFile('Ingresos')\n",
    "#jerarquia = loader.loadFile('Jerarquia')\n",
    "#ceses = loader.loadFile('Ceses')\n",
    "\n",
    "#unitarios = loader.loadFile('Unitarios')\n",
    "\n",
    "#inar = loader.loadFile('Inar')\n",
    "#deacs = loader.loadFile('Deacs') # completar dos columnas\n",
    "#migras = loader.loadFile('Migras')\n",
    "#ventas_ssaa = loader.loadFile('Ventas_SSAA')\n",
    "#deacs_ssaa = loader.loadFile('Deacs_SSAA')\n",
    "#paquetes = loader.loadFile('Paquetes')\n",
    "\n",
    "#ajustes = loader.loadFile('Ajustes')\n",
    "#bolsas = loader.loadFile('Bolsas')\n",
    "#SSAAvendedorpyme = loader.loadFile('SSAA_Vendedor_Pyme')\n",
    "#actividad = loader.loadFile('Actividad')\n",
    "#basesgcp = loader.loadFile('Bases_GCP') \n",
    "#basesgce = loader.loadFile('Bases_GCE')\n",
    "#basesgcpquincenal = loader.loadFile('Bases_GCP_Quincenal') # cambia el factor en quincenal"
   ]
  },
  {
   "cell_type": "code",
   "execution_count": 3,
   "metadata": {
    "collapsed": false
   },
   "outputs": [],
   "source": [
    "# Configurando los archivos de configuración para administrar la base de datos\n",
    "\n",
    "inidb = fl.ReadIniFile('C:/Anaconda3/MeScripts/Comisiones4/Config/mydbconfig.ini')\n",
    "dbparser = inidb.readFile()\n",
    "\n",
    "dbmanager = dhdb.DbDataProcess(month)\n",
    "dbmanager.setParser(dbparser)\n",
    "\n",
    "# Carga de Data en Base de Datos\n",
    "\n",
    "#dbmanager.dbOperation('insert','tblEmpleados',ingresos)\n",
    "#dbmanager.dbOperation('insert','tblJerarquia',jerarquia)\n",
    "\n",
    "#dbmanager.dbOperation('insert','tblVentas',inar)\n",
    "#dbmanager.dbOperation('insert','tblDeacs',deacs)\n",
    "#dbmanager.dbOperation('insert','tblVentaSSAA',ventas_ssaa)\n",
    "#dbmanager.dbOperation('insert','tblDeacSSAA',deacs_ssaa)\n",
    "#dbmanager.dbOperation('insert','tblPaquetes',paquetes)\n",
    "\n",
    "#dbmanager.dbOperation(migras)\n",
    "\n",
    "#********************************************\n",
    "# Update de tablas de Ventas y Deacs\n",
    "\n",
    "#dbloader.refreshtbl(ceses)\n",
    "#dbloader.refreshtbl(unitarios)\n",
    "\n",
    "#dbmanager.dbOperation('update','Bolsas',bolsas)\n",
    "#dbmanager.dbOperation('update','SumVentaSSAA',ventas_ssaa)\n",
    "#dbmanager.dbOperation(ajustes)\n",
    "\n",
    "#dbmanager.dbOperation('update','Actividad',actividad)\n",
    "#dbmanager.dbOperation('update','Bases_GCP',basesgcp)\n",
    "#dbmanager.dbOperation('update','Bases_GCE',basesgce)\n",
    "#dbmanager.dbOperation('update','Bases_GCP_Quincenal',basesgcpquincenal)\n",
    "\n",
    "#dbmanager.dbOperation('update',SSAAvendedorpyme) revisar si es necesario\n",
    "\n",
    "#dbmanager.dbOperation('update','Paquetes')\n",
    "#dbmanager.dbOperation('update','Gross_Comision')\n",
    "#dbmanager.dbOperation('update','Reversiones')"
   ]
  },
  {
   "cell_type": "code",
   "execution_count": 4,
   "metadata": {
    "collapsed": false
   },
   "outputs": [
    {
     "name": "stdout",
     "output_type": "stream",
     "text": [
      "El tamaño de Logins es 199 registros\n",
      "El tamaño de Metricas_conjuntas es 42 registros\n"
     ]
    },
    {
     "data": {
      "text/plain": [
       "\"\\nkpisvoz = loader.loadFile('Kpis_voz')\\ncomisionantesvoz = loader.loadFile('Comisionantes_voz')\\ncuotasvoz = loader.loadHistoricalFile('Cuotas')\\nresultadosvoz = loader.loadHistoricalFile('Resultados') \\nperiodo = loader.getPeriodo()\\n\\n#churn = loader.loadHistoricalFile('Churn')\\n#tracking = loader.loadHistoricalFile('Tracking')\\n#epa = loader.loadHistoricalFile('EPA')\\n#hc = loader.loadFile('Vendedores')\\n\\nparamsvoz = {'tipo' : 'voz', 'periodo' : periodo, 'keycol': 'login', 'logins' : logins, 'metricasconjuntas' : metricasconjuntas, \\n             'kpis' : kpisvoz, 'comisionantes' : comisionantesvoz, 'cuotas' : cuotasvoz, 'resultados' : resultadosvoz}\\n\\npanelvoz = loader.prepareHistoricalFiles(paramsvoz)\\n\\n            \\n#paramsotros = {'tipo' : 'voz', 'churn' : churn, 'tracking' : tracking, 'epa': epa, 'hc' : hc, 'vas' : vas, 'tnp' : tnp}\\n\\npanelvoz.to_csv(testpath + month + '_panelvoz.csv')\\n\""
      ]
     },
     "execution_count": 4,
     "metadata": {},
     "output_type": "execute_result"
    }
   ],
   "source": [
    "# Carga de archivos de voz\n",
    "#*************************\n",
    "# Agregar mes enero faltante en cuotas de GC\n",
    "# Asegúrate que no haya dos meses julio posiblemente en resultados pymes\n",
    "# Asegúrate en colocar 0 en la cabecera de los resultados y eliminar toda la data fuera del formato\n",
    "\n",
    "logins = loader.loadFile('Logins')\n",
    "metricasconjuntas = loader.loadFile('Metricas_conjuntas')\n",
    "\n",
    "\"\"\"\n",
    "kpisvoz = loader.loadFile('Kpis_voz')\n",
    "comisionantesvoz = loader.loadFile('Comisionantes_voz')\n",
    "cuotasvoz = loader.loadHistoricalFile('Cuotas')\n",
    "resultadosvoz = loader.loadHistoricalFile('Resultados') \n",
    "periodo = loader.getPeriodo()\n",
    "\n",
    "#churn = loader.loadHistoricalFile('Churn')\n",
    "#tracking = loader.loadHistoricalFile('Tracking')\n",
    "#epa = loader.loadHistoricalFile('EPA')\n",
    "#hc = loader.loadFile('Vendedores')\n",
    "\n",
    "paramsvoz = {'tipo' : 'voz', 'periodo' : periodo, 'keycol': 'login', 'logins' : logins, 'metricasconjuntas' : metricasconjuntas, \n",
    "             'kpis' : kpisvoz, 'comisionantes' : comisionantesvoz, 'cuotas' : cuotasvoz, 'resultados' : resultadosvoz}\n",
    "\n",
    "panelvoz = loader.prepareHistoricalFiles(paramsvoz)\n",
    "\n",
    "            \n",
    "#paramsotros = {'tipo' : 'voz', 'churn' : churn, 'tracking' : tracking, 'epa': epa, 'hc' : hc, 'vas' : vas, 'tnp' : tnp}\n",
    "\n",
    "panelvoz.to_csv(testpath + month + '_panelvoz.csv')\n",
    "\"\"\""
   ]
  },
  {
   "cell_type": "code",
   "execution_count": 5,
   "metadata": {
    "collapsed": false,
    "scrolled": true
   },
   "outputs": [
    {
     "name": "stdout",
     "output_type": "stream",
     "text": [
      "El tamaño de Kpis_plataformas es 153 registros\n",
      "El tamaño de Comisionantes_plataformas es 152 registros\n",
      "El tamaño de Panel_plataformas es 5712 registros\n"
     ]
    }
   ],
   "source": [
    "# Carga de archivos de Plataformas\n",
    "#*********************************\n",
    "# Panel: quitar formulas en hojas. Quitar columna Total. Quitar pestañas ocultas\n",
    "\n",
    "kpispltfrs = loader.loadFile('Kpis_plataformas')\n",
    "comisionantespltfrs = loader.loadFile('Comisionantes_plataformas')\n",
    "panelpltfrs0 = loader.loadHistoricalFile('Panel_plataformas')\n",
    "periodo = loader.getPeriodo()\n",
    "\n",
    "\n",
    "paramspltfrs= {'tipo' : 'plataformas', 'periodo' : periodo, 'keycol': 'nombres', 'logins' : logins, \n",
    "               'metricasconjuntas' : metricasconjuntas, 'kpis' : kpispltfrs, 'comisionantes' : comisionantespltfrs, \n",
    "               'cuotas' : panelpltfrs0, 'resultados' : None}\n",
    "\n",
    "panelpltfrs = loader.prepareHistoricalFiles(paramspltfrs)\n",
    "\n",
    "#panelpltfrs.to_csv(testpath + month + '_panelpltfrs.csv')"
   ]
  },
  {
   "cell_type": "code",
   "execution_count": 7,
   "metadata": {
    "collapsed": false
   },
   "outputs": [],
   "source": [
    "panelpltfrs.to_csv(testpath + month + '_panelpltfrs.csv')"
   ]
  },
  {
   "cell_type": "code",
   "execution_count": null,
   "metadata": {
    "collapsed": true
   },
   "outputs": [],
   "source": []
  }
 ],
 "metadata": {
  "kernelspec": {
   "display_name": "Python 3",
   "language": "python",
   "name": "python3"
  },
  "language_info": {
   "codemirror_mode": {
    "name": "ipython",
    "version": 3
   },
   "file_extension": ".py",
   "mimetype": "text/x-python",
   "name": "python",
   "nbconvert_exporter": "python",
   "pygments_lexer": "ipython3",
   "version": "3.4.3"
  }
 },
 "nbformat": 4,
 "nbformat_minor": 0
}
