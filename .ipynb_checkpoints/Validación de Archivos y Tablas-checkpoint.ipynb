{
 "cells": [
  {
   "cell_type": "code",
   "execution_count": 1,
   "metadata": {
    "collapsed": false
   },
   "outputs": [],
   "source": [
    "from Loader import fileloader as fl\n",
    "from Loader import datavalidator as dv\n",
    "from Loader import datahandledatabase as dhdb\n",
    "\n",
    "month = '201708'\n",
    "testpath = 'D:/Datos de Usuario/cleon/Documents/Capital Humano/Data Fuente Comisiones/test/'\n",
    "defaultpath = 'D:/Datos de Usuario/cleon/Documents/Capital Humano/Data Fuente Comisiones/xlsx/'\n"
   ]
  },
  {
   "cell_type": "code",
   "execution_count": 2,
   "metadata": {
    "collapsed": false
   },
   "outputs": [],
   "source": [
    "inifile = fl.ReadIniFile('C:/Anaconda3/MeScripts/Comisiones4/Config/myconfig.ini')\n",
    "parser = inifile.readFile()\n",
    "\n",
    "loader = fl.LoadFileProcess(month)\n",
    "loader.setParser(parser)\n",
    "loader.setDefaultPath(defaultpath)"
   ]
  },
  {
   "cell_type": "code",
   "execution_count": 3,
   "metadata": {
    "collapsed": false
   },
   "outputs": [
    {
     "name": "stdout",
     "output_type": "stream",
     "text": [
      "El tamaño de Inar_bruto es 965904 registros\n",
      "El tamaño de Jerarquia es 24103 registros\n",
      "El tamaño de Comisionantes_voz es 330 registros\n",
      "Los registros de la tabla tblEmpleados es 764 registros  \n"
     ]
    },
    {
     "name": "stderr",
     "output_type": "stream",
     "text": [
      "C:\\Anaconda3\\lib\\site-packages\\pandas\\io\\parsers.py:1170: DtypeWarning: Columns (21) have mixed types. Specify dtype option on import or set low_memory=False.\n",
      "  data = self._reader.read(nrows)\n"
     ]
    }
   ],
   "source": [
    "# Importando la información\n",
    "\n",
    "inarbruto = loader.loadFile('Inar_bruto')\n",
    "jerarquia = loader.loadFile('Jerarquia')\n",
    "comisionantes = loader.loadFile('Comisionantes_voz')\n",
    "\n",
    "inidb = fl.ReadIniFile('C:/Anaconda3/MeScripts/Comisiones4/Config/mydbconfig.ini')\n",
    "dbparser = inidb.readFile()\n",
    "\n",
    "dbmanager = dhdb.DbDataProcess(month)\n",
    "dbmanager.setParser(dbparser)\n",
    "tblempleados = dbmanager.loadData('tblEmpleados')\n"
   ]
  },
  {
   "cell_type": "code",
   "execution_count": 4,
   "metadata": {
    "collapsed": false,
    "scrolled": true
   },
   "outputs": [
    {
     "name": "stderr",
     "output_type": "stream",
     "text": [
      "C:\\Anaconda3\\MeScripts\\Comisiones4\\Loader\\datavalidator.py:52: SettingWithCopyWarning: \n",
      "A value is trying to be set on a copy of a slice from a DataFrame.\n",
      "Try using .loc[row_indexer,col_indexer] = value instead\n",
      "\n",
      "See the the caveats in the documentation: http://pandas.pydata.org/pandas-docs/stable/indexing.html#indexing-view-versus-copy\n",
      "  blanksdoc['observacion'] = 'blanks en documento'\n",
      "C:\\Anaconda3\\MeScripts\\Comisiones4\\Loader\\datavalidator.py:57: SettingWithCopyWarning: \n",
      "A value is trying to be set on a copy of a slice from a DataFrame.\n",
      "Try using .loc[row_indexer,col_indexer] = value instead\n",
      "\n",
      "See the the caveats in the documentation: http://pandas.pydata.org/pandas-docs/stable/indexing.html#indexing-view-versus-copy\n",
      "  blanksvendedor['observacion'] = 'blanks en vendedor o zona'\n"
     ]
    },
    {
     "name": "stdout",
     "output_type": "stream",
     "text": [
      "Archivo exportado D:/Datos de Usuario/cleon/Documents/Capital Humano/Data Fuente Comisiones/test/201708_Validaciones en INAR.xlsx con 697 registros\n",
      "Archivo exportado D:/Datos de Usuario/cleon/Documents/Capital Humano/Data Fuente Comisiones/test/201708_Otras Validaciones.xlsx con 48 registros\n"
     ]
    },
    {
     "name": "stderr",
     "output_type": "stream",
     "text": [
      "C:\\Anaconda3\\MeScripts\\Comisiones4\\Loader\\datavalidator.py:137: SettingWithCopyWarning: \n",
      "A value is trying to be set on a copy of a slice from a DataFrame.\n",
      "Try using .loc[row_indexer,col_indexer] = value instead\n",
      "\n",
      "See the the caveats in the documentation: http://pandas.pydata.org/pandas-docs/stable/indexing.html#indexing-view-versus-copy\n",
      "  conjerarquia['concolsjer'] = conjerarquia.apply(lambda x : '|'.join(x), axis = 1)\n"
     ]
    }
   ],
   "source": [
    "# Armando las validaciones\n",
    "\n",
    "valinarfl = {'inarbruto' : inarbruto, 'jerarquia' : jerarquia, 'comisionantes' : comisionantes, 'tblempleados' : tblempleados}\n",
    "valinarobj = dv.ValidateInar(valinarfl)\n",
    "inarvalidation = valinarobj.validation()\n",
    "\n",
    "\n",
    "valmultipledatafl = {'jerarquia' : jerarquia, 'comisionantes' : comisionantes, 'tblempleados' : tblempleados}\n",
    "valmultipledataobj = dv.ValidateMultipleData(valmultipledatafl)\n",
    "multipledatavalidation = valmultipledataobj.validation()\n",
    "\n",
    "#****** Exportar validaciones\n",
    "\n",
    "xlsxfile1 = testpath + month + '_Validaciones en INAR.xlsx'\n",
    "exportparams = {'xlsxfile' : xlsxfile1, 'dataframe' : inarvalidation}\n",
    "valinarobj.exportValidation(exportparams)\n",
    "\n",
    "xlsxfile2 = testpath + month + '_Otras Validaciones.xlsx'\n",
    "exportparams = {'xlsxfile' : xlsxfile2, 'dataframe' : multipledatavalidation}\n",
    "valmultipledataobj.exportValidation(exportparams)"
   ]
  },
  {
   "cell_type": "code",
   "execution_count": 5,
   "metadata": {
    "collapsed": false
   },
   "outputs": [],
   "source": [
    "exportar = True\n",
    "if exportar:\n",
    "    df1 = inarbruto[:500000]\n",
    "    df2 = inarbruto[500001:]\n",
    "    df1.to_csv(testpath + month + '_herman1.csv', index = False)\n",
    "    df2.to_csv(testpath + month + '_herman2.csv', index = False)"
   ]
  },
  {
   "cell_type": "code",
   "execution_count": null,
   "metadata": {
    "collapsed": true
   },
   "outputs": [],
   "source": []
  }
 ],
 "metadata": {
  "kernelspec": {
   "display_name": "Python 3",
   "language": "python",
   "name": "python3"
  },
  "language_info": {
   "codemirror_mode": {
    "name": "ipython",
    "version": 3
   },
   "file_extension": ".py",
   "mimetype": "text/x-python",
   "name": "python",
   "nbconvert_exporter": "python",
   "pygments_lexer": "ipython3",
   "version": "3.4.3"
  }
 },
 "nbformat": 4,
 "nbformat_minor": 0
}
